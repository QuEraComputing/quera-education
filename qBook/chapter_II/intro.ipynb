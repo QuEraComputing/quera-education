{
 "cells": [
  {
   "cell_type": "markdown",
   "id": "701ee33c-5624-45c5-8024-b99e0e9e62d1",
   "metadata": {},
   "source": [
    "<img src=\"./assets/intro_banner.png\" width=\"500\" height=\"auto\" />\n",
    "\n",
    "*Content authors: Pedro Lopes, Alex Khan*"
   ]
  },
  {
   "cell_type": "markdown",
   "id": "88d16601-5d8e-485a-b8a6-df977b233bd0",
   "metadata": {},
   "source": [
    "We now continue our journey diving deeper into the dynamics of single and multiple atom systems."
   ]
  },
  {
   "cell_type": "markdown",
   "id": "0bcc16ff-cddb-4fc9-964f-57d50da0f481",
   "metadata": {
    "jp-MarkdownHeadingCollapsed": true
   },
   "source": [
    "### Learning Objectives\n",
    "\n",
    "#### By the end of the session, you will be able to:\n",
    "- Describe the Rydberg bloqade phenomenon\n",
    "- Compute the dynamics of multi-qubit Rydberg systems describing the effects of the blockade on Rabi oscillations\n",
    "- Analyze Rydberg phases on square lattices"
   ]
  }
 ],
 "metadata": {
  "kernelspec": {
   "display_name": "Python 3 (ipykernel)",
   "language": "python",
   "name": "python3"
  },
  "language_info": {
   "codemirror_mode": {
    "name": "ipython",
    "version": 3
   },
   "file_extension": ".py",
   "mimetype": "text/x-python",
   "name": "python",
   "nbconvert_exporter": "python",
   "pygments_lexer": "ipython3",
   "version": "3.11.5"
  }
 },
 "nbformat": 4,
 "nbformat_minor": 5
}
