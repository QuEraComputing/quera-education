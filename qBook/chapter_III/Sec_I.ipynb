{
 "cells": [
  {
   "cell_type": "markdown",
   "id": "85e4ebe4",
   "metadata": {},
   "source": [
    "## 1. Scale up your Quantum job"
   ]
  },
  {
   "cell_type": "markdown",
   "id": "804e8ea6-5e72-49ef-8ff7-94894f6cd802",
   "metadata": {},
   "source": [
    "In the previous section we discussed how to adiabatically prepare ordered phases in tightly packed arrays of Rydberg atoms in 2D. If you want to extract certain statistical information about the ordered phases you are studying, or information about the phase transition when preparing a ordered phase, you will likely want to scale the system sizes which you are analyzing. While these dynamical processes can be simulated with classical platforms, that won't happen without a degree of difficulty. At best, you will need to develop expertise in time-dependent tensor networks methods. For some more complicated dynamical scenarios, you may not be able to simulate the process at large scales classically at all. This is when learning how to operate quantum hardware and doing experiments directly becomes imperative.\n",
    "\n",
    "In this section we will discuss how to use Bloqade to scale up your quantum job to run on real quantum hardware, manage your jobs and analyze your results. There are plenty of subtleties in using a cloud based device but we have your back!"
   ]
  },
  {
   "cell_type": "markdown",
   "id": "ab4d8fb9",
   "metadata": {},
   "source": [
    "### 1a. Before you start using Hardware"
   ]
  },
  {
   "cell_type": "markdown",
   "id": "f2313ae0",
   "metadata": {},
   "source": [
    "Using a cloud-based quantum device requires a few extra steps to get started. Presently, there are two ways of accessing Aquila, QuEra's analog quantum computer, on the cloud: either on Amazon Braket, or via qBraid's platform (which ultimately utilizes the Amazon Braket service). For regular Braket users you will need to make sure to sign in and authenticate your device to have access to braket if you are running your jobs locally, see [here](https://docs.aws.amazon.com/signin/latest/userguide/what-is-sign-in.html) for more details on how to set up your AWS accounts. Braket accounts for jobs by distinguishing \"tasks\" - different calls for a problem to be solved, typically each with distinct Hamiltonians - and \"shots\" - the repetition number of a given task to build statistics. Tasks and jobs are accounted and [priced differently](https://aws.amazon.com/braket/pricing/).\n",
    "\n",
    "To setup a Bloqade notebook or script to submit jobs from your AWS account, all you will have to do is to initialize your AWS key ID, secret access key, region, and session token (if you are part of an organization that requires it). To set these up as environmental variables in a notebook, just include:\n",
    "\n",
    "```\n",
    "%env AWS_ACCESS_KEY_ID = ...\n",
    "%env AWS_SECRET_ACCESS_KEY = ... \n",
    "%env AWS_SESSION_TOKEN = ...\n",
    "%env AWS_DEFAULT_REGION = us-east-1\n",
    "```\n",
    "at the beginning of your notebook, or\n",
    "\n",
    "```\n",
    "import os\n",
    "os.environ[\"AWS_ACCESS_KEY_ID\"] = \"...\"\n",
    "os.environ[\"AWS_SECRET_ACCESS_KEY\"] = \"...\"\n",
    "os.environ[\"AWS_SESSION_TOKEN\"] = \"...\"\n",
    "os.environ[\"AWS_DEFAULT_REGION\"] = \"us-east-1\"\n",
    "```\n",
    "on your python script."
   ]
  },
  {
   "cell_type": "markdown",
   "id": "84a03ac8",
   "metadata": {},
   "source": [
    "Once you have authenticated your device/environment you should be able to submit tasks, retrieve results, and access hardware capabilities.\n",
    "\n",
    "> NOTE: due to security reasons, your AWS credentials must be refreshed every little while. While we will be accessing Aquila asynchronously to submit jobs to its queue, remember that you will need to routinely renew your credentials if fetching is done a long time after submission. Also, when submitting large batches, note that the submission process itself may take long and you must be careful with refreshing your credentials."
   ]
  },
  {
   "cell_type": "markdown",
   "id": "af91750c",
   "metadata": {},
   "source": [
    "For Qbraid users, authentication is handled automatically by activating a virtual environment, see [here](https://docs.qbraid.com/projects/lab/en/latest/lab/quantum_jobs.html) for more details. You won't have to worry about refreshing credentials or anything."
   ]
  },
  {
   "cell_type": "markdown",
   "id": "e95bfd73",
   "metadata": {},
   "source": [
    "### 1b. Scaling up your Quantum job"
   ]
  },
  {
   "cell_type": "markdown",
   "id": "0d9c5775-0238-4c73-90b0-7ce711b9d743",
   "metadata": {},
   "source": [
    "Now that we covered formal stuff, we can get to the real business. The 2D square lattice checkerboard phase of our previous chapter will serve as our testing base.\n",
    "\n",
    "Going back to the previous chapter, notice that we set `L=3` to simulate a 3x3 array of Rydberg atoms. If we are interested in studying the physical properties of the checkerboard \"phase\", a humble goal, this system is likely too small. The checkerboard phase is a _bulk_ property of a system. That means that we can only confidently talk about a \"phase\" of a material if we are looking far from the boundaries of the system. In a 3x3 system, 1 atom is in the bulk of the square lattice, and 8 are on the boundary. We can hardly talk about bulk properties of the system and surface effects will really dominate phenomenology."
   ]
  },
  {
   "cell_type": "code",
   "execution_count": null,
   "id": "0980bbe6",
   "metadata": {},
   "outputs": [],
   "source": [
    "FreeResponseQuestion(\"exercise31b\")"
   ]
  },
  {
   "cell_type": "markdown",
   "id": "a4b672bc",
   "metadata": {},
   "source": [
    "So we will have to prepare phases with many more qubits. While some of this can easily be done classically, realism can be lost, and a certain degree of specialization with high-performance simulation methods will be needed. While those are good, and in fact complementary, we will just aim at doing proper a proper calculation with a real quantum computer - and face all questions regarding errors and loss of fidelities of all kinds, from dynamics to measurement to atom placing. We can increase this to simulate a larger array of atoms on the hardware. After all, that is why they were invented.\n",
    "\n",
    "That means Aquila can operate up to 256 qubits in a single task. Let's use this power to simulate an adiabatically prepared 11x11 square checkerboard phase with Rydberg atoms. By construction, we can achieve that by simply taking our previous example and setting `L=11`. Revisiting the parameter setting, we have:"
   ]
  },
  {
   "cell_type": "code",
   "execution_count": 1,
   "id": "b44e7e62",
   "metadata": {},
   "outputs": [
    {
     "data": {
      "text/html": [
       "    <style>\n",
       "        .bk-notebook-logo {\n",
       "            display: block;\n",
       "            width: 20px;\n",
       "            height: 20px;\n",
       "            background-image: url(data:image/png;base64,iVBORw0KGgoAAAANSUhEUgAAABQAAAAUCAYAAACNiR0NAAAABHNCSVQICAgIfAhkiAAAAAlwSFlzAAALEgAACxIB0t1+/AAAABx0RVh0U29mdHdhcmUAQWRvYmUgRmlyZXdvcmtzIENTNui8sowAAAOkSURBVDiNjZRtaJVlGMd/1/08zzln5zjP1LWcU9N0NkN8m2CYjpgQYQXqSs0I84OLIC0hkEKoPtiH3gmKoiJDU7QpLgoLjLIQCpEsNJ1vqUOdO7ppbuec5+V+rj4ctwzd8IIbbi6u+8f1539dt3A78eXC7QizUF7gyV1fD1Yqg4JWz84yffhm0qkFqBogB9rM8tZdtwVsPUhWhGcFJngGeWrPzHm5oaMmkfEg1usvLFyc8jLRqDOMru7AyC8saQr7GG7f5fvDeH7Ej8CM66nIF+8yngt6HWaKh7k49Soy9nXurCi1o3qUbS3zWfrYeQDTB/Qj6kX6Ybhw4B+bOYoLKCC9H3Nu/leUTZ1JdRWkkn2ldcCamzrcf47KKXdAJllSlxAOkRgyHsGC/zRday5Qld9DyoM4/q/rUoy/CXh3jzOu3bHUVZeU+DEn8FInkPBFlu3+nW3Nw0mk6vCDiWg8CeJaxEwuHS3+z5RgY+YBR6V1Z1nxSOfoaPa4LASWxxdNp+VWTk7+4vzaou8v8PN+xo+KY2xsw6une2frhw05CTYOmQvsEhjhWjn0bmXPjpE1+kplmmkP3suftwTubK9Vq22qKmrBhpY4jvd5afdRA3wGjFAgcnTK2s4hY0/GPNIb0nErGMCRxWOOX64Z8RAC4oCXdklmEvcL8o0BfkNK4lUg9HTl+oPlQxdNo3Mg4Nv175e/1LDGzZen30MEjRUtmXSfiTVu1kK8W4txyV6BMKlbgk3lMwYCiusNy9fVfvvwMxv8Ynl6vxoByANLTWplvuj/nF9m2+PDtt1eiHPBr1oIfhCChQMBw6Aw0UulqTKZdfVvfG7VcfIqLG9bcldL/+pdWTLxLUy8Qq38heUIjh4XlzZxzQm19lLFlr8vdQ97rjZVOLf8nclzckbcD4wxXMidpX30sFd37Fv/GtwwhzhxGVAprjbg0gCAEeIgwCZyTV2Z1REEW8O4py0wsjeloKoMr6iCY6dP92H6Vw/oTyICIthibxjm/DfN9lVz8IqtqKYLUXfoKVMVQVVJOElGjrnnUt9T9wbgp8AyYKaGlqingHZU/uG2NTZSVqwHQTWkx9hxjkpWDaCg6Ckj5qebgBVbT3V3NNXMSiWSDdGV3hrtzla7J+duwPOToIg42ChPQOQjspnSlp1V+Gjdged7+8UN5CRAV7a5EdFNwCjEaBR27b3W890TE7g24NAP/mMDXRWrGoFPQI9ls/MWO2dWFAar/xcOIImbbpA3zgAAAABJRU5ErkJggg==);\n",
       "        }\n",
       "    </style>\n",
       "    <div>\n",
       "        <a href=\"https://bokeh.org\" target=\"_blank\" class=\"bk-notebook-logo\"></a>\n",
       "        <span id=\"a3ac61a5-6812-4de9-a955-b625177eff47\">Loading BokehJS ...</span>\n",
       "    </div>\n"
      ]
     },
     "metadata": {},
     "output_type": "display_data"
    },
    {
     "data": {
      "application/javascript": "(function(root) {\n  function now() {\n    return new Date();\n  }\n\n  const force = true;\n\n  if (typeof root._bokeh_onload_callbacks === \"undefined\" || force === true) {\n    root._bokeh_onload_callbacks = [];\n    root._bokeh_is_loading = undefined;\n  }\n\nconst JS_MIME_TYPE = 'application/javascript';\n  const HTML_MIME_TYPE = 'text/html';\n  const EXEC_MIME_TYPE = 'application/vnd.bokehjs_exec.v0+json';\n  const CLASS_NAME = 'output_bokeh rendered_html';\n\n  /**\n   * Render data to the DOM node\n   */\n  function render(props, node) {\n    const script = document.createElement(\"script\");\n    node.appendChild(script);\n  }\n\n  /**\n   * Handle when an output is cleared or removed\n   */\n  function handleClearOutput(event, handle) {\n    function drop(id) {\n      const view = Bokeh.index.get_by_id(id)\n      if (view != null) {\n        view.model.document.clear()\n        Bokeh.index.delete(view)\n      }\n    }\n\n    const cell = handle.cell;\n\n    const id = cell.output_area._bokeh_element_id;\n    const server_id = cell.output_area._bokeh_server_id;\n\n    // Clean up Bokeh references\n    if (id != null) {\n      drop(id)\n    }\n\n    if (server_id !== undefined) {\n      // Clean up Bokeh references\n      const cmd_clean = \"from bokeh.io.state import curstate; print(curstate().uuid_to_server['\" + server_id + \"'].get_sessions()[0].document.roots[0]._id)\";\n      cell.notebook.kernel.execute(cmd_clean, {\n        iopub: {\n          output: function(msg) {\n            const id = msg.content.text.trim()\n            drop(id)\n          }\n        }\n      });\n      // Destroy server and session\n      const cmd_destroy = \"import bokeh.io.notebook as ion; ion.destroy_server('\" + server_id + \"')\";\n      cell.notebook.kernel.execute(cmd_destroy);\n    }\n  }\n\n  /**\n   * Handle when a new output is added\n   */\n  function handleAddOutput(event, handle) {\n    const output_area = handle.output_area;\n    const output = handle.output;\n\n    // limit handleAddOutput to display_data with EXEC_MIME_TYPE content only\n    if ((output.output_type != \"display_data\") || (!Object.prototype.hasOwnProperty.call(output.data, EXEC_MIME_TYPE))) {\n      return\n    }\n\n    const toinsert = output_area.element.find(\".\" + CLASS_NAME.split(' ')[0]);\n\n    if (output.metadata[EXEC_MIME_TYPE][\"id\"] !== undefined) {\n      toinsert[toinsert.length - 1].firstChild.textContent = output.data[JS_MIME_TYPE];\n      // store reference to embed id on output_area\n      output_area._bokeh_element_id = output.metadata[EXEC_MIME_TYPE][\"id\"];\n    }\n    if (output.metadata[EXEC_MIME_TYPE][\"server_id\"] !== undefined) {\n      const bk_div = document.createElement(\"div\");\n      bk_div.innerHTML = output.data[HTML_MIME_TYPE];\n      const script_attrs = bk_div.children[0].attributes;\n      for (let i = 0; i < script_attrs.length; i++) {\n        toinsert[toinsert.length - 1].firstChild.setAttribute(script_attrs[i].name, script_attrs[i].value);\n        toinsert[toinsert.length - 1].firstChild.textContent = bk_div.children[0].textContent\n      }\n      // store reference to server id on output_area\n      output_area._bokeh_server_id = output.metadata[EXEC_MIME_TYPE][\"server_id\"];\n    }\n  }\n\n  function register_renderer(events, OutputArea) {\n\n    function append_mime(data, metadata, element) {\n      // create a DOM node to render to\n      const toinsert = this.create_output_subarea(\n        metadata,\n        CLASS_NAME,\n        EXEC_MIME_TYPE\n      );\n      this.keyboard_manager.register_events(toinsert);\n      // Render to node\n      const props = {data: data, metadata: metadata[EXEC_MIME_TYPE]};\n      render(props, toinsert[toinsert.length - 1]);\n      element.append(toinsert);\n      return toinsert\n    }\n\n    /* Handle when an output is cleared or removed */\n    events.on('clear_output.CodeCell', handleClearOutput);\n    events.on('delete.Cell', handleClearOutput);\n\n    /* Handle when a new output is added */\n    events.on('output_added.OutputArea', handleAddOutput);\n\n    /**\n     * Register the mime type and append_mime function with output_area\n     */\n    OutputArea.prototype.register_mime_type(EXEC_MIME_TYPE, append_mime, {\n      /* Is output safe? */\n      safe: true,\n      /* Index of renderer in `output_area.display_order` */\n      index: 0\n    });\n  }\n\n  // register the mime type if in Jupyter Notebook environment and previously unregistered\n  if (root.Jupyter !== undefined) {\n    const events = require('base/js/events');\n    const OutputArea = require('notebook/js/outputarea').OutputArea;\n\n    if (OutputArea.prototype.mime_types().indexOf(EXEC_MIME_TYPE) == -1) {\n      register_renderer(events, OutputArea);\n    }\n  }\n  if (typeof (root._bokeh_timeout) === \"undefined\" || force === true) {\n    root._bokeh_timeout = Date.now() + 5000;\n    root._bokeh_failed_load = false;\n  }\n\n  const NB_LOAD_WARNING = {'data': {'text/html':\n     \"<div style='background-color: #fdd'>\\n\"+\n     \"<p>\\n\"+\n     \"BokehJS does not appear to have successfully loaded. If loading BokehJS from CDN, this \\n\"+\n     \"may be due to a slow or bad network connection. Possible fixes:\\n\"+\n     \"</p>\\n\"+\n     \"<ul>\\n\"+\n     \"<li>re-rerun `output_notebook()` to attempt to load from CDN again, or</li>\\n\"+\n     \"<li>use INLINE resources instead, as so:</li>\\n\"+\n     \"</ul>\\n\"+\n     \"<code>\\n\"+\n     \"from bokeh.resources import INLINE\\n\"+\n     \"output_notebook(resources=INLINE)\\n\"+\n     \"</code>\\n\"+\n     \"</div>\"}};\n\n  function display_loaded() {\n    const el = document.getElementById(\"a3ac61a5-6812-4de9-a955-b625177eff47\");\n    if (el != null) {\n      el.textContent = \"BokehJS is loading...\";\n    }\n    if (root.Bokeh !== undefined) {\n      if (el != null) {\n        el.textContent = \"BokehJS \" + root.Bokeh.version + \" successfully loaded.\";\n      }\n    } else if (Date.now() < root._bokeh_timeout) {\n      setTimeout(display_loaded, 100)\n    }\n  }\n\n  function run_callbacks() {\n    try {\n      root._bokeh_onload_callbacks.forEach(function(callback) {\n        if (callback != null)\n          callback();\n      });\n    } finally {\n      delete root._bokeh_onload_callbacks\n    }\n    console.debug(\"Bokeh: all callbacks have finished\");\n  }\n\n  function load_libs(css_urls, js_urls, callback) {\n    if (css_urls == null) css_urls = [];\n    if (js_urls == null) js_urls = [];\n\n    root._bokeh_onload_callbacks.push(callback);\n    if (root._bokeh_is_loading > 0) {\n      console.debug(\"Bokeh: BokehJS is being loaded, scheduling callback at\", now());\n      return null;\n    }\n    if (js_urls == null || js_urls.length === 0) {\n      run_callbacks();\n      return null;\n    }\n    console.debug(\"Bokeh: BokehJS not loaded, scheduling load and callback at\", now());\n    root._bokeh_is_loading = css_urls.length + js_urls.length;\n\n    function on_load() {\n      root._bokeh_is_loading--;\n      if (root._bokeh_is_loading === 0) {\n        console.debug(\"Bokeh: all BokehJS libraries/stylesheets loaded\");\n        run_callbacks()\n      }\n    }\n\n    function on_error(url) {\n      console.error(\"failed to load \" + url);\n    }\n\n    for (let i = 0; i < css_urls.length; i++) {\n      const url = css_urls[i];\n      const element = document.createElement(\"link\");\n      element.onload = on_load;\n      element.onerror = on_error.bind(null, url);\n      element.rel = \"stylesheet\";\n      element.type = \"text/css\";\n      element.href = url;\n      console.debug(\"Bokeh: injecting link tag for BokehJS stylesheet: \", url);\n      document.body.appendChild(element);\n    }\n\n    for (let i = 0; i < js_urls.length; i++) {\n      const url = js_urls[i];\n      const element = document.createElement('script');\n      element.onload = on_load;\n      element.onerror = on_error.bind(null, url);\n      element.async = false;\n      element.src = url;\n      console.debug(\"Bokeh: injecting script tag for BokehJS library: \", url);\n      document.head.appendChild(element);\n    }\n  };\n\n  function inject_raw_css(css) {\n    const element = document.createElement(\"style\");\n    element.appendChild(document.createTextNode(css));\n    document.body.appendChild(element);\n  }\n\n  const js_urls = [\"https://cdn.bokeh.org/bokeh/release/bokeh-3.3.4.min.js\", \"https://cdn.bokeh.org/bokeh/release/bokeh-gl-3.3.4.min.js\", \"https://cdn.bokeh.org/bokeh/release/bokeh-widgets-3.3.4.min.js\", \"https://cdn.bokeh.org/bokeh/release/bokeh-tables-3.3.4.min.js\", \"https://cdn.bokeh.org/bokeh/release/bokeh-mathjax-3.3.4.min.js\"];\n  const css_urls = [];\n\n  const inline_js = [    function(Bokeh) {\n      Bokeh.set_log_level(\"info\");\n    },\nfunction(Bokeh) {\n    }\n  ];\n\n  function run_inline_js() {\n    if (root.Bokeh !== undefined || force === true) {\n          for (let i = 0; i < inline_js.length; i++) {\n      inline_js[i].call(root, root.Bokeh);\n    }\nif (force === true) {\n        display_loaded();\n      }} else if (Date.now() < root._bokeh_timeout) {\n      setTimeout(run_inline_js, 100);\n    } else if (!root._bokeh_failed_load) {\n      console.log(\"Bokeh: BokehJS failed to load within specified timeout.\");\n      root._bokeh_failed_load = true;\n    } else if (force !== true) {\n      const cell = $(document.getElementById(\"a3ac61a5-6812-4de9-a955-b625177eff47\")).parents('.cell').data().cell;\n      cell.output_area.append_execute_result(NB_LOAD_WARNING)\n    }\n  }\n\n  if (root._bokeh_is_loading === 0) {\n    console.debug(\"Bokeh: BokehJS loaded, going straight to plotting\");\n    run_inline_js();\n  } else {\n    load_libs(css_urls, js_urls, function() {\n      console.debug(\"Bokeh: BokehJS plotting callback run at\", now());\n      run_inline_js();\n    });\n  }\n}(window));",
      "application/vnd.bokehjs_load.v0+json": ""
     },
     "metadata": {},
     "output_type": "display_data"
    },
    {
     "name": "stdout",
     "output_type": "stream",
     "text": [
      "Rb/a:  1.1964312624669644\n",
      "Delta/Omega:  2.72\n"
     ]
    }
   ],
   "source": [
    "# Section imports\n",
    "from bloqade.atom_arrangement import Square\n",
    "import numpy as np\n",
    "from bokeh.io import output_notebook\n",
    "output_notebook()\n",
    "\n",
    "# Change the lattice spacing to vary the atom separation a, and thus also Rb/a\n",
    "delta_end=2*np.pi*6.8 #final detuning\n",
    "omega_max=2*np.pi*2.5 #max Rabi amplitude\n",
    "lattice_spacing = 7.0 #size of edges of square lattice\n",
    "\n",
    "C6 = 2*np.pi * 862690;\n",
    "Rb = (C6 / (omega_max) )** (1/6) # R_B during bulk of protocol\n",
    "print(\"Rb/a: \",Rb/lattice_spacing)\n",
    "\n",
    "print(\"Delta/Omega: \", delta_end/omega_max)"
   ]
  },
  {
   "cell_type": "markdown",
   "id": "c177c9e5",
   "metadata": {},
   "source": [
    "If it helps, revisit Chapter 2 Sec. 3a to see again how these parameters fix a Hamiltonian well within the checkerboard phase. Also, if you forgot some of the specific hardware constraints, or would like to organize your code and scales according to Aquila's dynamic range, you can us Bloqade's handy `get_capabilities` function to help you. For example:"
   ]
  },
  {
   "cell_type": "code",
   "execution_count": 2,
   "id": "61952301",
   "metadata": {},
   "outputs": [
    {
     "name": "stdout",
     "output_type": "stream",
     "text": [
      "2.514648100851946403173667416\n"
     ]
    }
   ],
   "source": [
    "from bloqade import get_capabilities\n",
    "from decimal import Decimal\n",
    "\n",
    "max_rabi = get_capabilities().capabilities.rydberg.global_.rabi_frequency_max\n",
    "print(max_rabi/Decimal(2*np.pi)) # our standard maximum value for Rabi amplitude in MHz"
   ]
  },
  {
   "cell_type": "markdown",
   "id": "cefbc176",
   "metadata": {},
   "source": [
    "Note that working with `Decimal` numbers is recommended for Bloqade to maximize precision. For a complete list of what fields are availible see the Bloqade documentation [here](https://bloqade.quera.com/latest/reference/hardware-capabilities/)"
   ]
  },
  {
   "cell_type": "markdown",
   "id": "c351a4fa",
   "metadata": {},
   "source": [
    "### 1c. Defining the Bloqade Program"
   ]
  },
  {
   "cell_type": "markdown",
   "id": "b946bd89-cf0b-4ac0-85d8-83a6647fcb48",
   "metadata": {},
   "source": [
    "Let's do the same adiabatic protocol from the previous chapter, but build two different geometries, small and large, so we can draw comparisons. Let's do so via some Bloqade tricks:"
   ]
  },
  {
   "cell_type": "code",
   "execution_count": 4,
   "id": "3219159f",
   "metadata": {},
   "outputs": [],
   "source": [
    "sweep_time = 2.4 #time length of the protocol \n",
    "rabi_amplitude_values = [0.0, omega_max, omega_max, 0.0]\n",
    "rabi_detuning_values = [-delta_end, -delta_end, delta_end, delta_end]\n",
    "durations = [0.8, sweep_time, 0.8]\n",
    "\n",
    "\n",
    "geometries = {\n",
    "    1: Square(3, lattice_spacing=lattice_spacing),\n",
    "    2: Square(11, lattice_spacing=lattice_spacing),\n",
    "}\n",
    "\n",
    "prog_list = {\n",
    "    idx:(geometry.rydberg.rabi.amplitude.uniform.piecewise_linear(durations, rabi_amplitude_values)\n",
    "    .detuning.uniform.piecewise_linear(durations, rabi_detuning_values) )for idx, geometry in geometries.items()\n",
    "}"
   ]
  },
  {
   "cell_type": "markdown",
   "id": "5ede1c45",
   "metadata": {},
   "source": [
    "So there we go. We have a list of programs, one for each geometry of interest for comparison purposes."
   ]
  },
  {
   "cell_type": "code",
   "execution_count": 5,
   "id": "3bed681a",
   "metadata": {},
   "outputs": [
    {
     "data": {
      "text/html": [
       "\n",
       "  <div id=\"e3cb2e14-87a9-426c-9978-423a0aef49a1\" data-root-id=\"p1071\" style=\"display: contents;\"></div>\n"
      ]
     },
     "metadata": {},
     "output_type": "display_data"
    },
    {
     "data": {
      "application/javascript": "(function(root) {\n  function embed_document(root) {\n  const docs_json = {\"dc40b038-d752-4d87-8229-5d5a219ce713\":{\"version\":\"3.3.4\",\"title\":\"Bokeh Application\",\"roots\":[{\"type\":\"object\",\"name\":\"Column\",\"id\":\"p1071\",\"attributes\":{\"children\":[{\"type\":\"object\",\"name\":\"Figure\",\"id\":\"p1010\",\"attributes\":{\"width\":400,\"height\":400,\"x_range\":{\"type\":\"object\",\"name\":\"Range1d\",\"id\":\"p1036\",\"attributes\":{\"start\":-1.0,\"end\":15.0}},\"y_range\":{\"type\":\"object\",\"name\":\"Range1d\",\"id\":\"p1037\",\"attributes\":{\"start\":-1.0,\"end\":15.0}},\"x_scale\":{\"type\":\"object\",\"name\":\"LinearScale\",\"id\":\"p1019\"},\"y_scale\":{\"type\":\"object\",\"name\":\"LinearScale\",\"id\":\"p1020\"},\"title\":{\"type\":\"object\",\"name\":\"Title\",\"id\":\"p1017\"},\"renderers\":[{\"type\":\"object\",\"name\":\"GlyphRenderer\",\"id\":\"p1044\",\"attributes\":{\"data_source\":{\"type\":\"object\",\"name\":\"ColumnDataSource\",\"id\":\"p1001\",\"attributes\":{\"selected\":{\"type\":\"object\",\"name\":\"Selection\",\"id\":\"p1002\",\"attributes\":{\"indices\":[],\"line_indices\":[]}},\"selection_policy\":{\"type\":\"object\",\"name\":\"UnionRenderers\",\"id\":\"p1003\"},\"data\":{\"type\":\"map\",\"entries\":[[\"_x\",[0.0,0.0,0.0,7.0,7.0,7.0,14.0,14.0,14.0]],[\"_y\",[0.0,7.0,14.0,0.0,7.0,14.0,0.0,7.0,14.0]],[\"_labels\",[0,1,2,3,4,5,6,7,8]],[\"_colorwt\",[0,0,0,0,0,0,0,0,0]]]}}},\"view\":{\"type\":\"object\",\"name\":\"CDSView\",\"id\":\"p1045\",\"attributes\":{\"filter\":{\"type\":\"object\",\"name\":\"AllIndices\",\"id\":\"p1046\"}}},\"glyph\":{\"type\":\"object\",\"name\":\"Circle\",\"id\":\"p1041\",\"attributes\":{\"x\":{\"type\":\"field\",\"field\":\"_x\"},\"y\":{\"type\":\"field\",\"field\":\"_y\"},\"line_color\":{\"type\":\"value\",\"value\":\"#1f77b4\"},\"fill_color\":{\"type\":\"value\",\"value\":\"#1f77b4\"},\"radius\":{\"type\":\"value\",\"value\":0.21}}},\"nonselection_glyph\":{\"type\":\"object\",\"name\":\"Circle\",\"id\":\"p1042\",\"attributes\":{\"x\":{\"type\":\"field\",\"field\":\"_x\"},\"y\":{\"type\":\"field\",\"field\":\"_y\"},\"line_color\":{\"type\":\"value\",\"value\":\"#1f77b4\"},\"line_alpha\":{\"type\":\"value\",\"value\":0.1},\"fill_color\":{\"type\":\"value\",\"value\":\"#1f77b4\"},\"fill_alpha\":{\"type\":\"value\",\"value\":0.1},\"hatch_alpha\":{\"type\":\"value\",\"value\":0.1},\"radius\":{\"type\":\"value\",\"value\":0.21}}},\"muted_glyph\":{\"type\":\"object\",\"name\":\"Circle\",\"id\":\"p1043\",\"attributes\":{\"x\":{\"type\":\"field\",\"field\":\"_x\"},\"y\":{\"type\":\"field\",\"field\":\"_y\"},\"line_color\":{\"type\":\"value\",\"value\":\"#1f77b4\"},\"line_alpha\":{\"type\":\"value\",\"value\":0.2},\"fill_color\":{\"type\":\"value\",\"value\":\"#1f77b4\"},\"fill_alpha\":{\"type\":\"value\",\"value\":0.2},\"hatch_alpha\":{\"type\":\"value\",\"value\":0.2},\"radius\":{\"type\":\"value\",\"value\":0.21}}}}},{\"type\":\"object\",\"name\":\"GlyphRenderer\",\"id\":\"p1053\",\"attributes\":{\"data_source\":{\"type\":\"object\",\"name\":\"ColumnDataSource\",\"id\":\"p1004\",\"attributes\":{\"selected\":{\"type\":\"object\",\"name\":\"Selection\",\"id\":\"p1005\",\"attributes\":{\"indices\":[],\"line_indices\":[]}},\"selection_policy\":{\"type\":\"object\",\"name\":\"UnionRenderers\",\"id\":\"p1006\"},\"data\":{\"type\":\"map\",\"entries\":[[\"_x\",[]],[\"_y\",[]],[\"_labels\",[]],[\"_colorwt\",[]]]}}},\"view\":{\"type\":\"object\",\"name\":\"CDSView\",\"id\":\"p1054\",\"attributes\":{\"filter\":{\"type\":\"object\",\"name\":\"AllIndices\",\"id\":\"p1055\"}}},\"glyph\":{\"type\":\"object\",\"name\":\"Circle\",\"id\":\"p1050\",\"attributes\":{\"x\":{\"type\":\"field\",\"field\":\"_x\"},\"y\":{\"type\":\"field\",\"field\":\"_y\"},\"line_color\":{\"type\":\"value\",\"value\":\"grey\"},\"line_width\":{\"type\":\"value\",\"value\":2.8000000000000003},\"fill_color\":{\"type\":\"value\",\"value\":\"grey\"},\"fill_alpha\":{\"type\":\"value\",\"value\":0.25},\"hatch_color\":{\"type\":\"value\",\"value\":\"grey\"},\"radius\":{\"type\":\"value\",\"value\":0.21}}},\"nonselection_glyph\":{\"type\":\"object\",\"name\":\"Circle\",\"id\":\"p1051\",\"attributes\":{\"x\":{\"type\":\"field\",\"field\":\"_x\"},\"y\":{\"type\":\"field\",\"field\":\"_y\"},\"line_color\":{\"type\":\"value\",\"value\":\"grey\"},\"line_alpha\":{\"type\":\"value\",\"value\":0.1},\"line_width\":{\"type\":\"value\",\"value\":2.8000000000000003},\"fill_color\":{\"type\":\"value\",\"value\":\"grey\"},\"fill_alpha\":{\"type\":\"value\",\"value\":0.1},\"hatch_color\":{\"type\":\"value\",\"value\":\"grey\"},\"hatch_alpha\":{\"type\":\"value\",\"value\":0.1},\"radius\":{\"type\":\"value\",\"value\":0.21}}},\"muted_glyph\":{\"type\":\"object\",\"name\":\"Circle\",\"id\":\"p1052\",\"attributes\":{\"x\":{\"type\":\"field\",\"field\":\"_x\"},\"y\":{\"type\":\"field\",\"field\":\"_y\"},\"line_color\":{\"type\":\"value\",\"value\":\"grey\"},\"line_alpha\":{\"type\":\"value\",\"value\":0.2},\"line_width\":{\"type\":\"value\",\"value\":2.8000000000000003},\"fill_color\":{\"type\":\"value\",\"value\":\"grey\"},\"fill_alpha\":{\"type\":\"value\",\"value\":0.2},\"hatch_color\":{\"type\":\"value\",\"value\":\"grey\"},\"hatch_alpha\":{\"type\":\"value\",\"value\":0.2},\"radius\":{\"type\":\"value\",\"value\":0.21}}}}},{\"type\":\"object\",\"name\":\"GlyphRenderer\",\"id\":\"p1063\",\"attributes\":{\"name\":\"Brad\",\"data_source\":{\"type\":\"object\",\"name\":\"ColumnDataSource\",\"id\":\"p1007\",\"attributes\":{\"selected\":{\"type\":\"object\",\"name\":\"Selection\",\"id\":\"p1008\",\"attributes\":{\"indices\":[],\"line_indices\":[]}},\"selection_policy\":{\"type\":\"object\",\"name\":\"UnionRenderers\",\"id\":\"p1009\"},\"data\":{\"type\":\"map\",\"entries\":[[\"_x\",[0.0,0.0,0.0,7.0,7.0,7.0,14.0,14.0,14.0]],[\"_y\",[0.0,7.0,14.0,0.0,7.0,14.0,0.0,7.0,14.0]],[\"_labels\",[0,1,2,3,4,5,6,7,8]]]}}},\"view\":{\"type\":\"object\",\"name\":\"CDSView\",\"id\":\"p1064\",\"attributes\":{\"filter\":{\"type\":\"object\",\"name\":\"AllIndices\",\"id\":\"p1065\"}}},\"glyph\":{\"type\":\"object\",\"name\":\"Circle\",\"id\":\"p1060\",\"attributes\":{\"x\":{\"type\":\"field\",\"field\":\"_x\"},\"y\":{\"type\":\"field\",\"field\":\"_y\"},\"line_color\":{\"type\":\"value\",\"value\":\"#1f77b4\"},\"line_width\":{\"type\":\"value\",\"value\":2.1},\"fill_color\":{\"type\":\"value\",\"value\":\"#1f77b4\"},\"fill_alpha\":{\"type\":\"value\",\"value\":0.5},\"radius\":{\"type\":\"value\",\"value\":0}}},\"nonselection_glyph\":{\"type\":\"object\",\"name\":\"Circle\",\"id\":\"p1061\",\"attributes\":{\"x\":{\"type\":\"field\",\"field\":\"_x\"},\"y\":{\"type\":\"field\",\"field\":\"_y\"},\"line_color\":{\"type\":\"value\",\"value\":\"#1f77b4\"},\"line_alpha\":{\"type\":\"value\",\"value\":0.1},\"line_width\":{\"type\":\"value\",\"value\":2.1},\"fill_color\":{\"type\":\"value\",\"value\":\"#1f77b4\"},\"fill_alpha\":{\"type\":\"value\",\"value\":0.1},\"hatch_alpha\":{\"type\":\"value\",\"value\":0.1},\"radius\":{\"type\":\"value\",\"value\":0}}},\"muted_glyph\":{\"type\":\"object\",\"name\":\"Circle\",\"id\":\"p1062\",\"attributes\":{\"x\":{\"type\":\"field\",\"field\":\"_x\"},\"y\":{\"type\":\"field\",\"field\":\"_y\"},\"line_color\":{\"type\":\"value\",\"value\":\"#1f77b4\"},\"line_alpha\":{\"type\":\"value\",\"value\":0.2},\"line_width\":{\"type\":\"value\",\"value\":2.1},\"fill_color\":{\"type\":\"value\",\"value\":\"#1f77b4\"},\"fill_alpha\":{\"type\":\"value\",\"value\":0.2},\"hatch_alpha\":{\"type\":\"value\",\"value\":0.2},\"radius\":{\"type\":\"value\",\"value\":0}}}}}],\"toolbar\":{\"type\":\"object\",\"name\":\"Toolbar\",\"id\":\"p1018\",\"attributes\":{\"tools\":[{\"type\":\"object\",\"name\":\"WheelZoomTool\",\"id\":\"p1031\",\"attributes\":{\"renderers\":\"auto\"}},{\"type\":\"object\",\"name\":\"ResetTool\",\"id\":\"p1032\"},{\"type\":\"object\",\"name\":\"UndoTool\",\"id\":\"p1033\"},{\"type\":\"object\",\"name\":\"RedoTool\",\"id\":\"p1034\"},{\"type\":\"object\",\"name\":\"PanTool\",\"id\":\"p1035\"},{\"type\":\"object\",\"name\":\"HoverTool\",\"id\":\"p1056\",\"attributes\":{\"renderers\":\"auto\",\"tooltips\":[[\"(x,y)\",\"(@_x, @_y)\"],[\"index: \",\"@_labels\"]]}}]}},\"toolbar_location\":\"above\",\"left\":[{\"type\":\"object\",\"name\":\"LinearAxis\",\"id\":\"p1026\",\"attributes\":{\"ticker\":{\"type\":\"object\",\"name\":\"BasicTicker\",\"id\":\"p1027\",\"attributes\":{\"mantissas\":[1,2,5]}},\"formatter\":{\"type\":\"object\",\"name\":\"BasicTickFormatter\",\"id\":\"p1028\"},\"major_label_policy\":{\"type\":\"object\",\"name\":\"AllLabels\",\"id\":\"p1029\"}}}],\"below\":[{\"type\":\"object\",\"name\":\"LinearAxis\",\"id\":\"p1021\",\"attributes\":{\"ticker\":{\"type\":\"object\",\"name\":\"BasicTicker\",\"id\":\"p1022\",\"attributes\":{\"mantissas\":[1,2,5]}},\"formatter\":{\"type\":\"object\",\"name\":\"BasicTickFormatter\",\"id\":\"p1023\"},\"major_label_policy\":{\"type\":\"object\",\"name\":\"AllLabels\",\"id\":\"p1024\"}}}],\"center\":[{\"type\":\"object\",\"name\":\"Grid\",\"id\":\"p1025\",\"attributes\":{\"axis\":{\"id\":\"p1021\"}}},{\"type\":\"object\",\"name\":\"Grid\",\"id\":\"p1030\",\"attributes\":{\"dimension\":1,\"axis\":{\"id\":\"p1026\"}}}]}},{\"type\":\"object\",\"name\":\"Row\",\"id\":\"p1070\",\"attributes\":{\"children\":[{\"type\":\"object\",\"name\":\"NumericInput\",\"id\":\"p1066\",\"attributes\":{\"js_property_callbacks\":{\"type\":\"map\",\"entries\":[[\"change:value\",[{\"type\":\"object\",\"name\":\"CustomJS\",\"id\":\"p1069\",\"attributes\":{\"args\":{\"type\":\"map\",\"entries\":[[\"other\",{\"id\":\"p1060\"}]]},\"code\":\"other.radius = this.value\"}}]]]},\"title\":\"Blockade radius (um):\",\"value\":0,\"low\":0,\"mode\":\"float\"}},{\"type\":\"object\",\"name\":\"Button\",\"id\":\"p1067\",\"attributes\":{\"js_event_callbacks\":{\"type\":\"map\",\"entries\":[[\"button_click\",[{\"type\":\"object\",\"name\":\"CustomJS\",\"id\":\"p1068\",\"attributes\":{\"args\":{\"type\":\"map\",\"entries\":[[\"cr\",{\"id\":\"p1063\"}]]},\"code\":\"cr.visible = !cr.visible;\"}}]]]},\"label\":\"Toggle\"}}]}}]}}]}};\n  const render_items = [{\"docid\":\"dc40b038-d752-4d87-8229-5d5a219ce713\",\"roots\":{\"p1071\":\"e3cb2e14-87a9-426c-9978-423a0aef49a1\"},\"root_ids\":[\"p1071\"]}];\n  root.Bokeh.embed.embed_items_notebook(docs_json, render_items);\n  }\n  if (root.Bokeh !== undefined) {\n    embed_document(root);\n  } else {\n    let attempts = 0;\n    const timer = setInterval(function(root) {\n      if (root.Bokeh !== undefined) {\n        clearInterval(timer);\n        embed_document(root);\n      } else {\n        attempts++;\n        if (attempts > 100) {\n          clearInterval(timer);\n          console.log(\"Bokeh: ERROR: Unable to run BokehJS code because BokehJS library is missing\");\n        }\n      }\n    }, 10, root)\n  }\n})(window);",
      "application/vnd.bokehjs_exec.v0+json": ""
     },
     "metadata": {
      "application/vnd.bokehjs_exec.v0+json": {
       "id": "p1071"
      }
     },
     "output_type": "display_data"
    },
    {
     "data": {
      "text/html": [
       "\n",
       "  <div id=\"bb281061-5c64-40a3-8a5f-c2ca80852f01\" data-root-id=\"p1142\" style=\"display: contents;\"></div>\n"
      ]
     },
     "metadata": {},
     "output_type": "display_data"
    },
    {
     "data": {
      "application/javascript": "(function(root) {\n  function embed_document(root) {\n  const docs_json = {\"748dcd39-630f-40ce-8f27-19c66611da3d\":{\"version\":\"3.3.4\",\"title\":\"Bokeh Application\",\"roots\":[{\"type\":\"object\",\"name\":\"Column\",\"id\":\"p1142\",\"attributes\":{\"children\":[{\"type\":\"object\",\"name\":\"Figure\",\"id\":\"p1081\",\"attributes\":{\"width\":400,\"height\":400,\"x_range\":{\"type\":\"object\",\"name\":\"Range1d\",\"id\":\"p1107\",\"attributes\":{\"start\":-1.0,\"end\":71.0}},\"y_range\":{\"type\":\"object\",\"name\":\"Range1d\",\"id\":\"p1108\",\"attributes\":{\"start\":-1.0,\"end\":71.0}},\"x_scale\":{\"type\":\"object\",\"name\":\"LinearScale\",\"id\":\"p1090\"},\"y_scale\":{\"type\":\"object\",\"name\":\"LinearScale\",\"id\":\"p1091\"},\"title\":{\"type\":\"object\",\"name\":\"Title\",\"id\":\"p1088\"},\"renderers\":[{\"type\":\"object\",\"name\":\"GlyphRenderer\",\"id\":\"p1115\",\"attributes\":{\"data_source\":{\"type\":\"object\",\"name\":\"ColumnDataSource\",\"id\":\"p1072\",\"attributes\":{\"selected\":{\"type\":\"object\",\"name\":\"Selection\",\"id\":\"p1073\",\"attributes\":{\"indices\":[],\"line_indices\":[]}},\"selection_policy\":{\"type\":\"object\",\"name\":\"UnionRenderers\",\"id\":\"p1074\"},\"data\":{\"type\":\"map\",\"entries\":[[\"_x\",[0.0,0.0,0.0,0.0,0.0,0.0,0.0,0.0,0.0,0.0,0.0,7.0,7.0,7.0,7.0,7.0,7.0,7.0,7.0,7.0,7.0,7.0,14.0,14.0,14.0,14.0,14.0,14.0,14.0,14.0,14.0,14.0,14.0,21.0,21.0,21.0,21.0,21.0,21.0,21.0,21.0,21.0,21.0,21.0,28.0,28.0,28.0,28.0,28.0,28.0,28.0,28.0,28.0,28.0,28.0,35.0,35.0,35.0,35.0,35.0,35.0,35.0,35.0,35.0,35.0,35.0,42.0,42.0,42.0,42.0,42.0,42.0,42.0,42.0,42.0,42.0,42.0,49.0,49.0,49.0,49.0,49.0,49.0,49.0,49.0,49.0,49.0,49.0,56.0,56.0,56.0,56.0,56.0,56.0,56.0,56.0,56.0,56.0,56.0,63.0,63.0,63.0,63.0,63.0,63.0,63.0,63.0,63.0,63.0,63.0,70.0,70.0,70.0,70.0,70.0,70.0,70.0,70.0,70.0,70.0,70.0]],[\"_y\",[0.0,7.0,14.0,21.0,28.0,35.0,42.0,49.0,56.0,63.0,70.0,0.0,7.0,14.0,21.0,28.0,35.0,42.0,49.0,56.0,63.0,70.0,0.0,7.0,14.0,21.0,28.0,35.0,42.0,49.0,56.0,63.0,70.0,0.0,7.0,14.0,21.0,28.0,35.0,42.0,49.0,56.0,63.0,70.0,0.0,7.0,14.0,21.0,28.0,35.0,42.0,49.0,56.0,63.0,70.0,0.0,7.0,14.0,21.0,28.0,35.0,42.0,49.0,56.0,63.0,70.0,0.0,7.0,14.0,21.0,28.0,35.0,42.0,49.0,56.0,63.0,70.0,0.0,7.0,14.0,21.0,28.0,35.0,42.0,49.0,56.0,63.0,70.0,0.0,7.0,14.0,21.0,28.0,35.0,42.0,49.0,56.0,63.0,70.0,0.0,7.0,14.0,21.0,28.0,35.0,42.0,49.0,56.0,63.0,70.0,0.0,7.0,14.0,21.0,28.0,35.0,42.0,49.0,56.0,63.0,70.0]],[\"_labels\",[0,1,2,3,4,5,6,7,8,9,10,11,12,13,14,15,16,17,18,19,20,21,22,23,24,25,26,27,28,29,30,31,32,33,34,35,36,37,38,39,40,41,42,43,44,45,46,47,48,49,50,51,52,53,54,55,56,57,58,59,60,61,62,63,64,65,66,67,68,69,70,71,72,73,74,75,76,77,78,79,80,81,82,83,84,85,86,87,88,89,90,91,92,93,94,95,96,97,98,99,100,101,102,103,104,105,106,107,108,109,110,111,112,113,114,115,116,117,118,119,120]],[\"_colorwt\",[0,0,0,0,0,0,0,0,0,0,0,0,0,0,0,0,0,0,0,0,0,0,0,0,0,0,0,0,0,0,0,0,0,0,0,0,0,0,0,0,0,0,0,0,0,0,0,0,0,0,0,0,0,0,0,0,0,0,0,0,0,0,0,0,0,0,0,0,0,0,0,0,0,0,0,0,0,0,0,0,0,0,0,0,0,0,0,0,0,0,0,0,0,0,0,0,0,0,0,0,0,0,0,0,0,0,0,0,0,0,0,0,0,0,0,0,0,0,0,0,0]]]}}},\"view\":{\"type\":\"object\",\"name\":\"CDSView\",\"id\":\"p1116\",\"attributes\":{\"filter\":{\"type\":\"object\",\"name\":\"AllIndices\",\"id\":\"p1117\"}}},\"glyph\":{\"type\":\"object\",\"name\":\"Circle\",\"id\":\"p1112\",\"attributes\":{\"x\":{\"type\":\"field\",\"field\":\"_x\"},\"y\":{\"type\":\"field\",\"field\":\"_y\"},\"line_color\":{\"type\":\"value\",\"value\":\"#1f77b4\"},\"fill_color\":{\"type\":\"value\",\"value\":\"#1f77b4\"},\"radius\":{\"type\":\"value\",\"value\":1.05}}},\"nonselection_glyph\":{\"type\":\"object\",\"name\":\"Circle\",\"id\":\"p1113\",\"attributes\":{\"x\":{\"type\":\"field\",\"field\":\"_x\"},\"y\":{\"type\":\"field\",\"field\":\"_y\"},\"line_color\":{\"type\":\"value\",\"value\":\"#1f77b4\"},\"line_alpha\":{\"type\":\"value\",\"value\":0.1},\"fill_color\":{\"type\":\"value\",\"value\":\"#1f77b4\"},\"fill_alpha\":{\"type\":\"value\",\"value\":0.1},\"hatch_alpha\":{\"type\":\"value\",\"value\":0.1},\"radius\":{\"type\":\"value\",\"value\":1.05}}},\"muted_glyph\":{\"type\":\"object\",\"name\":\"Circle\",\"id\":\"p1114\",\"attributes\":{\"x\":{\"type\":\"field\",\"field\":\"_x\"},\"y\":{\"type\":\"field\",\"field\":\"_y\"},\"line_color\":{\"type\":\"value\",\"value\":\"#1f77b4\"},\"line_alpha\":{\"type\":\"value\",\"value\":0.2},\"fill_color\":{\"type\":\"value\",\"value\":\"#1f77b4\"},\"fill_alpha\":{\"type\":\"value\",\"value\":0.2},\"hatch_alpha\":{\"type\":\"value\",\"value\":0.2},\"radius\":{\"type\":\"value\",\"value\":1.05}}}}},{\"type\":\"object\",\"name\":\"GlyphRenderer\",\"id\":\"p1124\",\"attributes\":{\"data_source\":{\"type\":\"object\",\"name\":\"ColumnDataSource\",\"id\":\"p1075\",\"attributes\":{\"selected\":{\"type\":\"object\",\"name\":\"Selection\",\"id\":\"p1076\",\"attributes\":{\"indices\":[],\"line_indices\":[]}},\"selection_policy\":{\"type\":\"object\",\"name\":\"UnionRenderers\",\"id\":\"p1077\"},\"data\":{\"type\":\"map\",\"entries\":[[\"_x\",[]],[\"_y\",[]],[\"_labels\",[]],[\"_colorwt\",[]]]}}},\"view\":{\"type\":\"object\",\"name\":\"CDSView\",\"id\":\"p1125\",\"attributes\":{\"filter\":{\"type\":\"object\",\"name\":\"AllIndices\",\"id\":\"p1126\"}}},\"glyph\":{\"type\":\"object\",\"name\":\"Circle\",\"id\":\"p1121\",\"attributes\":{\"x\":{\"type\":\"field\",\"field\":\"_x\"},\"y\":{\"type\":\"field\",\"field\":\"_y\"},\"line_color\":{\"type\":\"value\",\"value\":\"grey\"},\"line_width\":{\"type\":\"value\",\"value\":14.0},\"fill_color\":{\"type\":\"value\",\"value\":\"grey\"},\"fill_alpha\":{\"type\":\"value\",\"value\":0.25},\"hatch_color\":{\"type\":\"value\",\"value\":\"grey\"},\"radius\":{\"type\":\"value\",\"value\":1.05}}},\"nonselection_glyph\":{\"type\":\"object\",\"name\":\"Circle\",\"id\":\"p1122\",\"attributes\":{\"x\":{\"type\":\"field\",\"field\":\"_x\"},\"y\":{\"type\":\"field\",\"field\":\"_y\"},\"line_color\":{\"type\":\"value\",\"value\":\"grey\"},\"line_alpha\":{\"type\":\"value\",\"value\":0.1},\"line_width\":{\"type\":\"value\",\"value\":14.0},\"fill_color\":{\"type\":\"value\",\"value\":\"grey\"},\"fill_alpha\":{\"type\":\"value\",\"value\":0.1},\"hatch_color\":{\"type\":\"value\",\"value\":\"grey\"},\"hatch_alpha\":{\"type\":\"value\",\"value\":0.1},\"radius\":{\"type\":\"value\",\"value\":1.05}}},\"muted_glyph\":{\"type\":\"object\",\"name\":\"Circle\",\"id\":\"p1123\",\"attributes\":{\"x\":{\"type\":\"field\",\"field\":\"_x\"},\"y\":{\"type\":\"field\",\"field\":\"_y\"},\"line_color\":{\"type\":\"value\",\"value\":\"grey\"},\"line_alpha\":{\"type\":\"value\",\"value\":0.2},\"line_width\":{\"type\":\"value\",\"value\":14.0},\"fill_color\":{\"type\":\"value\",\"value\":\"grey\"},\"fill_alpha\":{\"type\":\"value\",\"value\":0.2},\"hatch_color\":{\"type\":\"value\",\"value\":\"grey\"},\"hatch_alpha\":{\"type\":\"value\",\"value\":0.2},\"radius\":{\"type\":\"value\",\"value\":1.05}}}}},{\"type\":\"object\",\"name\":\"GlyphRenderer\",\"id\":\"p1134\",\"attributes\":{\"name\":\"Brad\",\"data_source\":{\"type\":\"object\",\"name\":\"ColumnDataSource\",\"id\":\"p1078\",\"attributes\":{\"selected\":{\"type\":\"object\",\"name\":\"Selection\",\"id\":\"p1079\",\"attributes\":{\"indices\":[],\"line_indices\":[]}},\"selection_policy\":{\"type\":\"object\",\"name\":\"UnionRenderers\",\"id\":\"p1080\"},\"data\":{\"type\":\"map\",\"entries\":[[\"_x\",[0.0,0.0,0.0,0.0,0.0,0.0,0.0,0.0,0.0,0.0,0.0,7.0,7.0,7.0,7.0,7.0,7.0,7.0,7.0,7.0,7.0,7.0,14.0,14.0,14.0,14.0,14.0,14.0,14.0,14.0,14.0,14.0,14.0,21.0,21.0,21.0,21.0,21.0,21.0,21.0,21.0,21.0,21.0,21.0,28.0,28.0,28.0,28.0,28.0,28.0,28.0,28.0,28.0,28.0,28.0,35.0,35.0,35.0,35.0,35.0,35.0,35.0,35.0,35.0,35.0,35.0,42.0,42.0,42.0,42.0,42.0,42.0,42.0,42.0,42.0,42.0,42.0,49.0,49.0,49.0,49.0,49.0,49.0,49.0,49.0,49.0,49.0,49.0,56.0,56.0,56.0,56.0,56.0,56.0,56.0,56.0,56.0,56.0,56.0,63.0,63.0,63.0,63.0,63.0,63.0,63.0,63.0,63.0,63.0,63.0,70.0,70.0,70.0,70.0,70.0,70.0,70.0,70.0,70.0,70.0,70.0]],[\"_y\",[0.0,7.0,14.0,21.0,28.0,35.0,42.0,49.0,56.0,63.0,70.0,0.0,7.0,14.0,21.0,28.0,35.0,42.0,49.0,56.0,63.0,70.0,0.0,7.0,14.0,21.0,28.0,35.0,42.0,49.0,56.0,63.0,70.0,0.0,7.0,14.0,21.0,28.0,35.0,42.0,49.0,56.0,63.0,70.0,0.0,7.0,14.0,21.0,28.0,35.0,42.0,49.0,56.0,63.0,70.0,0.0,7.0,14.0,21.0,28.0,35.0,42.0,49.0,56.0,63.0,70.0,0.0,7.0,14.0,21.0,28.0,35.0,42.0,49.0,56.0,63.0,70.0,0.0,7.0,14.0,21.0,28.0,35.0,42.0,49.0,56.0,63.0,70.0,0.0,7.0,14.0,21.0,28.0,35.0,42.0,49.0,56.0,63.0,70.0,0.0,7.0,14.0,21.0,28.0,35.0,42.0,49.0,56.0,63.0,70.0,0.0,7.0,14.0,21.0,28.0,35.0,42.0,49.0,56.0,63.0,70.0]],[\"_labels\",[0,1,2,3,4,5,6,7,8,9,10,11,12,13,14,15,16,17,18,19,20,21,22,23,24,25,26,27,28,29,30,31,32,33,34,35,36,37,38,39,40,41,42,43,44,45,46,47,48,49,50,51,52,53,54,55,56,57,58,59,60,61,62,63,64,65,66,67,68,69,70,71,72,73,74,75,76,77,78,79,80,81,82,83,84,85,86,87,88,89,90,91,92,93,94,95,96,97,98,99,100,101,102,103,104,105,106,107,108,109,110,111,112,113,114,115,116,117,118,119,120]]]}}},\"view\":{\"type\":\"object\",\"name\":\"CDSView\",\"id\":\"p1135\",\"attributes\":{\"filter\":{\"type\":\"object\",\"name\":\"AllIndices\",\"id\":\"p1136\"}}},\"glyph\":{\"type\":\"object\",\"name\":\"Circle\",\"id\":\"p1131\",\"attributes\":{\"x\":{\"type\":\"field\",\"field\":\"_x\"},\"y\":{\"type\":\"field\",\"field\":\"_y\"},\"line_color\":{\"type\":\"value\",\"value\":\"#1f77b4\"},\"line_width\":{\"type\":\"value\",\"value\":10.5},\"fill_color\":{\"type\":\"value\",\"value\":\"#1f77b4\"},\"fill_alpha\":{\"type\":\"value\",\"value\":0.5},\"radius\":{\"type\":\"value\",\"value\":0}}},\"nonselection_glyph\":{\"type\":\"object\",\"name\":\"Circle\",\"id\":\"p1132\",\"attributes\":{\"x\":{\"type\":\"field\",\"field\":\"_x\"},\"y\":{\"type\":\"field\",\"field\":\"_y\"},\"line_color\":{\"type\":\"value\",\"value\":\"#1f77b4\"},\"line_alpha\":{\"type\":\"value\",\"value\":0.1},\"line_width\":{\"type\":\"value\",\"value\":10.5},\"fill_color\":{\"type\":\"value\",\"value\":\"#1f77b4\"},\"fill_alpha\":{\"type\":\"value\",\"value\":0.1},\"hatch_alpha\":{\"type\":\"value\",\"value\":0.1},\"radius\":{\"type\":\"value\",\"value\":0}}},\"muted_glyph\":{\"type\":\"object\",\"name\":\"Circle\",\"id\":\"p1133\",\"attributes\":{\"x\":{\"type\":\"field\",\"field\":\"_x\"},\"y\":{\"type\":\"field\",\"field\":\"_y\"},\"line_color\":{\"type\":\"value\",\"value\":\"#1f77b4\"},\"line_alpha\":{\"type\":\"value\",\"value\":0.2},\"line_width\":{\"type\":\"value\",\"value\":10.5},\"fill_color\":{\"type\":\"value\",\"value\":\"#1f77b4\"},\"fill_alpha\":{\"type\":\"value\",\"value\":0.2},\"hatch_alpha\":{\"type\":\"value\",\"value\":0.2},\"radius\":{\"type\":\"value\",\"value\":0}}}}}],\"toolbar\":{\"type\":\"object\",\"name\":\"Toolbar\",\"id\":\"p1089\",\"attributes\":{\"tools\":[{\"type\":\"object\",\"name\":\"WheelZoomTool\",\"id\":\"p1102\",\"attributes\":{\"renderers\":\"auto\"}},{\"type\":\"object\",\"name\":\"ResetTool\",\"id\":\"p1103\"},{\"type\":\"object\",\"name\":\"UndoTool\",\"id\":\"p1104\"},{\"type\":\"object\",\"name\":\"RedoTool\",\"id\":\"p1105\"},{\"type\":\"object\",\"name\":\"PanTool\",\"id\":\"p1106\"},{\"type\":\"object\",\"name\":\"HoverTool\",\"id\":\"p1127\",\"attributes\":{\"renderers\":\"auto\",\"tooltips\":[[\"(x,y)\",\"(@_x, @_y)\"],[\"index: \",\"@_labels\"]]}}]}},\"toolbar_location\":\"above\",\"left\":[{\"type\":\"object\",\"name\":\"LinearAxis\",\"id\":\"p1097\",\"attributes\":{\"ticker\":{\"type\":\"object\",\"name\":\"BasicTicker\",\"id\":\"p1098\",\"attributes\":{\"mantissas\":[1,2,5]}},\"formatter\":{\"type\":\"object\",\"name\":\"BasicTickFormatter\",\"id\":\"p1099\"},\"major_label_policy\":{\"type\":\"object\",\"name\":\"AllLabels\",\"id\":\"p1100\"}}}],\"below\":[{\"type\":\"object\",\"name\":\"LinearAxis\",\"id\":\"p1092\",\"attributes\":{\"ticker\":{\"type\":\"object\",\"name\":\"BasicTicker\",\"id\":\"p1093\",\"attributes\":{\"mantissas\":[1,2,5]}},\"formatter\":{\"type\":\"object\",\"name\":\"BasicTickFormatter\",\"id\":\"p1094\"},\"major_label_policy\":{\"type\":\"object\",\"name\":\"AllLabels\",\"id\":\"p1095\"}}}],\"center\":[{\"type\":\"object\",\"name\":\"Grid\",\"id\":\"p1096\",\"attributes\":{\"axis\":{\"id\":\"p1092\"}}},{\"type\":\"object\",\"name\":\"Grid\",\"id\":\"p1101\",\"attributes\":{\"dimension\":1,\"axis\":{\"id\":\"p1097\"}}}]}},{\"type\":\"object\",\"name\":\"Row\",\"id\":\"p1141\",\"attributes\":{\"children\":[{\"type\":\"object\",\"name\":\"NumericInput\",\"id\":\"p1137\",\"attributes\":{\"js_property_callbacks\":{\"type\":\"map\",\"entries\":[[\"change:value\",[{\"type\":\"object\",\"name\":\"CustomJS\",\"id\":\"p1140\",\"attributes\":{\"args\":{\"type\":\"map\",\"entries\":[[\"other\",{\"id\":\"p1131\"}]]},\"code\":\"other.radius = this.value\"}}]]]},\"title\":\"Blockade radius (um):\",\"value\":0,\"low\":0,\"mode\":\"float\"}},{\"type\":\"object\",\"name\":\"Button\",\"id\":\"p1138\",\"attributes\":{\"js_event_callbacks\":{\"type\":\"map\",\"entries\":[[\"button_click\",[{\"type\":\"object\",\"name\":\"CustomJS\",\"id\":\"p1139\",\"attributes\":{\"args\":{\"type\":\"map\",\"entries\":[[\"cr\",{\"id\":\"p1134\"}]]},\"code\":\"cr.visible = !cr.visible;\"}}]]]},\"label\":\"Toggle\"}}]}}]}}]}};\n  const render_items = [{\"docid\":\"748dcd39-630f-40ce-8f27-19c66611da3d\",\"roots\":{\"p1142\":\"bb281061-5c64-40a3-8a5f-c2ca80852f01\"},\"root_ids\":[\"p1142\"]}];\n  root.Bokeh.embed.embed_items_notebook(docs_json, render_items);\n  }\n  if (root.Bokeh !== undefined) {\n    embed_document(root);\n  } else {\n    let attempts = 0;\n    const timer = setInterval(function(root) {\n      if (root.Bokeh !== undefined) {\n        clearInterval(timer);\n        embed_document(root);\n      } else {\n        attempts++;\n        if (attempts > 100) {\n          clearInterval(timer);\n          console.log(\"Bokeh: ERROR: Unable to run BokehJS code because BokehJS library is missing\");\n        }\n      }\n    }, 10, root)\n  }\n})(window);",
      "application/vnd.bokehjs_exec.v0+json": ""
     },
     "metadata": {
      "application/vnd.bokehjs_exec.v0+json": {
       "id": "p1142"
      }
     },
     "output_type": "display_data"
    }
   ],
   "source": [
    "prog_list[1].parse_register().show()\n",
    "prog_list[2].parse_register().show()"
   ]
  },
  {
   "cell_type": "markdown",
   "id": "175e1f9c",
   "metadata": {},
   "source": [
    "### 1d. Submission to Hardware"
   ]
  },
  {
   "cell_type": "markdown",
   "id": "be102845-9080-42f7-b8b1-361d2a0c2127",
   "metadata": {},
   "source": [
    "Submitting the program to hardware is just as simple as running on the emulator. The only difference is that the hardware job is submitted to a queue and may take some time to run. Accordingly, a best practice is to call a run using the `run_async` function instead of `run`. The main importance of doing that is that the `run_async` method will return a results object that will contain metadata about about the job(s) that have been submitted to Aquila. This way, you will be able to easily retrieve the corresponding data without mixing files, but also retrieve details about the specific program you requested to run in a specific submission, in case you by chance forget something or mixes file names.\n",
    "\n",
    "So let's compare the different job submission processes for classical emulation and for Aquila:\n",
    "\n",
    "_Classical:_\n",
    "```python\n",
    "emulation_3x3_10shots_results=prog_list[1].bloqade.python().run(shots=10)\n",
    "```\n",
    "_Aquila:_\n",
    "```python\n",
    "Aquila_3x3_10shots_results = prog_list[1].braket.aquila().run_async(shots=10)\n",
    "bloqade.save(Aquila_3x3_10shots_results, \"cherkerboard_3x3_10shots.json\")\n",
    "```\n",
    "\n",
    "To run a job for a 11x11 lattice, all that you have to change is ` prog_list[1]` -> ` prog_list[2]`. But mind you: if you try running a classical emulation of this on Bloqade, you will likely freeze your computer.\n",
    "\n",
    "The main differences are:\n",
    "* `.bloqade.python()` -> `.braket.aquila()`, i.e., the Bloqade service is exchanged for the AWS Braket service, and the Python backend is substituted by the Aquila backend\n",
    "* `.run` -> `.run_async`, for the reasons explained above\n",
    "* When running on hardware (as well as when doing large simulations), it is imperative to save your data, remembering to use file names that clearly identify the corresponding task. This is done using Bloqade's  `save`. The saved file with the results can be loaded later using the `load` function. The corresponding object contains a list of all the jobs that have been submitted to the hardware along with the task ID which is used to retrieve the results from the hardware.\n",
    "\n",
    "\n",
    "> Make sure to use best practices for simplicity and clarity when naming your files. You should really follow the same standards you would follow when submitting jobs to a regular high-performance computer cluster, if you ever used one. Clear identification will help you retrieving and analyzing data. For serious experimentation and research, this effective management is crucial for success. Also note that batches take time being submitted to Aquila. A rule of thumb to better manage that is to keep batch sizes to 20-50  tasks."
   ]
  },
  {
   "cell_type": "markdown",
   "id": "7e8be10f",
   "metadata": {},
   "source": [
    "### 1e. Parallelizing registers"
   ]
  },
  {
   "cell_type": "markdown",
   "id": "5f665c1c",
   "metadata": {},
   "source": [
    "The task submission examples in sub-section 1c correspond to very few shots, to make sure no one is caught with pricey quantum computing runs. In current prices the 1 task and 10 shots would amount to 40 cents on Amazon Braket. But these few shots also limit our statistics. If you go back to Chapter 2 Section 3, you will notice that even our simulations for the 3x3 system were made with 100 shots, which is a better start for accounting to quantum statistics, noise, etc.\n",
    "\n",
    "Now, 3x3 systems are small enough that they can be parallelized inside Aquila's field of view, effectively increasing our throughput. While one could define parallelized registers by hand, let's use a final Bloqade trick, as the package can help you achieve parallelization and data analysis much more easily.\n",
    "\n",
    "To parallelize with Bloqade, all we have to do is to figure out what is the distance we'd like between patches. For us, we will use"
   ]
  },
  {
   "cell_type": "code",
   "execution_count": 1,
   "id": "fd256e68",
   "metadata": {},
   "outputs": [],
   "source": [
    "inter_patch=11.16 #um"
   ]
  },
  {
   "cell_type": "markdown",
   "id": "8a7b7b17",
   "metadata": {},
   "source": [
    "and to submit a parallelized job, all we need to change in our call is to write\n",
    "\n",
    "```python\n",
    "Aquila_3x3_10shots_9parallelized_results = prog_list[1].parallelize(inter_patch).braket.aquila().run_async(shots=10)\n",
    "save(Aquila_3x3_10shots_9parallelized_results, \"cherkerboard_3x3_10shots_9parallelized.json\")\n",
    "```\n",
    "That is, incude the `parallelize(D)` method to the program before the choice of service, with `D` being the safety distance between patches in a given program (which is always a function of other energetics such as the Rabi drive)."
   ]
  },
  {
   "cell_type": "code",
   "execution_count": null,
   "id": "cf46e5bd",
   "metadata": {},
   "outputs": [],
   "source": [
    "FreeResponseQuestion(\"exercise31e\")"
   ]
  },
  {
   "cell_type": "markdown",
   "id": "c3a88958",
   "metadata": {},
   "source": [
    "We will see, in what follows, what are the potential consequences of parallelization, what are good practices to setting up distances, and how to analyze the corresponding data."
   ]
  },
  {
   "cell_type": "markdown",
   "id": "1a38aee3",
   "metadata": {},
   "source": [
    "## _Submission checklist_\n",
    "\n",
    "Many details must be chosen correctly to ensure a quantum job does what we want. So here goes a checklist to aid verifying things before committing to spend money on data:\n",
    "\n",
    "* Is the geometry setup correct? Check:\n",
    "    * number of atoms\n",
    "    * correct interatomic distance scales\n",
    "    * correct shape of the register\n",
    "\n",
    "* Are the waveform settings correct? Check:\n",
    "    * shape and maximum values of Rabi drive\n",
    "    * shape and maximum values of detuning drive\n",
    "    * general total length of the program\n",
    "\n",
    "* Are the quantum statistics settings adequate? Check:\n",
    "    * number of shots/repetitions\n",
    "    * if parallelization is being used and, if so, if the correct distance between patches was chosen\n",
    "    \n",
    "* Are the general submission details correct? Check:\n",
    "    * if appropriately named files are being created to save the metadata and actual calculation results\n",
    "    * in case batching multiple tasks, if all of the items above are correct for every single task being automatized\n"
   ]
  }
 ],
 "metadata": {
  "kernelspec": {
   "display_name": "base",
   "language": "python",
   "name": "python3"
  },
  "language_info": {
   "codemirror_mode": {
    "name": "ipython",
    "version": 3
   },
   "file_extension": ".py",
   "mimetype": "text/x-python",
   "name": "python",
   "nbconvert_exporter": "python",
   "pygments_lexer": "ipython3",
   "version": "3.11.5"
  }
 },
 "nbformat": 4,
 "nbformat_minor": 5
}
