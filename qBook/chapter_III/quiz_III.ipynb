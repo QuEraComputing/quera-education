{
 "cells": [
  {
   "cell_type": "markdown",
   "metadata": {},
   "source": [
    "# Chapter III Quiz\n",
    "\n",
    "Time to celebrate knowledge! Answer the questions below, referring to the content and learning goals from chapter III. You have 3 chances to solve each problem. Succeeding at answering 70% of these problems correctly or more is a pre-requisite to obtaining a QuEra Quantum Computing with Neutral-Atoms initiate certificate."
   ]
  },
  {
   "cell_type": "code",
   "execution_count": null,
   "metadata": {},
   "outputs": [],
   "source": [
    "MultipleChoiceQuestion(\"Question31\")"
   ]
  },
  {
   "cell_type": "markdown",
   "metadata": {},
   "source": [
    "#### For the next question, you are given the following program setup, the same as in chapter 3:"
   ]
  },
  {
   "cell_type": "code",
   "execution_count": null,
   "metadata": {},
   "outputs": [],
   "source": [
    "sweep_time = 2.4 #time length of the protocol \n",
    "rabi_amplitude_values = [0.0, omega_max, omega_max, 0.0]\n",
    "rabi_detuning_values = [-delta_end, -delta_end, delta_end, delta_end]\n",
    "durations = [0.8, sweep_time, 0.8]\n",
    "\n",
    "\n",
    "geometries = {\n",
    "    1: Square(3, lattice_spacing=lattice_spacing),\n",
    "    2: Square(11, lattice_spacing=lattice_spacing),\n",
    "}\n",
    "\n",
    "prog_list = {\n",
    "    idx:(geometry.rydberg.rabi.amplitude.uniform.piecewise_linear(durations, rabi_amplitude_values)\n",
    "    .detuning.uniform.piecewise_linear(durations, rabi_detuning_values) )for idx, geometry in geometries.items()\n",
    "}"
   ]
  },
  {
   "cell_type": "code",
   "execution_count": null,
   "metadata": {},
   "outputs": [],
   "source": [
    "MultipleChoiceQuestion(\"Question32\")"
   ]
  },
  {
   "cell_type": "code",
   "execution_count": null,
   "metadata": {},
   "outputs": [],
   "source": [
    "MultipleChoiceQuestion(\"Question33\")"
   ]
  },
  {
   "cell_type": "code",
   "execution_count": null,
   "metadata": {},
   "outputs": [],
   "source": [
    "MultipleChoiceQuestion(\"Question34\")"
   ]
  },
  {
   "cell_type": "code",
   "execution_count": null,
   "metadata": {},
   "outputs": [],
   "source": [
    "MultipleChoiceQuestion(\"Question35\")"
   ]
  },
  {
   "cell_type": "code",
   "execution_count": null,
   "metadata": {},
   "outputs": [],
   "source": [
    "MultipleChoiceQuestion(\"Question37\")"
   ]
  },
  {
   "cell_type": "code",
   "execution_count": null,
   "metadata": {},
   "outputs": [],
   "source": [
    "MultipleChoiceQuestion(\"Question38\")"
   ]
  },
  {
   "cell_type": "code",
   "execution_count": null,
   "metadata": {},
   "outputs": [],
   "source": [
    "MultipleChoiceQuestion(\"Question39\")"
   ]
  },
  {
   "cell_type": "code",
   "execution_count": null,
   "metadata": {},
   "outputs": [],
   "source": [
    "MultipleChoiceQuestion(\"Question310\")"
   ]
  },
  {
   "cell_type": "code",
   "execution_count": null,
   "metadata": {},
   "outputs": [],
   "source": [
    "MultipleChoiceQuestion(\"Question311\")"
   ]
  }
 ],
 "metadata": {
  "language_info": {
   "name": "python"
  }
 },
 "nbformat": 4,
 "nbformat_minor": 2
}
