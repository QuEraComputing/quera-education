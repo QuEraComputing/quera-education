{
 "cells": [
  {
   "cell_type": "markdown",
   "id": "701ee33c-5624-45c5-8024-b99e0e9e62d1",
   "metadata": {},
   "source": [
    "<img src=\"./assets/intro_banner.png\" width=\"500\" height=\"auto\" />\n",
    "\n",
    "*Content authors: Pedro Lopes, Philip Weinberg, Luís Martinez*"
   ]
  },
  {
   "cell_type": "markdown",
   "id": "88d16601-5d8e-485a-b8a6-df977b233bd0",
   "metadata": {},
   "source": [
    "We now continue our journey diving deeper into the subtleties of generating solutions to problems with actual quantum hardware. We will extend the work so far from adiabatic sweeps on small to large regular lattices, provide guidance on how to retrieve and analyze quantum data, and showcase some example scripts that extract data from Aquila and feed it into a plotting pipeline for studying a given problem. Throughout, we will stick to the same checkeboards states of the previous chapter, for the sake of concreteness."
   ]
  },
  {
   "cell_type": "markdown",
   "id": "0bcc16ff-cddb-4fc9-964f-57d50da0f481",
   "metadata": {
    "jp-MarkdownHeadingCollapsed": true
   },
   "source": [
    "### Learning Objectives\n",
    "\n",
    "#### By the end of the session, you will be able to:\n",
    "\n",
    "- Deploy adiabatic algorithms on quantum hardware ensuring a pipeline for data retrieval\n",
    "- Analyze quantum hardware data judging quality of solutions"
   ]
  }
 ],
 "metadata": {
  "kernelspec": {
   "display_name": "Python 3 (ipykernel)",
   "language": "python",
   "name": "python3"
  },
  "language_info": {
   "codemirror_mode": {
    "name": "ipython",
    "version": 3
   },
   "file_extension": ".py",
   "mimetype": "text/x-python",
   "name": "python",
   "nbconvert_exporter": "python",
   "pygments_lexer": "ipython3",
   "version": "3.11.5"
  }
 },
 "nbformat": 4,
 "nbformat_minor": 5
}
