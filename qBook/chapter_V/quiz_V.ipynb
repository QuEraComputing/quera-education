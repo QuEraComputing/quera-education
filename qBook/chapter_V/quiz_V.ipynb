{
 "cells": [
  {
   "cell_type": "markdown",
   "metadata": {},
   "source": [
    "# Chapter IV Quiz\n",
    "\n",
    "Time to celebrate knowledge! Answer the questions below, referring to the content and learning goals from chapter IV. You have 3 chances to solve each problem. Succeeding at answering 70% of these problems correctly or more is a pre-requisite to obtaining a QuEra Quantum Computing with Neutral-Atoms initiate certificate."
   ]
  },
  {
   "cell_type": "code",
   "execution_count": null,
   "metadata": {},
   "outputs": [],
   "source": []
  }
 ],
 "metadata": {
  "language_info": {
   "name": "python"
  }
 },
 "nbformat": 4,
 "nbformat_minor": 2
}
