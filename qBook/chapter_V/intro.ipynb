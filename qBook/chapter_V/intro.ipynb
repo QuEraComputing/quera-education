{
 "cells": [
  {
   "cell_type": "markdown",
   "id": "701ee33c-5624-45c5-8024-b99e0e9e62d1",
   "metadata": {},
   "source": [
    "<img src=\"./assets/intro_banner.png\" width=\"500\" height=\"auto\" />\n",
    "\n",
    "*Content authors: Fangli Liu, Milan Kornjača, Pedro Lopes*"
   ]
  },
  {
   "cell_type": "markdown",
   "id": "88d16601-5d8e-485a-b8a6-df977b233bd0",
   "metadata": {},
   "source": [
    "We now continue our journey diving deeper into more complex dynamics, including quantum scars and lattice gauge theory, by leveraging advanced geometry designs and local detuning to prepare target initial states. "
   ]
  },
  {
   "cell_type": "markdown",
   "id": "0bcc16ff-cddb-4fc9-964f-57d50da0f481",
   "metadata": {
    "jp-MarkdownHeadingCollapsed": true
   },
   "source": [
    "### Learning Objectives\n",
    "\n",
    "#### By the end of the session, you will be able to:\n",
    "- Explain what are many-body quantum scars and why they are interesting \n",
    "- Prepare symmetry-broken ground states by using extra pinning atoms   \n",
    "- Design effective and hardware-respecting local detuning pulses \n",
    "- Use local detuning to prepare specific product states "
   ]
  }
 ],
 "metadata": {
  "kernelspec": {
   "display_name": "Python 3 (ipykernel)",
   "language": "python",
   "name": "python3"
  },
  "language_info": {
   "codemirror_mode": {
    "name": "ipython",
    "version": 3
   },
   "file_extension": ".py",
   "mimetype": "text/x-python",
   "name": "python",
   "nbconvert_exporter": "python",
   "pygments_lexer": "ipython3",
   "version": "3.11.5"
  }
 },
 "nbformat": 4,
 "nbformat_minor": 5
}
