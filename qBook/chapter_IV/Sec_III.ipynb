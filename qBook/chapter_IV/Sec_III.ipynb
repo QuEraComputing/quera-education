{
 "cells": [
  {
   "cell_type": "markdown",
   "id": "9f0e8d56-3137-42a3-9c05-93e413466964",
   "metadata": {},
   "source": [
    "## 3. The Maximum Independent Set (MIS) Problem "
   ]
  },
  {
   "cell_type": "markdown",
   "id": "50d4397e-ccc0-4dcf-ab99-27e8b66ddb55",
   "metadata": {},
   "source": [
    "Let's use our recent lessons from preparing checkerboard phases in a square lattice and testing data on hardware to expand our horizon of applications.\n",
    "\n",
    "Our approach to checkerboard phases, so far, lives within a physicist's life context: we imagine some system, maybe a magnetic compound, that lives in a square lattice. If energetically the local magnetic moments tend to misalign, and if they interact geometrically according to their relative distances, the Rydberg Hamiltonian can predict the lowest-energy excitation patterns of this system. When interactions are strongest only between closest neighbors in the square lattice, the checkerboards pattern arises, and would be known in the magnetism literature as a Néel antiferromagnetic pattern.\n",
    "\n",
    "But now we will take our physicist's hats off and put a different one. Perhaps that of an applied mathematician, computer scientist, or data scientist. In this case, the same problem above can be approached from a [graph-theory](https://en.wikipedia.org/wiki/Graph_theory) lens, and ultimately be tied to optimization problems of relevance for urban planing, logistics, and much more. \n",
    "\n",
    "Here is how we go about reinterpreting the above. We start with a different problem: let's imagine a graph, a collection of vertices, displayed in a square lattice. Let's now assume that these vertices are connected by edges only to their first neighbor, creating a graph in the shape of a square-like net. If we are now tasked with solving the mathematical problem of coloring those vertices (in red, assuming that originally they were white, for concreteness) in a way that two connected vertices cannot be colored at the same time, we are said to be searching for an \"independent set\" of the graph. Asking for the largest subcollection of colored vertices would bring us the Maximum Independent Set (MIS), which for such a square lattice graph would be nothing but a checkerboards pattern! \n",
    "\n",
    "This can be contextualized to several real-world situations. For example, maybe the vertices represent potential geometric positions of a ubiquitous urban asset, perhaps positions for fire hidrants. Edges between those vertices  would suggest that there is some sort of causal relation between those possible positions for fire hidrants. Perhaps placing two of them too close to each other could be a waste of resources or too much redundancy in the system (perhaps except for occasional dogs). Asking for an MIS for this graph would be tantamount to asking to de-facto position those fire hydrants optimally in a square-lattice city in a way that fires can be most efficiently put out, all the while the allocation of resources is most efficient. Same problem!\n",
    "\n",
    "But not all graph problems of interest live in a square lattice. And connectivities are not always only to the first neighbor. The checkerboards example give us a starting point to notice that analog neutral-atom quantum computers are naturally designed to solve the MIS in different scenarios. So in this section we will learn how to generalize from the square-lattice case, discuss how to statistically explore varied problems, and briefly create an analysis pipeline for data generated from Aquila for MIS applications.\n",
    "\n",
    "\n",
    "*Add figures*\n"
   ]
  },
  {
   "cell_type": "markdown",
   "id": "499de3f6-cce7-4a03-a1c1-11abbde3a2be",
   "metadata": {},
   "source": [
    "![MIS_graph](./assets/MIS_graph)"
   ]
  },
  {
   "cell_type": "markdown",
   "id": "715dd58c",
   "metadata": {},
   "source": [
    "## 3a. MIS, unit-disk graphs\n",
    "\n",
    "* discuss problem-instance generation: arbitrary graphs vs graphs on a grid. Transition from square-lattice to glassy-systems with defects\n",
    "* define UDG and why this will be important given the blockade phenomenon (no need to introduce Rb considerations here yet. Leave that to hardware mapping section)"
   ]
  },
  {
   "cell_type": "markdown",
   "id": "8ece6b1f-e143-48fa-9e3f-7f9b682f13db",
   "metadata": {},
   "source": [
    "## 3b. Hardware mapping"
   ]
  },
  {
   "cell_type": "markdown",
   "id": "935eb123-a178-4dce-a09d-89b13f17031c",
   "metadata": {},
   "source": [
    "### i) The blockade radius (dynamic and static?)\n",
    "\n",
    "The natural analogy between the constraint of the MIS problem and the Rydberg Blockade phenomenon makes mapping of a target problem into quantum hardware a straighforward task. There are, however, some nuances that we need to be aware of. Firstly, edge connectivity of the graphs we can target is limited by the finite character of the Blockade radius $R_{b}$. In the language of graph theory, this means that the subset of problems we can tackle are the so-called Unit Disk Graphs (UDGs).\n",
    "\n",
    "Determining the $R_b$ scale is somewhat a tricky task. A good practice is to first determine an $R_{min}$, defining the minimal radius in which one would like to have atoms blocking each other, and an $R_{max}$, defining a radius after which one does not want atoms blocking each other. Then, a nice way to fix the desired blockade scale is to take the geometric mean $R_b=\\sqrt{R_{min}R_{max}}$. \n",
    "For instance, imagine we want the atoms to be connected to their first and second neighbors (when in a square lattice, this is known as a \"king's graph\", alluding to chess). In this case, $R_{min}=\\sqrt{2}a$ -- blocking the first and second neighbors -- and $R_{max}=2a$ -- so not blocking third neighbors and beyond. \n",
    "\n",
    "Now that we have defined $R_{b}$, one natural question for the purpose of building the logical graph in a physical device is, how can we tune $R_{b}$ in our quantum device? The relevant observation is that we have two physical \"knobs\" to tune $R_{b}$: \n",
    "$$\n",
    "R_{b} = \\left(\\frac{C}{\\sqrt{\\Omega^{2}+\\Delta^{2}}}\\right)^{1/6}.\n",
    "$$\n",
    "We can leverage this dependence to set our radius $R_{b}$ in terms of a single physical parameter that is tuned during an adiabatic protocol, as outlined below. From a practical standpoint, we choose this parameter to be the detuning such that $R_{b}=\\left(\\frac{C}{\\Delta_{max}}\\right)^{1/6}$, where $\\Delta_{max}$ is the detuning at the end of the adiabatic protocol.\n",
    "\n",
    "\n"
   ]
  },
  {
   "cell_type": "code",
   "execution_count": null,
   "id": "8b51aa37-d859-4ab8-a343-8fc6a2fa9146",
   "metadata": {},
   "outputs": [],
   "source": []
  },
  {
   "cell_type": "markdown",
   "id": "b0e868c1-fcfe-46a6-a0c1-31d16dfe234d",
   "metadata": {},
   "source": [
    "### ii) Protocol"
   ]
  },
  {
   "cell_type": "markdown",
   "id": "16ff4934-0603-413a-92ac-0b606c9db8d3",
   "metadata": {},
   "source": [
    "Now, the question is, in practice, how can we solve the MIS problem on a neutral atom quantum computer? The idea here is to encode the solution to the MIS problem for a given graph in the ground state of the parameterized Hamiltonian of the quantum platform. Thus, in a quantum mechanical framework, MIS is cast into a state preparation problem.\n",
    "We can rely on a myriad of state preparation protocols, but for the sake of concreteness, here we consider an adiabatic approach where we evolve an easy-to-prepare state in the quantum platform with a slowly-varying Hamiltonian, such that the Hamiltonian at the end of the protocol encodes the target blockade radius of our problem at hand. We remind the reader that the underlying Hamiltonian of our quantum platform is\n",
    "$$\n",
    "H=\\underbrace{\\Omega\\sum_{j}\\left(|r_{j}\\rangle\\langle g_{j}|+\\text{h.c.}\\right)}_{H_{q}}\\underbrace{-\\Delta\\sum_{j}n_{j}+\\sum_{i<j}V_{i,j}n_{i}n_{j}}_{H_{c}}\n",
    "$$\n"
   ]
  },
  {
   "cell_type": "markdown",
   "id": "3e63b888-2070-42cc-95b7-c59e0d2c1985",
   "metadata": {},
   "source": [
    " where to get some intuition on the role of the Hamiltonian parameters, we note that a global large  detuning $\\Delta$ \n",
    " to all sites should favor all qubits to be on state $|r\\rangle$\n",
    ", while the Rydberg blockade should do, by itself and without need of our own control, the job of enforcing the constraint of no neighboring \n",
    " excitations. This means that for sufficiently large $\\Delta$'s, (but carefully chosen to encode the target Rydberg blockade radius, together with $\\Omega$), we expect the expectation value of Rydberg excitations of Hamiltonian's ground state, to be equal to the size of the MIS of the encoded problem.\n",
    "In the language of classical optimization, this is tantamount to the optimization of the cost function $\\langle GS (\\Omega,\\Theta) | H_{c} |GS(\\Omega,\\Theta)\\rangle$, $|GS(\\Omega,\\Theta)\\rangle$, being the ground state of the target Hamiltonian. \n",
    "\n",
    "\n",
    "Thus, we can envision the following protocol: initialize the graph where all the atoms are initialized in the $|g\\rangle$, and evolving a very negative global $\\Delta$ towards a positive value, with a finite $\\Omega$ meanwhile to enable qubit flips from $|g\\rangle$ to $|r\\rangle$. Since the state we are looking for is classical, we may as well turn $\\Omega$ off at the end of the protocol, which also facilitates fixing of the blockade radius: it will simply be defined by $\\Delta$  as $R_b = (C_6/\\Delta)^{1/6}$, where $C_6=2\\pi \\times 862690\\, \\text{MHz}\\, \\mu \\text{m}^6$. The typical choice of $\\Omega$ is to make it as large as possible as this defines the characteristic time scale of motion of the system, such that by the end of the protocol, the system undergoes longer time evolution in units of this internal time scale fior a fixed duration of the protocol . Ramping $\\Delta$ slowly to its correct final value, then, defines an adiabatic protocol to solve the MIS problem."
   ]
  },
  {
   "cell_type": "code",
   "execution_count": null,
   "id": "55e7d2b4-761c-4e3a-a6e0-a48572dcdb72",
   "metadata": {},
   "outputs": [],
   "source": []
  },
  {
   "cell_type": "markdown",
   "id": "bf86eae4-ac4e-4964-a19c-c0964e5936e4",
   "metadata": {},
   "source": [
    "## 3c. Examples on the defective King's lattice"
   ]
  },
  {
   "cell_type": "markdown",
   "id": "7a2059bb-4500-45d2-a950-648c29b8a061",
   "metadata": {},
   "source": [
    "### i) Problem set-up\n",
    "\n",
    "We are now in shape to show how to use some of Bloqade's built-in tools to generate defects in a graph and then use Bloqade to solve the Maximal Independent Set (MIS) problem on a Unit Disk Graph (UDG). As a first setp, let us define the real-space layout for the atom array that encodes our problem, which in this case we regard as a square lattice with lattice parameter of 4.5 $\\mu$m and with random vancancies."
   ]
  },
  {
   "cell_type": "code",
   "execution_count": 1,
   "id": "494a93e0-d703-4a78-b692-bdeaadda3e65",
   "metadata": {},
   "outputs": [
    {
     "data": {
      "text/html": [
       "    <style>\n",
       "        .bk-notebook-logo {\n",
       "            display: block;\n",
       "            width: 20px;\n",
       "            height: 20px;\n",
       "            background-image: url(data:image/png;base64,iVBORw0KGgoAAAANSUhEUgAAABQAAAAUCAYAAACNiR0NAAAABHNCSVQICAgIfAhkiAAAAAlwSFlzAAALEgAACxIB0t1+/AAAABx0RVh0U29mdHdhcmUAQWRvYmUgRmlyZXdvcmtzIENTNui8sowAAAOkSURBVDiNjZRtaJVlGMd/1/08zzln5zjP1LWcU9N0NkN8m2CYjpgQYQXqSs0I84OLIC0hkEKoPtiH3gmKoiJDU7QpLgoLjLIQCpEsNJ1vqUOdO7ppbuec5+V+rj4ctwzd8IIbbi6u+8f1539dt3A78eXC7QizUF7gyV1fD1Yqg4JWz84yffhm0qkFqBogB9rM8tZdtwVsPUhWhGcFJngGeWrPzHm5oaMmkfEg1usvLFyc8jLRqDOMru7AyC8saQr7GG7f5fvDeH7Ej8CM66nIF+8yngt6HWaKh7k49Soy9nXurCi1o3qUbS3zWfrYeQDTB/Qj6kX6Ybhw4B+bOYoLKCC9H3Nu/leUTZ1JdRWkkn2ldcCamzrcf47KKXdAJllSlxAOkRgyHsGC/zRday5Qld9DyoM4/q/rUoy/CXh3jzOu3bHUVZeU+DEn8FInkPBFlu3+nW3Nw0mk6vCDiWg8CeJaxEwuHS3+z5RgY+YBR6V1Z1nxSOfoaPa4LASWxxdNp+VWTk7+4vzaou8v8PN+xo+KY2xsw6une2frhw05CTYOmQvsEhjhWjn0bmXPjpE1+kplmmkP3suftwTubK9Vq22qKmrBhpY4jvd5afdRA3wGjFAgcnTK2s4hY0/GPNIb0nErGMCRxWOOX64Z8RAC4oCXdklmEvcL8o0BfkNK4lUg9HTl+oPlQxdNo3Mg4Nv175e/1LDGzZen30MEjRUtmXSfiTVu1kK8W4txyV6BMKlbgk3lMwYCiusNy9fVfvvwMxv8Ynl6vxoByANLTWplvuj/nF9m2+PDtt1eiHPBr1oIfhCChQMBw6Aw0UulqTKZdfVvfG7VcfIqLG9bcldL/+pdWTLxLUy8Qq38heUIjh4XlzZxzQm19lLFlr8vdQ97rjZVOLf8nclzckbcD4wxXMidpX30sFd37Fv/GtwwhzhxGVAprjbg0gCAEeIgwCZyTV2Z1REEW8O4py0wsjeloKoMr6iCY6dP92H6Vw/oTyICIthibxjm/DfN9lVz8IqtqKYLUXfoKVMVQVVJOElGjrnnUt9T9wbgp8AyYKaGlqingHZU/uG2NTZSVqwHQTWkx9hxjkpWDaCg6Ckj5qebgBVbT3V3NNXMSiWSDdGV3hrtzla7J+duwPOToIg42ChPQOQjspnSlp1V+Gjdged7+8UN5CRAV7a5EdFNwCjEaBR27b3W890TE7g24NAP/mMDXRWrGoFPQI9ls/MWO2dWFAar/xcOIImbbpA3zgAAAABJRU5ErkJggg==);\n",
       "        }\n",
       "    </style>\n",
       "    <div>\n",
       "        <a href=\"https://bokeh.org\" target=\"_blank\" class=\"bk-notebook-logo\"></a>\n",
       "        <span id=\"d5957437-f124-4c4e-865c-5f3da89d8575\">Loading BokehJS ...</span>\n",
       "    </div>\n"
      ]
     },
     "metadata": {},
     "output_type": "display_data"
    },
    {
     "data": {
      "application/javascript": [
       "'use strict';\n",
       "(function(root) {\n",
       "  function now() {\n",
       "    return new Date();\n",
       "  }\n",
       "\n",
       "  const force = true;\n",
       "\n",
       "  if (typeof root._bokeh_onload_callbacks === \"undefined\" || force === true) {\n",
       "    root._bokeh_onload_callbacks = [];\n",
       "    root._bokeh_is_loading = undefined;\n",
       "  }\n",
       "\n",
       "const JS_MIME_TYPE = 'application/javascript';\n",
       "  const HTML_MIME_TYPE = 'text/html';\n",
       "  const EXEC_MIME_TYPE = 'application/vnd.bokehjs_exec.v0+json';\n",
       "  const CLASS_NAME = 'output_bokeh rendered_html';\n",
       "\n",
       "  /**\n",
       "   * Render data to the DOM node\n",
       "   */\n",
       "  function render(props, node) {\n",
       "    const script = document.createElement(\"script\");\n",
       "    node.appendChild(script);\n",
       "  }\n",
       "\n",
       "  /**\n",
       "   * Handle when an output is cleared or removed\n",
       "   */\n",
       "  function handleClearOutput(event, handle) {\n",
       "    function drop(id) {\n",
       "      const view = Bokeh.index.get_by_id(id)\n",
       "      if (view != null) {\n",
       "        view.model.document.clear()\n",
       "        Bokeh.index.delete(view)\n",
       "      }\n",
       "    }\n",
       "\n",
       "    const cell = handle.cell;\n",
       "\n",
       "    const id = cell.output_area._bokeh_element_id;\n",
       "    const server_id = cell.output_area._bokeh_server_id;\n",
       "\n",
       "    // Clean up Bokeh references\n",
       "    if (id != null) {\n",
       "      drop(id)\n",
       "    }\n",
       "\n",
       "    if (server_id !== undefined) {\n",
       "      // Clean up Bokeh references\n",
       "      const cmd_clean = \"from bokeh.io.state import curstate; print(curstate().uuid_to_server['\" + server_id + \"'].get_sessions()[0].document.roots[0]._id)\";\n",
       "      cell.notebook.kernel.execute(cmd_clean, {\n",
       "        iopub: {\n",
       "          output: function(msg) {\n",
       "            const id = msg.content.text.trim()\n",
       "            drop(id)\n",
       "          }\n",
       "        }\n",
       "      });\n",
       "      // Destroy server and session\n",
       "      const cmd_destroy = \"import bokeh.io.notebook as ion; ion.destroy_server('\" + server_id + \"')\";\n",
       "      cell.notebook.kernel.execute(cmd_destroy);\n",
       "    }\n",
       "  }\n",
       "\n",
       "  /**\n",
       "   * Handle when a new output is added\n",
       "   */\n",
       "  function handleAddOutput(event, handle) {\n",
       "    const output_area = handle.output_area;\n",
       "    const output = handle.output;\n",
       "\n",
       "    // limit handleAddOutput to display_data with EXEC_MIME_TYPE content only\n",
       "    if ((output.output_type != \"display_data\") || (!Object.prototype.hasOwnProperty.call(output.data, EXEC_MIME_TYPE))) {\n",
       "      return\n",
       "    }\n",
       "\n",
       "    const toinsert = output_area.element.find(\".\" + CLASS_NAME.split(' ')[0]);\n",
       "\n",
       "    if (output.metadata[EXEC_MIME_TYPE][\"id\"] !== undefined) {\n",
       "      toinsert[toinsert.length - 1].firstChild.textContent = output.data[JS_MIME_TYPE];\n",
       "      // store reference to embed id on output_area\n",
       "      output_area._bokeh_element_id = output.metadata[EXEC_MIME_TYPE][\"id\"];\n",
       "    }\n",
       "    if (output.metadata[EXEC_MIME_TYPE][\"server_id\"] !== undefined) {\n",
       "      const bk_div = document.createElement(\"div\");\n",
       "      bk_div.innerHTML = output.data[HTML_MIME_TYPE];\n",
       "      const script_attrs = bk_div.children[0].attributes;\n",
       "      for (let i = 0; i < script_attrs.length; i++) {\n",
       "        toinsert[toinsert.length - 1].firstChild.setAttribute(script_attrs[i].name, script_attrs[i].value);\n",
       "        toinsert[toinsert.length - 1].firstChild.textContent = bk_div.children[0].textContent\n",
       "      }\n",
       "      // store reference to server id on output_area\n",
       "      output_area._bokeh_server_id = output.metadata[EXEC_MIME_TYPE][\"server_id\"];\n",
       "    }\n",
       "  }\n",
       "\n",
       "  function register_renderer(events, OutputArea) {\n",
       "\n",
       "    function append_mime(data, metadata, element) {\n",
       "      // create a DOM node to render to\n",
       "      const toinsert = this.create_output_subarea(\n",
       "        metadata,\n",
       "        CLASS_NAME,\n",
       "        EXEC_MIME_TYPE\n",
       "      );\n",
       "      this.keyboard_manager.register_events(toinsert);\n",
       "      // Render to node\n",
       "      const props = {data: data, metadata: metadata[EXEC_MIME_TYPE]};\n",
       "      render(props, toinsert[toinsert.length - 1]);\n",
       "      element.append(toinsert);\n",
       "      return toinsert\n",
       "    }\n",
       "\n",
       "    /* Handle when an output is cleared or removed */\n",
       "    events.on('clear_output.CodeCell', handleClearOutput);\n",
       "    events.on('delete.Cell', handleClearOutput);\n",
       "\n",
       "    /* Handle when a new output is added */\n",
       "    events.on('output_added.OutputArea', handleAddOutput);\n",
       "\n",
       "    /**\n",
       "     * Register the mime type and append_mime function with output_area\n",
       "     */\n",
       "    OutputArea.prototype.register_mime_type(EXEC_MIME_TYPE, append_mime, {\n",
       "      /* Is output safe? */\n",
       "      safe: true,\n",
       "      /* Index of renderer in `output_area.display_order` */\n",
       "      index: 0\n",
       "    });\n",
       "  }\n",
       "\n",
       "  // register the mime type if in Jupyter Notebook environment and previously unregistered\n",
       "  if (root.Jupyter !== undefined) {\n",
       "    const events = require('base/js/events');\n",
       "    const OutputArea = require('notebook/js/outputarea').OutputArea;\n",
       "\n",
       "    if (OutputArea.prototype.mime_types().indexOf(EXEC_MIME_TYPE) == -1) {\n",
       "      register_renderer(events, OutputArea);\n",
       "    }\n",
       "  }\n",
       "  if (typeof (root._bokeh_timeout) === \"undefined\" || force === true) {\n",
       "    root._bokeh_timeout = Date.now() + 5000;\n",
       "    root._bokeh_failed_load = false;\n",
       "  }\n",
       "\n",
       "  const NB_LOAD_WARNING = {'data': {'text/html':\n",
       "     \"<div style='background-color: #fdd'>\\n\"+\n",
       "     \"<p>\\n\"+\n",
       "     \"BokehJS does not appear to have successfully loaded. If loading BokehJS from CDN, this \\n\"+\n",
       "     \"may be due to a slow or bad network connection. Possible fixes:\\n\"+\n",
       "     \"</p>\\n\"+\n",
       "     \"<ul>\\n\"+\n",
       "     \"<li>re-rerun `output_notebook()` to attempt to load from CDN again, or</li>\\n\"+\n",
       "     \"<li>use INLINE resources instead, as so:</li>\\n\"+\n",
       "     \"</ul>\\n\"+\n",
       "     \"<code>\\n\"+\n",
       "     \"from bokeh.resources import INLINE\\n\"+\n",
       "     \"output_notebook(resources=INLINE)\\n\"+\n",
       "     \"</code>\\n\"+\n",
       "     \"</div>\"}};\n",
       "\n",
       "  function display_loaded(error = null) {\n",
       "    const el = document.getElementById(\"d5957437-f124-4c4e-865c-5f3da89d8575\");\n",
       "    if (el != null) {\n",
       "      const html = (() => {\n",
       "        if (typeof root.Bokeh === \"undefined\") {\n",
       "          if (error == null) {\n",
       "            return \"BokehJS is loading ...\";\n",
       "          } else {\n",
       "            return \"BokehJS failed to load.\";\n",
       "          }\n",
       "        } else {\n",
       "          const prefix = `BokehJS ${root.Bokeh.version}`;\n",
       "          if (error == null) {\n",
       "            return `${prefix} successfully loaded.`;\n",
       "          } else {\n",
       "            return `${prefix} <b>encountered errors</b> while loading and may not function as expected.`;\n",
       "          }\n",
       "        }\n",
       "      })();\n",
       "      el.innerHTML = html;\n",
       "\n",
       "      if (error != null) {\n",
       "        const wrapper = document.createElement(\"div\");\n",
       "        wrapper.style.overflow = \"auto\";\n",
       "        wrapper.style.height = \"5em\";\n",
       "        wrapper.style.resize = \"vertical\";\n",
       "        const content = document.createElement(\"div\");\n",
       "        content.style.fontFamily = \"monospace\";\n",
       "        content.style.whiteSpace = \"pre-wrap\";\n",
       "        content.style.backgroundColor = \"rgb(255, 221, 221)\";\n",
       "        content.textContent = error.stack ?? error.toString();\n",
       "        wrapper.append(content);\n",
       "        el.append(wrapper);\n",
       "      }\n",
       "    } else if (Date.now() < root._bokeh_timeout) {\n",
       "      setTimeout(() => display_loaded(error), 100);\n",
       "    }\n",
       "  }\n",
       "\n",
       "  function run_callbacks() {\n",
       "    try {\n",
       "      root._bokeh_onload_callbacks.forEach(function(callback) {\n",
       "        if (callback != null)\n",
       "          callback();\n",
       "      });\n",
       "    } finally {\n",
       "      delete root._bokeh_onload_callbacks\n",
       "    }\n",
       "    console.debug(\"Bokeh: all callbacks have finished\");\n",
       "  }\n",
       "\n",
       "  function load_libs(css_urls, js_urls, callback) {\n",
       "    if (css_urls == null) css_urls = [];\n",
       "    if (js_urls == null) js_urls = [];\n",
       "\n",
       "    root._bokeh_onload_callbacks.push(callback);\n",
       "    if (root._bokeh_is_loading > 0) {\n",
       "      console.debug(\"Bokeh: BokehJS is being loaded, scheduling callback at\", now());\n",
       "      return null;\n",
       "    }\n",
       "    if (js_urls == null || js_urls.length === 0) {\n",
       "      run_callbacks();\n",
       "      return null;\n",
       "    }\n",
       "    console.debug(\"Bokeh: BokehJS not loaded, scheduling load and callback at\", now());\n",
       "    root._bokeh_is_loading = css_urls.length + js_urls.length;\n",
       "\n",
       "    function on_load() {\n",
       "      root._bokeh_is_loading--;\n",
       "      if (root._bokeh_is_loading === 0) {\n",
       "        console.debug(\"Bokeh: all BokehJS libraries/stylesheets loaded\");\n",
       "        run_callbacks()\n",
       "      }\n",
       "    }\n",
       "\n",
       "    function on_error(url) {\n",
       "      console.error(\"failed to load \" + url);\n",
       "    }\n",
       "\n",
       "    for (let i = 0; i < css_urls.length; i++) {\n",
       "      const url = css_urls[i];\n",
       "      const element = document.createElement(\"link\");\n",
       "      element.onload = on_load;\n",
       "      element.onerror = on_error.bind(null, url);\n",
       "      element.rel = \"stylesheet\";\n",
       "      element.type = \"text/css\";\n",
       "      element.href = url;\n",
       "      console.debug(\"Bokeh: injecting link tag for BokehJS stylesheet: \", url);\n",
       "      document.body.appendChild(element);\n",
       "    }\n",
       "\n",
       "    for (let i = 0; i < js_urls.length; i++) {\n",
       "      const url = js_urls[i];\n",
       "      const element = document.createElement('script');\n",
       "      element.onload = on_load;\n",
       "      element.onerror = on_error.bind(null, url);\n",
       "      element.async = false;\n",
       "      element.src = url;\n",
       "      console.debug(\"Bokeh: injecting script tag for BokehJS library: \", url);\n",
       "      document.head.appendChild(element);\n",
       "    }\n",
       "  };\n",
       "\n",
       "  function inject_raw_css(css) {\n",
       "    const element = document.createElement(\"style\");\n",
       "    element.appendChild(document.createTextNode(css));\n",
       "    document.body.appendChild(element);\n",
       "  }\n",
       "\n",
       "  const js_urls = [\"https://cdn.bokeh.org/bokeh/release/bokeh-3.4.0.min.js\", \"https://cdn.bokeh.org/bokeh/release/bokeh-gl-3.4.0.min.js\", \"https://cdn.bokeh.org/bokeh/release/bokeh-widgets-3.4.0.min.js\", \"https://cdn.bokeh.org/bokeh/release/bokeh-tables-3.4.0.min.js\", \"https://cdn.bokeh.org/bokeh/release/bokeh-mathjax-3.4.0.min.js\"];\n",
       "  const css_urls = [];\n",
       "\n",
       "  const inline_js = [    function(Bokeh) {\n",
       "      Bokeh.set_log_level(\"info\");\n",
       "    },\n",
       "function(Bokeh) {\n",
       "    }\n",
       "  ];\n",
       "\n",
       "  function run_inline_js() {\n",
       "    if (root.Bokeh !== undefined || force === true) {\n",
       "      try {\n",
       "            for (let i = 0; i < inline_js.length; i++) {\n",
       "      inline_js[i].call(root, root.Bokeh);\n",
       "    }\n",
       "\n",
       "      } catch (error) {display_loaded(error);throw error;\n",
       "      }if (force === true) {\n",
       "        display_loaded();\n",
       "      }} else if (Date.now() < root._bokeh_timeout) {\n",
       "      setTimeout(run_inline_js, 100);\n",
       "    } else if (!root._bokeh_failed_load) {\n",
       "      console.log(\"Bokeh: BokehJS failed to load within specified timeout.\");\n",
       "      root._bokeh_failed_load = true;\n",
       "    } else if (force !== true) {\n",
       "      const cell = $(document.getElementById(\"d5957437-f124-4c4e-865c-5f3da89d8575\")).parents('.cell').data().cell;\n",
       "      cell.output_area.append_execute_result(NB_LOAD_WARNING)\n",
       "    }\n",
       "  }\n",
       "\n",
       "  if (root._bokeh_is_loading === 0) {\n",
       "    console.debug(\"Bokeh: BokehJS loaded, going straight to plotting\");\n",
       "    run_inline_js();\n",
       "  } else {\n",
       "    load_libs(css_urls, js_urls, function() {\n",
       "      console.debug(\"Bokeh: BokehJS plotting callback run at\", now());\n",
       "      run_inline_js();\n",
       "    });\n",
       "  }\n",
       "}(window));"
      ],
      "application/vnd.bokehjs_load.v0+json": "'use strict';\n(function(root) {\n  function now() {\n    return new Date();\n  }\n\n  const force = true;\n\n  if (typeof root._bokeh_onload_callbacks === \"undefined\" || force === true) {\n    root._bokeh_onload_callbacks = [];\n    root._bokeh_is_loading = undefined;\n  }\n\n\n  if (typeof (root._bokeh_timeout) === \"undefined\" || force === true) {\n    root._bokeh_timeout = Date.now() + 5000;\n    root._bokeh_failed_load = false;\n  }\n\n  const NB_LOAD_WARNING = {'data': {'text/html':\n     \"<div style='background-color: #fdd'>\\n\"+\n     \"<p>\\n\"+\n     \"BokehJS does not appear to have successfully loaded. If loading BokehJS from CDN, this \\n\"+\n     \"may be due to a slow or bad network connection. Possible fixes:\\n\"+\n     \"</p>\\n\"+\n     \"<ul>\\n\"+\n     \"<li>re-rerun `output_notebook()` to attempt to load from CDN again, or</li>\\n\"+\n     \"<li>use INLINE resources instead, as so:</li>\\n\"+\n     \"</ul>\\n\"+\n     \"<code>\\n\"+\n     \"from bokeh.resources import INLINE\\n\"+\n     \"output_notebook(resources=INLINE)\\n\"+\n     \"</code>\\n\"+\n     \"</div>\"}};\n\n  function display_loaded(error = null) {\n    const el = document.getElementById(\"d5957437-f124-4c4e-865c-5f3da89d8575\");\n    if (el != null) {\n      const html = (() => {\n        if (typeof root.Bokeh === \"undefined\") {\n          if (error == null) {\n            return \"BokehJS is loading ...\";\n          } else {\n            return \"BokehJS failed to load.\";\n          }\n        } else {\n          const prefix = `BokehJS ${root.Bokeh.version}`;\n          if (error == null) {\n            return `${prefix} successfully loaded.`;\n          } else {\n            return `${prefix} <b>encountered errors</b> while loading and may not function as expected.`;\n          }\n        }\n      })();\n      el.innerHTML = html;\n\n      if (error != null) {\n        const wrapper = document.createElement(\"div\");\n        wrapper.style.overflow = \"auto\";\n        wrapper.style.height = \"5em\";\n        wrapper.style.resize = \"vertical\";\n        const content = document.createElement(\"div\");\n        content.style.fontFamily = \"monospace\";\n        content.style.whiteSpace = \"pre-wrap\";\n        content.style.backgroundColor = \"rgb(255, 221, 221)\";\n        content.textContent = error.stack ?? error.toString();\n        wrapper.append(content);\n        el.append(wrapper);\n      }\n    } else if (Date.now() < root._bokeh_timeout) {\n      setTimeout(() => display_loaded(error), 100);\n    }\n  }\n\n  function run_callbacks() {\n    try {\n      root._bokeh_onload_callbacks.forEach(function(callback) {\n        if (callback != null)\n          callback();\n      });\n    } finally {\n      delete root._bokeh_onload_callbacks\n    }\n    console.debug(\"Bokeh: all callbacks have finished\");\n  }\n\n  function load_libs(css_urls, js_urls, callback) {\n    if (css_urls == null) css_urls = [];\n    if (js_urls == null) js_urls = [];\n\n    root._bokeh_onload_callbacks.push(callback);\n    if (root._bokeh_is_loading > 0) {\n      console.debug(\"Bokeh: BokehJS is being loaded, scheduling callback at\", now());\n      return null;\n    }\n    if (js_urls == null || js_urls.length === 0) {\n      run_callbacks();\n      return null;\n    }\n    console.debug(\"Bokeh: BokehJS not loaded, scheduling load and callback at\", now());\n    root._bokeh_is_loading = css_urls.length + js_urls.length;\n\n    function on_load() {\n      root._bokeh_is_loading--;\n      if (root._bokeh_is_loading === 0) {\n        console.debug(\"Bokeh: all BokehJS libraries/stylesheets loaded\");\n        run_callbacks()\n      }\n    }\n\n    function on_error(url) {\n      console.error(\"failed to load \" + url);\n    }\n\n    for (let i = 0; i < css_urls.length; i++) {\n      const url = css_urls[i];\n      const element = document.createElement(\"link\");\n      element.onload = on_load;\n      element.onerror = on_error.bind(null, url);\n      element.rel = \"stylesheet\";\n      element.type = \"text/css\";\n      element.href = url;\n      console.debug(\"Bokeh: injecting link tag for BokehJS stylesheet: \", url);\n      document.body.appendChild(element);\n    }\n\n    for (let i = 0; i < js_urls.length; i++) {\n      const url = js_urls[i];\n      const element = document.createElement('script');\n      element.onload = on_load;\n      element.onerror = on_error.bind(null, url);\n      element.async = false;\n      element.src = url;\n      console.debug(\"Bokeh: injecting script tag for BokehJS library: \", url);\n      document.head.appendChild(element);\n    }\n  };\n\n  function inject_raw_css(css) {\n    const element = document.createElement(\"style\");\n    element.appendChild(document.createTextNode(css));\n    document.body.appendChild(element);\n  }\n\n  const js_urls = [\"https://cdn.bokeh.org/bokeh/release/bokeh-3.4.0.min.js\", \"https://cdn.bokeh.org/bokeh/release/bokeh-gl-3.4.0.min.js\", \"https://cdn.bokeh.org/bokeh/release/bokeh-widgets-3.4.0.min.js\", \"https://cdn.bokeh.org/bokeh/release/bokeh-tables-3.4.0.min.js\", \"https://cdn.bokeh.org/bokeh/release/bokeh-mathjax-3.4.0.min.js\"];\n  const css_urls = [];\n\n  const inline_js = [    function(Bokeh) {\n      Bokeh.set_log_level(\"info\");\n    },\nfunction(Bokeh) {\n    }\n  ];\n\n  function run_inline_js() {\n    if (root.Bokeh !== undefined || force === true) {\n      try {\n            for (let i = 0; i < inline_js.length; i++) {\n      inline_js[i].call(root, root.Bokeh);\n    }\n\n      } catch (error) {display_loaded(error);throw error;\n      }if (force === true) {\n        display_loaded();\n      }} else if (Date.now() < root._bokeh_timeout) {\n      setTimeout(run_inline_js, 100);\n    } else if (!root._bokeh_failed_load) {\n      console.log(\"Bokeh: BokehJS failed to load within specified timeout.\");\n      root._bokeh_failed_load = true;\n    } else if (force !== true) {\n      const cell = $(document.getElementById(\"d5957437-f124-4c4e-865c-5f3da89d8575\")).parents('.cell').data().cell;\n      cell.output_area.append_execute_result(NB_LOAD_WARNING)\n    }\n  }\n\n  if (root._bokeh_is_loading === 0) {\n    console.debug(\"Bokeh: BokehJS loaded, going straight to plotting\");\n    run_inline_js();\n  } else {\n    load_libs(css_urls, js_urls, function() {\n      console.debug(\"Bokeh: BokehJS plotting callback run at\", now());\n      run_inline_js();\n    });\n  }\n}(window));"
     },
     "metadata": {},
     "output_type": "display_data"
    },
    {
     "data": {
      "text/html": [
       "\n",
       "  <div id=\"d70822c6-ca06-4bc2-92ae-2df794ef9b4d\" data-root-id=\"p1071\" style=\"display: contents;\"></div>\n"
      ]
     },
     "metadata": {},
     "output_type": "display_data"
    },
    {
     "data": {
      "application/javascript": [
       "(function(root) {\n",
       "  function embed_document(root) {\n",
       "  const docs_json = {\"c887d5c3-84b1-4ea7-bee3-402cdcab3308\":{\"version\":\"3.4.0\",\"title\":\"Bokeh Application\",\"roots\":[{\"type\":\"object\",\"name\":\"Column\",\"id\":\"p1071\",\"attributes\":{\"children\":[{\"type\":\"object\",\"name\":\"Figure\",\"id\":\"p1010\",\"attributes\":{\"width\":400,\"height\":400,\"x_range\":{\"type\":\"object\",\"name\":\"Range1d\",\"id\":\"p1036\",\"attributes\":{\"start\":-1.0,\"end\":14.5}},\"y_range\":{\"type\":\"object\",\"name\":\"Range1d\",\"id\":\"p1037\",\"attributes\":{\"start\":-1.0,\"end\":14.5}},\"x_scale\":{\"type\":\"object\",\"name\":\"LinearScale\",\"id\":\"p1019\"},\"y_scale\":{\"type\":\"object\",\"name\":\"LinearScale\",\"id\":\"p1020\"},\"title\":{\"type\":\"object\",\"name\":\"Title\",\"id\":\"p1017\"},\"renderers\":[{\"type\":\"object\",\"name\":\"GlyphRenderer\",\"id\":\"p1044\",\"attributes\":{\"data_source\":{\"type\":\"object\",\"name\":\"ColumnDataSource\",\"id\":\"p1001\",\"attributes\":{\"selected\":{\"type\":\"object\",\"name\":\"Selection\",\"id\":\"p1002\",\"attributes\":{\"indices\":[],\"line_indices\":[]}},\"selection_policy\":{\"type\":\"object\",\"name\":\"UnionRenderers\",\"id\":\"p1003\"},\"data\":{\"type\":\"map\",\"entries\":[[\"_x\",[0.0,0.0,0.0,4.5,4.5,9.0,9.0,9.0,13.5,13.5,13.5,13.5]],[\"_y\",[0.0,4.5,9.0,0.0,13.5,0.0,9.0,13.5,0.0,4.5,9.0,13.5]],[\"_labels\",[0,1,2,4,7,8,10,11,12,13,14,15]],[\"_colorwt\",[0,0,0,0,0,0,0,0,0,0,0,0]]]}}},\"view\":{\"type\":\"object\",\"name\":\"CDSView\",\"id\":\"p1045\",\"attributes\":{\"filter\":{\"type\":\"object\",\"name\":\"AllIndices\",\"id\":\"p1046\"}}},\"glyph\":{\"type\":\"object\",\"name\":\"Circle\",\"id\":\"p1041\",\"attributes\":{\"x\":{\"type\":\"field\",\"field\":\"_x\"},\"y\":{\"type\":\"field\",\"field\":\"_y\"},\"radius\":{\"type\":\"value\",\"value\":0.20249999999999999},\"line_color\":{\"type\":\"value\",\"value\":\"#1f77b4\"},\"fill_color\":{\"type\":\"value\",\"value\":\"#1f77b4\"}}},\"nonselection_glyph\":{\"type\":\"object\",\"name\":\"Circle\",\"id\":\"p1042\",\"attributes\":{\"x\":{\"type\":\"field\",\"field\":\"_x\"},\"y\":{\"type\":\"field\",\"field\":\"_y\"},\"radius\":{\"type\":\"value\",\"value\":0.20249999999999999},\"line_color\":{\"type\":\"value\",\"value\":\"#1f77b4\"},\"line_alpha\":{\"type\":\"value\",\"value\":0.1},\"fill_color\":{\"type\":\"value\",\"value\":\"#1f77b4\"},\"fill_alpha\":{\"type\":\"value\",\"value\":0.1},\"hatch_alpha\":{\"type\":\"value\",\"value\":0.1}}},\"muted_glyph\":{\"type\":\"object\",\"name\":\"Circle\",\"id\":\"p1043\",\"attributes\":{\"x\":{\"type\":\"field\",\"field\":\"_x\"},\"y\":{\"type\":\"field\",\"field\":\"_y\"},\"radius\":{\"type\":\"value\",\"value\":0.20249999999999999},\"line_color\":{\"type\":\"value\",\"value\":\"#1f77b4\"},\"line_alpha\":{\"type\":\"value\",\"value\":0.2},\"fill_color\":{\"type\":\"value\",\"value\":\"#1f77b4\"},\"fill_alpha\":{\"type\":\"value\",\"value\":0.2},\"hatch_alpha\":{\"type\":\"value\",\"value\":0.2}}}}},{\"type\":\"object\",\"name\":\"GlyphRenderer\",\"id\":\"p1053\",\"attributes\":{\"data_source\":{\"type\":\"object\",\"name\":\"ColumnDataSource\",\"id\":\"p1004\",\"attributes\":{\"selected\":{\"type\":\"object\",\"name\":\"Selection\",\"id\":\"p1005\",\"attributes\":{\"indices\":[],\"line_indices\":[]}},\"selection_policy\":{\"type\":\"object\",\"name\":\"UnionRenderers\",\"id\":\"p1006\"},\"data\":{\"type\":\"map\",\"entries\":[[\"_x\",[0.0,4.5,4.5,9.0]],[\"_y\",[13.5,4.5,9.0,4.5]],[\"_labels\",[3,5,6,9]],[\"_colorwt\",[0,0,0,0]]]}}},\"view\":{\"type\":\"object\",\"name\":\"CDSView\",\"id\":\"p1054\",\"attributes\":{\"filter\":{\"type\":\"object\",\"name\":\"AllIndices\",\"id\":\"p1055\"}}},\"glyph\":{\"type\":\"object\",\"name\":\"Circle\",\"id\":\"p1050\",\"attributes\":{\"x\":{\"type\":\"field\",\"field\":\"_x\"},\"y\":{\"type\":\"field\",\"field\":\"_y\"},\"radius\":{\"type\":\"value\",\"value\":0.20249999999999999},\"line_color\":{\"type\":\"value\",\"value\":\"grey\"},\"line_width\":{\"type\":\"value\",\"value\":2.7},\"fill_color\":{\"type\":\"value\",\"value\":\"grey\"},\"fill_alpha\":{\"type\":\"value\",\"value\":0.25},\"hatch_color\":{\"type\":\"value\",\"value\":\"grey\"}}},\"nonselection_glyph\":{\"type\":\"object\",\"name\":\"Circle\",\"id\":\"p1051\",\"attributes\":{\"x\":{\"type\":\"field\",\"field\":\"_x\"},\"y\":{\"type\":\"field\",\"field\":\"_y\"},\"radius\":{\"type\":\"value\",\"value\":0.20249999999999999},\"line_color\":{\"type\":\"value\",\"value\":\"grey\"},\"line_alpha\":{\"type\":\"value\",\"value\":0.1},\"line_width\":{\"type\":\"value\",\"value\":2.7},\"fill_color\":{\"type\":\"value\",\"value\":\"grey\"},\"fill_alpha\":{\"type\":\"value\",\"value\":0.1},\"hatch_color\":{\"type\":\"value\",\"value\":\"grey\"},\"hatch_alpha\":{\"type\":\"value\",\"value\":0.1}}},\"muted_glyph\":{\"type\":\"object\",\"name\":\"Circle\",\"id\":\"p1052\",\"attributes\":{\"x\":{\"type\":\"field\",\"field\":\"_x\"},\"y\":{\"type\":\"field\",\"field\":\"_y\"},\"radius\":{\"type\":\"value\",\"value\":0.20249999999999999},\"line_color\":{\"type\":\"value\",\"value\":\"grey\"},\"line_alpha\":{\"type\":\"value\",\"value\":0.2},\"line_width\":{\"type\":\"value\",\"value\":2.7},\"fill_color\":{\"type\":\"value\",\"value\":\"grey\"},\"fill_alpha\":{\"type\":\"value\",\"value\":0.2},\"hatch_color\":{\"type\":\"value\",\"value\":\"grey\"},\"hatch_alpha\":{\"type\":\"value\",\"value\":0.2}}}}},{\"type\":\"object\",\"name\":\"GlyphRenderer\",\"id\":\"p1063\",\"attributes\":{\"name\":\"Brad\",\"data_source\":{\"type\":\"object\",\"name\":\"ColumnDataSource\",\"id\":\"p1007\",\"attributes\":{\"selected\":{\"type\":\"object\",\"name\":\"Selection\",\"id\":\"p1008\",\"attributes\":{\"indices\":[],\"line_indices\":[]}},\"selection_policy\":{\"type\":\"object\",\"name\":\"UnionRenderers\",\"id\":\"p1009\"},\"data\":{\"type\":\"map\",\"entries\":[[\"_x\",[0.0,4.5,4.5,9.0,0.0,0.0,0.0,4.5,4.5,9.0,9.0,9.0,13.5,13.5,13.5,13.5]],[\"_y\",[13.5,4.5,9.0,4.5,0.0,4.5,9.0,0.0,13.5,0.0,9.0,13.5,0.0,4.5,9.0,13.5]],[\"_labels\",[3,5,6,9,0,1,2,4,7,8,10,11,12,13,14,15]]]}}},\"view\":{\"type\":\"object\",\"name\":\"CDSView\",\"id\":\"p1064\",\"attributes\":{\"filter\":{\"type\":\"object\",\"name\":\"AllIndices\",\"id\":\"p1065\"}}},\"glyph\":{\"type\":\"object\",\"name\":\"Circle\",\"id\":\"p1060\",\"attributes\":{\"x\":{\"type\":\"field\",\"field\":\"_x\"},\"y\":{\"type\":\"field\",\"field\":\"_y\"},\"radius\":{\"type\":\"value\",\"value\":0},\"line_color\":{\"type\":\"value\",\"value\":\"#1f77b4\"},\"line_width\":{\"type\":\"value\",\"value\":2.025},\"fill_color\":{\"type\":\"value\",\"value\":\"#1f77b4\"},\"fill_alpha\":{\"type\":\"value\",\"value\":0.5}}},\"nonselection_glyph\":{\"type\":\"object\",\"name\":\"Circle\",\"id\":\"p1061\",\"attributes\":{\"x\":{\"type\":\"field\",\"field\":\"_x\"},\"y\":{\"type\":\"field\",\"field\":\"_y\"},\"radius\":{\"type\":\"value\",\"value\":0},\"line_color\":{\"type\":\"value\",\"value\":\"#1f77b4\"},\"line_alpha\":{\"type\":\"value\",\"value\":0.1},\"line_width\":{\"type\":\"value\",\"value\":2.025},\"fill_color\":{\"type\":\"value\",\"value\":\"#1f77b4\"},\"fill_alpha\":{\"type\":\"value\",\"value\":0.1},\"hatch_alpha\":{\"type\":\"value\",\"value\":0.1}}},\"muted_glyph\":{\"type\":\"object\",\"name\":\"Circle\",\"id\":\"p1062\",\"attributes\":{\"x\":{\"type\":\"field\",\"field\":\"_x\"},\"y\":{\"type\":\"field\",\"field\":\"_y\"},\"radius\":{\"type\":\"value\",\"value\":0},\"line_color\":{\"type\":\"value\",\"value\":\"#1f77b4\"},\"line_alpha\":{\"type\":\"value\",\"value\":0.2},\"line_width\":{\"type\":\"value\",\"value\":2.025},\"fill_color\":{\"type\":\"value\",\"value\":\"#1f77b4\"},\"fill_alpha\":{\"type\":\"value\",\"value\":0.2},\"hatch_alpha\":{\"type\":\"value\",\"value\":0.2}}}}}],\"toolbar\":{\"type\":\"object\",\"name\":\"Toolbar\",\"id\":\"p1018\",\"attributes\":{\"tools\":[{\"type\":\"object\",\"name\":\"WheelZoomTool\",\"id\":\"p1031\",\"attributes\":{\"renderers\":\"auto\"}},{\"type\":\"object\",\"name\":\"ResetTool\",\"id\":\"p1032\"},{\"type\":\"object\",\"name\":\"UndoTool\",\"id\":\"p1033\"},{\"type\":\"object\",\"name\":\"RedoTool\",\"id\":\"p1034\"},{\"type\":\"object\",\"name\":\"PanTool\",\"id\":\"p1035\"},{\"type\":\"object\",\"name\":\"HoverTool\",\"id\":\"p1056\",\"attributes\":{\"renderers\":\"auto\",\"tooltips\":[[\"(x,y)\",\"(@_x, @_y)\"],[\"index: \",\"@_labels\"]]}}]}},\"toolbar_location\":\"above\",\"left\":[{\"type\":\"object\",\"name\":\"LinearAxis\",\"id\":\"p1026\",\"attributes\":{\"ticker\":{\"type\":\"object\",\"name\":\"BasicTicker\",\"id\":\"p1027\",\"attributes\":{\"mantissas\":[1,2,5]}},\"formatter\":{\"type\":\"object\",\"name\":\"BasicTickFormatter\",\"id\":\"p1028\"},\"major_label_policy\":{\"type\":\"object\",\"name\":\"AllLabels\",\"id\":\"p1029\"}}}],\"below\":[{\"type\":\"object\",\"name\":\"LinearAxis\",\"id\":\"p1021\",\"attributes\":{\"ticker\":{\"type\":\"object\",\"name\":\"BasicTicker\",\"id\":\"p1022\",\"attributes\":{\"mantissas\":[1,2,5]}},\"formatter\":{\"type\":\"object\",\"name\":\"BasicTickFormatter\",\"id\":\"p1023\"},\"major_label_policy\":{\"type\":\"object\",\"name\":\"AllLabels\",\"id\":\"p1024\"}}}],\"center\":[{\"type\":\"object\",\"name\":\"Grid\",\"id\":\"p1025\",\"attributes\":{\"axis\":{\"id\":\"p1021\"}}},{\"type\":\"object\",\"name\":\"Grid\",\"id\":\"p1030\",\"attributes\":{\"dimension\":1,\"axis\":{\"id\":\"p1026\"}}}]}},{\"type\":\"object\",\"name\":\"Row\",\"id\":\"p1070\",\"attributes\":{\"children\":[{\"type\":\"object\",\"name\":\"NumericInput\",\"id\":\"p1066\",\"attributes\":{\"js_property_callbacks\":{\"type\":\"map\",\"entries\":[[\"change:value\",[{\"type\":\"object\",\"name\":\"CustomJS\",\"id\":\"p1069\",\"attributes\":{\"args\":{\"type\":\"map\",\"entries\":[[\"other\",{\"id\":\"p1060\"}]]},\"code\":\"other.radius = this.value\"}}]]]},\"title\":\"Blockade radius (um):\",\"value\":0,\"low\":0,\"mode\":\"float\"}},{\"type\":\"object\",\"name\":\"Button\",\"id\":\"p1067\",\"attributes\":{\"js_event_callbacks\":{\"type\":\"map\",\"entries\":[[\"button_click\",[{\"type\":\"object\",\"name\":\"CustomJS\",\"id\":\"p1068\",\"attributes\":{\"args\":{\"type\":\"map\",\"entries\":[[\"cr\",{\"id\":\"p1063\"}]]},\"code\":\"cr.visible = !cr.visible;\"}}]]]},\"label\":\"Toggle\"}}]}}]}}]}};\n",
       "  const render_items = [{\"docid\":\"c887d5c3-84b1-4ea7-bee3-402cdcab3308\",\"roots\":{\"p1071\":\"d70822c6-ca06-4bc2-92ae-2df794ef9b4d\"},\"root_ids\":[\"p1071\"]}];\n",
       "  void root.Bokeh.embed.embed_items_notebook(docs_json, render_items);\n",
       "  }\n",
       "  if (root.Bokeh !== undefined) {\n",
       "    embed_document(root);\n",
       "  } else {\n",
       "    let attempts = 0;\n",
       "    const timer = setInterval(function(root) {\n",
       "      if (root.Bokeh !== undefined) {\n",
       "        clearInterval(timer);\n",
       "        embed_document(root);\n",
       "      } else {\n",
       "        attempts++;\n",
       "        if (attempts > 100) {\n",
       "          clearInterval(timer);\n",
       "          console.log(\"Bokeh: ERROR: Unable to run BokehJS code because BokehJS library is missing\");\n",
       "        }\n",
       "      }\n",
       "    }, 10, root)\n",
       "  }\n",
       "})(window);"
      ],
      "application/vnd.bokehjs_exec.v0+json": ""
     },
     "metadata": {
      "application/vnd.bokehjs_exec.v0+json": {
       "id": "p1071"
      }
     },
     "output_type": "display_data"
    }
   ],
   "source": [
    "from bloqade import load, save\n",
    "from bloqade.atom_arrangement import Square\n",
    "import numpy as np\n",
    "import os\n",
    "import matplotlib.pyplot as plt\n",
    "\n",
    "from bokeh.io import output_notebook\n",
    "output_notebook() \n",
    "\n",
    "if not os.path.isdir(\"data\"):\n",
    "    os.mkdir(\"data\")\n",
    "\n",
    "# setting the seed\n",
    "rng = np.random.default_rng(1234)\n",
    "a = 4.5\n",
    "lattice =Square(4, lattice_spacing=a).apply_defect_density(0.3, rng=rng)\n",
    "\n",
    "#durations = [0.3, 1.6, 0.3]\n",
    "\n",
    "lattice.show()"
   ]
  },
  {
   "cell_type": "code",
   "execution_count": 3,
   "id": "ebd7231c-1853-4ec9-92da-cda8f9b86080",
   "metadata": {},
   "outputs": [],
   "source": [
    "####Generating different instances of deffective lattices with different sizes and fraction of defects...\n",
    "def GenLattices(size,a,def_den,Ninstances):\n",
    "    \"\"\"\n",
    "    Returns: a dictionary with integers 0,1,...,Ninstantces-1, each containinn a lattice of size \"size\" with spacing a and a deffective\n",
    "    density def_den\n",
    "    Args:\n",
    "    size, size of the square lattice (number of sites per dimension)\n",
    "    a, lattice spacing\n",
    "    def_den, density of deffects\n",
    "    Ninstnces, number of lattices in the dictionary\n",
    "    \"\"\"\n",
    "\n",
    "    #lattice =Square(4, lattice_spacing=a).apply_defect_density(0.3, rng=rng)\n",
    "    rng = np.random.default_rng(1234)\n",
    "    geometries ={}\n",
    "\n",
    "    for i in range(Ninstances):\n",
    "        geometries[i] = Square(size, lattice_spacing=a).apply_defect_density(def_den, rng=rng)\n",
    "    \n",
    "    return geometries\n",
    "    \n",
    "\n"
   ]
  },
  {
   "cell_type": "code",
   "execution_count": 18,
   "id": "e672a6d2-99f7-499d-83d7-9d69d70f756e",
   "metadata": {},
   "outputs": [],
   "source": [
    "geometries = GenLattices(5,4.5,0.3,2)"
   ]
  },
  {
   "cell_type": "code",
   "execution_count": 19,
   "id": "52289e20-d5ed-49bd-9f91-8802d0e98ec4",
   "metadata": {},
   "outputs": [],
   "source": [
    "delta_end=2*np.pi*6.8 #final detuning\n",
    "omega_max=2*np.pi*2.5 #max Rabi amplitude\n",
    "\n",
    "\n",
    "sweep_time = 2.4 #time length of the protocol \n",
    "rabi_amplitude_values = [0.0, omega_max, omega_max, 0.0]\n",
    "rabi_detuning_values = [-delta_end, -delta_end, delta_end, delta_end]\n",
    "durations = [0.8, sweep_time, 0.8]\n",
    "\n",
    "\n",
    "\n",
    "\n",
    "prog_list = {\n",
    "    idx:(geometry.rydberg.rabi.amplitude.uniform.piecewise_linear(durations, rabi_amplitude_values)\n",
    "    .detuning.uniform.piecewise_linear(durations, rabi_detuning_values) )for idx, geometry in geometries.items()\n",
    "}"
   ]
  },
  {
   "cell_type": "code",
   "execution_count": 20,
   "id": "c54c478b-bb55-4344-bf4e-ba44433ba992",
   "metadata": {},
   "outputs": [
    {
     "data": {
      "text/plain": [
       "\u001b[0;31mSignature:\u001b[0m \u001b[0mprog_list\u001b[0m\u001b[0;34m[\u001b[0m\u001b[0;36m0\u001b[0m\u001b[0;34m]\u001b[0m\u001b[0;34m.\u001b[0m\u001b[0mparse_register\u001b[0m\u001b[0;34m(\u001b[0m\u001b[0;34m)\u001b[0m \u001b[0;34m->\u001b[0m \u001b[0mUnion\u001b[0m\u001b[0;34m[\u001b[0m\u001b[0mForwardRef\u001b[0m\u001b[0;34m(\u001b[0m\u001b[0;34m'AtomArrangement'\u001b[0m\u001b[0;34m)\u001b[0m\u001b[0;34m,\u001b[0m \u001b[0mForwardRef\u001b[0m\u001b[0;34m(\u001b[0m\u001b[0;34m'ParallelRegister'\u001b[0m\u001b[0;34m)\u001b[0m\u001b[0;34m]\u001b[0m\u001b[0;34m\u001b[0m\u001b[0;34m\u001b[0m\u001b[0m\n",
       "\u001b[0;31mDocstring:\u001b[0m Parse the arrangement of atoms of the program.\n",
       "\u001b[0;31mFile:\u001b[0m      ~/anaconda3/lib/python3.11/site-packages/bloqade/builder/parse/trait.py\n",
       "\u001b[0;31mType:\u001b[0m      method"
      ]
     },
     "metadata": {},
     "output_type": "display_data"
    }
   ],
   "source": [
    "prog_list[0].parse_register?"
   ]
  },
  {
   "cell_type": "code",
   "execution_count": 21,
   "id": "525f513f-2d89-4fe0-bbff-ac0373a7a518",
   "metadata": {},
   "outputs": [
    {
     "data": {
      "text/html": [
       "\n",
       "  <div id=\"b89b75ea-251b-4280-a0ed-0a01f707bca9\" data-root-id=\"p1568\" style=\"display: contents;\"></div>\n"
      ]
     },
     "metadata": {},
     "output_type": "display_data"
    },
    {
     "data": {
      "application/javascript": [
       "(function(root) {\n",
       "  function embed_document(root) {\n",
       "  const docs_json = {\"bf21af2d-41d4-420b-8df3-5f706adf1011\":{\"version\":\"3.4.0\",\"title\":\"Bokeh Application\",\"roots\":[{\"type\":\"object\",\"name\":\"Column\",\"id\":\"p1568\",\"attributes\":{\"children\":[{\"type\":\"object\",\"name\":\"Figure\",\"id\":\"p1507\",\"attributes\":{\"width\":400,\"height\":400,\"x_range\":{\"type\":\"object\",\"name\":\"Range1d\",\"id\":\"p1533\",\"attributes\":{\"start\":-1.0,\"end\":19.0}},\"y_range\":{\"type\":\"object\",\"name\":\"Range1d\",\"id\":\"p1534\",\"attributes\":{\"start\":-1.0,\"end\":19.0}},\"x_scale\":{\"type\":\"object\",\"name\":\"LinearScale\",\"id\":\"p1516\"},\"y_scale\":{\"type\":\"object\",\"name\":\"LinearScale\",\"id\":\"p1517\"},\"title\":{\"type\":\"object\",\"name\":\"Title\",\"id\":\"p1514\"},\"renderers\":[{\"type\":\"object\",\"name\":\"GlyphRenderer\",\"id\":\"p1541\",\"attributes\":{\"data_source\":{\"type\":\"object\",\"name\":\"ColumnDataSource\",\"id\":\"p1498\",\"attributes\":{\"selected\":{\"type\":\"object\",\"name\":\"Selection\",\"id\":\"p1499\",\"attributes\":{\"indices\":[],\"line_indices\":[]}},\"selection_policy\":{\"type\":\"object\",\"name\":\"UnionRenderers\",\"id\":\"p1500\"},\"data\":{\"type\":\"map\",\"entries\":[[\"_x\",[0.0,0.0,0.0,0.0,4.5,4.5,9.0,9.0,9.0,9.0,9.0,13.5,13.5,13.5,18.0,18.0,18.0]],[\"_y\",[0.0,4.5,9.0,18.0,9.0,13.5,0.0,4.5,9.0,13.5,18.0,0.0,4.5,18.0,4.5,9.0,13.5]],[\"_labels\",[0,1,2,4,7,8,10,11,12,13,14,15,16,19,21,22,23]],[\"_colorwt\",[0,0,0,0,0,0,0,0,0,0,0,0,0,0,0,0,0]]]}}},\"view\":{\"type\":\"object\",\"name\":\"CDSView\",\"id\":\"p1542\",\"attributes\":{\"filter\":{\"type\":\"object\",\"name\":\"AllIndices\",\"id\":\"p1543\"}}},\"glyph\":{\"type\":\"object\",\"name\":\"Circle\",\"id\":\"p1538\",\"attributes\":{\"x\":{\"type\":\"field\",\"field\":\"_x\"},\"y\":{\"type\":\"field\",\"field\":\"_y\"},\"radius\":{\"type\":\"value\",\"value\":0.27},\"line_color\":{\"type\":\"value\",\"value\":\"#1f77b4\"},\"fill_color\":{\"type\":\"value\",\"value\":\"#1f77b4\"}}},\"nonselection_glyph\":{\"type\":\"object\",\"name\":\"Circle\",\"id\":\"p1539\",\"attributes\":{\"x\":{\"type\":\"field\",\"field\":\"_x\"},\"y\":{\"type\":\"field\",\"field\":\"_y\"},\"radius\":{\"type\":\"value\",\"value\":0.27},\"line_color\":{\"type\":\"value\",\"value\":\"#1f77b4\"},\"line_alpha\":{\"type\":\"value\",\"value\":0.1},\"fill_color\":{\"type\":\"value\",\"value\":\"#1f77b4\"},\"fill_alpha\":{\"type\":\"value\",\"value\":0.1},\"hatch_alpha\":{\"type\":\"value\",\"value\":0.1}}},\"muted_glyph\":{\"type\":\"object\",\"name\":\"Circle\",\"id\":\"p1540\",\"attributes\":{\"x\":{\"type\":\"field\",\"field\":\"_x\"},\"y\":{\"type\":\"field\",\"field\":\"_y\"},\"radius\":{\"type\":\"value\",\"value\":0.27},\"line_color\":{\"type\":\"value\",\"value\":\"#1f77b4\"},\"line_alpha\":{\"type\":\"value\",\"value\":0.2},\"fill_color\":{\"type\":\"value\",\"value\":\"#1f77b4\"},\"fill_alpha\":{\"type\":\"value\",\"value\":0.2},\"hatch_alpha\":{\"type\":\"value\",\"value\":0.2}}}}},{\"type\":\"object\",\"name\":\"GlyphRenderer\",\"id\":\"p1550\",\"attributes\":{\"data_source\":{\"type\":\"object\",\"name\":\"ColumnDataSource\",\"id\":\"p1501\",\"attributes\":{\"selected\":{\"type\":\"object\",\"name\":\"Selection\",\"id\":\"p1502\",\"attributes\":{\"indices\":[],\"line_indices\":[]}},\"selection_policy\":{\"type\":\"object\",\"name\":\"UnionRenderers\",\"id\":\"p1503\"},\"data\":{\"type\":\"map\",\"entries\":[[\"_x\",[0.0,4.5,4.5,4.5,13.5,13.5,18.0,18.0]],[\"_y\",[13.5,0.0,4.5,18.0,9.0,13.5,0.0,18.0]],[\"_labels\",[3,5,6,9,17,18,20,24]],[\"_colorwt\",[0,0,0,0,0,0,0,0]]]}}},\"view\":{\"type\":\"object\",\"name\":\"CDSView\",\"id\":\"p1551\",\"attributes\":{\"filter\":{\"type\":\"object\",\"name\":\"AllIndices\",\"id\":\"p1552\"}}},\"glyph\":{\"type\":\"object\",\"name\":\"Circle\",\"id\":\"p1547\",\"attributes\":{\"x\":{\"type\":\"field\",\"field\":\"_x\"},\"y\":{\"type\":\"field\",\"field\":\"_y\"},\"radius\":{\"type\":\"value\",\"value\":0.27},\"line_color\":{\"type\":\"value\",\"value\":\"grey\"},\"line_width\":{\"type\":\"value\",\"value\":3.6},\"fill_color\":{\"type\":\"value\",\"value\":\"grey\"},\"fill_alpha\":{\"type\":\"value\",\"value\":0.25},\"hatch_color\":{\"type\":\"value\",\"value\":\"grey\"}}},\"nonselection_glyph\":{\"type\":\"object\",\"name\":\"Circle\",\"id\":\"p1548\",\"attributes\":{\"x\":{\"type\":\"field\",\"field\":\"_x\"},\"y\":{\"type\":\"field\",\"field\":\"_y\"},\"radius\":{\"type\":\"value\",\"value\":0.27},\"line_color\":{\"type\":\"value\",\"value\":\"grey\"},\"line_alpha\":{\"type\":\"value\",\"value\":0.1},\"line_width\":{\"type\":\"value\",\"value\":3.6},\"fill_color\":{\"type\":\"value\",\"value\":\"grey\"},\"fill_alpha\":{\"type\":\"value\",\"value\":0.1},\"hatch_color\":{\"type\":\"value\",\"value\":\"grey\"},\"hatch_alpha\":{\"type\":\"value\",\"value\":0.1}}},\"muted_glyph\":{\"type\":\"object\",\"name\":\"Circle\",\"id\":\"p1549\",\"attributes\":{\"x\":{\"type\":\"field\",\"field\":\"_x\"},\"y\":{\"type\":\"field\",\"field\":\"_y\"},\"radius\":{\"type\":\"value\",\"value\":0.27},\"line_color\":{\"type\":\"value\",\"value\":\"grey\"},\"line_alpha\":{\"type\":\"value\",\"value\":0.2},\"line_width\":{\"type\":\"value\",\"value\":3.6},\"fill_color\":{\"type\":\"value\",\"value\":\"grey\"},\"fill_alpha\":{\"type\":\"value\",\"value\":0.2},\"hatch_color\":{\"type\":\"value\",\"value\":\"grey\"},\"hatch_alpha\":{\"type\":\"value\",\"value\":0.2}}}}},{\"type\":\"object\",\"name\":\"GlyphRenderer\",\"id\":\"p1560\",\"attributes\":{\"name\":\"Brad\",\"data_source\":{\"type\":\"object\",\"name\":\"ColumnDataSource\",\"id\":\"p1504\",\"attributes\":{\"selected\":{\"type\":\"object\",\"name\":\"Selection\",\"id\":\"p1505\",\"attributes\":{\"indices\":[],\"line_indices\":[]}},\"selection_policy\":{\"type\":\"object\",\"name\":\"UnionRenderers\",\"id\":\"p1506\"},\"data\":{\"type\":\"map\",\"entries\":[[\"_x\",[0.0,4.5,4.5,4.5,13.5,13.5,18.0,18.0,0.0,0.0,0.0,0.0,4.5,4.5,9.0,9.0,9.0,9.0,9.0,13.5,13.5,13.5,18.0,18.0,18.0]],[\"_y\",[13.5,0.0,4.5,18.0,9.0,13.5,0.0,18.0,0.0,4.5,9.0,18.0,9.0,13.5,0.0,4.5,9.0,13.5,18.0,0.0,4.5,18.0,4.5,9.0,13.5]],[\"_labels\",[3,5,6,9,17,18,20,24,0,1,2,4,7,8,10,11,12,13,14,15,16,19,21,22,23]]]}}},\"view\":{\"type\":\"object\",\"name\":\"CDSView\",\"id\":\"p1561\",\"attributes\":{\"filter\":{\"type\":\"object\",\"name\":\"AllIndices\",\"id\":\"p1562\"}}},\"glyph\":{\"type\":\"object\",\"name\":\"Circle\",\"id\":\"p1557\",\"attributes\":{\"x\":{\"type\":\"field\",\"field\":\"_x\"},\"y\":{\"type\":\"field\",\"field\":\"_y\"},\"radius\":{\"type\":\"value\",\"value\":0},\"line_color\":{\"type\":\"value\",\"value\":\"#1f77b4\"},\"line_width\":{\"type\":\"value\",\"value\":2.6999999999999997},\"fill_color\":{\"type\":\"value\",\"value\":\"#1f77b4\"},\"fill_alpha\":{\"type\":\"value\",\"value\":0.5}}},\"nonselection_glyph\":{\"type\":\"object\",\"name\":\"Circle\",\"id\":\"p1558\",\"attributes\":{\"x\":{\"type\":\"field\",\"field\":\"_x\"},\"y\":{\"type\":\"field\",\"field\":\"_y\"},\"radius\":{\"type\":\"value\",\"value\":0},\"line_color\":{\"type\":\"value\",\"value\":\"#1f77b4\"},\"line_alpha\":{\"type\":\"value\",\"value\":0.1},\"line_width\":{\"type\":\"value\",\"value\":2.6999999999999997},\"fill_color\":{\"type\":\"value\",\"value\":\"#1f77b4\"},\"fill_alpha\":{\"type\":\"value\",\"value\":0.1},\"hatch_alpha\":{\"type\":\"value\",\"value\":0.1}}},\"muted_glyph\":{\"type\":\"object\",\"name\":\"Circle\",\"id\":\"p1559\",\"attributes\":{\"x\":{\"type\":\"field\",\"field\":\"_x\"},\"y\":{\"type\":\"field\",\"field\":\"_y\"},\"radius\":{\"type\":\"value\",\"value\":0},\"line_color\":{\"type\":\"value\",\"value\":\"#1f77b4\"},\"line_alpha\":{\"type\":\"value\",\"value\":0.2},\"line_width\":{\"type\":\"value\",\"value\":2.6999999999999997},\"fill_color\":{\"type\":\"value\",\"value\":\"#1f77b4\"},\"fill_alpha\":{\"type\":\"value\",\"value\":0.2},\"hatch_alpha\":{\"type\":\"value\",\"value\":0.2}}}}}],\"toolbar\":{\"type\":\"object\",\"name\":\"Toolbar\",\"id\":\"p1515\",\"attributes\":{\"tools\":[{\"type\":\"object\",\"name\":\"WheelZoomTool\",\"id\":\"p1528\",\"attributes\":{\"renderers\":\"auto\"}},{\"type\":\"object\",\"name\":\"ResetTool\",\"id\":\"p1529\"},{\"type\":\"object\",\"name\":\"UndoTool\",\"id\":\"p1530\"},{\"type\":\"object\",\"name\":\"RedoTool\",\"id\":\"p1531\"},{\"type\":\"object\",\"name\":\"PanTool\",\"id\":\"p1532\"},{\"type\":\"object\",\"name\":\"HoverTool\",\"id\":\"p1553\",\"attributes\":{\"renderers\":\"auto\",\"tooltips\":[[\"(x,y)\",\"(@_x, @_y)\"],[\"index: \",\"@_labels\"]]}}]}},\"toolbar_location\":\"above\",\"left\":[{\"type\":\"object\",\"name\":\"LinearAxis\",\"id\":\"p1523\",\"attributes\":{\"ticker\":{\"type\":\"object\",\"name\":\"BasicTicker\",\"id\":\"p1524\",\"attributes\":{\"mantissas\":[1,2,5]}},\"formatter\":{\"type\":\"object\",\"name\":\"BasicTickFormatter\",\"id\":\"p1525\"},\"major_label_policy\":{\"type\":\"object\",\"name\":\"AllLabels\",\"id\":\"p1526\"}}}],\"below\":[{\"type\":\"object\",\"name\":\"LinearAxis\",\"id\":\"p1518\",\"attributes\":{\"ticker\":{\"type\":\"object\",\"name\":\"BasicTicker\",\"id\":\"p1519\",\"attributes\":{\"mantissas\":[1,2,5]}},\"formatter\":{\"type\":\"object\",\"name\":\"BasicTickFormatter\",\"id\":\"p1520\"},\"major_label_policy\":{\"type\":\"object\",\"name\":\"AllLabels\",\"id\":\"p1521\"}}}],\"center\":[{\"type\":\"object\",\"name\":\"Grid\",\"id\":\"p1522\",\"attributes\":{\"axis\":{\"id\":\"p1518\"}}},{\"type\":\"object\",\"name\":\"Grid\",\"id\":\"p1527\",\"attributes\":{\"dimension\":1,\"axis\":{\"id\":\"p1523\"}}}]}},{\"type\":\"object\",\"name\":\"Row\",\"id\":\"p1567\",\"attributes\":{\"children\":[{\"type\":\"object\",\"name\":\"NumericInput\",\"id\":\"p1563\",\"attributes\":{\"js_property_callbacks\":{\"type\":\"map\",\"entries\":[[\"change:value\",[{\"type\":\"object\",\"name\":\"CustomJS\",\"id\":\"p1566\",\"attributes\":{\"args\":{\"type\":\"map\",\"entries\":[[\"other\",{\"id\":\"p1557\"}]]},\"code\":\"other.radius = this.value\"}}]]]},\"title\":\"Blockade radius (um):\",\"value\":0,\"low\":0,\"mode\":\"float\"}},{\"type\":\"object\",\"name\":\"Button\",\"id\":\"p1564\",\"attributes\":{\"js_event_callbacks\":{\"type\":\"map\",\"entries\":[[\"button_click\",[{\"type\":\"object\",\"name\":\"CustomJS\",\"id\":\"p1565\",\"attributes\":{\"args\":{\"type\":\"map\",\"entries\":[[\"cr\",{\"id\":\"p1560\"}]]},\"code\":\"cr.visible = !cr.visible;\"}}]]]},\"label\":\"Toggle\"}}]}}]}}]}};\n",
       "  const render_items = [{\"docid\":\"bf21af2d-41d4-420b-8df3-5f706adf1011\",\"roots\":{\"p1568\":\"b89b75ea-251b-4280-a0ed-0a01f707bca9\"},\"root_ids\":[\"p1568\"]}];\n",
       "  void root.Bokeh.embed.embed_items_notebook(docs_json, render_items);\n",
       "  }\n",
       "  if (root.Bokeh !== undefined) {\n",
       "    embed_document(root);\n",
       "  } else {\n",
       "    let attempts = 0;\n",
       "    const timer = setInterval(function(root) {\n",
       "      if (root.Bokeh !== undefined) {\n",
       "        clearInterval(timer);\n",
       "        embed_document(root);\n",
       "      } else {\n",
       "        attempts++;\n",
       "        if (attempts > 100) {\n",
       "          clearInterval(timer);\n",
       "          console.log(\"Bokeh: ERROR: Unable to run BokehJS code because BokehJS library is missing\");\n",
       "        }\n",
       "      }\n",
       "    }, 10, root)\n",
       "  }\n",
       "})(window);"
      ],
      "application/vnd.bokehjs_exec.v0+json": ""
     },
     "metadata": {
      "application/vnd.bokehjs_exec.v0+json": {
       "id": "p1568"
      }
     },
     "output_type": "display_data"
    },
    {
     "data": {
      "text/html": [
       "\n",
       "  <div id=\"fbdf44ce-43c1-4b87-be23-d243af91d4a2\" data-root-id=\"p1639\" style=\"display: contents;\"></div>\n"
      ]
     },
     "metadata": {},
     "output_type": "display_data"
    },
    {
     "data": {
      "application/javascript": [
       "(function(root) {\n",
       "  function embed_document(root) {\n",
       "  const docs_json = {\"262e3ca3-c725-442f-9bea-b2c40c6fefc1\":{\"version\":\"3.4.0\",\"title\":\"Bokeh Application\",\"roots\":[{\"type\":\"object\",\"name\":\"Column\",\"id\":\"p1639\",\"attributes\":{\"children\":[{\"type\":\"object\",\"name\":\"Figure\",\"id\":\"p1578\",\"attributes\":{\"width\":400,\"height\":400,\"x_range\":{\"type\":\"object\",\"name\":\"Range1d\",\"id\":\"p1604\",\"attributes\":{\"start\":-1.0,\"end\":19.0}},\"y_range\":{\"type\":\"object\",\"name\":\"Range1d\",\"id\":\"p1605\",\"attributes\":{\"start\":-1.0,\"end\":19.0}},\"x_scale\":{\"type\":\"object\",\"name\":\"LinearScale\",\"id\":\"p1587\"},\"y_scale\":{\"type\":\"object\",\"name\":\"LinearScale\",\"id\":\"p1588\"},\"title\":{\"type\":\"object\",\"name\":\"Title\",\"id\":\"p1585\"},\"renderers\":[{\"type\":\"object\",\"name\":\"GlyphRenderer\",\"id\":\"p1612\",\"attributes\":{\"data_source\":{\"type\":\"object\",\"name\":\"ColumnDataSource\",\"id\":\"p1569\",\"attributes\":{\"selected\":{\"type\":\"object\",\"name\":\"Selection\",\"id\":\"p1570\",\"attributes\":{\"indices\":[],\"line_indices\":[]}},\"selection_policy\":{\"type\":\"object\",\"name\":\"UnionRenderers\",\"id\":\"p1571\"},\"data\":{\"type\":\"map\",\"entries\":[[\"_x\",[0.0,0.0,0.0,4.5,4.5,4.5,4.5,9.0,9.0,9.0,13.5,13.5,13.5,13.5,18.0,18.0,18.0]],[\"_y\",[0.0,4.5,9.0,0.0,4.5,9.0,13.5,0.0,9.0,18.0,0.0,9.0,13.5,18.0,0.0,4.5,9.0]],[\"_labels\",[0,1,2,5,6,7,8,10,12,14,15,17,18,19,20,21,22]],[\"_colorwt\",[0,0,0,0,0,0,0,0,0,0,0,0,0,0,0,0,0]]]}}},\"view\":{\"type\":\"object\",\"name\":\"CDSView\",\"id\":\"p1613\",\"attributes\":{\"filter\":{\"type\":\"object\",\"name\":\"AllIndices\",\"id\":\"p1614\"}}},\"glyph\":{\"type\":\"object\",\"name\":\"Circle\",\"id\":\"p1609\",\"attributes\":{\"x\":{\"type\":\"field\",\"field\":\"_x\"},\"y\":{\"type\":\"field\",\"field\":\"_y\"},\"radius\":{\"type\":\"value\",\"value\":0.27},\"line_color\":{\"type\":\"value\",\"value\":\"#1f77b4\"},\"fill_color\":{\"type\":\"value\",\"value\":\"#1f77b4\"}}},\"nonselection_glyph\":{\"type\":\"object\",\"name\":\"Circle\",\"id\":\"p1610\",\"attributes\":{\"x\":{\"type\":\"field\",\"field\":\"_x\"},\"y\":{\"type\":\"field\",\"field\":\"_y\"},\"radius\":{\"type\":\"value\",\"value\":0.27},\"line_color\":{\"type\":\"value\",\"value\":\"#1f77b4\"},\"line_alpha\":{\"type\":\"value\",\"value\":0.1},\"fill_color\":{\"type\":\"value\",\"value\":\"#1f77b4\"},\"fill_alpha\":{\"type\":\"value\",\"value\":0.1},\"hatch_alpha\":{\"type\":\"value\",\"value\":0.1}}},\"muted_glyph\":{\"type\":\"object\",\"name\":\"Circle\",\"id\":\"p1611\",\"attributes\":{\"x\":{\"type\":\"field\",\"field\":\"_x\"},\"y\":{\"type\":\"field\",\"field\":\"_y\"},\"radius\":{\"type\":\"value\",\"value\":0.27},\"line_color\":{\"type\":\"value\",\"value\":\"#1f77b4\"},\"line_alpha\":{\"type\":\"value\",\"value\":0.2},\"fill_color\":{\"type\":\"value\",\"value\":\"#1f77b4\"},\"fill_alpha\":{\"type\":\"value\",\"value\":0.2},\"hatch_alpha\":{\"type\":\"value\",\"value\":0.2}}}}},{\"type\":\"object\",\"name\":\"GlyphRenderer\",\"id\":\"p1621\",\"attributes\":{\"data_source\":{\"type\":\"object\",\"name\":\"ColumnDataSource\",\"id\":\"p1572\",\"attributes\":{\"selected\":{\"type\":\"object\",\"name\":\"Selection\",\"id\":\"p1573\",\"attributes\":{\"indices\":[],\"line_indices\":[]}},\"selection_policy\":{\"type\":\"object\",\"name\":\"UnionRenderers\",\"id\":\"p1574\"},\"data\":{\"type\":\"map\",\"entries\":[[\"_x\",[0.0,0.0,4.5,9.0,9.0,13.5,18.0,18.0]],[\"_y\",[13.5,18.0,18.0,4.5,13.5,4.5,13.5,18.0]],[\"_labels\",[3,4,9,11,13,16,23,24]],[\"_colorwt\",[0,0,0,0,0,0,0,0]]]}}},\"view\":{\"type\":\"object\",\"name\":\"CDSView\",\"id\":\"p1622\",\"attributes\":{\"filter\":{\"type\":\"object\",\"name\":\"AllIndices\",\"id\":\"p1623\"}}},\"glyph\":{\"type\":\"object\",\"name\":\"Circle\",\"id\":\"p1618\",\"attributes\":{\"x\":{\"type\":\"field\",\"field\":\"_x\"},\"y\":{\"type\":\"field\",\"field\":\"_y\"},\"radius\":{\"type\":\"value\",\"value\":0.27},\"line_color\":{\"type\":\"value\",\"value\":\"grey\"},\"line_width\":{\"type\":\"value\",\"value\":3.6},\"fill_color\":{\"type\":\"value\",\"value\":\"grey\"},\"fill_alpha\":{\"type\":\"value\",\"value\":0.25},\"hatch_color\":{\"type\":\"value\",\"value\":\"grey\"}}},\"nonselection_glyph\":{\"type\":\"object\",\"name\":\"Circle\",\"id\":\"p1619\",\"attributes\":{\"x\":{\"type\":\"field\",\"field\":\"_x\"},\"y\":{\"type\":\"field\",\"field\":\"_y\"},\"radius\":{\"type\":\"value\",\"value\":0.27},\"line_color\":{\"type\":\"value\",\"value\":\"grey\"},\"line_alpha\":{\"type\":\"value\",\"value\":0.1},\"line_width\":{\"type\":\"value\",\"value\":3.6},\"fill_color\":{\"type\":\"value\",\"value\":\"grey\"},\"fill_alpha\":{\"type\":\"value\",\"value\":0.1},\"hatch_color\":{\"type\":\"value\",\"value\":\"grey\"},\"hatch_alpha\":{\"type\":\"value\",\"value\":0.1}}},\"muted_glyph\":{\"type\":\"object\",\"name\":\"Circle\",\"id\":\"p1620\",\"attributes\":{\"x\":{\"type\":\"field\",\"field\":\"_x\"},\"y\":{\"type\":\"field\",\"field\":\"_y\"},\"radius\":{\"type\":\"value\",\"value\":0.27},\"line_color\":{\"type\":\"value\",\"value\":\"grey\"},\"line_alpha\":{\"type\":\"value\",\"value\":0.2},\"line_width\":{\"type\":\"value\",\"value\":3.6},\"fill_color\":{\"type\":\"value\",\"value\":\"grey\"},\"fill_alpha\":{\"type\":\"value\",\"value\":0.2},\"hatch_color\":{\"type\":\"value\",\"value\":\"grey\"},\"hatch_alpha\":{\"type\":\"value\",\"value\":0.2}}}}},{\"type\":\"object\",\"name\":\"GlyphRenderer\",\"id\":\"p1631\",\"attributes\":{\"name\":\"Brad\",\"data_source\":{\"type\":\"object\",\"name\":\"ColumnDataSource\",\"id\":\"p1575\",\"attributes\":{\"selected\":{\"type\":\"object\",\"name\":\"Selection\",\"id\":\"p1576\",\"attributes\":{\"indices\":[],\"line_indices\":[]}},\"selection_policy\":{\"type\":\"object\",\"name\":\"UnionRenderers\",\"id\":\"p1577\"},\"data\":{\"type\":\"map\",\"entries\":[[\"_x\",[0.0,0.0,4.5,9.0,9.0,13.5,18.0,18.0,0.0,0.0,0.0,4.5,4.5,4.5,4.5,9.0,9.0,9.0,13.5,13.5,13.5,13.5,18.0,18.0,18.0]],[\"_y\",[13.5,18.0,18.0,4.5,13.5,4.5,13.5,18.0,0.0,4.5,9.0,0.0,4.5,9.0,13.5,0.0,9.0,18.0,0.0,9.0,13.5,18.0,0.0,4.5,9.0]],[\"_labels\",[3,4,9,11,13,16,23,24,0,1,2,5,6,7,8,10,12,14,15,17,18,19,20,21,22]]]}}},\"view\":{\"type\":\"object\",\"name\":\"CDSView\",\"id\":\"p1632\",\"attributes\":{\"filter\":{\"type\":\"object\",\"name\":\"AllIndices\",\"id\":\"p1633\"}}},\"glyph\":{\"type\":\"object\",\"name\":\"Circle\",\"id\":\"p1628\",\"attributes\":{\"x\":{\"type\":\"field\",\"field\":\"_x\"},\"y\":{\"type\":\"field\",\"field\":\"_y\"},\"radius\":{\"type\":\"value\",\"value\":0},\"line_color\":{\"type\":\"value\",\"value\":\"#1f77b4\"},\"line_width\":{\"type\":\"value\",\"value\":2.6999999999999997},\"fill_color\":{\"type\":\"value\",\"value\":\"#1f77b4\"},\"fill_alpha\":{\"type\":\"value\",\"value\":0.5}}},\"nonselection_glyph\":{\"type\":\"object\",\"name\":\"Circle\",\"id\":\"p1629\",\"attributes\":{\"x\":{\"type\":\"field\",\"field\":\"_x\"},\"y\":{\"type\":\"field\",\"field\":\"_y\"},\"radius\":{\"type\":\"value\",\"value\":0},\"line_color\":{\"type\":\"value\",\"value\":\"#1f77b4\"},\"line_alpha\":{\"type\":\"value\",\"value\":0.1},\"line_width\":{\"type\":\"value\",\"value\":2.6999999999999997},\"fill_color\":{\"type\":\"value\",\"value\":\"#1f77b4\"},\"fill_alpha\":{\"type\":\"value\",\"value\":0.1},\"hatch_alpha\":{\"type\":\"value\",\"value\":0.1}}},\"muted_glyph\":{\"type\":\"object\",\"name\":\"Circle\",\"id\":\"p1630\",\"attributes\":{\"x\":{\"type\":\"field\",\"field\":\"_x\"},\"y\":{\"type\":\"field\",\"field\":\"_y\"},\"radius\":{\"type\":\"value\",\"value\":0},\"line_color\":{\"type\":\"value\",\"value\":\"#1f77b4\"},\"line_alpha\":{\"type\":\"value\",\"value\":0.2},\"line_width\":{\"type\":\"value\",\"value\":2.6999999999999997},\"fill_color\":{\"type\":\"value\",\"value\":\"#1f77b4\"},\"fill_alpha\":{\"type\":\"value\",\"value\":0.2},\"hatch_alpha\":{\"type\":\"value\",\"value\":0.2}}}}}],\"toolbar\":{\"type\":\"object\",\"name\":\"Toolbar\",\"id\":\"p1586\",\"attributes\":{\"tools\":[{\"type\":\"object\",\"name\":\"WheelZoomTool\",\"id\":\"p1599\",\"attributes\":{\"renderers\":\"auto\"}},{\"type\":\"object\",\"name\":\"ResetTool\",\"id\":\"p1600\"},{\"type\":\"object\",\"name\":\"UndoTool\",\"id\":\"p1601\"},{\"type\":\"object\",\"name\":\"RedoTool\",\"id\":\"p1602\"},{\"type\":\"object\",\"name\":\"PanTool\",\"id\":\"p1603\"},{\"type\":\"object\",\"name\":\"HoverTool\",\"id\":\"p1624\",\"attributes\":{\"renderers\":\"auto\",\"tooltips\":[[\"(x,y)\",\"(@_x, @_y)\"],[\"index: \",\"@_labels\"]]}}]}},\"toolbar_location\":\"above\",\"left\":[{\"type\":\"object\",\"name\":\"LinearAxis\",\"id\":\"p1594\",\"attributes\":{\"ticker\":{\"type\":\"object\",\"name\":\"BasicTicker\",\"id\":\"p1595\",\"attributes\":{\"mantissas\":[1,2,5]}},\"formatter\":{\"type\":\"object\",\"name\":\"BasicTickFormatter\",\"id\":\"p1596\"},\"major_label_policy\":{\"type\":\"object\",\"name\":\"AllLabels\",\"id\":\"p1597\"}}}],\"below\":[{\"type\":\"object\",\"name\":\"LinearAxis\",\"id\":\"p1589\",\"attributes\":{\"ticker\":{\"type\":\"object\",\"name\":\"BasicTicker\",\"id\":\"p1590\",\"attributes\":{\"mantissas\":[1,2,5]}},\"formatter\":{\"type\":\"object\",\"name\":\"BasicTickFormatter\",\"id\":\"p1591\"},\"major_label_policy\":{\"type\":\"object\",\"name\":\"AllLabels\",\"id\":\"p1592\"}}}],\"center\":[{\"type\":\"object\",\"name\":\"Grid\",\"id\":\"p1593\",\"attributes\":{\"axis\":{\"id\":\"p1589\"}}},{\"type\":\"object\",\"name\":\"Grid\",\"id\":\"p1598\",\"attributes\":{\"dimension\":1,\"axis\":{\"id\":\"p1594\"}}}]}},{\"type\":\"object\",\"name\":\"Row\",\"id\":\"p1638\",\"attributes\":{\"children\":[{\"type\":\"object\",\"name\":\"NumericInput\",\"id\":\"p1634\",\"attributes\":{\"js_property_callbacks\":{\"type\":\"map\",\"entries\":[[\"change:value\",[{\"type\":\"object\",\"name\":\"CustomJS\",\"id\":\"p1637\",\"attributes\":{\"args\":{\"type\":\"map\",\"entries\":[[\"other\",{\"id\":\"p1628\"}]]},\"code\":\"other.radius = this.value\"}}]]]},\"title\":\"Blockade radius (um):\",\"value\":0,\"low\":0,\"mode\":\"float\"}},{\"type\":\"object\",\"name\":\"Button\",\"id\":\"p1635\",\"attributes\":{\"js_event_callbacks\":{\"type\":\"map\",\"entries\":[[\"button_click\",[{\"type\":\"object\",\"name\":\"CustomJS\",\"id\":\"p1636\",\"attributes\":{\"args\":{\"type\":\"map\",\"entries\":[[\"cr\",{\"id\":\"p1631\"}]]},\"code\":\"cr.visible = !cr.visible;\"}}]]]},\"label\":\"Toggle\"}}]}}]}}]}};\n",
       "  const render_items = [{\"docid\":\"262e3ca3-c725-442f-9bea-b2c40c6fefc1\",\"roots\":{\"p1639\":\"fbdf44ce-43c1-4b87-be23-d243af91d4a2\"},\"root_ids\":[\"p1639\"]}];\n",
       "  void root.Bokeh.embed.embed_items_notebook(docs_json, render_items);\n",
       "  }\n",
       "  if (root.Bokeh !== undefined) {\n",
       "    embed_document(root);\n",
       "  } else {\n",
       "    let attempts = 0;\n",
       "    const timer = setInterval(function(root) {\n",
       "      if (root.Bokeh !== undefined) {\n",
       "        clearInterval(timer);\n",
       "        embed_document(root);\n",
       "      } else {\n",
       "        attempts++;\n",
       "        if (attempts > 100) {\n",
       "          clearInterval(timer);\n",
       "          console.log(\"Bokeh: ERROR: Unable to run BokehJS code because BokehJS library is missing\");\n",
       "        }\n",
       "      }\n",
       "    }, 10, root)\n",
       "  }\n",
       "})(window);"
      ],
      "application/vnd.bokehjs_exec.v0+json": ""
     },
     "metadata": {
      "application/vnd.bokehjs_exec.v0+json": {
       "id": "p1639"
      }
     },
     "output_type": "display_data"
    }
   ],
   "source": [
    "prog_list[0].parse_register().show()\n",
    "prog_list[1].parse_register().show()"
   ]
  },
  {
   "cell_type": "code",
   "execution_count": 5,
   "id": "c8840364-df85-4182-a08f-e8272a477c83",
   "metadata": {},
   "outputs": [],
   "source": []
  },
  {
   "cell_type": "code",
   "execution_count": null,
   "id": "13f8c1e1-1e0a-4b72-acc9-c7fc62d86303",
   "metadata": {},
   "outputs": [],
   "source": []
  },
  {
   "cell_type": "code",
   "execution_count": null,
   "id": "ea9b8020-59d7-4e34-90bf-25bece66675c",
   "metadata": {},
   "outputs": [],
   "source": []
  },
  {
   "cell_type": "markdown",
   "id": "108585da-7b6b-44c0-be78-250fea10be40",
   "metadata": {},
   "source": [
    "In this example, we simply call the add_defect_density on the geometry object. The add_defect_density method takes a float between 0 and 1 and uses that as the probability of a site being a defect. The add_defect_count method takes the number of defects to add to the geometry placed in random locations. Both ways take an optional rng argument, a numpy random number generator. If no rng argument is provided, then the default numpy random number generator is used. Using the random number generator allows you to set the seed for reproducibility."
   ]
  },
  {
   "cell_type": "markdown",
   "id": "2c0ebea6-1122-4aa8-9254-8a2bfc132f25",
   "metadata": {},
   "source": [
    "So very well, the atoms in the lattice represent the vertices of a graph. But how do we define edges? As mentioned, two atoms that are too close together are blocked from being both in the $| 1 \\rangle$ state. So we will abstract the atoms that are positioned closer than a \"blockade radius\" distance $R_b$, under which 2 qubits cannot be simultaneously $1$, to be connected by an edge.\n",
    "\n",
    "Let's imagine we want the atoms to be connected to their first and second neighbors (when in a square lattice, this is known as a \"king's graph\", alluding to chess). In this case, $R_{min}=\\sqrt{2}a$ -- blocking the first and second neighbors -- and $R_{max}=2a$ -- so not blocking third neighbors and beyond. \n",
    "\n",
    "Altogether, we want $R_b=\\sqrt{2\\sqrt{2}}a\\approx 7.57\\mu m$."
   ]
  },
  {
   "cell_type": "markdown",
   "id": "9aefb104-56c4-4f46-b380-0cc4c110df92",
   "metadata": {},
   "source": [
    "\n",
    "\n",
    "Here is how we implement an adiabatic protocol with Blockade, using piecewise linear time traces for the Hamiltonian parameters. Firstly, we define our Rabi and Delta frequency protocols:"
   ]
  },
  {
   "cell_type": "code",
   "execution_count": 58,
   "id": "ecd2ee64-2183-4abd-929a-24662a77a8e0",
   "metadata": {},
   "outputs": [
    {
     "data": {
      "text/html": [
       "\n",
       "  <div id=\"d9bb9ac7-6f62-4a06-ba7d-78a27543b49a\" data-root-id=\"p2279\" style=\"display: contents;\"></div>\n"
      ]
     },
     "metadata": {},
     "output_type": "display_data"
    },
    {
     "data": {
      "application/javascript": [
       "(function(root) {\n",
       "  function embed_document(root) {\n",
       "  const docs_json = {\"497ef5cc-2317-4e21-82bd-b12d1c85ea4d\":{\"version\":\"3.4.0\",\"title\":\"Bokeh Application\",\"roots\":[{\"type\":\"object\",\"name\":\"Figure\",\"id\":\"p2279\",\"attributes\":{\"aspect_ratio\":4.705882352941177,\"sizing_mode\":\"scale_both\",\"x_range\":{\"type\":\"object\",\"name\":\"DataRange1d\",\"id\":\"p2280\"},\"y_range\":{\"type\":\"object\",\"name\":\"DataRange1d\",\"id\":\"p2281\"},\"x_scale\":{\"type\":\"object\",\"name\":\"LinearScale\",\"id\":\"p2288\"},\"y_scale\":{\"type\":\"object\",\"name\":\"LinearScale\",\"id\":\"p2289\"},\"title\":{\"type\":\"object\",\"name\":\"Title\",\"id\":\"p2286\"},\"renderers\":[{\"type\":\"object\",\"name\":\"GlyphRenderer\",\"id\":\"p2317\",\"attributes\":{\"data_source\":{\"type\":\"object\",\"name\":\"ColumnDataSource\",\"id\":\"p2276\",\"attributes\":{\"selected\":{\"type\":\"object\",\"name\":\"Selection\",\"id\":\"p2277\",\"attributes\":{\"indices\":[],\"line_indices\":[]}},\"selection_policy\":{\"type\":\"object\",\"name\":\"UnionRenderers\",\"id\":\"p2278\"},\"data\":{\"type\":\"map\",\"entries\":[[\"wvfm_x\",{\"type\":\"ndarray\",\"array\":{\"type\":\"bytes\",\"data\":\"AAAAAAAAAAD8qfHSTWJwP/yp8dJNYoA/+n5qvHSTiD/8qfHSTWKQP3sUrkfhepQ/+n5qvHSTmD956SYxCKycP/yp8dJNYqA/PN9PjZduoj97FK5H4XqkP7pJDAIrh6Y/+n5qvHSTqD86tMh2vp+qP3npJjEIrKw/uB6F61G4rj/8qfHSTWKwP5zEILByaLE/PN9PjZdusj/b+X5qvHSzP3sUrkfherQ/Gy/dJAaBtT+6SQwCK4e2P1pkO99Pjbc/+n5qvHSTuD+amZmZmZm5Pzq0yHa+n7o/2c73U+Oluz956SYxCKy8PxkEVg4tsr0/uB6F61G4vj9YObTIdr6/P/yp8dJNYsA/TDeJQWDlwD+cxCCwcmjBP+xRuB6F68E/PN9PjZduwj+LbOf7qfHCP9v5fmq8dMM/K4cW2c73wz97FK5H4XrEP8uhRbbz/cQ/Gy/dJAaBxT9rvHSTGATGP7pJDAIrh8Y/CtejcD0Kxz9aZDvfT43HP6rx0k1iEMg/+n5qvHSTyD9KDAIrhxbJP5qZmZmZmck/6iYxCKwcyj86tMh2vp/KP4lBYOXQIss/2c73U+Olyz8pXI/C9SjMP3npJjEIrMw/yXa+nxovzT8ZBFYOLbLNP2mR7Xw/Nc4/uB6F61G4zj8IrBxaZDvPP1g5tMh2vs8/VOOlm8Qg0D/8qfHSTWLQP6RwPQrXo9A/TDeJQWDl0D/0/dR46SbRP5zEILByaNE/RIts5/up0T/sUbgehevRP5QYBFYOLdI/PN9PjZdu0j/jpZvEILDSP4ts5/up8dI/MzMzMzMz0z/b+X5qvHTTP4PAyqFFttM/K4cW2c730z/TTWIQWDnUP3sUrkfhetQ/I9v5fmq81D/LoUW28/3UP3Noke18P9U/Gy/dJAaB1T/D9Shcj8LVP2u8dJMYBNY/E4PAyqFF1j+6SQwCK4fWP2IQWDm0yNY/CtejcD0K1z+yne+nxkvXP1pkO99Pjdc/AiuHFtnO1z+q8dJNYhDYP1K4HoXrUdg/+n5qvHST2D+iRbbz/dTYP0oMAiuHFtk/8tJNYhBY2T+amZmZmZnZP0Jg5dAi29k/6iYxCKwc2j+S7Xw/NV7aPzq0yHa+n9o/4XoUrkfh2j+JQWDl0CLbPzEIrBxaZNs/2c73U+Ol2z+BlUOLbOfbPylcj8L1KNw/0SLb+X5q3D956SYxCKzcPyGwcmiR7dw/yXa+nxov3T9xPQrXo3DdPxkEVg4tst0/wcqhRbbz3T9pke18PzXePxFYObTIdt4/uB6F61G43j9g5dAi2/nePwisHFpkO98/sHJoke183z9YObTIdr7fPwAAAAAAAOA/VOOlm8Qg4D+oxks3iUHgP/yp8dJNYuA/UI2XbhKD4D+kcD0K16PgP/hT46WbxOA/TDeJQWDl4D+gGi/dJAbhP/T91HjpJuE/SOF6FK5H4T+cxCCwcmjhP/Cnxks3ieE/RIts5/up4T+YbhKDwMrhP+xRuB6F6+E/QDVeukkM4j+UGARWDi3iP+j7qfHSTeI/PN9PjZdu4j+PwvUoXI/iP+Olm8QgsOI/N4lBYOXQ4j+LbOf7qfHiP99PjZduEuM/MzMzMzMz4z+HFtnO91PjP9v5fmq8dOM/L90kBoGV4z+DwMqhRbbjP9ejcD0K1+M/K4cW2c734z9/arx0kxjkP9NNYhBYOeQ/JzEIrBxa5D97FK5H4XrkP8/3U+Olm+Q/I9v5fmq85D93vp8aL93kP8uhRbbz/eQ/H4XrUbge5T9zaJHtfD/lP8dLN4lBYOU/Gy/dJAaB5T9vEoPAyqHlP8P1KFyPwuU/F9nO91Pj5T9rvHSTGATmP7+fGi/dJOY/E4PAyqFF5j9nZmZmZmbmP7pJDAIrh+Y/Di2yne+n5j9iEFg5tMjmP7bz/dR46eY/CtejcD0K5z9eukkMAivnP7Kd76fGS+c/BoGVQ4ts5z9aZDvfT43nP65H4XoUruc/AiuHFtnO5z9WDi2yne/nP6rx0k1iEOg//tR46SYx6D9SuB6F61HoP6abxCCwcug/+n5qvHST6D9OYhBYObToP6JFtvP91Og/9ihcj8L16D9KDAIrhxbpP57vp8ZLN+k/8tJNYhBY6T9GtvP91HjpP5qZmZmZmek/7nw/NV666T9CYOXQItvpP5ZDi2zn++k/6iYxCKwc6j8+CtejcD3qP5LtfD81Xuo/5tAi2/l+6j86tMh2vp/qP42XbhKDwOo/4XoUrkfh6j81XrpJDALrP4lBYOXQIus/3SQGgZVD6z8xCKwcWmTrP4XrUbgehes/2c73U+Ol6z8tsp3vp8brP4GVQ4ts5+s/1XjpJjEI7D8pXI/C9SjsP30/NV66Sew/0SLb+X5q7D8lBoGVQ4vsP3npJjEIrOw/zczMzMzM7D8hsHJoke3sP3WTGARWDu0/yXa+nxov7T8dWmQ730/tP3E9CtejcO0/xSCwcmiR7T8ZBFYOLbLtP23n+6nx0u0/wcqhRbbz7T8VrkfhehTuP2mR7Xw/Ne4/vXSTGARW7j8RWDm0yHbuP2U730+Nl+4/uB6F61G47j8MAiuHFtnuP2Dl0CLb+e4/tMh2vp8a7z8IrBxaZDvvP1yPwvUoXO8/sHJoke187z8EVg4tsp3vP1g5tMh2vu8/rBxaZDvf7z8AAAAAAADwP6rx0k1iEPA/VOOlm8Qg8D/+1HjpJjHwP6jGSzeJQfA/UrgehetR8D/8qfHSTWLwP6abxCCwcvA/UI2XbhKD8D/6fmq8dJPwP6RwPQrXo/A/TmIQWDm08D/4U+Olm8TwP6JFtvP91PA/TDeJQWDl8D/2KFyPwvXwP6AaL90kBvE/SgwCK4cW8T/0/dR46SbxP57vp8ZLN/E/SOF6FK5H8T/y0k1iEFjxP5zEILByaPE/Rrbz/dR48T/wp8ZLN4nxP5qZmZmZmfE/RIts5/up8T/ufD81XrrxP5huEoPAyvE/QmDl0CLb8T/sUbgehevxP5ZDi2zn+/E/QDVeukkM8j/qJjEIrBzyP5QYBFYOLfI/PgrXo3A98j/o+6nx0k3yP5LtfD81XvI/PN9PjZdu8j/l0CLb+X7yP4/C9Shcj/I/ObTIdr6f8j/jpZvEILDyP42XbhKDwPI/N4lBYOXQ8j/hehSuR+HyP4ts5/up8fI/NV66SQwC8z/fT42XbhLzP4lBYOXQIvM/MzMzMzMz8z/dJAaBlUPzP4cW2c73U/M/MQisHFpk8z/b+X5qvHTzP4XrUbgehfM/L90kBoGV8z/ZzvdT46XzP4PAyqFFtvM/LbKd76fG8z/Xo3A9CtfzP4GVQ4ts5/M/K4cW2c738z/VeOkmMQj0P39qvHSTGPQ/KVyPwvUo9D/TTWIQWDn0P30/NV66SfQ/JzEIrBxa9D/RItv5fmr0P3sUrkfhevQ/JQaBlUOL9D/P91PjpZv0P3npJjEIrPQ/I9v5fmq89D/NzMzMzMz0P3e+nxov3fQ/IbByaJHt9D/LoUW28/30P3WTGARWDvU/H4XrUbge9T/Jdr6fGi/1P3Noke18P/U/HVpkO99P9T/HSzeJQWD1P3E9CtejcPU/Gy/dJAaB9T/FILByaJH1P28Sg8DKofU/GQRWDi2y9T/D9Shcj8L1P23n+6nx0vU/F9nO91Pj9T/ByqFFtvP1P2u8dJMYBPY/Fa5H4XoU9j+/nxov3ST2P2mR7Xw/NfY/E4PAyqFF9j+9dJMYBFb2P2dmZmZmZvY/EVg5tMh29j+6SQwCK4f2P2Q730+Nl/Y/Di2yne+n9j+4HoXrUbj2P2IQWDm0yPY/DAIrhxbZ9j+28/3UeOn2P2Dl0CLb+fY/CtejcD0K9z+0yHa+nxr3P166SQwCK/c/CKwcWmQ79z+yne+nxkv3P1yPwvUoXPc/BoGVQ4ts9z+wcmiR7Xz3P1pkO99Pjfc/BFYOLbKd9z+uR+F6FK73P1g5tMh2vvc/AiuHFtnO9z+sHFpkO9/3P1YOLbKd7/c/AAAAAAAA+D+q8dJNYhD4P1TjpZvEIPg//tR46SYx+D+oxks3iUH4P1K4HoXrUfg//Knx0k1i+D+mm8QgsHL4P1CNl24Sg/g/+n5qvHST+D+kcD0K16P4P05iEFg5tPg/+FPjpZvE+D+iRbbz/dT4P0w3iUFg5fg/9ihcj8L1+D+gGi/dJAb5P0oMAiuHFvk/9P3UeOkm+T+e76fGSzf5P0jhehSuR/k/8tJNYhBY+T+cxCCwcmj5P0a28/3UePk/8KfGSzeJ+T+amZmZmZn5P0SLbOf7qfk/7nw/NV66+T+YbhKDwMr5P0Jg5dAi2/k/7FG4HoXr+T+WQ4ts5/v5P0A1XrpJDPo/6iYxCKwc+j+UGARWDi36Pz4K16NwPfo/6Pup8dJN+j+S7Xw/NV76PzzfT42Xbvo/5tAi2/l++j+QwvUoXI/6Pzq0yHa+n/o/46WbxCCw+j+Nl24Sg8D6PzeJQWDl0Po/4XoUrkfh+j+LbOf7qfH6PzVeukkMAvs/30+Nl24S+z+JQWDl0CL7PzMzMzMzM/s/3SQGgZVD+z+HFtnO91P7PzEIrBxaZPs/2/l+arx0+z+F61G4HoX7Py/dJAaBlfs/2c73U+Ol+z+DwMqhRbb7Py2yne+nxvs/16NwPQrX+z+BlUOLbOf7PyuHFtnO9/s/1XjpJjEI/D9/arx0kxj8Pylcj8L1KPw/001iEFg5/D99PzVeukn8PycxCKwcWvw/0SLb+X5q/D97FK5H4Xr8PyUGgZVDi/w/z/dT46Wb/D956SYxCKz8PyPb+X5qvPw/zczMzMzM/D93vp8aL938PyGwcmiR7fw/y6FFtvP9/D91kxgEVg79Px+F61G4Hv0/yXa+nxov/T9zaJHtfD/9Px1aZDvfT/0/x0s3iUFg/T9xPQrXo3D9Pxsv3SQGgf0/xSCwcmiR/T9vEoPAyqH9PxkEVg4tsv0/w/UoXI/C/T9t5/up8dL9PxfZzvdT4/0/wcqhRbbz/T9rvHSTGAT+PxWuR+F6FP4/v58aL90k/j9pke18PzX+PxODwMqhRf4/vXSTGARW/j9nZmZmZmb+PxFYObTIdv4/u0kMAiuH/j9lO99PjZf+Pw8tsp3vp/4/uB6F61G4/j9iEFg5tMj+PwwCK4cW2f4/tvP91Hjp/j9g5dAi2/n+PwrXo3A9Cv8/tMh2vp8a/z9eukkMAiv/PwisHFpkO/8/sp3vp8ZL/z9cj8L1KFz/PwaBlUOLbP8/sHJoke18/z9aZDvfT43/PwRWDi2ynf8/rkfhehSu/z9YObTIdr7/PwIrhxbZzv8/rBxaZDvf/z9WDi2yne//PwAAAAAAAABA1XjpJjEIAECq8dJNYhAAQH9qvHSTGABAVOOlm8QgAEApXI/C9SgAQP7UeOkmMQBA001iEFg5AECoxks3iUEAQH0/NV66SQBAUrgehetRAEAnMQisHFoAQPyp8dJNYgBA0SLb+X5qAECmm8QgsHIAQHsUrkfhegBAUI2XbhKDAEAlBoGVQ4sAQPp+arx0kwBAz/dT46WbAECkcD0K16MAQHnpJjEIrABATmIQWDm0AEAj2/l+arwAQPhT46WbxABAzczMzMzMAECiRbbz/dQAQHe+nxov3QBATDeJQWDlAEAhsHJoke0AQPYoXI/C9QBAy6FFtvP9AECgGi/dJAYBQHWTGARWDgFASgwCK4cWAUAfhetRuB4BQPT91HjpJgFAyXa+nxovAUCe76fGSzcBQHNoke18PwFASOF6FK5HAUAdWmQ7308BQPLSTWIQWAFAx0s3iUFgAUCcxCCwcmgBQHE9CtejcAFARrbz/dR4AUAbL90kBoEBQPCnxks3iQFAxSCwcmiRAUCamZmZmZkBQG8Sg8DKoQFARIts5/upAUAZBFYOLbIBQO58PzVeugFAw/UoXI/CAUCYbhKDwMoBQG3n+6nx0gFAQmDl0CLbAUAX2c73U+MBQOxRuB6F6wFAwcqhRbbzAUCWQ4ts5/sBQGu8dJMYBAJAQDVeukkMAkAVrkfhehQCQOomMQisHAJAv58aL90kAkCUGARWDi0CQGmR7Xw/NQJAPgrXo3A9AkATg8DKoUUCQOj7qfHSTQJAvXSTGARWAkCS7Xw/NV4CQGdmZmZmZgJAPN9PjZduAkAQWDm0yHYCQOXQItv5fgJAukkMAiuHAkCPwvUoXI8CQGQ730+NlwJAObTIdr6fAkAOLbKd76cCQOOlm8QgsAJAuB6F61G4AkCNl24Sg8ACQGIQWDm0yAJAN4lBYOXQAkAMAiuHFtkCQOF6FK5H4QJAtvP91HjpAkCLbOf7qfECQGDl0CLb+QJANV66SQwCA0AK16NwPQoDQN9PjZduEgNAtMh2vp8aA0CJQWDl0CIDQF66SQwCKwNAMzMzMzMzA0AIrBxaZDsDQN0kBoGVQwNAsp3vp8ZLA0CHFtnO91MDQFyPwvUoXANAMQisHFpkA0AGgZVDi2wDQNv5fmq8dANAsHJoke18A0CF61G4HoUDQFpkO99PjQNAL90kBoGVA0AEVg4tsp0DQNnO91PjpQNArkfhehSuA0CDwMqhRbYDQFg5tMh2vgNALbKd76fGA0ACK4cW2c4DQNejcD0K1wNArBxaZDvfA0CBlUOLbOcDQFYOLbKd7wNAK4cW2c73A0AAAAAAAAAEQNV46SYxCARAqvHSTWIQBEB/arx0kxgEQFTjpZvEIARAKVyPwvUoBED+1HjpJjEEQNNNYhBYOQRAqMZLN4lBBEB9PzVeukkEQFK4HoXrUQRAJzEIrBxaBED8qfHSTWIEQNEi2/l+agRAppvEILByBEB7FK5H4XoEQFCNl24SgwRAJQaBlUOLBED6fmq8dJMEQM/3U+OlmwRApHA9CtejBEB56SYxCKwEQE5iEFg5tARAI9v5fmq8BED4U+Olm8QEQM3MzMzMzARAokW28/3UBEB3vp8aL90EQEw3iUFg5QRAIbByaJHtBED2KFyPwvUEQMuhRbbz/QRAoBov3SQGBUB1kxgEVg4FQEoMAiuHFgVAH4XrUbgeBUD0/dR46SYFQMl2vp8aLwVAnu+nxks3BUBzaJHtfD8FQEjhehSuRwVAHVpkO99PBUDy0k1iEFgFQMdLN4lBYAVAnMQgsHJoBUBxPQrXo3AFQEa28/3UeAVAGy/dJAaBBUDwp8ZLN4kFQMUgsHJokQVAmpmZmZmZBUBvEoPAyqEFQESLbOf7qQVAGQRWDi2yBUDufD81XroFQMP1KFyPwgVAmG4Sg8DKBUBt5/up8dIFQEJg5dAi2wVAF9nO91PjBUDsUbgehesFQMHKoUW28wVAlkOLbOf7BUBrvHSTGAQGQEA1XrpJDAZAFa5H4XoUBkDqJjEIrBwGQL+fGi/dJAZAlBgEVg4tBkBpke18PzUGQD4K16NwPQZAE4PAyqFFBkDo+6nx0k0GQL10kxgEVgZAku18PzVeBkBnZmZmZmYGQDzfT42XbgZAEVg5tMh2BkDm0CLb+X4GQLpJDAIrhwZAj8L1KFyPBkBkO99PjZcGQDm0yHa+nwZADi2yne+nBkDjpZvEILAGQLgehetRuAZAjZduEoPABkBiEFg5tMgGQDeJQWDl0AZADAIrhxbZBkDhehSuR+EGQLbz/dR46QZAi2zn+6nxBkBg5dAi2/kGQDVeukkMAgdACtejcD0KB0DfT42XbhIHQLTIdr6fGgdAiUFg5dAiB0BeukkMAisHQDMzMzMzMwdACKwcWmQ7B0DdJAaBlUMHQLKd76fGSwdAhxbZzvdTB0Bcj8L1KFwHQDEIrBxaZAdABoGVQ4tsB0Db+X5qvHQHQLByaJHtfAdAhetRuB6FB0BaZDvfT40HQC/dJAaBlQdABFYOLbKdB0DZzvdT46UHQK5H4XoUrgdAg8DKoUW2B0BYObTIdr4HQC2yne+nxgdAAiuHFtnOB0DXo3A9CtcHQKwcWmQ73wdAgZVDi2znB0BWDi2yne8HQCuHFtnO9wdAAAAAAAAACEDVeOkmMQgIQKrx0k1iEAhAf2q8dJMYCEBU46WbxCAIQClcj8L1KAhA/tR46SYxCEDTTWIQWDkIQKjGSzeJQQhAfT81XrpJCEBSuB6F61EIQCcxCKwcWghA/Knx0k1iCEDRItv5fmoIQKabxCCwcghAexSuR+F6CEBQjZduEoMIQCUGgZVDiwhA+n5qvHSTCEDP91PjpZsIQKRwPQrXowhAeekmMQisCEBOYhBYObQIQCPb+X5qvAhA+FPjpZvECEDNzMzMzMwIQKJFtvP91AhAd76fGi/dCEBMN4lBYOUIQCGwcmiR7QhA9ihcj8L1CEDLoUW28/0IQKAaL90kBglAdZMYBFYOCUBKDAIrhxYJQB+F61G4HglA9P3UeOkmCUDJdr6fGi8JQJ7vp8ZLNwlAc2iR7Xw/CUBI4XoUrkcJQB1aZDvfTwlA8tJNYhBYCUDHSzeJQWAJQJzEILByaAlAcT0K16NwCUBGtvP91HgJQBsv3SQGgQlA8KfGSzeJCUDFILByaJEJQJqZmZmZmQlAbxKDwMqhCUBEi2zn+6kJQBkEVg4tsglA7nw/NV66CUDD9Shcj8IJQJhuEoPAyglAbef7qfHSCUBCYOXQItsJQBfZzvdT4wlA7FG4HoXrCUDByqFFtvMJQJZDi2zn+wlAa7x0kxgECkBANV66SQwKQBWuR+F6FApA6iYxCKwcCkC/nxov3SQKQJQYBFYOLQpAaZHtfD81CkA+CtejcD0KQBODwMqhRQpA6Pup8dJNCkC9dJMYBFYKQJLtfD81XgpAZ2ZmZmZmCkA830+Nl24KQBFYObTIdgpA5tAi2/l+CkC7SQwCK4cKQJDC9ShcjwpAZTvfT42XCkA6tMh2vp8KQA4tsp3vpwpA46WbxCCwCkC4HoXrUbgKQI2XbhKDwApAYhBYObTICkA3iUFg5dAKQAwCK4cW2QpA4XoUrkfhCkC28/3UeOkKQIts5/up8QpAYOXQItv5CkA1XrpJDAILQArXo3A9CgtA30+Nl24SC0C0yHa+nxoLQIlBYOXQIgtAXrpJDAIrC0AzMzMzMzMLQAisHFpkOwtA3SQGgZVDC0Cyne+nxksLQIcW2c73UwtAXI/C9ShcC0AxCKwcWmQLQAaBlUOLbAtA2/l+arx0C0CwcmiR7XwLQIXrUbgehQtAWmQ730+NC0Av3SQGgZULQARWDi2ynQtA2c73U+OlC0CuR+F6FK4LQIPAyqFFtgtAWDm0yHa+C0Atsp3vp8YLQAIrhxbZzgtA16NwPQrXC0CsHFpkO98LQIGVQ4ts5wtAVg4tsp3vC0ArhxbZzvcLQAAAAAAAAAxA1XjpJjEIDECq8dJNYhAMQH9qvHSTGAxAVOOlm8QgDEApXI/C9SgMQP7UeOkmMQxA001iEFg5DECoxks3iUEMQH0/NV66SQxAUrgehetRDEAnMQisHFoMQPyp8dJNYgxA0SLb+X5qDECmm8QgsHIMQHsUrkfhegxAUI2XbhKDDEAlBoGVQ4sMQPp+arx0kwxAz/dT46WbDECkcD0K16MMQHnpJjEIrAxATmIQWDm0DEAj2/l+arwMQPhT46WbxAxAzczMzMzMDECiRbbz/dQMQHe+nxov3QxATDeJQWDlDEAhsHJoke0MQPYoXI/C9QxAy6FFtvP9DECgGi/dJAYNQHWTGARWDg1ASgwCK4cWDUAfhetRuB4NQPT91HjpJg1AyXa+nxovDUCe76fGSzcNQHNoke18Pw1ASOF6FK5HDUAdWmQ7308NQPLSTWIQWA1Ax0s3iUFgDUCcxCCwcmgNQHE9CtejcA1ARrbz/dR4DUAbL90kBoENQPCnxks3iQ1AxSCwcmiRDUCamZmZmZkNQG8Sg8DKoQ1ARIts5/upDUAZBFYOLbINQO58PzVeug1Aw/UoXI/CDUCYbhKDwMoNQG3n+6nx0g1AQmDl0CLbDUAX2c73U+MNQOxRuB6F6w1AwcqhRbbzDUCWQ4ts5/sNQGu8dJMYBA5AQDVeukkMDkAVrkfhehQOQOomMQisHA5Av58aL90kDkCUGARWDi0OQGmR7Xw/NQ5APgrXo3A9DkATg8DKoUUOQOj7qfHSTQ5AvXSTGARWDkCS7Xw/NV4OQGdmZmZmZg5APN9PjZduDkARWDm0yHYOQObQItv5fg5Au0kMAiuHDkCQwvUoXI8OQGU730+Nlw5AOrTIdr6fDkAPLbKd76cOQOSlm8QgsA5AuB6F61G4DkCNl24Sg8AOQGIQWDm0yA5AN4lBYOXQDkAMAiuHFtkOQOF6FK5H4Q5AtvP91HjpDkCLbOf7qfEOQGDl0CLb+Q5ANV66SQwCD0AK16NwPQoPQN9PjZduEg9AtMh2vp8aD0CJQWDl0CIPQF66SQwCKw9AMzMzMzMzD0AIrBxaZDsPQN0kBoGVQw9Asp3vp8ZLD0CHFtnO91MPQFyPwvUoXA9AMQisHFpkD0AGgZVDi2wPQNv5fmq8dA9AsHJoke18D0CF61G4HoUPQFpkO99PjQ9AL90kBoGVD0AEVg4tsp0PQNnO91PjpQ9ArkfhehSuD0CDwMqhRbYPQFg5tMh2vg9ALbKd76fGD0ACK4cW2c4PQNejcD0K1w9ArBxaZDvfD0CBlUOLbOcPQFYOLbKd7w9AK4cW2c73D0AAAAAAAAAQQA==\"},\"shape\":[1001],\"dtype\":\"float64\",\"order\":\"little\"}],[\"wvfm_y\",[0.0,0.15707963267948966,0.3141592653589793,0.47123889803846897,0.6283185307179586,0.7853981633974483,0.9424777960769379,1.0995574287564276,1.2566370614359172,1.4137166941154071,1.5707963267948966,1.7278759594743862,1.8849555921538759,2.042035224833366,2.199114857512855,2.356194490192345,2.5132741228718345,2.670353755551324,2.8274333882308142,2.9845130209103035,3.141592653589793,3.2986722862692828,3.4557519189487724,3.612831551628262,3.7699111843077517,3.9269908169872414,4.084070449666732,4.241150082346221,4.39822971502571,4.5553093477052,4.71238898038469,4.869468613064179,5.026548245743669,5.183627878423159,5.340707511102648,5.497787143782138,5.6548667764616285,5.811946409141117,5.969026041820607,6.126105674500097,6.283185307179586,6.440264939859076,6.5973445725385655,6.754424205218056,6.911503837897545,7.0685834705770345,7.225663103256524,7.382742735936014,7.5398223686155035,7.696902001294993,7.853981633974483,8.011061266653973,8.168140899333464,8.325220532012953,8.482300164692441,8.639379797371932,8.79645943005142,8.953539062730911,9.1106186954104,9.26769832808989,9.42477796076938,9.58185759344887,9.738937226128359,9.89601685880785,10.053096491487338,10.210176124166829,10.367255756846317,10.524335389525808,10.681415022205297,10.838494654884787,10.995574287564276,11.152653920243766,11.309733552923257,11.466813185602746,11.623892818282235,11.780972450961725,11.938052083641214,12.095131716320704,12.252211349000193,12.409290981679684,12.566370614359172,12.723450247038663,12.880529879718152,13.037609512397642,13.194689145077131,13.351768777756622,13.508848410436112,13.665928043115601,13.82300767579509,13.98008730847458,14.137166941154069,14.29424657383356,14.451326206513048,14.608405839192539,14.765485471872028,14.922565104551518,15.079644737231007,15.236724369910498,15.393804002589986,15.550883635269477,15.707963267948966,15.707963267948966,15.707963267948966,15.707963267948966,15.707963267948966,15.707963267948966,15.707963267948966,15.707963267948966,15.707963267948966,15.707963267948966,15.707963267948966,15.707963267948966,15.707963267948966,15.707963267948966,15.707963267948966,15.707963267948966,15.707963267948966,15.707963267948966,15.707963267948966,15.707963267948966,15.707963267948966,15.707963267948966,15.707963267948966,15.707963267948966,15.707963267948966,15.707963267948966,15.707963267948966,15.707963267948966,15.707963267948966,15.707963267948966,15.707963267948966,15.707963267948966,15.707963267948966,15.707963267948966,15.707963267948966,15.707963267948966,15.707963267948966,15.707963267948966,15.707963267948966,15.707963267948966,15.707963267948966,15.707963267948966,15.707963267948966,15.707963267948966,15.707963267948966,15.707963267948966,15.707963267948966,15.707963267948966,15.707963267948966,15.707963267948966,15.707963267948966,15.707963267948966,15.707963267948966,15.707963267948966,15.707963267948966,15.707963267948966,15.707963267948966,15.707963267948966,15.707963267948966,15.707963267948966,15.707963267948966,15.707963267948966,15.707963267948966,15.707963267948966,15.707963267948966,15.707963267948966,15.707963267948966,15.707963267948966,15.707963267948966,15.707963267948966,15.707963267948966,15.707963267948966,15.707963267948966,15.707963267948966,15.707963267948966,15.707963267948966,15.707963267948966,15.707963267948966,15.707963267948966,15.707963267948966,15.707963267948966,15.707963267948966,15.707963267948966,15.707963267948966,15.707963267948966,15.707963267948966,15.707963267948966,15.707963267948966,15.707963267948966,15.707963267948966,15.707963267948966,15.707963267948966,15.707963267948966,15.707963267948966,15.707963267948966,15.707963267948966,15.707963267948966,15.707963267948966,15.707963267948966,15.707963267948966,15.707963267948966,15.707963267948966,15.707963267948966,15.707963267948966,15.707963267948966,15.707963267948966,15.707963267948966,15.707963267948966,15.707963267948966,15.707963267948966,15.707963267948966,15.707963267948966,15.707963267948966,15.707963267948966,15.707963267948966,15.707963267948966,15.707963267948966,15.707963267948966,15.707963267948966,15.707963267948966,15.707963267948966,15.707963267948966,15.707963267948966,15.707963267948966,15.707963267948966,15.707963267948966,15.707963267948966,15.707963267948966,15.707963267948966,15.707963267948966,15.707963267948966,15.707963267948966,15.707963267948966,15.707963267948966,15.707963267948966,15.707963267948966,15.707963267948966,15.707963267948966,15.707963267948966,15.707963267948966,15.707963267948966,15.707963267948966,15.707963267948966,15.707963267948966,15.707963267948966,15.707963267948966,15.707963267948966,15.707963267948966,15.707963267948966,15.707963267948966,15.707963267948966,15.707963267948966,15.707963267948966,15.707963267948966,15.707963267948966,15.707963267948966,15.707963267948966,15.707963267948966,15.707963267948966,15.707963267948966,15.707963267948966,15.707963267948966,15.707963267948966,15.707963267948966,15.707963267948966,15.707963267948966,15.707963267948966,15.707963267948966,15.707963267948966,15.707963267948966,15.707963267948966,15.707963267948966,15.707963267948966,15.707963267948966,15.707963267948966,15.707963267948966,15.707963267948966,15.707963267948966,15.707963267948966,15.707963267948966,15.707963267948966,15.707963267948966,15.707963267948966,15.707963267948966,15.707963267948966,15.707963267948966,15.707963267948966,15.707963267948966,15.707963267948966,15.707963267948966,15.707963267948966,15.707963267948966,15.707963267948966,15.707963267948966,15.707963267948966,15.707963267948966,15.707963267948966,15.707963267948966,15.707963267948966,15.707963267948966,15.707963267948966,15.707963267948966,15.707963267948966,15.707963267948966,15.707963267948966,15.707963267948966,15.707963267948966,15.707963267948966,15.707963267948966,15.707963267948966,15.707963267948966,15.707963267948966,15.707963267948966,15.707963267948966,15.707963267948966,15.707963267948966,15.707963267948966,15.707963267948966,15.707963267948966,15.707963267948966,15.707963267948966,15.707963267948966,15.707963267948966,15.707963267948966,15.707963267948966,15.707963267948966,15.707963267948966,15.707963267948966,15.707963267948966,15.707963267948966,15.707963267948966,15.707963267948966,15.707963267948966,15.707963267948966,15.707963267948966,15.707963267948966,15.707963267948966,15.707963267948966,15.707963267948966,15.707963267948966,15.707963267948966,15.707963267948966,15.707963267948966,15.707963267948966,15.707963267948966,15.707963267948966,15.707963267948966,15.707963267948966,15.707963267948966,15.707963267948966,15.707963267948966,15.707963267948966,15.707963267948966,15.707963267948966,15.707963267948966,15.707963267948966,15.707963267948966,15.707963267948966,15.707963267948966,15.707963267948966,15.707963267948966,15.707963267948966,15.707963267948966,15.707963267948966,15.707963267948966,15.707963267948966,15.707963267948966,15.707963267948966,15.707963267948966,15.707963267948966,15.707963267948966,15.707963267948966,15.707963267948966,15.707963267948966,15.707963267948966,15.707963267948966,15.707963267948966,15.707963267948966,15.707963267948966,15.707963267948966,15.707963267948966,15.707963267948966,15.707963267948966,15.707963267948966,15.707963267948966,15.707963267948966,15.707963267948966,15.707963267948966,15.707963267948966,15.707963267948966,15.707963267948966,15.707963267948966,15.707963267948966,15.707963267948966,15.707963267948966,15.707963267948966,15.707963267948966,15.707963267948966,15.707963267948966,15.707963267948966,15.707963267948966,15.707963267948966,15.707963267948966,15.707963267948966,15.707963267948966,15.707963267948966,15.707963267948966,15.707963267948966,15.707963267948966,15.707963267948966,15.707963267948966,15.707963267948966,15.707963267948966,15.707963267948966,15.707963267948966,15.707963267948966,15.707963267948966,15.707963267948966,15.707963267948966,15.707963267948966,15.707963267948966,15.707963267948966,15.707963267948966,15.707963267948966,15.707963267948966,15.707963267948966,15.707963267948966,15.707963267948966,15.707963267948966,15.707963267948966,15.707963267948966,15.707963267948966,15.707963267948966,15.707963267948966,15.707963267948966,15.707963267948966,15.707963267948966,15.707963267948966,15.707963267948966,15.707963267948966,15.707963267948966,15.707963267948966,15.707963267948966,15.707963267948966,15.707963267948966,15.707963267948966,15.707963267948966,15.707963267948966,15.707963267948966,15.707963267948966,15.707963267948966,15.707963267948966,15.707963267948966,15.707963267948966,15.707963267948966,15.707963267948966,15.707963267948966,15.707963267948966,15.707963267948966,15.707963267948966,15.707963267948966,15.707963267948966,15.707963267948966,15.707963267948966,15.707963267948966,15.707963267948966,15.707963267948966,15.707963267948966,15.707963267948966,15.707963267948966,15.707963267948966,15.707963267948966,15.707963267948966,15.707963267948966,15.707963267948966,15.707963267948966,15.707963267948966,15.707963267948966,15.707963267948966,15.707963267948966,15.707963267948966,15.707963267948966,15.707963267948966,15.707963267948966,15.707963267948966,15.707963267948966,15.707963267948966,15.707963267948966,15.707963267948966,15.707963267948966,15.707963267948966,15.707963267948966,15.707963267948966,15.707963267948966,15.707963267948966,15.707963267948966,15.707963267948966,15.707963267948966,15.707963267948966,15.707963267948966,15.707963267948966,15.707963267948966,15.707963267948966,15.707963267948966,15.707963267948966,15.707963267948966,15.707963267948966,15.707963267948966,15.707963267948966,15.707963267948966,15.707963267948966,15.707963267948966,15.707963267948966,15.707963267948966,15.707963267948966,15.707963267948966,15.707963267948966,15.707963267948966,15.707963267948966,15.707963267948966,15.707963267948966,15.707963267948966,15.707963267948966,15.707963267948966,15.707963267948966,15.707963267948966,15.707963267948966,15.707963267948966,15.707963267948966,15.707963267948966,15.707963267948966,15.707963267948966,15.707963267948966,15.707963267948966,15.707963267948966,15.707963267948966,15.707963267948966,15.707963267948966,15.707963267948966,15.707963267948966,15.707963267948966,15.707963267948966,15.707963267948966,15.707963267948966,15.707963267948966,15.707963267948966,15.707963267948966,15.707963267948966,15.707963267948966,15.707963267948966,15.707963267948966,15.707963267948966,15.707963267948966,15.707963267948966,15.707963267948966,15.707963267948966,15.707963267948966,15.707963267948966,15.707963267948966,15.707963267948966,15.707963267948966,15.707963267948966,15.707963267948966,15.707963267948966,15.707963267948966,15.707963267948966,15.707963267948966,15.707963267948966,15.707963267948966,15.707963267948966,15.707963267948966,15.707963267948966,15.707963267948966,15.707963267948966,15.707963267948966,15.707963267948966,15.707963267948966,15.707963267948966,15.707963267948966,15.707963267948966,15.707963267948966,15.707963267948966,15.707963267948966,15.707963267948966,15.707963267948966,15.707963267948966,15.707963267948966,15.707963267948966,15.707963267948966,15.707963267948966,15.707963267948966,15.707963267948966,15.707963267948966,15.707963267948966,15.707963267948966,15.707963267948966,15.707963267948966,15.707963267948966,15.707963267948966,15.707963267948966,15.707963267948966,15.707963267948966,15.707963267948966,15.707963267948966,15.707963267948966,15.707963267948966,15.707963267948966,15.707963267948966,15.707963267948966,15.707963267948966,15.707963267948966,15.707963267948966,15.707963267948966,15.707963267948966,15.707963267948966,15.707963267948966,15.707963267948966,15.707963267948966,15.707963267948966,15.707963267948966,15.707963267948966,15.707963267948966,15.707963267948966,15.707963267948966,15.707963267948966,15.707963267948966,15.707963267948966,15.707963267948966,15.707963267948966,15.707963267948966,15.707963267948966,15.707963267948966,15.707963267948966,15.707963267948966,15.707963267948966,15.707963267948966,15.707963267948966,15.707963267948966,15.707963267948966,15.707963267948966,15.707963267948966,15.707963267948966,15.707963267948966,15.707963267948966,15.707963267948966,15.707963267948966,15.707963267948966,15.707963267948966,15.707963267948966,15.707963267948966,15.707963267948966,15.707963267948966,15.707963267948966,15.707963267948966,15.707963267948966,15.707963267948966,15.707963267948966,15.707963267948966,15.707963267948966,15.707963267948966,15.707963267948966,15.707963267948966,15.707963267948966,15.707963267948966,15.707963267948966,15.707963267948966,15.707963267948966,15.707963267948966,15.707963267948966,15.707963267948966,15.707963267948966,15.707963267948966,15.707963267948966,15.707963267948966,15.707963267948966,15.707963267948966,15.707963267948966,15.707963267948966,15.707963267948966,15.707963267948966,15.707963267948966,15.707963267948966,15.707963267948966,15.707963267948966,15.707963267948966,15.707963267948966,15.707963267948966,15.707963267948966,15.707963267948966,15.707963267948966,15.707963267948966,15.707963267948966,15.707963267948966,15.707963267948966,15.707963267948966,15.707963267948966,15.707963267948966,15.707963267948966,15.707963267948966,15.707963267948966,15.707963267948966,15.707963267948966,15.707963267948966,15.707963267948966,15.707963267948966,15.707963267948966,15.707963267948966,15.707963267948966,15.707963267948966,15.707963267948966,15.707963267948966,15.707963267948966,15.707963267948966,15.707963267948966,15.707963267948966,15.707963267948966,15.707963267948966,15.707963267948966,15.707963267948966,15.707963267948966,15.707963267948966,15.707963267948966,15.707963267948966,15.707963267948966,15.707963267948966,15.707963267948966,15.707963267948966,15.707963267948966,15.707963267948966,15.707963267948966,15.707963267948966,15.707963267948966,15.707963267948966,15.707963267948966,15.707963267948966,15.707963267948966,15.707963267948966,15.707963267948966,15.707963267948966,15.707963267948966,15.707963267948966,15.707963267948966,15.707963267948966,15.707963267948966,15.707963267948966,15.707963267948966,15.707963267948966,15.707963267948966,15.707963267948966,15.707963267948966,15.707963267948966,15.707963267948966,15.707963267948966,15.707963267948966,15.707963267948966,15.707963267948966,15.707963267948966,15.707963267948966,15.707963267948966,15.707963267948966,15.707963267948966,15.707963267948966,15.707963267948966,15.707963267948966,15.707963267948966,15.707963267948966,15.707963267948966,15.707963267948966,15.707963267948966,15.707963267948966,15.707963267948966,15.707963267948966,15.707963267948966,15.707963267948966,15.707963267948966,15.707963267948966,15.707963267948966,15.707963267948966,15.707963267948966,15.707963267948966,15.707963267948966,15.707963267948966,15.707963267948966,15.707963267948966,15.707963267948966,15.707963267948966,15.707963267948966,15.707963267948966,15.707963267948966,15.707963267948966,15.707963267948966,15.707963267948966,15.707963267948966,15.707963267948966,15.707963267948966,15.707963267948966,15.707963267948966,15.707963267948966,15.707963267948966,15.707963267948966,15.707963267948966,15.707963267948966,15.707963267948966,15.707963267948966,15.707963267948966,15.707963267948966,15.707963267948966,15.707963267948966,15.707963267948966,15.707963267948966,15.707963267948966,15.707963267948966,15.707963267948966,15.707963267948966,15.707963267948966,15.707963267948966,15.707963267948966,15.707963267948966,15.707963267948966,15.707963267948966,15.707963267948966,15.707963267948966,15.707963267948966,15.707963267948966,15.707963267948966,15.707963267948966,15.707963267948966,15.707963267948966,15.707963267948966,15.707963267948966,15.707963267948966,15.707963267948966,15.707963267948966,15.707963267948966,15.707963267948966,15.707963267948966,15.707963267948966,15.707963267948966,15.707963267948966,15.707963267948966,15.707963267948966,15.707963267948966,15.707963267948966,15.707963267948966,15.707963267948966,15.707963267948966,15.707963267948966,15.707963267948966,15.707963267948966,15.707963267948966,15.707963267948966,15.707963267948966,15.707963267948966,15.707963267948966,15.707963267948966,15.707963267948966,15.707963267948966,15.707963267948966,15.707963267948966,15.707963267948966,15.707963267948966,15.707963267948966,15.707963267948966,15.707963267948966,15.707963267948966,15.707963267948966,15.707963267948966,15.707963267948966,15.707963267948966,15.707963267948966,15.707963267948966,15.707963267948966,15.707963267948966,15.707963267948966,15.707963267948966,15.707963267948966,15.707963267948966,15.707963267948966,15.707963267948966,15.707963267948966,15.707963267948966,15.707963267948966,15.707963267948966,15.707963267948966,15.707963267948966,15.707963267948966,15.707963267948966,15.707963267948966,15.707963267948966,15.707963267948966,15.707963267948966,15.707963267948966,15.707963267948966,15.707963267948966,15.707963267948966,15.707963267948966,15.707963267948966,15.707963267948966,15.707963267948966,15.707963267948966,15.707963267948966,15.550883635269477,15.393804002589986,15.236724369910498,15.079644737231007,14.922565104551518,14.765485471872028,14.608405839192539,14.451326206513048,14.29424657383356,14.137166941154069,13.98008730847458,13.82300767579509,13.665928043115601,13.50884841043611,13.351768777756622,13.194689145077131,13.037609512397642,12.880529879718152,12.723450247038663,12.566370614359172,12.409290981679684,12.252211349000193,12.095131716320704,11.938052083641214,11.780972450961725,11.623892818282235,11.466813185602746,11.309733552923255,11.152653920243766,10.995574287564276,10.838494654884787,10.681415022205297,10.524335389525808,10.367255756846317,10.210176124166829,10.053096491487338,9.89601685880785,9.738937226128352,9.581857593448861,9.424777960769372,9.267698328089882,9.110618695410393,8.953539062730902,8.796459430051414,8.639379797371923,8.482300164692429,8.32522053201294,8.16814089933345,8.011061266653961,7.853981633974471,7.696902001294982,7.539822368615492,7.382742735936002,7.225663103256513,7.068583470577023,6.911503837897533,6.754424205218044,6.597344572538554,6.440264939859064,6.283185307179586,6.126105674500097,5.969026041820607,5.811946409141117,5.654866776461628,5.497787143782138,5.340707511102648,5.183627878423159,5.026548245743669,4.869468613064179,4.71238898038469,4.5553093477052,4.39822971502571,4.241150082346221,4.084070449666731,3.9269908169872414,3.7699111843077517,3.612831551628262,3.4557519189487724,3.2986722862692828,3.141592653589793,2.9845130209103035,2.827433388230814,2.670353755551324,2.5132741228718345,2.356194490192345,2.199114857512855,2.0420352248333655,1.8849555921538759,1.7278759594743862,1.5707963267948966,1.413716694115407,1.2566370614359172,1.0995574287564276,0.9424777960769379,0.7853981633974483,0.6283185307179586,0.47123889803846897,0.3141592653589793,0.15707963267948966,0.0]]]}}},\"view\":{\"type\":\"object\",\"name\":\"CDSView\",\"id\":\"p2318\",\"attributes\":{\"filter\":{\"type\":\"object\",\"name\":\"AllIndices\",\"id\":\"p2319\"}}},\"glyph\":{\"type\":\"object\",\"name\":\"Line\",\"id\":\"p2314\",\"attributes\":{\"x\":{\"type\":\"field\",\"field\":\"wvfm_x\"},\"y\":{\"type\":\"field\",\"field\":\"wvfm_y\"},\"line_color\":\"#1f77b4\",\"line_width\":2}},\"nonselection_glyph\":{\"type\":\"object\",\"name\":\"Line\",\"id\":\"p2315\",\"attributes\":{\"x\":{\"type\":\"field\",\"field\":\"wvfm_x\"},\"y\":{\"type\":\"field\",\"field\":\"wvfm_y\"},\"line_color\":\"#1f77b4\",\"line_alpha\":0.1,\"line_width\":2}},\"muted_glyph\":{\"type\":\"object\",\"name\":\"Line\",\"id\":\"p2316\",\"attributes\":{\"x\":{\"type\":\"field\",\"field\":\"wvfm_x\"},\"y\":{\"type\":\"field\",\"field\":\"wvfm_y\"},\"line_color\":\"#1f77b4\",\"line_alpha\":0.2,\"line_width\":2}}}}],\"toolbar\":{\"type\":\"object\",\"name\":\"Toolbar\",\"id\":\"p2287\",\"attributes\":{\"tools\":[{\"type\":\"object\",\"name\":\"PanTool\",\"id\":\"p2300\"},{\"type\":\"object\",\"name\":\"WheelZoomTool\",\"id\":\"p2301\",\"attributes\":{\"renderers\":\"auto\"}},{\"type\":\"object\",\"name\":\"BoxZoomTool\",\"id\":\"p2302\",\"attributes\":{\"overlay\":{\"type\":\"object\",\"name\":\"BoxAnnotation\",\"id\":\"p2303\",\"attributes\":{\"syncable\":false,\"level\":\"overlay\",\"visible\":false,\"left\":{\"type\":\"number\",\"value\":\"nan\"},\"right\":{\"type\":\"number\",\"value\":\"nan\"},\"top\":{\"type\":\"number\",\"value\":\"nan\"},\"bottom\":{\"type\":\"number\",\"value\":\"nan\"},\"left_units\":\"canvas\",\"right_units\":\"canvas\",\"top_units\":\"canvas\",\"bottom_units\":\"canvas\",\"line_color\":\"black\",\"line_alpha\":1.0,\"line_width\":2,\"line_dash\":[4,4],\"fill_color\":\"lightgrey\",\"fill_alpha\":0.5}}}},{\"type\":\"object\",\"name\":\"SaveTool\",\"id\":\"p2308\"},{\"type\":\"object\",\"name\":\"ResetTool\",\"id\":\"p2309\"},{\"type\":\"object\",\"name\":\"HelpTool\",\"id\":\"p2310\"},{\"type\":\"object\",\"name\":\"HoverTool\",\"id\":\"p2320\",\"attributes\":{\"renderers\":\"auto\",\"tooltips\":[[\"(x,y)\",\"(@wvfm_x, @wvfm_y)\"]],\"mode\":\"vline\"}},{\"type\":\"object\",\"name\":\"CrosshairTool\",\"id\":\"p2321\",\"attributes\":{\"dimensions\":\"height\"}}]}},\"left\":[{\"type\":\"object\",\"name\":\"LinearAxis\",\"id\":\"p2295\",\"attributes\":{\"ticker\":{\"type\":\"object\",\"name\":\"BasicTicker\",\"id\":\"p2296\",\"attributes\":{\"mantissas\":[1,2,5]}},\"formatter\":{\"type\":\"object\",\"name\":\"BasicTickFormatter\",\"id\":\"p2297\"},\"axis_label\":\"Waveform\",\"major_label_policy\":{\"type\":\"object\",\"name\":\"AllLabels\",\"id\":\"p2298\"}}}],\"below\":[{\"type\":\"object\",\"name\":\"LinearAxis\",\"id\":\"p2290\",\"attributes\":{\"ticker\":{\"type\":\"object\",\"name\":\"BasicTicker\",\"id\":\"p2291\",\"attributes\":{\"mantissas\":[1,2,5]}},\"formatter\":{\"type\":\"object\",\"name\":\"BasicTickFormatter\",\"id\":\"p2292\"},\"axis_label\":\"Time (us)\",\"major_label_policy\":{\"type\":\"object\",\"name\":\"AllLabels\",\"id\":\"p2293\"}}}],\"center\":[{\"type\":\"object\",\"name\":\"Grid\",\"id\":\"p2294\",\"attributes\":{\"axis\":{\"id\":\"p2290\"}}},{\"type\":\"object\",\"name\":\"Grid\",\"id\":\"p2299\",\"attributes\":{\"dimension\":1,\"axis\":{\"id\":\"p2295\"}}}]}}]}};\n",
       "  const render_items = [{\"docid\":\"497ef5cc-2317-4e21-82bd-b12d1c85ea4d\",\"roots\":{\"p2279\":\"d9bb9ac7-6f62-4a06-ba7d-78a27543b49a\"},\"root_ids\":[\"p2279\"]}];\n",
       "  void root.Bokeh.embed.embed_items_notebook(docs_json, render_items);\n",
       "  }\n",
       "  if (root.Bokeh !== undefined) {\n",
       "    embed_document(root);\n",
       "  } else {\n",
       "    let attempts = 0;\n",
       "    const timer = setInterval(function(root) {\n",
       "      if (root.Bokeh !== undefined) {\n",
       "        clearInterval(timer);\n",
       "        embed_document(root);\n",
       "      } else {\n",
       "        attempts++;\n",
       "        if (attempts > 100) {\n",
       "          clearInterval(timer);\n",
       "          console.log(\"Bokeh: ERROR: Unable to run BokehJS code because BokehJS library is missing\");\n",
       "        }\n",
       "      }\n",
       "    }, 10, root)\n",
       "  }\n",
       "})(window);"
      ],
      "application/vnd.bokehjs_exec.v0+json": ""
     },
     "metadata": {
      "application/vnd.bokehjs_exec.v0+json": {
       "id": "p2279"
      }
     },
     "output_type": "display_data"
    },
    {
     "data": {
      "text/html": [
       "\n",
       "  <div id=\"d4c31b01-60e7-4333-8a14-4a0d5597b57c\" data-root-id=\"p2326\" style=\"display: contents;\"></div>\n"
      ]
     },
     "metadata": {},
     "output_type": "display_data"
    },
    {
     "data": {
      "application/javascript": [
       "(function(root) {\n",
       "  function embed_document(root) {\n",
       "  const docs_json = {\"3a1efb2e-25f4-4294-a1f7-a86bbbc05d26\":{\"version\":\"3.4.0\",\"title\":\"Bokeh Application\",\"roots\":[{\"type\":\"object\",\"name\":\"Figure\",\"id\":\"p2326\",\"attributes\":{\"aspect_ratio\":4.705882352941177,\"sizing_mode\":\"scale_both\",\"x_range\":{\"type\":\"object\",\"name\":\"DataRange1d\",\"id\":\"p2327\"},\"y_range\":{\"type\":\"object\",\"name\":\"DataRange1d\",\"id\":\"p2328\"},\"x_scale\":{\"type\":\"object\",\"name\":\"LinearScale\",\"id\":\"p2335\"},\"y_scale\":{\"type\":\"object\",\"name\":\"LinearScale\",\"id\":\"p2336\"},\"title\":{\"type\":\"object\",\"name\":\"Title\",\"id\":\"p2333\"},\"renderers\":[{\"type\":\"object\",\"name\":\"GlyphRenderer\",\"id\":\"p2364\",\"attributes\":{\"data_source\":{\"type\":\"object\",\"name\":\"ColumnDataSource\",\"id\":\"p2323\",\"attributes\":{\"selected\":{\"type\":\"object\",\"name\":\"Selection\",\"id\":\"p2324\",\"attributes\":{\"indices\":[],\"line_indices\":[]}},\"selection_policy\":{\"type\":\"object\",\"name\":\"UnionRenderers\",\"id\":\"p2325\"},\"data\":{\"type\":\"map\",\"entries\":[[\"wvfm_x\",{\"type\":\"ndarray\",\"array\":{\"type\":\"bytes\",\"data\":\"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\"},\"shape\":[1001],\"dtype\":\"float64\",\"order\":\"little\"}],[\"wvfm_y\",[-28.80443462133504,-28.80443462133504,-28.80443462133504,-28.80443462133504,-28.80443462133504,-28.80443462133504,-28.80443462133504,-28.80443462133504,-28.80443462133504,-28.80443462133504,-28.80443462133504,-28.80443462133504,-28.80443462133504,-28.80443462133504,-28.80443462133504,-28.80443462133504,-28.80443462133504,-28.80443462133504,-28.80443462133504,-28.80443462133504,-28.80443462133504,-28.80443462133504,-28.80443462133504,-28.80443462133504,-28.80443462133504,-28.80443462133504,-28.80443462133504,-28.80443462133504,-28.80443462133504,-28.80443462133504,-28.80443462133504,-28.80443462133504,-28.80443462133504,-28.80443462133504,-28.80443462133504,-28.80443462133504,-28.80443462133504,-28.80443462133504,-28.80443462133504,-28.80443462133504,-28.80443462133504,-28.80443462133504,-28.80443462133504,-28.80443462133504,-28.80443462133504,-28.80443462133504,-28.80443462133504,-28.80443462133504,-28.80443462133504,-28.80443462133504,-28.80443462133504,-28.80443462133504,-28.80443462133504,-28.80443462133504,-28.80443462133504,-28.80443462133504,-28.80443462133504,-28.80443462133504,-28.80443462133504,-28.80443462133504,-28.80443462133504,-28.80443462133504,-28.80443462133504,-28.80443462133504,-28.80443462133504,-28.80443462133504,-28.80443462133504,-28.80443462133504,-28.80443462133504,-28.80443462133504,-28.80443462133504,-28.80443462133504,-28.80443462133504,-28.80443462133504,-28.80443462133504,-28.80443462133504,-28.80443462133504,-28.80443462133504,-28.80443462133504,-28.80443462133504,-28.80443462133504,-28.80443462133504,-28.80443462133504,-28.80443462133504,-28.80443462133504,-28.80443462133504,-28.80443462133504,-28.80443462133504,-28.80443462133504,-28.80443462133504,-28.80443462133504,-28.80443462133504,-28.80443462133504,-28.80443462133504,-28.80443462133504,-28.80443462133504,-28.80443462133504,-28.80443462133504,-28.80443462133504,-28.80443462133504,-28.80443462133504,-28.732423534781702,-28.660412448228364,-28.588401361675025,-28.51639027512169,-28.44437918856835,-28.372368102015013,-28.300357015461678,-28.22834592890834,-28.156334842355,-28.084323755801663,-28.012312669248328,-27.94030158269499,-27.86829049614165,-27.796279409588312,-27.724268323034977,-27.65225723648164,-27.5802461499283,-27.50823506337496,-27.436223976821626,-27.364212890268288,-27.29220180371495,-27.220190717161614,-27.148179630608276,-27.076168544054937,-27.0041574575016,-26.932146370948264,-26.860135284394925,-26.788124197841586,-26.716113111288248,-26.644102024734913,-26.572090938181574,-26.500079851628236,-26.4280687650749,-26.356057678521562,-26.284046591968224,-26.212035505414885,-26.14002441886155,-26.06801333230821,-25.996002245754873,-25.923991159201535,-25.851980072648196,-25.779968986094858,-25.707957899541523,-25.635946812988184,-25.56393572643485,-25.49192463988151,-25.419913553328172,-25.347902466774837,-25.2758913802215,-25.20388029366816,-25.13186920711482,-25.059858120561486,-24.987847034008148,-24.91583594745481,-24.84382486090147,-24.771813774348136,-24.699802687794797,-24.62779160124146,-24.55578051468812,-24.483769428134785,-24.411758341581447,-24.339747255028108,-24.26773616847477,-24.195725081921434,-24.123713995368096,-24.051702908814757,-23.979691822261422,-23.907680735708084,-23.835669649154745,-23.763658562601407,-23.69164747604807,-23.61963638949473,-23.547625302941395,-23.475614216388056,-23.403603129834718,-23.331592043281383,-23.259580956728044,-23.187569870174705,-23.11555878362137,-23.043547697068032,-22.971536610514693,-22.89952552396136,-22.82751443740802,-22.75550335085468,-22.683492264301343,-22.611481177748008,-22.53947009119467,-22.46745900464133,-22.395447918087992,-22.323436831534657,-22.25142574498132,-22.17941465842798,-22.10740357187464,-22.035392485321307,-21.963381398767968,-21.89137031221463,-21.819359225661294,-21.747348139107956,-21.675337052554617,-21.60332596600128,-21.531314879447944,-21.459303792894605,-21.387292706341267,-21.31528161978793,-21.24327053323459,-21.17125944668125,-21.099248360127916,-21.027237273574578,-20.955226187021243,-20.883215100467904,-20.811204013914566,-20.73919292736123,-20.667181840807892,-20.595170754254553,-20.523159667701215,-20.45114858114788,-20.37913749459454,-20.307126408041203,-20.235115321487864,-20.16310423493453,-20.09109314838119,-20.019082061827852,-19.947070975274514,-19.87505988872118,-19.80304880216784,-19.7310377156145,-19.659026629061163,-19.587015542507828,-19.51500445595449,-19.44299336940115,-19.370982282847816,-19.298971196294477,-19.22696010974114,-19.1549490231878,-19.082937936634462,-19.010926850081123,-18.93891576352779,-18.86690467697445,-18.79489359042111,-18.722882503867776,-18.650871417314438,-18.5788603307611,-18.506849244207764,-18.434838157654426,-18.362827071101087,-18.290815984547752,-18.218804897994413,-18.146793811441075,-18.074782724887736,-18.0027716383344,-17.930760551781063,-17.858749465227724,-17.786738378674386,-17.71472729212105,-17.642716205567712,-17.570705119014374,-17.498694032461035,-17.4266829459077,-17.35467185935436,-17.282660772801023,-17.210649686247688,-17.13863859969435,-17.06662751314101,-16.994616426587672,-16.922605340034337,-16.850594253481,-16.77858316692766,-16.706572080374322,-16.634560993820987,-16.56254990726765,-16.49053882071431,-16.41852773416097,-16.346516647607636,-16.274505561054298,-16.20249447450096,-16.130483387947624,-16.058472301394286,-15.986461214840947,-15.91445012828761,-15.842439041734272,-15.770427955180935,-15.698416868627595,-15.626405782074258,-15.55439469552092,-15.482383608967583,-15.410372522414244,-15.338361435860907,-15.266350349307569,-15.194339262754234,-15.122328176200895,-15.050317089647558,-14.978306003094222,-14.906294916540883,-14.834283829987546,-14.762272743434208,-14.690261656880871,-14.618250570327533,-14.546239483774196,-14.474228397220857,-14.40221731066752,-14.330206224114182,-14.258195137560845,-14.186184051007507,-14.11417296445417,-14.042161877900831,-13.970150791347494,-13.898139704794156,-13.82612861824082,-13.754117531687482,-13.682106445134144,-13.610095358580807,-13.538084272027469,-13.466073185474132,-13.394062098920793,-13.322051012367456,-13.250039925814118,-13.178028839260781,-13.106017752707443,-13.034006666154106,-12.961995579600767,-12.88998449304743,-12.817973406494092,-12.745962319940755,-12.673951233387418,-12.60194014683408,-12.529929060280743,-12.457917973727405,-12.385906887174068,-12.31389580062073,-12.241884714067393,-12.169873627514054,-12.097862540960717,-12.025851454407379,-11.953840367854042,-11.881829281300703,-11.809818194747367,-11.737807108194028,-11.665796021640691,-11.593784935087353,-11.521773848534016,-11.44976276198068,-11.37775167542734,-11.305740588874004,-11.233729502320664,-11.161718415767327,-11.089707329213988,-11.017696242660652,-10.945685156107313,-10.873674069553976,-10.801662983000638,-10.7296518964473,-10.657640809893964,-10.585629723340627,-10.513618636787289,-10.441607550233952,-10.369596463680615,-10.297585377127277,-10.22557429057394,-10.153563204020601,-10.081552117467265,-10.009541030913926,-9.93752994436059,-9.86551885780725,-9.793507771253914,-9.721496684700575,-9.649485598147239,-9.5774745115939,-9.505463425040563,-9.433452338487225,-9.361441251933888,-9.28943016538055,-9.217419078827213,-9.145407992273876,-9.073396905720537,-9.0013858191672,-8.929374732613862,-8.857363646060525,-8.785352559507187,-8.71334147295385,-8.641330386400512,-8.569319299847175,-8.497308213293836,-8.4252971267405,-8.353286040187161,-8.281274953633824,-8.209263867080486,-8.137252780527149,-8.065241693973812,-7.9932306074204735,-7.921219520867136,-7.849208434313798,-7.777197347760461,-7.705186261207123,-7.633175174653785,-7.561164088100448,-7.489153001547111,-7.417141914993773,-7.3451308284404355,-7.273119741887098,-7.20110865533376,-7.1290975687804226,-7.057086482227085,-6.985075395673747,-6.91306430912041,-6.841053222567072,-6.769042136013734,-6.697031049460395,-6.625019962907057,-6.5530088763537195,-6.480997789800382,-6.408986703247044,-6.336975616693707,-6.26496453014037,-6.192953443587032,-6.1209423570336945,-6.048931270480357,-5.976920183927021,-5.904909097373683,-5.832898010820346,-5.760886924267008,-5.68887583771367,-5.616864751160333,-5.544853664606995,-5.472842578053657,-5.40083149150032,-5.328820404946982,-5.256809318393644,-5.184798231840308,-5.11278714528697,-5.040776058733632,-4.968764972180295,-4.896753885626957,-4.824742799073619,-4.752731712520282,-4.680720625966944,-4.608709539413606,-4.536698452860269,-4.464687366306931,-4.392676279753593,-4.320665193200256,-4.248654106646918,-4.1766430200935805,-4.104631933540243,-4.032620846986906,-3.960609760433568,-3.8885986738802303,-3.8165875873268926,-3.7445765007735554,-3.6725654142202178,-3.60055432766688,-3.5285432411135425,-3.456532154560205,-3.384521068006867,-3.3125099814535295,-3.240498894900192,-3.1684878083468546,-3.096476721793517,-3.0244656352401793,-2.9524545486868417,-2.880443462133504,-2.8084323755801663,-2.7364212890268287,-2.664410202473491,-2.592399115920154,-2.520388029366816,-2.4483769428134785,-2.376365856260141,-2.304354769706803,-2.2323436831534638,-2.160332596600126,-2.0883215100467885,-2.016310423493451,-1.9442993369401134,-1.8722882503867757,-1.8002771638334383,-1.7282660772801006,-1.656254990726763,-1.5842439041734253,-1.5122328176200879,-1.440221731066752,-1.3682106445134143,-1.296199557960077,-1.2241884714067393,-1.1521773848534016,-1.080166298300064,-1.0081552117467265,-0.9361441251933889,-0.8641330386400512,-0.7921219520867137,-0.720110865533376,-0.6480997789800385,-0.5760886924267008,-0.5040776058733633,-0.4320665193200256,-0.360055432766688,-0.2880443462133504,-0.2160332596600128,-0.1440221731066752,-0.0720110865533376,0.0,0.0720110865533376,0.1440221731066752,0.2160332596600128,0.2880443462133504,0.360055432766688,0.4320665193200256,0.5040776058733633,0.5760886924267008,0.6480997789800385,0.720110865533376,0.7921219520867137,0.8641330386400512,0.9361441251933889,1.0081552117467265,1.080166298300064,1.1521773848534016,1.2241884714067393,1.296199557960077,1.3682106445134143,1.440221731066752,1.5122328176200897,1.5842439041734273,1.6562549907267647,1.7282660772801024,1.80027716383344,1.8722882503867777,1.9442993369401151,2.016310423493453,2.0883215100467902,2.160332596600128,2.2323436831534655,2.304354769706803,2.376365856260141,2.4483769428134785,2.520388029366816,2.592399115920154,2.664410202473491,2.7364212890268287,2.8084323755801663,2.880443462133504,2.9524545486868417,3.0244656352401793,3.096476721793517,3.1684878083468546,3.240498894900192,3.3125099814535295,3.384521068006867,3.456532154560205,3.5285432411135425,3.60055432766688,3.6725654142202178,3.7445765007735554,3.8165875873268926,3.8885986738802303,3.960609760433568,4.032620846986906,4.104631933540243,4.1766430200935805,4.248654106646918,4.320665193200256,4.392676279753593,4.464687366306931,4.536698452860272,4.60870953941361,4.680720625966948,4.752731712520285,4.824742799073623,4.896753885626961,4.968764972180298,5.040776058733636,5.112787145286975,5.184798231840313,5.256809318393651,5.328820404946987,5.400831491500325,5.472842578053663,5.544853664606995,5.616864751160333,5.68887583771367,5.760886924267008,5.832898010820346,5.904909097373683,5.976920183927021,6.048931270480359,6.120942357033696,6.192953443587034,6.264964530140372,6.336975616693709,6.408986703247046,6.480997789800384,6.553008876353721,6.625019962907059,6.697031049460397,6.769042136013734,6.841053222567072,6.91306430912041,6.985075395673747,7.057086482227085,7.1290975687804226,7.20110865533376,7.273119741887098,7.3451308284404355,7.417141914993773,7.489153001547111,7.561164088100448,7.633175174653785,7.705186261207123,7.777197347760461,7.849208434313798,7.921219520867136,7.9932306074204735,8.065241693973812,8.137252780527149,8.209263867080486,8.281274953633824,8.353286040187161,8.4252971267405,8.497308213293836,8.569319299847175,8.641330386400512,8.71334147295385,8.785352559507187,8.857363646060525,8.929374732613862,9.0013858191672,9.073396905720537,9.145407992273876,9.217419078827213,9.28943016538055,9.361441251933888,9.433452338487225,9.505463425040563,9.5774745115939,9.649485598147239,9.721496684700575,9.793507771253914,9.86551885780725,9.93752994436059,10.009541030913926,10.081552117467265,10.153563204020601,10.22557429057394,10.297585377127277,10.369596463680615,10.441607550233952,10.513618636787289,10.585629723340627,10.657640809893964,10.729651896447303,10.80166298300064,10.873674069553978,10.945685156107315,11.017696242660653,11.08970732921399,11.161718415767329,11.233729502320665,11.305740588874004,11.37775167542734,11.44976276198068,11.521773848534016,11.593784935087353,11.665796021640691,11.737807108194028,11.809818194747367,11.881829281300703,11.953840367854042,12.025851454407379,12.097862540960717,12.169873627514054,12.241884714067393,12.31389580062073,12.385906887174068,12.457917973727405,12.529929060280743,12.60194014683408,12.673951233387418,12.745962319940755,12.817973406494092,12.88998449304743,12.961995579600767,13.034006666154106,13.106017752707443,13.178028839260781,13.250039925814118,13.322051012367456,13.394062098920793,13.466073185474132,13.538084272027472,13.61009535858081,13.682106445134147,13.754117531687486,13.826128618240823,13.898139704794161,13.970150791347498,14.042161877900835,14.114172964454175,14.186184051007512,14.25819513756085,14.330206224114187,14.402217310667526,14.474228397220863,14.546239483774201,14.618250570327538,14.690261656880871,14.762272743434208,14.834283829987546,14.906294916540883,14.978306003094222,15.050317089647558,15.122328176200895,15.194339262754234,15.26635034930757,15.338361435860909,15.410372522414246,15.482383608967584,15.554394695520921,15.62640578207426,15.698416868627596,15.770427955180935,15.842439041734272,15.91445012828761,15.986461214840947,16.058472301394286,16.130483387947624,16.20249447450096,16.274505561054298,16.346516647607636,16.41852773416097,16.49053882071431,16.56254990726765,16.634560993820987,16.706572080374322,16.77858316692766,16.850594253481,16.922605340034337,16.994616426587672,17.06662751314101,17.13863859969435,17.210649686247688,17.282660772801023,17.35467185935436,17.4266829459077,17.498694032461035,17.570705119014374,17.642716205567712,17.71472729212105,17.786738378674386,17.858749465227724,17.930760551781063,18.0027716383344,18.074782724887736,18.146793811441075,18.218804897994413,18.290815984547752,18.362827071101087,18.434838157654426,18.506849244207764,18.5788603307611,18.650871417314438,18.722882503867776,18.794893590421115,18.86690467697445,18.93891576352779,19.010926850081127,19.082937936634465,19.1549490231878,19.22696010974114,19.298971196294477,19.370982282847816,19.44299336940115,19.51500445595449,19.587015542507828,19.659026629061163,19.7310377156145,19.80304880216784,19.87505988872118,19.947070975274514,20.019082061827852,20.09109314838119,20.16310423493453,20.235115321487864,20.307126408041203,20.37913749459454,20.45114858114788,20.523159667701215,20.595170754254553,20.667181840807892,20.73919292736123,20.811204013914566,20.883215100467904,20.955226187021243,21.027237273574578,21.099248360127916,21.171259446681255,21.243270533234593,21.31528161978793,21.387292706341267,21.459303792894605,21.531314879447944,21.60332596600128,21.675337052554617,21.747348139107956,21.819359225661294,21.89137031221463,21.963381398767968,22.035392485321307,22.10740357187464,22.17941465842798,22.25142574498132,22.323436831534657,22.395447918087992,22.46745900464133,22.539470091194673,22.61148117774801,22.683492264301346,22.755503350854685,22.827514437408023,22.899525523961362,22.971536610514697,23.043547697068036,23.115558783621374,23.187569870174713,23.25958095672805,23.331592043281386,23.403603129834725,23.475614216388063,23.5476253029414,23.619636389494737,23.691647476048075,23.763658562601414,23.835669649154752,23.907680735708087,23.979691822261422,24.051702908814757,24.123713995368096,24.195725081921434,24.26773616847477,24.339747255028108,24.411758341581447,24.483769428134785,24.55578051468812,24.62779160124146,24.699802687794797,24.771813774348136,24.84382486090147,24.91583594745481,24.987847034008148,25.059858120561486,25.13186920711482,25.20388029366816,25.2758913802215,25.347902466774837,25.419913553328172,25.49192463988151,25.56393572643485,25.635946812988184,25.707957899541523,25.77996898609486,25.8519800726482,25.923991159201535,25.996002245754873,26.06801333230821,26.14002441886155,26.212035505414885,26.284046591968224,26.356057678521562,26.4280687650749,26.500079851628236,26.572090938181574,26.644102024734913,26.716113111288248,26.788124197841586,26.860135284394925,26.932146370948264,27.0041574575016,27.076168544054937,27.148179630608276,27.220190717161614,27.29220180371495,27.364212890268288,27.436223976821626,27.508235063374965,27.5802461499283,27.65225723648164,27.724268323034977,27.796279409588312,27.86829049614165,27.94030158269499,28.012312669248328,28.084323755801663,28.156334842355,28.22834592890834,28.300357015461678,28.372368102015013,28.44437918856835,28.51639027512169,28.58840136167503,28.660412448228364,28.732423534781702,28.80443462133504,28.80443462133504,28.80443462133504,28.80443462133504,28.80443462133504,28.80443462133504,28.80443462133504,28.80443462133504,28.80443462133504,28.80443462133504,28.80443462133504,28.80443462133504,28.80443462133504,28.80443462133504,28.80443462133504,28.80443462133504,28.80443462133504,28.80443462133504,28.80443462133504,28.80443462133504,28.80443462133504,28.80443462133504,28.80443462133504,28.80443462133504,28.80443462133504,28.80443462133504,28.80443462133504,28.80443462133504,28.80443462133504,28.80443462133504,28.80443462133504,28.80443462133504,28.80443462133504,28.80443462133504,28.80443462133504,28.80443462133504,28.80443462133504,28.80443462133504,28.80443462133504,28.80443462133504,28.80443462133504,28.80443462133504,28.80443462133504,28.80443462133504,28.80443462133504,28.80443462133504,28.80443462133504,28.80443462133504,28.80443462133504,28.80443462133504,28.80443462133504,28.80443462133504,28.80443462133504,28.80443462133504,28.80443462133504,28.80443462133504,28.80443462133504,28.80443462133504,28.80443462133504,28.80443462133504,28.80443462133504,28.80443462133504,28.80443462133504,28.80443462133504,28.80443462133504,28.80443462133504,28.80443462133504,28.80443462133504,28.80443462133504,28.80443462133504,28.80443462133504,28.80443462133504,28.80443462133504,28.80443462133504,28.80443462133504,28.80443462133504,28.80443462133504,28.80443462133504,28.80443462133504,28.80443462133504,28.80443462133504,28.80443462133504,28.80443462133504,28.80443462133504,28.80443462133504,28.80443462133504,28.80443462133504,28.80443462133504,28.80443462133504,28.80443462133504,28.80443462133504,28.80443462133504,28.80443462133504,28.80443462133504,28.80443462133504,28.80443462133504,28.80443462133504,28.80443462133504,28.80443462133504,28.80443462133504,28.80443462133504]]]}}},\"view\":{\"type\":\"object\",\"name\":\"CDSView\",\"id\":\"p2365\",\"attributes\":{\"filter\":{\"type\":\"object\",\"name\":\"AllIndices\",\"id\":\"p2366\"}}},\"glyph\":{\"type\":\"object\",\"name\":\"Line\",\"id\":\"p2361\",\"attributes\":{\"x\":{\"type\":\"field\",\"field\":\"wvfm_x\"},\"y\":{\"type\":\"field\",\"field\":\"wvfm_y\"},\"line_color\":\"#1f77b4\",\"line_width\":2}},\"nonselection_glyph\":{\"type\":\"object\",\"name\":\"Line\",\"id\":\"p2362\",\"attributes\":{\"x\":{\"type\":\"field\",\"field\":\"wvfm_x\"},\"y\":{\"type\":\"field\",\"field\":\"wvfm_y\"},\"line_color\":\"#1f77b4\",\"line_alpha\":0.1,\"line_width\":2}},\"muted_glyph\":{\"type\":\"object\",\"name\":\"Line\",\"id\":\"p2363\",\"attributes\":{\"x\":{\"type\":\"field\",\"field\":\"wvfm_x\"},\"y\":{\"type\":\"field\",\"field\":\"wvfm_y\"},\"line_color\":\"#1f77b4\",\"line_alpha\":0.2,\"line_width\":2}}}}],\"toolbar\":{\"type\":\"object\",\"name\":\"Toolbar\",\"id\":\"p2334\",\"attributes\":{\"tools\":[{\"type\":\"object\",\"name\":\"PanTool\",\"id\":\"p2347\"},{\"type\":\"object\",\"name\":\"WheelZoomTool\",\"id\":\"p2348\",\"attributes\":{\"renderers\":\"auto\"}},{\"type\":\"object\",\"name\":\"BoxZoomTool\",\"id\":\"p2349\",\"attributes\":{\"overlay\":{\"type\":\"object\",\"name\":\"BoxAnnotation\",\"id\":\"p2350\",\"attributes\":{\"syncable\":false,\"level\":\"overlay\",\"visible\":false,\"left\":{\"type\":\"number\",\"value\":\"nan\"},\"right\":{\"type\":\"number\",\"value\":\"nan\"},\"top\":{\"type\":\"number\",\"value\":\"nan\"},\"bottom\":{\"type\":\"number\",\"value\":\"nan\"},\"left_units\":\"canvas\",\"right_units\":\"canvas\",\"top_units\":\"canvas\",\"bottom_units\":\"canvas\",\"line_color\":\"black\",\"line_alpha\":1.0,\"line_width\":2,\"line_dash\":[4,4],\"fill_color\":\"lightgrey\",\"fill_alpha\":0.5}}}},{\"type\":\"object\",\"name\":\"SaveTool\",\"id\":\"p2355\"},{\"type\":\"object\",\"name\":\"ResetTool\",\"id\":\"p2356\"},{\"type\":\"object\",\"name\":\"HelpTool\",\"id\":\"p2357\"},{\"type\":\"object\",\"name\":\"HoverTool\",\"id\":\"p2367\",\"attributes\":{\"renderers\":\"auto\",\"tooltips\":[[\"(x,y)\",\"(@wvfm_x, @wvfm_y)\"]],\"mode\":\"vline\"}},{\"type\":\"object\",\"name\":\"CrosshairTool\",\"id\":\"p2368\",\"attributes\":{\"dimensions\":\"height\"}}]}},\"left\":[{\"type\":\"object\",\"name\":\"LinearAxis\",\"id\":\"p2342\",\"attributes\":{\"ticker\":{\"type\":\"object\",\"name\":\"BasicTicker\",\"id\":\"p2343\",\"attributes\":{\"mantissas\":[1,2,5]}},\"formatter\":{\"type\":\"object\",\"name\":\"BasicTickFormatter\",\"id\":\"p2344\"},\"axis_label\":\"Waveform\",\"major_label_policy\":{\"type\":\"object\",\"name\":\"AllLabels\",\"id\":\"p2345\"}}}],\"below\":[{\"type\":\"object\",\"name\":\"LinearAxis\",\"id\":\"p2337\",\"attributes\":{\"ticker\":{\"type\":\"object\",\"name\":\"BasicTicker\",\"id\":\"p2338\",\"attributes\":{\"mantissas\":[1,2,5]}},\"formatter\":{\"type\":\"object\",\"name\":\"BasicTickFormatter\",\"id\":\"p2339\"},\"axis_label\":\"Time (us)\",\"major_label_policy\":{\"type\":\"object\",\"name\":\"AllLabels\",\"id\":\"p2340\"}}}],\"center\":[{\"type\":\"object\",\"name\":\"Grid\",\"id\":\"p2341\",\"attributes\":{\"axis\":{\"id\":\"p2337\"}}},{\"type\":\"object\",\"name\":\"Grid\",\"id\":\"p2346\",\"attributes\":{\"dimension\":1,\"axis\":{\"id\":\"p2342\"}}}]}}]}};\n",
       "  const render_items = [{\"docid\":\"3a1efb2e-25f4-4294-a1f7-a86bbbc05d26\",\"roots\":{\"p2326\":\"d4c31b01-60e7-4333-8a14-4a0d5597b57c\"},\"root_ids\":[\"p2326\"]}];\n",
       "  void root.Bokeh.embed.embed_items_notebook(docs_json, render_items);\n",
       "  }\n",
       "  if (root.Bokeh !== undefined) {\n",
       "    embed_document(root);\n",
       "  } else {\n",
       "    let attempts = 0;\n",
       "    const timer = setInterval(function(root) {\n",
       "      if (root.Bokeh !== undefined) {\n",
       "        clearInterval(timer);\n",
       "        embed_document(root);\n",
       "      } else {\n",
       "        attempts++;\n",
       "        if (attempts > 100) {\n",
       "          clearInterval(timer);\n",
       "          console.log(\"Bokeh: ERROR: Unable to run BokehJS code because BokehJS library is missing\");\n",
       "        }\n",
       "      }\n",
       "    }, 10, root)\n",
       "  }\n",
       "})(window);"
      ],
      "application/vnd.bokehjs_exec.v0+json": ""
     },
     "metadata": {
      "application/vnd.bokehjs_exec.v0+json": {
       "id": "p2326"
      }
     },
     "output_type": "display_data"
    }
   ],
   "source": [
    "from bloqade import piecewise_linear\n",
    "\n",
    "T_max = 4.0\n",
    "\n",
    "#Fix Δ according to the desired Rydberg radius\n",
    "Rb = 7.57\n",
    "C6 = 2*np.pi * 862690;\n",
    "Ω_max = 2*np.pi*2.5\n",
    "Δ_max = C6 / Rb**6\n",
    "Δ_start = -Δ_max\n",
    "Δ_end = Δ_max\n",
    "\n",
    "RabiProtocol = piecewise_linear([0.1*T_max, 0.8*T_max, 0.1*T_max],[0.0, Ω_max, Ω_max, 0])\n",
    "DeltaProtocol = piecewise_linear([0.1*T_max, 0.8*T_max, 0.1*T_max],[Δ_start, Δ_start, Δ_end, Δ_end])\n",
    "\n",
    "\n",
    "RabiProtocol.show()\n",
    "DeltaProtocol.show()\n"
   ]
  },
  {
   "cell_type": "markdown",
   "id": "36b33ca3-4fa7-4a31-a2b4-c03bcc04410b",
   "metadata": {},
   "source": [
    "Now we are in the position to run our program using our python simulater as the backend."
   ]
  },
  {
   "cell_type": "code",
   "execution_count": 59,
   "id": "1b08e316-923a-45fd-860a-ae32761c34a6",
   "metadata": {},
   "outputs": [],
   "source": [
    "mis_udg_program=(\n",
    "        lattice.rydberg.rabi.amplitude.uniform.apply(RabiProtocol)\n",
    "        .detuning.uniform.apply(DeltaProtocol)\n",
    ")\n",
    "\n",
    "\n",
    "result = mis_udg_program.bloqade.python().run(100,interaction_picture=True)"
   ]
  },
  {
   "cell_type": "markdown",
   "id": "0153086c-ff57-402d-b0e8-f9ecb15c9ac0",
   "metadata": {},
   "source": [
    "In the previous script, we define the program based on the Rabi and detuning protocols defined beforehand and simulate 100 shots, i.e. simulate 100 runs of the same program. "
   ]
  },
  {
   "cell_type": "markdown",
   "id": "23bc5844-28af-4242-8ccc-a14682338686",
   "metadata": {},
   "source": [
    "### ii) Result analysis"
   ]
  },
  {
   "cell_type": "markdown",
   "id": "e93b6070-4253-45c6-beea-4d3fe619ba3a",
   "metadata": {},
   "source": [
    "Let us take a look at the results obtained from the simulation performed above:"
   ]
  },
  {
   "cell_type": "code",
   "execution_count": 78,
   "id": "4b60710e-4674-40e4-847f-2c0d7f9d3293",
   "metadata": {},
   "outputs": [],
   "source": [
    "report = result.report()"
   ]
  },
  {
   "cell_type": "code",
   "execution_count": 89,
   "id": "c6d6b3ad-8c10-43ad-acc9-edc0b08de950",
   "metadata": {},
   "outputs": [],
   "source": [
    "densities = report.rydberg_densities(filter_perfect_filling=True)\n",
    "bitstrings = report.bitstrings(filter_perfect_filling=True)\n",
    "counts = report.counts(filter_perfect_filling=True)"
   ]
  },
  {
   "cell_type": "code",
   "execution_count": 91,
   "id": "4b055e25-9b61-4a35-841b-c43d02bdb2dc",
   "metadata": {},
   "outputs": [
    {
     "data": {
      "text/html": [
       "<div>\n",
       "<style scoped>\n",
       "    .dataframe tbody tr th:only-of-type {\n",
       "        vertical-align: middle;\n",
       "    }\n",
       "\n",
       "    .dataframe tbody tr th {\n",
       "        vertical-align: top;\n",
       "    }\n",
       "\n",
       "    .dataframe thead th {\n",
       "        text-align: right;\n",
       "    }\n",
       "</style>\n",
       "<table border=\"1\" class=\"dataframe\">\n",
       "  <thead>\n",
       "    <tr style=\"text-align: right;\">\n",
       "      <th></th>\n",
       "      <th>0</th>\n",
       "      <th>1</th>\n",
       "      <th>2</th>\n",
       "      <th>3</th>\n",
       "      <th>4</th>\n",
       "      <th>5</th>\n",
       "      <th>6</th>\n",
       "      <th>7</th>\n",
       "      <th>8</th>\n",
       "      <th>9</th>\n",
       "      <th>10</th>\n",
       "      <th>11</th>\n",
       "      <th>12</th>\n",
       "      <th>13</th>\n",
       "      <th>14</th>\n",
       "      <th>15</th>\n",
       "    </tr>\n",
       "    <tr>\n",
       "      <th>task_number</th>\n",
       "      <th></th>\n",
       "      <th></th>\n",
       "      <th></th>\n",
       "      <th></th>\n",
       "      <th></th>\n",
       "      <th></th>\n",
       "      <th></th>\n",
       "      <th></th>\n",
       "      <th></th>\n",
       "      <th></th>\n",
       "      <th></th>\n",
       "      <th></th>\n",
       "      <th></th>\n",
       "      <th></th>\n",
       "      <th></th>\n",
       "      <th></th>\n",
       "    </tr>\n",
       "  </thead>\n",
       "  <tbody>\n",
       "    <tr>\n",
       "      <th>0</th>\n",
       "      <td>0.85</td>\n",
       "      <td>0.07</td>\n",
       "      <td>0.54</td>\n",
       "      <td>1.0</td>\n",
       "      <td>0.07</td>\n",
       "      <td>1.0</td>\n",
       "      <td>1.0</td>\n",
       "      <td>0.44</td>\n",
       "      <td>0.1</td>\n",
       "      <td>1.0</td>\n",
       "      <td>0.01</td>\n",
       "      <td>0.07</td>\n",
       "      <td>0.87</td>\n",
       "      <td>0.03</td>\n",
       "      <td>0.09</td>\n",
       "      <td>0.81</td>\n",
       "    </tr>\n",
       "  </tbody>\n",
       "</table>\n",
       "</div>"
      ],
      "text/plain": [
       "               0     1     2    3     4    5    6     7    8    9     10  \\\n",
       "task_number                                                                \n",
       "0            0.85  0.07  0.54  1.0  0.07  1.0  1.0  0.44  0.1  1.0  0.01   \n",
       "\n",
       "               11    12    13    14    15  \n",
       "task_number                                \n",
       "0            0.07  0.87  0.03  0.09  0.81  "
      ]
     },
     "execution_count": 91,
     "metadata": {},
     "output_type": "execute_result"
    }
   ],
   "source": [
    "densities"
   ]
  },
  {
   "cell_type": "code",
   "execution_count": null,
   "id": "ad516d56-91d8-488c-a616-264d089a51b1",
   "metadata": {},
   "outputs": [],
   "source": []
  },
  {
   "cell_type": "code",
   "execution_count": null,
   "id": "0012b069-9dd4-4599-a2ad-92d618fafe62",
   "metadata": {},
   "outputs": [],
   "source": []
  },
  {
   "cell_type": "code",
   "execution_count": null,
   "id": "214ba7b8-883c-46e2-aa0a-3a964ab9ef9e",
   "metadata": {},
   "outputs": [],
   "source": []
  }
 ],
 "metadata": {
  "kernelspec": {
   "display_name": "Python 3 (ipykernel)",
   "language": "python",
   "name": "python3"
  },
  "language_info": {
   "codemirror_mode": {
    "name": "ipython",
    "version": 3
   },
   "file_extension": ".py",
   "mimetype": "text/x-python",
   "name": "python",
   "nbconvert_exporter": "python",
   "pygments_lexer": "ipython3",
   "version": "3.11.5"
  }
 },
 "nbformat": 4,
 "nbformat_minor": 5
}
