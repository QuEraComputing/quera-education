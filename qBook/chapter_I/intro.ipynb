{
 "cells": [
  {
   "cell_type": "markdown",
   "id": "d3a22983",
   "metadata": {},
   "source": [
    "<img src=\"./assets/ChapterI.png\" width=\"500\" height=\"auto\" />\n",
    "\n",
    "*Content authors: Pedro Lopes, Alex Khan*"
   ]
  },
  {
   "cell_type": "markdown",
   "id": "8e972189",
   "metadata": {},
   "source": [
    "This is the beginning of your journey to become an expert in quantum computing with neutral atoms! We will focus here on the basic concepts of the technology and target operations of current-day analog quantum computers. Let's get to business!"
   ]
  },
  {
   "cell_type": "markdown",
   "id": "ec0a0fa9-2d37-41e1-9c41-c9386e2c04fa",
   "metadata": {},
   "source": [
    "## Learning Objectives\n",
    "\n",
    "#### By the end of the section, you will be able to:\n",
    "- Explain how neutral atoms can be used as a platform for analog quantum computing\n",
    "- Distinguish analog and digital (gate-based) quantum computing\n",
    "- Operate geometric and time-dependent parameters of analog neutral-atom quantum computers"
   ]
  }
 ],
 "metadata": {
  "kernelspec": {
   "display_name": "Python 3 (ipykernel)",
   "language": "python",
   "name": "python3"
  },
  "language_info": {
   "codemirror_mode": {
    "name": "ipython",
    "version": 3
   },
   "file_extension": ".py",
   "mimetype": "text/x-python",
   "name": "python",
   "nbconvert_exporter": "python",
   "pygments_lexer": "ipython3",
   "version": "3.11.5"
  }
 },
 "nbformat": 4,
 "nbformat_minor": 5
}
