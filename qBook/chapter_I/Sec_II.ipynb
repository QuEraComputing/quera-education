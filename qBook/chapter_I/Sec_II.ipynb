{
 "cells": [
  {
   "cell_type": "markdown",
   "id": "78ca3885",
   "metadata": {},
   "source": [
    "## 2. Quantum computing architectures with neutral atoms\n",
    "\n",
    "### 2a. Analog vs Digital\n",
    "\n",
    "Neutral-atom quantum computers can be operated in two substantially different ways: analog or digital; the latter is also typically called gate-based. The intuitive difference in logic between analog and digital quantum computers is summarized by the following diagram:\n",
    "\n",
    "\n",
    " <img src=\"./assets/analog_digital.png\" width=\"350\" height=\"auto\" />\n",
    "\n",
    "\n",
    "As can be seen, in digital architectures, processing is deployed as a discrete set of instructions via 1- and 2-qubit quantum logic gates. While gate-based quantum computing is easily made universal, the errors introduced by noisy gates make this approach less efficient when quantum coherence is scarce. Gate-based quantum computing cannot achieve its ultimate goals without error correction.\n",
    "\n",
    "Converselly, in analog architectures, a single large quantum unitary gate $U(t)$ operates over several qubits jointly and continuously as function of time. This means that finely controlled instructions are not necessary and calculations are much more efficiently deployed. This is particularly true for simulations of dynamic quantum systems. The larger and more complex unitary $U(t)$, however, is harder to control finely, making analog computers harder to be made universal and fault-tolerant. Still, because of their efficient use of resources, they are ideal machines to be brought beyond the edge of classical simulation in the early days of quantum computing.\n",
    "\n",
    "We will save gate-based quantum computing for future lessons and get started with the analog architecture.\n"
   ]
  },
  {
   "cell_type": "markdown",
   "id": "6f58fc58",
   "metadata": {},
   "source": [
    "### 2b. The routine\n",
    "\n",
    "Neutral-atoms quantum processors are generally composed by atoms held in 2D space by light beams we call laser tweezers or traps. For analog systems, these tweezers are static, so atoms are held at fixed positions throughout a calculation. Still, the general geometry of the processor and connectivity between qubits can be defined by the user, creating a versatile platform.\n",
    "\n",
    "Once a user defines a geometry, the laser traps are first loaded stocastically out of a cold gas of atoms. This happens at about 60% fidelity, which is hardly enough to guarantee a deterministic processor. To solve this problem, our computers incorporate reduntant atoms in reservoir areas around the user processing region. These extra atoms are then sorted into place via mobile tweezers to 99.5% fidelity. An algorithm that leverages parallelization via sorting by rows is used for efficient and fast register assembly. This point brings very real consequences to the geometric constraints actual quantum hardware enforce on the user. Here are a few diagrams and animations to help make these descriptions more concrete.\n",
    "\n",
    "\n",
    " <img src=\"./assets/unsorted.png\" width=\"300\" height=\"145\" />   <img src=\"./assets/sorting.gif\" width=\"300\" height=\"200\" />  <img src=\"./assets/sorted.png\" width=\"300\" height=\"145\" />"
   ]
  },
  {
   "cell_type": "markdown",
   "id": "8fc62bb4",
   "metadata": {},
   "source": [
    "\n",
    "Atoms in place? Time for quantum evolution! We will go through what calculations actually mean in what follows, how to control the processor, and examples later. Before that, let's start with data extraction. Once calculations are done, we extract data from the quantum register in the same way we obtain the sorting images above. We perform fluorescence measurements on the atoms: atoms that are in the ground state absorb light from a new source and emit it back, shining. This process is called fluorescence. Atoms in the Rydbeg state, however, do not fluoresce. They fly away from the trap that previously held them. We get perfect dark spots for atoms that were excited to the Rydberg state.\n",
    "\n",
    "If $|g \\rangle$ and $| r \\rangle$ are the states of our qubits, this process corresponds to a measurement in the computational basis. The computer programmer does not have to bother with image analysis: all that our computers return are lists of 0s and 1s corresponding to atoms in the Rydberg or ground state, respectively. \n",
    "\n",
    "<img src=\"./assets/post.png\" width=\"400\" height=\"auto\" />\n",
    "\n",
    "\n",
    "These bitstrings showcase directly the information of which atoms are excited and which are in the ground state. Bitstrings corresponding to each qubit state are ordered from right to left.\n",
    "\n",
    "*A word of caution: while it is often common to match the ground state of an atom $|g \\rangle>$ with the logical computational basis $| 0 \\rangle$, and the Rydberg state $| r \\rangle$ with a logical $| 1 \\rangle$, the 0s and 1s in the bit strings coming from our computers are reversed with what you may expect. This is because it is more natural to consider shining atoms (thus in their ground states) as logical 1s, and dark atoms (thus in the Rydberg state) as logical 0s when analyzing camera images. When using Bloqade, we take care of fixing this for you, but other SDKs (such as the Amazon Braket one) do not. Be mindful when reading data from different sources.*"
   ]
  }
 ],
 "metadata": {
  "kernelspec": {
   "display_name": "Python 3 (ipykernel)",
   "language": "python",
   "name": "python3"
  },
  "language_info": {
   "codemirror_mode": {
    "name": "ipython",
    "version": 3
   },
   "file_extension": ".py",
   "mimetype": "text/x-python",
   "name": "python",
   "nbconvert_exporter": "python",
   "pygments_lexer": "ipython3",
   "version": "3.11.5"
  }
 },
 "nbformat": 4,
 "nbformat_minor": 5
}
