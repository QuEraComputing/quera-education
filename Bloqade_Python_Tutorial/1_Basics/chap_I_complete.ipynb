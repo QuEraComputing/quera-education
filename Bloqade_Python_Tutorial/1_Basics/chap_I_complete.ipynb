{
 "cells": [
  {
   "cell_type": "code",
   "execution_count": 2,
   "id": "ca1ae0ee",
   "metadata": {},
   "outputs": [
    {
     "data": {
      "text/html": [
       "    <style>\n",
       "        .bk-notebook-logo {\n",
       "            display: block;\n",
       "            width: 20px;\n",
       "            height: 20px;\n",
       "            background-image: url(data:image/png;base64,iVBORw0KGgoAAAANSUhEUgAAABQAAAAUCAYAAACNiR0NAAAABHNCSVQICAgIfAhkiAAAAAlwSFlzAAALEgAACxIB0t1+/AAAABx0RVh0U29mdHdhcmUAQWRvYmUgRmlyZXdvcmtzIENTNui8sowAAAOkSURBVDiNjZRtaJVlGMd/1/08zzln5zjP1LWcU9N0NkN8m2CYjpgQYQXqSs0I84OLIC0hkEKoPtiH3gmKoiJDU7QpLgoLjLIQCpEsNJ1vqUOdO7ppbuec5+V+rj4ctwzd8IIbbi6u+8f1539dt3A78eXC7QizUF7gyV1fD1Yqg4JWz84yffhm0qkFqBogB9rM8tZdtwVsPUhWhGcFJngGeWrPzHm5oaMmkfEg1usvLFyc8jLRqDOMru7AyC8saQr7GG7f5fvDeH7Ej8CM66nIF+8yngt6HWaKh7k49Soy9nXurCi1o3qUbS3zWfrYeQDTB/Qj6kX6Ybhw4B+bOYoLKCC9H3Nu/leUTZ1JdRWkkn2ldcCamzrcf47KKXdAJllSlxAOkRgyHsGC/zRday5Qld9DyoM4/q/rUoy/CXh3jzOu3bHUVZeU+DEn8FInkPBFlu3+nW3Nw0mk6vCDiWg8CeJaxEwuHS3+z5RgY+YBR6V1Z1nxSOfoaPa4LASWxxdNp+VWTk7+4vzaou8v8PN+xo+KY2xsw6une2frhw05CTYOmQvsEhjhWjn0bmXPjpE1+kplmmkP3suftwTubK9Vq22qKmrBhpY4jvd5afdRA3wGjFAgcnTK2s4hY0/GPNIb0nErGMCRxWOOX64Z8RAC4oCXdklmEvcL8o0BfkNK4lUg9HTl+oPlQxdNo3Mg4Nv175e/1LDGzZen30MEjRUtmXSfiTVu1kK8W4txyV6BMKlbgk3lMwYCiusNy9fVfvvwMxv8Ynl6vxoByANLTWplvuj/nF9m2+PDtt1eiHPBr1oIfhCChQMBw6Aw0UulqTKZdfVvfG7VcfIqLG9bcldL/+pdWTLxLUy8Qq38heUIjh4XlzZxzQm19lLFlr8vdQ97rjZVOLf8nclzckbcD4wxXMidpX30sFd37Fv/GtwwhzhxGVAprjbg0gCAEeIgwCZyTV2Z1REEW8O4py0wsjeloKoMr6iCY6dP92H6Vw/oTyICIthibxjm/DfN9lVz8IqtqKYLUXfoKVMVQVVJOElGjrnnUt9T9wbgp8AyYKaGlqingHZU/uG2NTZSVqwHQTWkx9hxjkpWDaCg6Ckj5qebgBVbT3V3NNXMSiWSDdGV3hrtzla7J+duwPOToIg42ChPQOQjspnSlp1V+Gjdged7+8UN5CRAV7a5EdFNwCjEaBR27b3W890TE7g24NAP/mMDXRWrGoFPQI9ls/MWO2dWFAar/xcOIImbbpA3zgAAAABJRU5ErkJggg==);\n",
       "        }\n",
       "    </style>\n",
       "    <div>\n",
       "        <a href=\"https://bokeh.org\" target=\"_blank\" class=\"bk-notebook-logo\"></a>\n",
       "        <span id=\"cd25c42c-b00d-443a-b4f2-453dec09ece6\">Loading BokehJS ...</span>\n",
       "    </div>\n"
      ]
     },
     "metadata": {},
     "output_type": "display_data"
    },
    {
     "data": {
      "application/javascript": "(function(root) {\n  function now() {\n    return new Date();\n  }\n\n  const force = true;\n\n  if (typeof root._bokeh_onload_callbacks === \"undefined\" || force === true) {\n    root._bokeh_onload_callbacks = [];\n    root._bokeh_is_loading = undefined;\n  }\n\nconst JS_MIME_TYPE = 'application/javascript';\n  const HTML_MIME_TYPE = 'text/html';\n  const EXEC_MIME_TYPE = 'application/vnd.bokehjs_exec.v0+json';\n  const CLASS_NAME = 'output_bokeh rendered_html';\n\n  /**\n   * Render data to the DOM node\n   */\n  function render(props, node) {\n    const script = document.createElement(\"script\");\n    node.appendChild(script);\n  }\n\n  /**\n   * Handle when an output is cleared or removed\n   */\n  function handleClearOutput(event, handle) {\n    function drop(id) {\n      const view = Bokeh.index.get_by_id(id)\n      if (view != null) {\n        view.model.document.clear()\n        Bokeh.index.delete(view)\n      }\n    }\n\n    const cell = handle.cell;\n\n    const id = cell.output_area._bokeh_element_id;\n    const server_id = cell.output_area._bokeh_server_id;\n\n    // Clean up Bokeh references\n    if (id != null) {\n      drop(id)\n    }\n\n    if (server_id !== undefined) {\n      // Clean up Bokeh references\n      const cmd_clean = \"from bokeh.io.state import curstate; print(curstate().uuid_to_server['\" + server_id + \"'].get_sessions()[0].document.roots[0]._id)\";\n      cell.notebook.kernel.execute(cmd_clean, {\n        iopub: {\n          output: function(msg) {\n            const id = msg.content.text.trim()\n            drop(id)\n          }\n        }\n      });\n      // Destroy server and session\n      const cmd_destroy = \"import bokeh.io.notebook as ion; ion.destroy_server('\" + server_id + \"')\";\n      cell.notebook.kernel.execute(cmd_destroy);\n    }\n  }\n\n  /**\n   * Handle when a new output is added\n   */\n  function handleAddOutput(event, handle) {\n    const output_area = handle.output_area;\n    const output = handle.output;\n\n    // limit handleAddOutput to display_data with EXEC_MIME_TYPE content only\n    if ((output.output_type != \"display_data\") || (!Object.prototype.hasOwnProperty.call(output.data, EXEC_MIME_TYPE))) {\n      return\n    }\n\n    const toinsert = output_area.element.find(\".\" + CLASS_NAME.split(' ')[0]);\n\n    if (output.metadata[EXEC_MIME_TYPE][\"id\"] !== undefined) {\n      toinsert[toinsert.length - 1].firstChild.textContent = output.data[JS_MIME_TYPE];\n      // store reference to embed id on output_area\n      output_area._bokeh_element_id = output.metadata[EXEC_MIME_TYPE][\"id\"];\n    }\n    if (output.metadata[EXEC_MIME_TYPE][\"server_id\"] !== undefined) {\n      const bk_div = document.createElement(\"div\");\n      bk_div.innerHTML = output.data[HTML_MIME_TYPE];\n      const script_attrs = bk_div.children[0].attributes;\n      for (let i = 0; i < script_attrs.length; i++) {\n        toinsert[toinsert.length - 1].firstChild.setAttribute(script_attrs[i].name, script_attrs[i].value);\n        toinsert[toinsert.length - 1].firstChild.textContent = bk_div.children[0].textContent\n      }\n      // store reference to server id on output_area\n      output_area._bokeh_server_id = output.metadata[EXEC_MIME_TYPE][\"server_id\"];\n    }\n  }\n\n  function register_renderer(events, OutputArea) {\n\n    function append_mime(data, metadata, element) {\n      // create a DOM node to render to\n      const toinsert = this.create_output_subarea(\n        metadata,\n        CLASS_NAME,\n        EXEC_MIME_TYPE\n      );\n      this.keyboard_manager.register_events(toinsert);\n      // Render to node\n      const props = {data: data, metadata: metadata[EXEC_MIME_TYPE]};\n      render(props, toinsert[toinsert.length - 1]);\n      element.append(toinsert);\n      return toinsert\n    }\n\n    /* Handle when an output is cleared or removed */\n    events.on('clear_output.CodeCell', handleClearOutput);\n    events.on('delete.Cell', handleClearOutput);\n\n    /* Handle when a new output is added */\n    events.on('output_added.OutputArea', handleAddOutput);\n\n    /**\n     * Register the mime type and append_mime function with output_area\n     */\n    OutputArea.prototype.register_mime_type(EXEC_MIME_TYPE, append_mime, {\n      /* Is output safe? */\n      safe: true,\n      /* Index of renderer in `output_area.display_order` */\n      index: 0\n    });\n  }\n\n  // register the mime type if in Jupyter Notebook environment and previously unregistered\n  if (root.Jupyter !== undefined) {\n    const events = require('base/js/events');\n    const OutputArea = require('notebook/js/outputarea').OutputArea;\n\n    if (OutputArea.prototype.mime_types().indexOf(EXEC_MIME_TYPE) == -1) {\n      register_renderer(events, OutputArea);\n    }\n  }\n  if (typeof (root._bokeh_timeout) === \"undefined\" || force === true) {\n    root._bokeh_timeout = Date.now() + 5000;\n    root._bokeh_failed_load = false;\n  }\n\n  const NB_LOAD_WARNING = {'data': {'text/html':\n     \"<div style='background-color: #fdd'>\\n\"+\n     \"<p>\\n\"+\n     \"BokehJS does not appear to have successfully loaded. If loading BokehJS from CDN, this \\n\"+\n     \"may be due to a slow or bad network connection. Possible fixes:\\n\"+\n     \"</p>\\n\"+\n     \"<ul>\\n\"+\n     \"<li>re-rerun `output_notebook()` to attempt to load from CDN again, or</li>\\n\"+\n     \"<li>use INLINE resources instead, as so:</li>\\n\"+\n     \"</ul>\\n\"+\n     \"<code>\\n\"+\n     \"from bokeh.resources import INLINE\\n\"+\n     \"output_notebook(resources=INLINE)\\n\"+\n     \"</code>\\n\"+\n     \"</div>\"}};\n\n  function display_loaded() {\n    const el = document.getElementById(\"cd25c42c-b00d-443a-b4f2-453dec09ece6\");\n    if (el != null) {\n      el.textContent = \"BokehJS is loading...\";\n    }\n    if (root.Bokeh !== undefined) {\n      if (el != null) {\n        el.textContent = \"BokehJS \" + root.Bokeh.version + \" successfully loaded.\";\n      }\n    } else if (Date.now() < root._bokeh_timeout) {\n      setTimeout(display_loaded, 100)\n    }\n  }\n\n  function run_callbacks() {\n    try {\n      root._bokeh_onload_callbacks.forEach(function(callback) {\n        if (callback != null)\n          callback();\n      });\n    } finally {\n      delete root._bokeh_onload_callbacks\n    }\n    console.debug(\"Bokeh: all callbacks have finished\");\n  }\n\n  function load_libs(css_urls, js_urls, callback) {\n    if (css_urls == null) css_urls = [];\n    if (js_urls == null) js_urls = [];\n\n    root._bokeh_onload_callbacks.push(callback);\n    if (root._bokeh_is_loading > 0) {\n      console.debug(\"Bokeh: BokehJS is being loaded, scheduling callback at\", now());\n      return null;\n    }\n    if (js_urls == null || js_urls.length === 0) {\n      run_callbacks();\n      return null;\n    }\n    console.debug(\"Bokeh: BokehJS not loaded, scheduling load and callback at\", now());\n    root._bokeh_is_loading = css_urls.length + js_urls.length;\n\n    function on_load() {\n      root._bokeh_is_loading--;\n      if (root._bokeh_is_loading === 0) {\n        console.debug(\"Bokeh: all BokehJS libraries/stylesheets loaded\");\n        run_callbacks()\n      }\n    }\n\n    function on_error(url) {\n      console.error(\"failed to load \" + url);\n    }\n\n    for (let i = 0; i < css_urls.length; i++) {\n      const url = css_urls[i];\n      const element = document.createElement(\"link\");\n      element.onload = on_load;\n      element.onerror = on_error.bind(null, url);\n      element.rel = \"stylesheet\";\n      element.type = \"text/css\";\n      element.href = url;\n      console.debug(\"Bokeh: injecting link tag for BokehJS stylesheet: \", url);\n      document.body.appendChild(element);\n    }\n\n    for (let i = 0; i < js_urls.length; i++) {\n      const url = js_urls[i];\n      const element = document.createElement('script');\n      element.onload = on_load;\n      element.onerror = on_error.bind(null, url);\n      element.async = false;\n      element.src = url;\n      console.debug(\"Bokeh: injecting script tag for BokehJS library: \", url);\n      document.head.appendChild(element);\n    }\n  };\n\n  function inject_raw_css(css) {\n    const element = document.createElement(\"style\");\n    element.appendChild(document.createTextNode(css));\n    document.body.appendChild(element);\n  }\n\n  const js_urls = [\"https://cdn.bokeh.org/bokeh/release/bokeh-3.3.1.min.js\", \"https://cdn.bokeh.org/bokeh/release/bokeh-gl-3.3.1.min.js\", \"https://cdn.bokeh.org/bokeh/release/bokeh-widgets-3.3.1.min.js\", \"https://cdn.bokeh.org/bokeh/release/bokeh-tables-3.3.1.min.js\", \"https://cdn.bokeh.org/bokeh/release/bokeh-mathjax-3.3.1.min.js\"];\n  const css_urls = [];\n\n  const inline_js = [    function(Bokeh) {\n      Bokeh.set_log_level(\"info\");\n    },\nfunction(Bokeh) {\n    }\n  ];\n\n  function run_inline_js() {\n    if (root.Bokeh !== undefined || force === true) {\n          for (let i = 0; i < inline_js.length; i++) {\n      inline_js[i].call(root, root.Bokeh);\n    }\nif (force === true) {\n        display_loaded();\n      }} else if (Date.now() < root._bokeh_timeout) {\n      setTimeout(run_inline_js, 100);\n    } else if (!root._bokeh_failed_load) {\n      console.log(\"Bokeh: BokehJS failed to load within specified timeout.\");\n      root._bokeh_failed_load = true;\n    } else if (force !== true) {\n      const cell = $(document.getElementById(\"cd25c42c-b00d-443a-b4f2-453dec09ece6\")).parents('.cell').data().cell;\n      cell.output_area.append_execute_result(NB_LOAD_WARNING)\n    }\n  }\n\n  if (root._bokeh_is_loading === 0) {\n    console.debug(\"Bokeh: BokehJS loaded, going straight to plotting\");\n    run_inline_js();\n  } else {\n    load_libs(css_urls, js_urls, function() {\n      console.debug(\"Bokeh: BokehJS plotting callback run at\", now());\n      run_inline_js();\n    });\n  }\n}(window));",
      "application/vnd.bokehjs_load.v0+json": ""
     },
     "metadata": {},
     "output_type": "display_data"
    }
   ],
   "source": [
    "from bloqade import rydberg_h, piecewise_linear, piecewise_constant, waveform, cast\n",
    "from bloqade.atom_arrangement import ListOfLocations, Lieb, Square, Chain, Honeycomb, Kagome, Triangular, Rectangular\n",
    "from bokeh.io import output_notebook # to plot \"show()\" on the notebook, without opening a browser\n",
    "import os\n",
    "import matplotlib.pyplot as plt\n",
    "import numpy as np\n",
    "output_notebook()"
   ]
  },
  {
   "cell_type": "markdown",
   "id": "d3a22983",
   "metadata": {},
   "source": [
    "<img src=\"./assets/ChapterI.png\" width=\"500\" height=\"auto\" />"
   ]
  },
  {
   "cell_type": "markdown",
   "id": "8e972189",
   "metadata": {},
   "source": [
    "This is the beginning of your journey to become an expert in quantum computing with neutral atoms! We will focus here on the basic concepts of the technology and target operations of current-day analog quantum computers. Let's get to business!"
   ]
  },
  {
   "cell_type": "markdown",
   "id": "ec0a0fa9-2d37-41e1-9c41-c9386e2c04fa",
   "metadata": {},
   "source": [
    "## Learning Objectives\n",
    "\n",
    "#### By the end of the section, you will be able to:\n",
    "- Explain how neutral atoms can be used as a platform for analog quantum computing\n",
    "- Distinguish analog and digital (gate-based) quantum computing\n",
    "- Operate geometric and time-dependent parameters of analog neutral-atom quantum computers"
   ]
  },
  {
   "cell_type": "markdown",
   "id": "5be01c53",
   "metadata": {},
   "source": [
    "## 1. Qubits by puffing-up atoms\n",
    "\n",
    "<img src=\"./assets/Atom_simplified.png\" width=\"500\" height=\"auto\" />"
   ]
  },
  {
   "cell_type": "markdown",
   "id": "0de753f9",
   "metadata": {},
   "source": [
    "To create a quantum computer, we need to control - typically discrete, even more typically two - states of a quantum system. With neutral-atom technology, we use the electronic degrees of freedom of atoms themselves. These electrons are bound to nuclei and have energy levels fixed in specific orbitals. While complications arise atoms with large nuclei and many electrons, this simplified view is generally a good approximation at least when dealing with the least-bound electrons, some times known as valence electrons.\n",
    "\n",
    "These atomic excitation levels can be controlled by lasers. When applying coherent light with specific frequencies to the atoms, their electrons can absorb the corresponding energy transitioning between states. For QuEra's first generations of technology, we are focusing on rubidium (Rb) 87. Here is where it is located in the periodic table:"
   ]
  },
  {
   "cell_type": "markdown",
   "id": "ef7af0a1",
   "metadata": {},
   "source": [
    "\n",
    "<img src=\"./assets/Periodic_table.png\" width=\"500\" height=\"auto\" />"
   ]
  },
  {
   "cell_type": "markdown",
   "id": "83b2cdd3",
   "metadata": {},
   "source": [
    "The key observation is that because Rb is situated in the first column of the Periodic Table, it contains only a single electron in its outermost shell.\n",
    "\n",
    "When resonant light is applied to these Rb atoms, the outermost shell electron moves from its ground state $| g \\rangle$ state (a 5S state, with principal quantum number $n=5$) to more energetic states. For quantum computing with neutral atoms, a key set of higher-energy states are those with large principal quantum number. These are known as Rydberg states, which we will label $| r \\rangle$. In QuEra's analog quantum computers, we use 70S states (principal quantum number $n=70$). Using these two states, our Rb atoms act like qubits.\n",
    "\n",
    "The size of the quantum electronic clouds around an atom is tied to the atom's degree of excitation. In essence, the excited atom puffs up, increasing the probability of finding the electron at much larger radii. A fun physics fact is that the polarizability of a neutral body grows with its volume. This means that atoms in a Rydberg state (at times called Rydberg atoms), can interact much more strongly via dipolar forces than when in their ground state. This strong interaction is what we use to generate entanglement and perform quantum calculations."
   ]
  },
  {
   "cell_type": "markdown",
   "id": "d39e739b-aacc-4ae5-b05d-96806eac6262",
   "metadata": {},
   "source": [
    "* *Exercise*: Let's compare the 5S ground and 70S Rydberg states. For a hydrogenoid atom (atoms with a single valence electron, like Rb), the mean value of the electron's radial coordinate $|\\vec{r}|$ scales as $\\langle|\\vec{r}|\\rangle \\propto n^2 a_0$, with $a_0= 0.5 \\AA$ the Bohr radius. Estimate the ratio $\\langle|\\vec{r}|\\rangle_{70S}/\\langle|\\vec{r}|\\rangle_{5S}$. How many times larger is the Rydberg state atom relative to when it is in its ground state? What is the typical length scale of the excited atom?"
   ]
  },
  {
   "cell_type": "markdown",
   "id": "7418541e",
   "metadata": {},
   "source": [
    "*ans: ~200x bigger. $0.1 \\mu m$ scale.*"
   ]
  },
  {
   "cell_type": "markdown",
   "id": "d8c8b5e1",
   "metadata": {},
   "source": [
    "> Fun fact: \n",
    ">\n",
    ">Transitions between different electronic states are implemented by absorption and emission of photons. When an atom is in the presence of light with the same energy as a particular energy transition, it (quantumly) absorbs or emits a photon to change between a ground and excited state. \n",
    ">For this process to be coherent, the photons’ electromagnetic field must be frequency stabilized to within ∼ 10 kHz, less than 1 part in $10^{11}$, and is generated by ultra-stable lasers frequency locked to a cavity. This is a challenge of neutral-atom quantum systems: to have a high-fidelity quantum computer, these lasers must be simultaneously ultra-stable and deliver high power. A recent enabling technology has been the development of such lasers, which are highly stable, have the suitable wavelength, and have powers of order 100s of watts.\n"
   ]
  },
  {
   "cell_type": "markdown",
   "id": "78ca3885",
   "metadata": {},
   "source": [
    "## 2. Quantum computing architectures with neutral atoms\n",
    "\n",
    "### 2a. Analog vs Digital\n",
    "\n",
    "Neutral-atom quantum computers can be operated in two substantially different ways: analog or digital; the latter is also typically called gate-based. The intuitive difference in logic between analog and digital quantum computers is summarized by the following diagram:\n",
    "\n",
    "\n",
    " <img src=\"./assets/analog_digital.png\" width=\"350\" height=\"auto\" />\n",
    "\n",
    "\n",
    "As can be seen, in digital architectures, processing is deployed as a discrete set of instructions via 1- and 2-qubit quantum logic gates. While gate-based quantum computing is easily made universal, the errors introduced by noisy gates make this approach less efficient when quantum coherence is scarce. Gate-based quantum computing cannot achieve its ultimate goals without error correction.\n",
    "\n",
    "Converselly, in analog architectures, a single large quantum unitary gate $U(t)$ operates over several qubits jointly and continuously as function of time. This means that finely controlled instructions are not necessary and calculations are much more efficiently deployed. This is particularly true for simulations of dynamic quantum systems. The larger and more complex unitary $U(t)$, however, is harder to control finely, making analog computers harder to be made universal and fault-tolerant. Still, because of their efficient use of resources, they are ideal machines to be brought beyond the edge of classical simulation in the early days of quantum computing.\n",
    "\n",
    "We will save gate-based quantum computing for future lessons and get started with the analog architecture.\n"
   ]
  },
  {
   "cell_type": "markdown",
   "id": "6cf5d20c",
   "metadata": {},
   "source": [
    "* *Exercise*?"
   ]
  },
  {
   "cell_type": "markdown",
   "id": "6f58fc58",
   "metadata": {},
   "source": [
    "### 2b. The routine\n",
    "\n",
    "Neutral-atoms quantum processors are generally composed by atoms held in 2D space by light beams we call laser tweezers or traps. For analog systems, these tweezers are static, so atoms are held at fixed positions throughout a calculation. Still, the general geometry of the processor and connectivity between qubits can be defined by the user, creating a versatile platform.\n",
    "\n",
    "Once a user defines a geometry, the laser traps are first loaded stocastically out of a cold gas of atoms. This happens at about 60% fidelity, which is hardly enough to guarantee a deterministic processor. To solve this problem, our computers incorporate reduntant atoms in reservoir areas around the user processing region. These extra atoms are then sorted into place via mobile tweezers to 99.5% fidelity. An algorithm that leverages parallelization via sorting by rows is used for efficient and fast register assembly. This point brings very real consequences to the geometric constraints actual quantum hardware enforce on the user. Here are a few diagrams and animations to help make these descriptions more concrete.\n",
    "\n",
    "\n",
    " <img src=\"./assets/unsorted.png\" width=\"300\" height=\"145\" />   <img src=\"./assets/sorting.gif\" width=\"300\" height=\"200\" />  <img src=\"./assets/sorted.png\" width=\"300\" height=\"145\" />"
   ]
  },
  {
   "cell_type": "markdown",
   "id": "8fc62bb4",
   "metadata": {},
   "source": [
    "\n",
    "Atoms in place? Time for quantum evolution! We will go through what calculations actually mean in what follows, how to control the processor, and examples later. Before that, let's start with data extraction. Once calculations are done, we extract data from the quantum register in the same way we obtain the sorting images above. We perform fluorescence measurements on the atoms: atoms that are in the ground state absorb light from a new source and emit it back, shining. This process is called fluorescence. Atoms in the Rydbeg state, however, do not fluoresce. They fly away from the trap that previously held them. We get perfect dark spots for atoms that were excited to the Rydberg state.\n",
    "\n",
    "If $|g \\rangle$ and $| r \\rangle$ are the states of our qubits, this process corresponds to a measurement in the computational basis. The computer programmer does not have to bother with image analysis: all that our computers return are lists of 0s and 1s corresponding to atoms in the Rydberg or ground state, respectively. \n",
    "\n",
    "<img src=\"./assets/post.png\" width=\"400\" height=\"auto\" />\n",
    "\n",
    "\n",
    "These bitstrings showcase directly the information of which atoms are excited and which are in the ground state. Bitstrings corresponding to each qubit state are ordered from right to left.\n",
    "\n",
    "*A word of caution: while it is often common to match the ground state of an atom $|g \\rangle>$ with the logical computational basis $| 0 \\rangle$, and the Rydberg state $ r \\rangle$ with a logical $| 1 \\rangle$, the 0s and 1s in the bit strings coming from our computers are reversed with what you may expect. This is because it is more natural to consider shining atoms (thus in their ground states) as logical 1s, and dark atoms (thus in the Rydberg state) as logical 0s when analyzing camera images. When using Bloqade, we take care of fixing this for you, but other SDKs (such as the Amazon Braket one) do not. Be mindful when reading data from different sources.*"
   ]
  },
  {
   "cell_type": "markdown",
   "id": "aa25fb0f",
   "metadata": {},
   "source": [
    "* *Exercise*: provide a geometry of atoms in each state and get reader to tell corresponding bitstring"
   ]
  },
  {
   "cell_type": "markdown",
   "id": "afa19cdf",
   "metadata": {},
   "source": [
    "## 3. A neutral-atom analog quantum processor\n",
    "\n",
    "Now we are in a good shape to look at the features defining an analog neutral-atom quantum computer from a programer's perspective. Here is an example diagram that summarizes the main points:\n",
    "\n",
    "<img src=\"./assets/register_ex.png\" width=\"600\" height=\"auto\" />\n",
    "\n",
    "Qubits are positioned in a 2D plane - the honeycomb lattice in this example. There are two main control knobs: (a) the geometric position of the qubits and (b) the time dependence of the lasers that control their energetics. While (b) comprises the traditional way we think about controlling qubits (pulses of some probe that interacts with qubits generating bitflips, phase gates, etc), the fact that the interaction between atoms depends on their relative distances means that (a) contributes equally to the dynamics of the quantum processor. As different dynamics correspond to different algorithms, both geometric and time-dependent controls are part of solving problems, or algorithm development. \n",
    "\n",
    "<img style=\"float: right;\" src=\"./assets/MIS_ex.png\" width=\"350\" height=\"auto\" />\n",
    "\n",
    "The ability to control the quantum register geometry and inter-qubit connectivity leads to the concept of a \"Field Programmable Qubit Array\" (FPQA). In analogy with traditional embedded systems familiar to many electrical engineers, problem-dependent resource management and distribution allows for efficient problem solving. An example in combinatorial optimization is shown on the right, and we will learn more about this later in the course.\n",
    "\n",
    "Geometry is important, but the time-dependent controls should not be overlooked. These are achieved by an in-plane light - technically composed by more than one laser - represented above by the green field behind the honeycomb register. By juggling with the intensity and phase of the field we are able to control the different parameters that control the qubit dynamics. These include the energy provided to the neutral-atoms to jump from $|g \\rangle$ to Rydberg $|r\\rangle$ states ($\\Omega$), and energy shifts that bring qubits in or out of resonance with their bit-flipping frequencies, resulting on a qubit-dependent extra cost for excitation ($\\Delta$).\n",
    "\n",
    "In this chapter, we will cover the basic concepts regarding geometric (i) and time-dependent (ii) control of analog neutral-atom quantum computers.\n",
    " "
   ]
  },
  {
   "cell_type": "markdown",
   "id": "b22da93a",
   "metadata": {},
   "source": [
    "### 3a. Setting up your own quantum processor\n",
    "\n",
    "\n",
    "#### i) General atomic placement\n",
    "Let's start setting up our first analog quantum computer register. Through this course, we will use QuEra's open package <a href=\"https://bloqade.quera.com/\">Bloqade</a>. Bloqade allows us to seamlessly operate classical emulations as well as submit jobs to real quantum hardware.\n",
    "\n",
    "To get started, let's start by declaring qubit positions by writing"
   ]
  },
  {
   "cell_type": "code",
   "execution_count": 3,
   "id": "1662279a",
   "metadata": {},
   "outputs": [],
   "source": [
    "my_register = ListOfLocations([(0.0, 0.0), (0.0, 5.0), (0.0, 9.0), (5.0, 2.0), (6.0, 7.0), (9.0, 10.0)])"
   ]
  },
  {
   "cell_type": "markdown",
   "id": "93e19245",
   "metadata": {},
   "source": [
    "Bloqade has visualization helpers for several of its functionalities. To take a peek at the register we just created, we do"
   ]
  },
  {
   "cell_type": "code",
   "execution_count": 4,
   "id": "55f6b546",
   "metadata": {},
   "outputs": [
    {
     "data": {
      "text/html": [
       "\n",
       "  <div id=\"b33c6097-233f-4fbb-9cf3-50216bcd32d3\" data-root-id=\"p1071\" style=\"display: contents;\"></div>\n"
      ]
     },
     "metadata": {},
     "output_type": "display_data"
    },
    {
     "data": {
      "application/javascript": "(function(root) {\n  function embed_document(root) {\n  const docs_json = {\"c1a1f49b-2c38-4173-9e4a-b93215f2e93b\":{\"version\":\"3.3.1\",\"title\":\"Bokeh Application\",\"roots\":[{\"type\":\"object\",\"name\":\"Column\",\"id\":\"p1071\",\"attributes\":{\"children\":[{\"type\":\"object\",\"name\":\"Figure\",\"id\":\"p1011\",\"attributes\":{\"width\":400,\"height\":400,\"x_range\":{\"type\":\"object\",\"name\":\"Range1d\",\"id\":\"p1037\",\"attributes\":{\"start\":-1.0,\"end\":11.0}},\"y_range\":{\"type\":\"object\",\"name\":\"Range1d\",\"id\":\"p1038\",\"attributes\":{\"start\":-1.0,\"end\":11.0}},\"x_scale\":{\"type\":\"object\",\"name\":\"LinearScale\",\"id\":\"p1020\"},\"y_scale\":{\"type\":\"object\",\"name\":\"LinearScale\",\"id\":\"p1021\"},\"title\":{\"type\":\"object\",\"name\":\"Title\",\"id\":\"p1018\"},\"renderers\":[{\"type\":\"object\",\"name\":\"GlyphRenderer\",\"id\":\"p1045\",\"attributes\":{\"data_source\":{\"type\":\"object\",\"name\":\"ColumnDataSource\",\"id\":\"p1001\",\"attributes\":{\"selected\":{\"type\":\"object\",\"name\":\"Selection\",\"id\":\"p1002\",\"attributes\":{\"indices\":[],\"line_indices\":[]}},\"selection_policy\":{\"type\":\"object\",\"name\":\"UnionRenderers\",\"id\":\"p1003\"},\"data\":{\"type\":\"map\",\"entries\":[[\"_x\",[0.0,0.0,0.0,5.0,6.0,9.0]],[\"_y\",[0.0,5.0,9.0,2.0,7.0,10.0]],[\"_labels\",[0,1,2,3,4,5]]]}}},\"view\":{\"type\":\"object\",\"name\":\"CDSView\",\"id\":\"p1046\",\"attributes\":{\"filter\":{\"type\":\"object\",\"name\":\"AllIndices\",\"id\":\"p1047\"}}},\"glyph\":{\"type\":\"object\",\"name\":\"Circle\",\"id\":\"p1042\",\"attributes\":{\"x\":{\"type\":\"field\",\"field\":\"_x\"},\"y\":{\"type\":\"field\",\"field\":\"_y\"},\"line_color\":{\"type\":\"value\",\"value\":\"#1f77b4\"},\"fill_color\":{\"type\":\"value\",\"value\":\"#1f77b4\"},\"radius\":{\"type\":\"value\",\"value\":0.15}}},\"nonselection_glyph\":{\"type\":\"object\",\"name\":\"Circle\",\"id\":\"p1043\",\"attributes\":{\"x\":{\"type\":\"field\",\"field\":\"_x\"},\"y\":{\"type\":\"field\",\"field\":\"_y\"},\"line_color\":{\"type\":\"value\",\"value\":\"#1f77b4\"},\"line_alpha\":{\"type\":\"value\",\"value\":0.1},\"fill_color\":{\"type\":\"value\",\"value\":\"#1f77b4\"},\"fill_alpha\":{\"type\":\"value\",\"value\":0.1},\"hatch_alpha\":{\"type\":\"value\",\"value\":0.1},\"radius\":{\"type\":\"value\",\"value\":0.15}}},\"muted_glyph\":{\"type\":\"object\",\"name\":\"Circle\",\"id\":\"p1044\",\"attributes\":{\"x\":{\"type\":\"field\",\"field\":\"_x\"},\"y\":{\"type\":\"field\",\"field\":\"_y\"},\"line_color\":{\"type\":\"value\",\"value\":\"#1f77b4\"},\"line_alpha\":{\"type\":\"value\",\"value\":0.2},\"fill_color\":{\"type\":\"value\",\"value\":\"#1f77b4\"},\"fill_alpha\":{\"type\":\"value\",\"value\":0.2},\"hatch_alpha\":{\"type\":\"value\",\"value\":0.2},\"radius\":{\"type\":\"value\",\"value\":0.15}}}}},{\"type\":\"object\",\"name\":\"GlyphRenderer\",\"id\":\"p1054\",\"attributes\":{\"data_source\":{\"type\":\"object\",\"name\":\"ColumnDataSource\",\"id\":\"p1004\",\"attributes\":{\"selected\":{\"type\":\"object\",\"name\":\"Selection\",\"id\":\"p1005\",\"attributes\":{\"indices\":[],\"line_indices\":[]}},\"selection_policy\":{\"type\":\"object\",\"name\":\"UnionRenderers\",\"id\":\"p1006\"},\"data\":{\"type\":\"map\",\"entries\":[[\"_x\",[]],[\"_y\",[]],[\"_labels\",[]]]}}},\"view\":{\"type\":\"object\",\"name\":\"CDSView\",\"id\":\"p1055\",\"attributes\":{\"filter\":{\"type\":\"object\",\"name\":\"AllIndices\",\"id\":\"p1056\"}}},\"glyph\":{\"type\":\"object\",\"name\":\"Circle\",\"id\":\"p1051\",\"attributes\":{\"x\":{\"type\":\"field\",\"field\":\"_x\"},\"y\":{\"type\":\"field\",\"field\":\"_y\"},\"line_color\":{\"type\":\"value\",\"value\":\"grey\"},\"line_width\":{\"type\":\"value\",\"value\":2.0},\"fill_color\":{\"type\":\"value\",\"value\":\"grey\"},\"fill_alpha\":{\"type\":\"value\",\"value\":0.25},\"hatch_color\":{\"type\":\"value\",\"value\":\"grey\"},\"radius\":{\"type\":\"value\",\"value\":0.15}}},\"nonselection_glyph\":{\"type\":\"object\",\"name\":\"Circle\",\"id\":\"p1052\",\"attributes\":{\"x\":{\"type\":\"field\",\"field\":\"_x\"},\"y\":{\"type\":\"field\",\"field\":\"_y\"},\"line_color\":{\"type\":\"value\",\"value\":\"grey\"},\"line_alpha\":{\"type\":\"value\",\"value\":0.1},\"line_width\":{\"type\":\"value\",\"value\":2.0},\"fill_color\":{\"type\":\"value\",\"value\":\"grey\"},\"fill_alpha\":{\"type\":\"value\",\"value\":0.1},\"hatch_color\":{\"type\":\"value\",\"value\":\"grey\"},\"hatch_alpha\":{\"type\":\"value\",\"value\":0.1},\"radius\":{\"type\":\"value\",\"value\":0.15}}},\"muted_glyph\":{\"type\":\"object\",\"name\":\"Circle\",\"id\":\"p1053\",\"attributes\":{\"x\":{\"type\":\"field\",\"field\":\"_x\"},\"y\":{\"type\":\"field\",\"field\":\"_y\"},\"line_color\":{\"type\":\"value\",\"value\":\"grey\"},\"line_alpha\":{\"type\":\"value\",\"value\":0.2},\"line_width\":{\"type\":\"value\",\"value\":2.0},\"fill_color\":{\"type\":\"value\",\"value\":\"grey\"},\"fill_alpha\":{\"type\":\"value\",\"value\":0.2},\"hatch_color\":{\"type\":\"value\",\"value\":\"grey\"},\"hatch_alpha\":{\"type\":\"value\",\"value\":0.2},\"radius\":{\"type\":\"value\",\"value\":0.15}}}}},{\"type\":\"object\",\"name\":\"GlyphRenderer\",\"id\":\"p1063\",\"attributes\":{\"name\":\"Brad\",\"data_source\":{\"type\":\"object\",\"name\":\"ColumnDataSource\",\"id\":\"p1007\",\"attributes\":{\"selected\":{\"type\":\"object\",\"name\":\"Selection\",\"id\":\"p1008\",\"attributes\":{\"indices\":[],\"line_indices\":[]}},\"selection_policy\":{\"type\":\"object\",\"name\":\"UnionRenderers\",\"id\":\"p1009\"},\"data\":{\"type\":\"map\",\"entries\":[[\"_x\",[0.0,0.0,0.0,5.0,6.0,9.0]],[\"_y\",[0.0,5.0,9.0,2.0,7.0,10.0]],[\"_labels\",[0,1,2,3,4,5]]]}}},\"view\":{\"type\":\"object\",\"name\":\"CDSView\",\"id\":\"p1064\",\"attributes\":{\"filter\":{\"type\":\"object\",\"name\":\"AllIndices\",\"id\":\"p1065\"}}},\"glyph\":{\"type\":\"object\",\"name\":\"Circle\",\"id\":\"p1060\",\"attributes\":{\"x\":{\"type\":\"field\",\"field\":\"_x\"},\"y\":{\"type\":\"field\",\"field\":\"_y\"},\"line_color\":{\"type\":\"value\",\"value\":\"#1f77b4\"},\"line_width\":{\"type\":\"value\",\"value\":1.5},\"fill_color\":{\"type\":\"value\",\"value\":\"#1f77b4\"},\"fill_alpha\":{\"type\":\"value\",\"value\":0.5},\"radius\":{\"type\":\"value\",\"value\":0}}},\"nonselection_glyph\":{\"type\":\"object\",\"name\":\"Circle\",\"id\":\"p1061\",\"attributes\":{\"x\":{\"type\":\"field\",\"field\":\"_x\"},\"y\":{\"type\":\"field\",\"field\":\"_y\"},\"line_color\":{\"type\":\"value\",\"value\":\"#1f77b4\"},\"line_alpha\":{\"type\":\"value\",\"value\":0.1},\"line_width\":{\"type\":\"value\",\"value\":1.5},\"fill_color\":{\"type\":\"value\",\"value\":\"#1f77b4\"},\"fill_alpha\":{\"type\":\"value\",\"value\":0.1},\"hatch_alpha\":{\"type\":\"value\",\"value\":0.1},\"radius\":{\"type\":\"value\",\"value\":0}}},\"muted_glyph\":{\"type\":\"object\",\"name\":\"Circle\",\"id\":\"p1062\",\"attributes\":{\"x\":{\"type\":\"field\",\"field\":\"_x\"},\"y\":{\"type\":\"field\",\"field\":\"_y\"},\"line_color\":{\"type\":\"value\",\"value\":\"#1f77b4\"},\"line_alpha\":{\"type\":\"value\",\"value\":0.2},\"line_width\":{\"type\":\"value\",\"value\":1.5},\"fill_color\":{\"type\":\"value\",\"value\":\"#1f77b4\"},\"fill_alpha\":{\"type\":\"value\",\"value\":0.2},\"hatch_alpha\":{\"type\":\"value\",\"value\":0.2},\"radius\":{\"type\":\"value\",\"value\":0}}}}}],\"toolbar\":{\"type\":\"object\",\"name\":\"Toolbar\",\"id\":\"p1019\",\"attributes\":{\"tools\":[{\"type\":\"object\",\"name\":\"WheelZoomTool\",\"id\":\"p1032\",\"attributes\":{\"renderers\":\"auto\"}},{\"type\":\"object\",\"name\":\"ResetTool\",\"id\":\"p1033\"},{\"type\":\"object\",\"name\":\"UndoTool\",\"id\":\"p1034\"},{\"type\":\"object\",\"name\":\"RedoTool\",\"id\":\"p1035\"},{\"type\":\"object\",\"name\":\"PanTool\",\"id\":\"p1036\"},{\"type\":\"object\",\"name\":\"HoverTool\",\"id\":\"p1010\",\"attributes\":{\"renderers\":\"auto\",\"tooltips\":[[\"(x,y)\",\"(@_x, @_y)\"],[\"index: \",\"@_labels\"]]}}]}},\"toolbar_location\":\"above\",\"left\":[{\"type\":\"object\",\"name\":\"LinearAxis\",\"id\":\"p1027\",\"attributes\":{\"ticker\":{\"type\":\"object\",\"name\":\"BasicTicker\",\"id\":\"p1028\",\"attributes\":{\"mantissas\":[1,2,5]}},\"formatter\":{\"type\":\"object\",\"name\":\"BasicTickFormatter\",\"id\":\"p1029\"},\"major_label_policy\":{\"type\":\"object\",\"name\":\"AllLabels\",\"id\":\"p1030\"}}}],\"below\":[{\"type\":\"object\",\"name\":\"LinearAxis\",\"id\":\"p1022\",\"attributes\":{\"ticker\":{\"type\":\"object\",\"name\":\"BasicTicker\",\"id\":\"p1023\",\"attributes\":{\"mantissas\":[1,2,5]}},\"formatter\":{\"type\":\"object\",\"name\":\"BasicTickFormatter\",\"id\":\"p1024\"},\"major_label_policy\":{\"type\":\"object\",\"name\":\"AllLabels\",\"id\":\"p1025\"}}}],\"center\":[{\"type\":\"object\",\"name\":\"Grid\",\"id\":\"p1026\",\"attributes\":{\"axis\":{\"id\":\"p1022\"}}},{\"type\":\"object\",\"name\":\"Grid\",\"id\":\"p1031\",\"attributes\":{\"dimension\":1,\"axis\":{\"id\":\"p1027\"}}}]}},{\"type\":\"object\",\"name\":\"Row\",\"id\":\"p1070\",\"attributes\":{\"children\":[{\"type\":\"object\",\"name\":\"NumericInput\",\"id\":\"p1066\",\"attributes\":{\"js_property_callbacks\":{\"type\":\"map\",\"entries\":[[\"change:value\",[{\"type\":\"object\",\"name\":\"CustomJS\",\"id\":\"p1069\",\"attributes\":{\"args\":{\"type\":\"map\",\"entries\":[[\"other\",{\"id\":\"p1060\"}]]},\"code\":\"other.radius = this.value\"}}]]]},\"title\":\"Blockade radius (um):\",\"value\":0,\"low\":0,\"mode\":\"float\"}},{\"type\":\"object\",\"name\":\"Button\",\"id\":\"p1067\",\"attributes\":{\"js_event_callbacks\":{\"type\":\"map\",\"entries\":[[\"button_click\",[{\"type\":\"object\",\"name\":\"CustomJS\",\"id\":\"p1068\",\"attributes\":{\"args\":{\"type\":\"map\",\"entries\":[[\"cr\",{\"id\":\"p1063\"}]]},\"code\":\"cr.visible = !cr.visible;\"}}]]]},\"label\":\"Toggle\"}}]}}]}}]}};\n  const render_items = [{\"docid\":\"c1a1f49b-2c38-4173-9e4a-b93215f2e93b\",\"roots\":{\"p1071\":\"b33c6097-233f-4fbb-9cf3-50216bcd32d3\"},\"root_ids\":[\"p1071\"]}];\n  root.Bokeh.embed.embed_items_notebook(docs_json, render_items);\n  }\n  if (root.Bokeh !== undefined) {\n    embed_document(root);\n  } else {\n    let attempts = 0;\n    const timer = setInterval(function(root) {\n      if (root.Bokeh !== undefined) {\n        clearInterval(timer);\n        embed_document(root);\n      } else {\n        attempts++;\n        if (attempts > 100) {\n          clearInterval(timer);\n          console.log(\"Bokeh: ERROR: Unable to run BokehJS code because BokehJS library is missing\");\n        }\n      }\n    }, 10, root)\n  }\n})(window);",
      "application/vnd.bokehjs_exec.v0+json": ""
     },
     "metadata": {
      "application/vnd.bokehjs_exec.v0+json": {
       "id": "p1071"
      }
     },
     "output_type": "display_data"
    }
   ],
   "source": [
    "my_register.show()"
   ]
  },
  {
   "cell_type": "markdown",
   "id": "4c4f196e",
   "metadata": {},
   "source": [
    "hovering your cursor over the atoms - the blue dots - will provide you with information regarding the physical position of choice and which index a given atom is represented by in Bloqade. Note that all positions are declared in $\\mu m$!\n",
    "\n",
    "We also see here a \"blockade radius\" toggle. This allows us to visualize and estimate connectivities, or interactions, between different qubits. The real importance of this tool will not come to play until later in the lectures.\n"
   ]
  },
  {
   "cell_type": "markdown",
   "id": "1f5fa33f",
   "metadata": {},
   "source": [
    "#### ii) Regular atomic placement\n",
    "\n",
    "For many applications, the positioning of qubits of interest follows a regular lattice pattern. Bloqade has shorthand lattice types for several useful lattices, all inside the `atom_arrangement` sub-module. These include the `Chain`, `Square`, `Rectangular`, `Honeycomb`, `Triangular`, `Lieb`, and `Kagome`. These objects are 'atom arrangements' right out of the box, so syntax is much simplified: call any of these geometries as methods, feeding them how many unit cells are desired in each primitive vector direction, and what is the lattice constant of choice (once more, to make sure we all remember, in $\\mu m$).\n",
    "\n",
    "Here goes an example for a uniform square lattice"
   ]
  },
  {
   "cell_type": "code",
   "execution_count": 6,
   "id": "1c066d9b",
   "metadata": {},
   "outputs": [
    {
     "data": {
      "text/html": [
       "\n",
       "  <div id=\"d99c3252-5fbc-4388-8274-97bc00829c27\" data-root-id=\"p1213\" style=\"display: contents;\"></div>\n"
      ]
     },
     "metadata": {},
     "output_type": "display_data"
    },
    {
     "data": {
      "application/javascript": "(function(root) {\n  function embed_document(root) {\n  const docs_json = {\"ebb47790-99a8-4e67-9d5a-97f50c80236f\":{\"version\":\"3.3.1\",\"title\":\"Bokeh Application\",\"roots\":[{\"type\":\"object\",\"name\":\"Column\",\"id\":\"p1213\",\"attributes\":{\"children\":[{\"type\":\"object\",\"name\":\"Figure\",\"id\":\"p1153\",\"attributes\":{\"width\":400,\"height\":400,\"x_range\":{\"type\":\"object\",\"name\":\"Range1d\",\"id\":\"p1179\",\"attributes\":{\"start\":-1.0,\"end\":16.6}},\"y_range\":{\"type\":\"object\",\"name\":\"Range1d\",\"id\":\"p1180\",\"attributes\":{\"start\":-1.0,\"end\":16.6}},\"x_scale\":{\"type\":\"object\",\"name\":\"LinearScale\",\"id\":\"p1162\"},\"y_scale\":{\"type\":\"object\",\"name\":\"LinearScale\",\"id\":\"p1163\"},\"title\":{\"type\":\"object\",\"name\":\"Title\",\"id\":\"p1160\"},\"renderers\":[{\"type\":\"object\",\"name\":\"GlyphRenderer\",\"id\":\"p1187\",\"attributes\":{\"data_source\":{\"type\":\"object\",\"name\":\"ColumnDataSource\",\"id\":\"p1143\",\"attributes\":{\"selected\":{\"type\":\"object\",\"name\":\"Selection\",\"id\":\"p1144\",\"attributes\":{\"indices\":[],\"line_indices\":[]}},\"selection_policy\":{\"type\":\"object\",\"name\":\"UnionRenderers\",\"id\":\"p1145\"},\"data\":{\"type\":\"map\",\"entries\":[[\"_x\",[0.0,0.0,0.0,5.2,5.2,5.2,10.4,10.4,10.4,15.6,15.6,15.6]],[\"_y\",[0.0,5.2,10.4,0.0,5.2,10.4,0.0,5.2,10.4,0.0,5.2,10.4]],[\"_labels\",[0,1,2,3,4,5,6,7,8,9,10,11]]]}}},\"view\":{\"type\":\"object\",\"name\":\"CDSView\",\"id\":\"p1188\",\"attributes\":{\"filter\":{\"type\":\"object\",\"name\":\"AllIndices\",\"id\":\"p1189\"}}},\"glyph\":{\"type\":\"object\",\"name\":\"Circle\",\"id\":\"p1184\",\"attributes\":{\"x\":{\"type\":\"field\",\"field\":\"_x\"},\"y\":{\"type\":\"field\",\"field\":\"_y\"},\"line_color\":{\"type\":\"value\",\"value\":\"#1f77b4\"},\"fill_color\":{\"type\":\"value\",\"value\":\"#1f77b4\"},\"radius\":{\"type\":\"value\",\"value\":0.23399999999999999}}},\"nonselection_glyph\":{\"type\":\"object\",\"name\":\"Circle\",\"id\":\"p1185\",\"attributes\":{\"x\":{\"type\":\"field\",\"field\":\"_x\"},\"y\":{\"type\":\"field\",\"field\":\"_y\"},\"line_color\":{\"type\":\"value\",\"value\":\"#1f77b4\"},\"line_alpha\":{\"type\":\"value\",\"value\":0.1},\"fill_color\":{\"type\":\"value\",\"value\":\"#1f77b4\"},\"fill_alpha\":{\"type\":\"value\",\"value\":0.1},\"hatch_alpha\":{\"type\":\"value\",\"value\":0.1},\"radius\":{\"type\":\"value\",\"value\":0.23399999999999999}}},\"muted_glyph\":{\"type\":\"object\",\"name\":\"Circle\",\"id\":\"p1186\",\"attributes\":{\"x\":{\"type\":\"field\",\"field\":\"_x\"},\"y\":{\"type\":\"field\",\"field\":\"_y\"},\"line_color\":{\"type\":\"value\",\"value\":\"#1f77b4\"},\"line_alpha\":{\"type\":\"value\",\"value\":0.2},\"fill_color\":{\"type\":\"value\",\"value\":\"#1f77b4\"},\"fill_alpha\":{\"type\":\"value\",\"value\":0.2},\"hatch_alpha\":{\"type\":\"value\",\"value\":0.2},\"radius\":{\"type\":\"value\",\"value\":0.23399999999999999}}}}},{\"type\":\"object\",\"name\":\"GlyphRenderer\",\"id\":\"p1196\",\"attributes\":{\"data_source\":{\"type\":\"object\",\"name\":\"ColumnDataSource\",\"id\":\"p1146\",\"attributes\":{\"selected\":{\"type\":\"object\",\"name\":\"Selection\",\"id\":\"p1147\",\"attributes\":{\"indices\":[],\"line_indices\":[]}},\"selection_policy\":{\"type\":\"object\",\"name\":\"UnionRenderers\",\"id\":\"p1148\"},\"data\":{\"type\":\"map\",\"entries\":[[\"_x\",[]],[\"_y\",[]],[\"_labels\",[]]]}}},\"view\":{\"type\":\"object\",\"name\":\"CDSView\",\"id\":\"p1197\",\"attributes\":{\"filter\":{\"type\":\"object\",\"name\":\"AllIndices\",\"id\":\"p1198\"}}},\"glyph\":{\"type\":\"object\",\"name\":\"Circle\",\"id\":\"p1193\",\"attributes\":{\"x\":{\"type\":\"field\",\"field\":\"_x\"},\"y\":{\"type\":\"field\",\"field\":\"_y\"},\"line_color\":{\"type\":\"value\",\"value\":\"grey\"},\"line_width\":{\"type\":\"value\",\"value\":3.12},\"fill_color\":{\"type\":\"value\",\"value\":\"grey\"},\"fill_alpha\":{\"type\":\"value\",\"value\":0.25},\"hatch_color\":{\"type\":\"value\",\"value\":\"grey\"},\"radius\":{\"type\":\"value\",\"value\":0.23399999999999999}}},\"nonselection_glyph\":{\"type\":\"object\",\"name\":\"Circle\",\"id\":\"p1194\",\"attributes\":{\"x\":{\"type\":\"field\",\"field\":\"_x\"},\"y\":{\"type\":\"field\",\"field\":\"_y\"},\"line_color\":{\"type\":\"value\",\"value\":\"grey\"},\"line_alpha\":{\"type\":\"value\",\"value\":0.1},\"line_width\":{\"type\":\"value\",\"value\":3.12},\"fill_color\":{\"type\":\"value\",\"value\":\"grey\"},\"fill_alpha\":{\"type\":\"value\",\"value\":0.1},\"hatch_color\":{\"type\":\"value\",\"value\":\"grey\"},\"hatch_alpha\":{\"type\":\"value\",\"value\":0.1},\"radius\":{\"type\":\"value\",\"value\":0.23399999999999999}}},\"muted_glyph\":{\"type\":\"object\",\"name\":\"Circle\",\"id\":\"p1195\",\"attributes\":{\"x\":{\"type\":\"field\",\"field\":\"_x\"},\"y\":{\"type\":\"field\",\"field\":\"_y\"},\"line_color\":{\"type\":\"value\",\"value\":\"grey\"},\"line_alpha\":{\"type\":\"value\",\"value\":0.2},\"line_width\":{\"type\":\"value\",\"value\":3.12},\"fill_color\":{\"type\":\"value\",\"value\":\"grey\"},\"fill_alpha\":{\"type\":\"value\",\"value\":0.2},\"hatch_color\":{\"type\":\"value\",\"value\":\"grey\"},\"hatch_alpha\":{\"type\":\"value\",\"value\":0.2},\"radius\":{\"type\":\"value\",\"value\":0.23399999999999999}}}}},{\"type\":\"object\",\"name\":\"GlyphRenderer\",\"id\":\"p1205\",\"attributes\":{\"name\":\"Brad\",\"data_source\":{\"type\":\"object\",\"name\":\"ColumnDataSource\",\"id\":\"p1149\",\"attributes\":{\"selected\":{\"type\":\"object\",\"name\":\"Selection\",\"id\":\"p1150\",\"attributes\":{\"indices\":[],\"line_indices\":[]}},\"selection_policy\":{\"type\":\"object\",\"name\":\"UnionRenderers\",\"id\":\"p1151\"},\"data\":{\"type\":\"map\",\"entries\":[[\"_x\",[0.0,0.0,0.0,5.2,5.2,5.2,10.4,10.4,10.4,15.6,15.6,15.6]],[\"_y\",[0.0,5.2,10.4,0.0,5.2,10.4,0.0,5.2,10.4,0.0,5.2,10.4]],[\"_labels\",[0,1,2,3,4,5,6,7,8,9,10,11]]]}}},\"view\":{\"type\":\"object\",\"name\":\"CDSView\",\"id\":\"p1206\",\"attributes\":{\"filter\":{\"type\":\"object\",\"name\":\"AllIndices\",\"id\":\"p1207\"}}},\"glyph\":{\"type\":\"object\",\"name\":\"Circle\",\"id\":\"p1202\",\"attributes\":{\"x\":{\"type\":\"field\",\"field\":\"_x\"},\"y\":{\"type\":\"field\",\"field\":\"_y\"},\"line_color\":{\"type\":\"value\",\"value\":\"#1f77b4\"},\"line_width\":{\"type\":\"value\",\"value\":2.34},\"fill_color\":{\"type\":\"value\",\"value\":\"#1f77b4\"},\"fill_alpha\":{\"type\":\"value\",\"value\":0.5},\"radius\":{\"type\":\"value\",\"value\":0}}},\"nonselection_glyph\":{\"type\":\"object\",\"name\":\"Circle\",\"id\":\"p1203\",\"attributes\":{\"x\":{\"type\":\"field\",\"field\":\"_x\"},\"y\":{\"type\":\"field\",\"field\":\"_y\"},\"line_color\":{\"type\":\"value\",\"value\":\"#1f77b4\"},\"line_alpha\":{\"type\":\"value\",\"value\":0.1},\"line_width\":{\"type\":\"value\",\"value\":2.34},\"fill_color\":{\"type\":\"value\",\"value\":\"#1f77b4\"},\"fill_alpha\":{\"type\":\"value\",\"value\":0.1},\"hatch_alpha\":{\"type\":\"value\",\"value\":0.1},\"radius\":{\"type\":\"value\",\"value\":0}}},\"muted_glyph\":{\"type\":\"object\",\"name\":\"Circle\",\"id\":\"p1204\",\"attributes\":{\"x\":{\"type\":\"field\",\"field\":\"_x\"},\"y\":{\"type\":\"field\",\"field\":\"_y\"},\"line_color\":{\"type\":\"value\",\"value\":\"#1f77b4\"},\"line_alpha\":{\"type\":\"value\",\"value\":0.2},\"line_width\":{\"type\":\"value\",\"value\":2.34},\"fill_color\":{\"type\":\"value\",\"value\":\"#1f77b4\"},\"fill_alpha\":{\"type\":\"value\",\"value\":0.2},\"hatch_alpha\":{\"type\":\"value\",\"value\":0.2},\"radius\":{\"type\":\"value\",\"value\":0}}}}}],\"toolbar\":{\"type\":\"object\",\"name\":\"Toolbar\",\"id\":\"p1161\",\"attributes\":{\"tools\":[{\"type\":\"object\",\"name\":\"WheelZoomTool\",\"id\":\"p1174\",\"attributes\":{\"renderers\":\"auto\"}},{\"type\":\"object\",\"name\":\"ResetTool\",\"id\":\"p1175\"},{\"type\":\"object\",\"name\":\"UndoTool\",\"id\":\"p1176\"},{\"type\":\"object\",\"name\":\"RedoTool\",\"id\":\"p1177\"},{\"type\":\"object\",\"name\":\"PanTool\",\"id\":\"p1178\"},{\"type\":\"object\",\"name\":\"HoverTool\",\"id\":\"p1152\",\"attributes\":{\"renderers\":\"auto\",\"tooltips\":[[\"(x,y)\",\"(@_x, @_y)\"],[\"index: \",\"@_labels\"]]}}]}},\"toolbar_location\":\"above\",\"left\":[{\"type\":\"object\",\"name\":\"LinearAxis\",\"id\":\"p1169\",\"attributes\":{\"ticker\":{\"type\":\"object\",\"name\":\"BasicTicker\",\"id\":\"p1170\",\"attributes\":{\"mantissas\":[1,2,5]}},\"formatter\":{\"type\":\"object\",\"name\":\"BasicTickFormatter\",\"id\":\"p1171\"},\"major_label_policy\":{\"type\":\"object\",\"name\":\"AllLabels\",\"id\":\"p1172\"}}}],\"below\":[{\"type\":\"object\",\"name\":\"LinearAxis\",\"id\":\"p1164\",\"attributes\":{\"ticker\":{\"type\":\"object\",\"name\":\"BasicTicker\",\"id\":\"p1165\",\"attributes\":{\"mantissas\":[1,2,5]}},\"formatter\":{\"type\":\"object\",\"name\":\"BasicTickFormatter\",\"id\":\"p1166\"},\"major_label_policy\":{\"type\":\"object\",\"name\":\"AllLabels\",\"id\":\"p1167\"}}}],\"center\":[{\"type\":\"object\",\"name\":\"Grid\",\"id\":\"p1168\",\"attributes\":{\"axis\":{\"id\":\"p1164\"}}},{\"type\":\"object\",\"name\":\"Grid\",\"id\":\"p1173\",\"attributes\":{\"dimension\":1,\"axis\":{\"id\":\"p1169\"}}}]}},{\"type\":\"object\",\"name\":\"Row\",\"id\":\"p1212\",\"attributes\":{\"children\":[{\"type\":\"object\",\"name\":\"NumericInput\",\"id\":\"p1208\",\"attributes\":{\"js_property_callbacks\":{\"type\":\"map\",\"entries\":[[\"change:value\",[{\"type\":\"object\",\"name\":\"CustomJS\",\"id\":\"p1211\",\"attributes\":{\"args\":{\"type\":\"map\",\"entries\":[[\"other\",{\"id\":\"p1202\"}]]},\"code\":\"other.radius = this.value\"}}]]]},\"title\":\"Blockade radius (um):\",\"value\":0,\"low\":0,\"mode\":\"float\"}},{\"type\":\"object\",\"name\":\"Button\",\"id\":\"p1209\",\"attributes\":{\"js_event_callbacks\":{\"type\":\"map\",\"entries\":[[\"button_click\",[{\"type\":\"object\",\"name\":\"CustomJS\",\"id\":\"p1210\",\"attributes\":{\"args\":{\"type\":\"map\",\"entries\":[[\"cr\",{\"id\":\"p1205\"}]]},\"code\":\"cr.visible = !cr.visible;\"}}]]]},\"label\":\"Toggle\"}}]}}]}}]}};\n  const render_items = [{\"docid\":\"ebb47790-99a8-4e67-9d5a-97f50c80236f\",\"roots\":{\"p1213\":\"d99c3252-5fbc-4388-8274-97bc00829c27\"},\"root_ids\":[\"p1213\"]}];\n  root.Bokeh.embed.embed_items_notebook(docs_json, render_items);\n  }\n  if (root.Bokeh !== undefined) {\n    embed_document(root);\n  } else {\n    let attempts = 0;\n    const timer = setInterval(function(root) {\n      if (root.Bokeh !== undefined) {\n        clearInterval(timer);\n        embed_document(root);\n      } else {\n        attempts++;\n        if (attempts > 100) {\n          clearInterval(timer);\n          console.log(\"Bokeh: ERROR: Unable to run BokehJS code because BokehJS library is missing\");\n        }\n      }\n    }, 10, root)\n  }\n})(window);",
      "application/vnd.bokehjs_exec.v0+json": ""
     },
     "metadata": {
      "application/vnd.bokehjs_exec.v0+json": {
       "id": "p1213"
      }
     },
     "output_type": "display_data"
    }
   ],
   "source": [
    "Square(4,3,lattice_spacing=5.2).show()"
   ]
  },
  {
   "cell_type": "markdown",
   "id": "35541544",
   "metadata": {},
   "source": [
    "While systems organized in lattices such as described above are interesting in their own right, they may lack some spice. To bring a degree of non-uniformity to this, we can randomly drop atoms out of the register. For example,"
   ]
  },
  {
   "cell_type": "code",
   "execution_count": 15,
   "id": "860ec472",
   "metadata": {},
   "outputs": [
    {
     "data": {
      "text/html": [
       "\n",
       "  <div id=\"bdd89ca4-c568-437a-aaef-b5be18b7085a\" data-root-id=\"p1781\" style=\"display: contents;\"></div>\n"
      ]
     },
     "metadata": {},
     "output_type": "display_data"
    },
    {
     "data": {
      "application/javascript": "(function(root) {\n  function embed_document(root) {\n  const docs_json = {\"644ab95f-d5f0-42d7-adbd-b0dd6c08d362\":{\"version\":\"3.3.1\",\"title\":\"Bokeh Application\",\"roots\":[{\"type\":\"object\",\"name\":\"Column\",\"id\":\"p1781\",\"attributes\":{\"children\":[{\"type\":\"object\",\"name\":\"Figure\",\"id\":\"p1721\",\"attributes\":{\"width\":400,\"height\":400,\"x_range\":{\"type\":\"object\",\"name\":\"Range1d\",\"id\":\"p1747\",\"attributes\":{\"start\":-1.0,\"end\":14.5}},\"y_range\":{\"type\":\"object\",\"name\":\"Range1d\",\"id\":\"p1748\",\"attributes\":{\"start\":-1.0,\"end\":14.5}},\"x_scale\":{\"type\":\"object\",\"name\":\"LinearScale\",\"id\":\"p1730\"},\"y_scale\":{\"type\":\"object\",\"name\":\"LinearScale\",\"id\":\"p1731\"},\"title\":{\"type\":\"object\",\"name\":\"Title\",\"id\":\"p1728\"},\"renderers\":[{\"type\":\"object\",\"name\":\"GlyphRenderer\",\"id\":\"p1755\",\"attributes\":{\"data_source\":{\"type\":\"object\",\"name\":\"ColumnDataSource\",\"id\":\"p1711\",\"attributes\":{\"selected\":{\"type\":\"object\",\"name\":\"Selection\",\"id\":\"p1712\",\"attributes\":{\"indices\":[],\"line_indices\":[]}},\"selection_policy\":{\"type\":\"object\",\"name\":\"UnionRenderers\",\"id\":\"p1713\"},\"data\":{\"type\":\"map\",\"entries\":[[\"_x\",[0.0,2.25,2.25,4.5,6.75,6.75,9.0,11.25,9.0,11.25,11.25,13.5,13.5]],[\"_y\",[0.0,1.299038105676658,3.8971143170299736,7.794228634059947,1.299038105676658,3.8971143170299736,7.794228634059947,9.093266739736606,0.0,1.299038105676658,3.8971143170299736,5.196152422706632,7.794228634059947]],[\"_labels\",[0,1,2,3,4,5,6,7,8,9,10,11,12]]]}}},\"view\":{\"type\":\"object\",\"name\":\"CDSView\",\"id\":\"p1756\",\"attributes\":{\"filter\":{\"type\":\"object\",\"name\":\"AllIndices\",\"id\":\"p1757\"}}},\"glyph\":{\"type\":\"object\",\"name\":\"Circle\",\"id\":\"p1752\",\"attributes\":{\"x\":{\"type\":\"field\",\"field\":\"_x\"},\"y\":{\"type\":\"field\",\"field\":\"_y\"},\"line_color\":{\"type\":\"value\",\"value\":\"#1f77b4\"},\"fill_color\":{\"type\":\"value\",\"value\":\"#1f77b4\"},\"radius\":{\"type\":\"value\",\"value\":0.20249999999999999}}},\"nonselection_glyph\":{\"type\":\"object\",\"name\":\"Circle\",\"id\":\"p1753\",\"attributes\":{\"x\":{\"type\":\"field\",\"field\":\"_x\"},\"y\":{\"type\":\"field\",\"field\":\"_y\"},\"line_color\":{\"type\":\"value\",\"value\":\"#1f77b4\"},\"line_alpha\":{\"type\":\"value\",\"value\":0.1},\"fill_color\":{\"type\":\"value\",\"value\":\"#1f77b4\"},\"fill_alpha\":{\"type\":\"value\",\"value\":0.1},\"hatch_alpha\":{\"type\":\"value\",\"value\":0.1},\"radius\":{\"type\":\"value\",\"value\":0.20249999999999999}}},\"muted_glyph\":{\"type\":\"object\",\"name\":\"Circle\",\"id\":\"p1754\",\"attributes\":{\"x\":{\"type\":\"field\",\"field\":\"_x\"},\"y\":{\"type\":\"field\",\"field\":\"_y\"},\"line_color\":{\"type\":\"value\",\"value\":\"#1f77b4\"},\"line_alpha\":{\"type\":\"value\",\"value\":0.2},\"fill_color\":{\"type\":\"value\",\"value\":\"#1f77b4\"},\"fill_alpha\":{\"type\":\"value\",\"value\":0.2},\"hatch_alpha\":{\"type\":\"value\",\"value\":0.2},\"radius\":{\"type\":\"value\",\"value\":0.20249999999999999}}}}},{\"type\":\"object\",\"name\":\"GlyphRenderer\",\"id\":\"p1764\",\"attributes\":{\"data_source\":{\"type\":\"object\",\"name\":\"ColumnDataSource\",\"id\":\"p1714\",\"attributes\":{\"selected\":{\"type\":\"object\",\"name\":\"Selection\",\"id\":\"p1715\",\"attributes\":{\"indices\":[],\"line_indices\":[]}},\"selection_policy\":{\"type\":\"object\",\"name\":\"UnionRenderers\",\"id\":\"p1716\"},\"data\":{\"type\":\"map\",\"entries\":[[\"_x\",[]],[\"_y\",[]],[\"_labels\",[]]]}}},\"view\":{\"type\":\"object\",\"name\":\"CDSView\",\"id\":\"p1765\",\"attributes\":{\"filter\":{\"type\":\"object\",\"name\":\"AllIndices\",\"id\":\"p1766\"}}},\"glyph\":{\"type\":\"object\",\"name\":\"Circle\",\"id\":\"p1761\",\"attributes\":{\"x\":{\"type\":\"field\",\"field\":\"_x\"},\"y\":{\"type\":\"field\",\"field\":\"_y\"},\"line_color\":{\"type\":\"value\",\"value\":\"grey\"},\"line_width\":{\"type\":\"value\",\"value\":2.7},\"fill_color\":{\"type\":\"value\",\"value\":\"grey\"},\"fill_alpha\":{\"type\":\"value\",\"value\":0.25},\"hatch_color\":{\"type\":\"value\",\"value\":\"grey\"},\"radius\":{\"type\":\"value\",\"value\":0.20249999999999999}}},\"nonselection_glyph\":{\"type\":\"object\",\"name\":\"Circle\",\"id\":\"p1762\",\"attributes\":{\"x\":{\"type\":\"field\",\"field\":\"_x\"},\"y\":{\"type\":\"field\",\"field\":\"_y\"},\"line_color\":{\"type\":\"value\",\"value\":\"grey\"},\"line_alpha\":{\"type\":\"value\",\"value\":0.1},\"line_width\":{\"type\":\"value\",\"value\":2.7},\"fill_color\":{\"type\":\"value\",\"value\":\"grey\"},\"fill_alpha\":{\"type\":\"value\",\"value\":0.1},\"hatch_color\":{\"type\":\"value\",\"value\":\"grey\"},\"hatch_alpha\":{\"type\":\"value\",\"value\":0.1},\"radius\":{\"type\":\"value\",\"value\":0.20249999999999999}}},\"muted_glyph\":{\"type\":\"object\",\"name\":\"Circle\",\"id\":\"p1763\",\"attributes\":{\"x\":{\"type\":\"field\",\"field\":\"_x\"},\"y\":{\"type\":\"field\",\"field\":\"_y\"},\"line_color\":{\"type\":\"value\",\"value\":\"grey\"},\"line_alpha\":{\"type\":\"value\",\"value\":0.2},\"line_width\":{\"type\":\"value\",\"value\":2.7},\"fill_color\":{\"type\":\"value\",\"value\":\"grey\"},\"fill_alpha\":{\"type\":\"value\",\"value\":0.2},\"hatch_color\":{\"type\":\"value\",\"value\":\"grey\"},\"hatch_alpha\":{\"type\":\"value\",\"value\":0.2},\"radius\":{\"type\":\"value\",\"value\":0.20249999999999999}}}}},{\"type\":\"object\",\"name\":\"GlyphRenderer\",\"id\":\"p1773\",\"attributes\":{\"name\":\"Brad\",\"data_source\":{\"type\":\"object\",\"name\":\"ColumnDataSource\",\"id\":\"p1717\",\"attributes\":{\"selected\":{\"type\":\"object\",\"name\":\"Selection\",\"id\":\"p1718\",\"attributes\":{\"indices\":[],\"line_indices\":[]}},\"selection_policy\":{\"type\":\"object\",\"name\":\"UnionRenderers\",\"id\":\"p1719\"},\"data\":{\"type\":\"map\",\"entries\":[[\"_x\",[0.0,2.25,2.25,4.5,6.75,6.75,9.0,11.25,9.0,11.25,11.25,13.5,13.5]],[\"_y\",[0.0,1.299038105676658,3.8971143170299736,7.794228634059947,1.299038105676658,3.8971143170299736,7.794228634059947,9.093266739736606,0.0,1.299038105676658,3.8971143170299736,5.196152422706632,7.794228634059947]],[\"_labels\",[0,1,2,3,4,5,6,7,8,9,10,11,12]]]}}},\"view\":{\"type\":\"object\",\"name\":\"CDSView\",\"id\":\"p1774\",\"attributes\":{\"filter\":{\"type\":\"object\",\"name\":\"AllIndices\",\"id\":\"p1775\"}}},\"glyph\":{\"type\":\"object\",\"name\":\"Circle\",\"id\":\"p1770\",\"attributes\":{\"x\":{\"type\":\"field\",\"field\":\"_x\"},\"y\":{\"type\":\"field\",\"field\":\"_y\"},\"line_color\":{\"type\":\"value\",\"value\":\"#1f77b4\"},\"line_width\":{\"type\":\"value\",\"value\":2.025},\"fill_color\":{\"type\":\"value\",\"value\":\"#1f77b4\"},\"fill_alpha\":{\"type\":\"value\",\"value\":0.5},\"radius\":{\"type\":\"value\",\"value\":0}}},\"nonselection_glyph\":{\"type\":\"object\",\"name\":\"Circle\",\"id\":\"p1771\",\"attributes\":{\"x\":{\"type\":\"field\",\"field\":\"_x\"},\"y\":{\"type\":\"field\",\"field\":\"_y\"},\"line_color\":{\"type\":\"value\",\"value\":\"#1f77b4\"},\"line_alpha\":{\"type\":\"value\",\"value\":0.1},\"line_width\":{\"type\":\"value\",\"value\":2.025},\"fill_color\":{\"type\":\"value\",\"value\":\"#1f77b4\"},\"fill_alpha\":{\"type\":\"value\",\"value\":0.1},\"hatch_alpha\":{\"type\":\"value\",\"value\":0.1},\"radius\":{\"type\":\"value\",\"value\":0}}},\"muted_glyph\":{\"type\":\"object\",\"name\":\"Circle\",\"id\":\"p1772\",\"attributes\":{\"x\":{\"type\":\"field\",\"field\":\"_x\"},\"y\":{\"type\":\"field\",\"field\":\"_y\"},\"line_color\":{\"type\":\"value\",\"value\":\"#1f77b4\"},\"line_alpha\":{\"type\":\"value\",\"value\":0.2},\"line_width\":{\"type\":\"value\",\"value\":2.025},\"fill_color\":{\"type\":\"value\",\"value\":\"#1f77b4\"},\"fill_alpha\":{\"type\":\"value\",\"value\":0.2},\"hatch_alpha\":{\"type\":\"value\",\"value\":0.2},\"radius\":{\"type\":\"value\",\"value\":0}}}}}],\"toolbar\":{\"type\":\"object\",\"name\":\"Toolbar\",\"id\":\"p1729\",\"attributes\":{\"tools\":[{\"type\":\"object\",\"name\":\"WheelZoomTool\",\"id\":\"p1742\",\"attributes\":{\"renderers\":\"auto\"}},{\"type\":\"object\",\"name\":\"ResetTool\",\"id\":\"p1743\"},{\"type\":\"object\",\"name\":\"UndoTool\",\"id\":\"p1744\"},{\"type\":\"object\",\"name\":\"RedoTool\",\"id\":\"p1745\"},{\"type\":\"object\",\"name\":\"PanTool\",\"id\":\"p1746\"},{\"type\":\"object\",\"name\":\"HoverTool\",\"id\":\"p1720\",\"attributes\":{\"renderers\":\"auto\",\"tooltips\":[[\"(x,y)\",\"(@_x, @_y)\"],[\"index: \",\"@_labels\"]]}}]}},\"toolbar_location\":\"above\",\"left\":[{\"type\":\"object\",\"name\":\"LinearAxis\",\"id\":\"p1737\",\"attributes\":{\"ticker\":{\"type\":\"object\",\"name\":\"BasicTicker\",\"id\":\"p1738\",\"attributes\":{\"mantissas\":[1,2,5]}},\"formatter\":{\"type\":\"object\",\"name\":\"BasicTickFormatter\",\"id\":\"p1739\"},\"major_label_policy\":{\"type\":\"object\",\"name\":\"AllLabels\",\"id\":\"p1740\"}}}],\"below\":[{\"type\":\"object\",\"name\":\"LinearAxis\",\"id\":\"p1732\",\"attributes\":{\"ticker\":{\"type\":\"object\",\"name\":\"BasicTicker\",\"id\":\"p1733\",\"attributes\":{\"mantissas\":[1,2,5]}},\"formatter\":{\"type\":\"object\",\"name\":\"BasicTickFormatter\",\"id\":\"p1734\"},\"major_label_policy\":{\"type\":\"object\",\"name\":\"AllLabels\",\"id\":\"p1735\"}}}],\"center\":[{\"type\":\"object\",\"name\":\"Grid\",\"id\":\"p1736\",\"attributes\":{\"axis\":{\"id\":\"p1732\"}}},{\"type\":\"object\",\"name\":\"Grid\",\"id\":\"p1741\",\"attributes\":{\"dimension\":1,\"axis\":{\"id\":\"p1737\"}}}]}},{\"type\":\"object\",\"name\":\"Row\",\"id\":\"p1780\",\"attributes\":{\"children\":[{\"type\":\"object\",\"name\":\"NumericInput\",\"id\":\"p1776\",\"attributes\":{\"js_property_callbacks\":{\"type\":\"map\",\"entries\":[[\"change:value\",[{\"type\":\"object\",\"name\":\"CustomJS\",\"id\":\"p1779\",\"attributes\":{\"args\":{\"type\":\"map\",\"entries\":[[\"other\",{\"id\":\"p1770\"}]]},\"code\":\"other.radius = this.value\"}}]]]},\"title\":\"Blockade radius (um):\",\"value\":0,\"low\":0,\"mode\":\"float\"}},{\"type\":\"object\",\"name\":\"Button\",\"id\":\"p1777\",\"attributes\":{\"js_event_callbacks\":{\"type\":\"map\",\"entries\":[[\"button_click\",[{\"type\":\"object\",\"name\":\"CustomJS\",\"id\":\"p1778\",\"attributes\":{\"args\":{\"type\":\"map\",\"entries\":[[\"cr\",{\"id\":\"p1773\"}]]},\"code\":\"cr.visible = !cr.visible;\"}}]]]},\"label\":\"Toggle\"}}]}}]}}]}};\n  const render_items = [{\"docid\":\"644ab95f-d5f0-42d7-adbd-b0dd6c08d362\",\"roots\":{\"p1781\":\"bdd89ca4-c568-437a-aaef-b5be18b7085a\"},\"root_ids\":[\"p1781\"]}];\n  root.Bokeh.embed.embed_items_notebook(docs_json, render_items);\n  }\n  if (root.Bokeh !== undefined) {\n    embed_document(root);\n  } else {\n    let attempts = 0;\n    const timer = setInterval(function(root) {\n      if (root.Bokeh !== undefined) {\n        clearInterval(timer);\n        embed_document(root);\n      } else {\n        attempts++;\n        if (attempts > 100) {\n          clearInterval(timer);\n          console.log(\"Bokeh: ERROR: Unable to run BokehJS code because BokehJS library is missing\");\n        }\n      }\n    }, 10, root)\n  }\n})(window);",
      "application/vnd.bokehjs_exec.v0+json": ""
     },
     "metadata": {
      "application/vnd.bokehjs_exec.v0+json": {
       "id": "p1781"
      }
     },
     "output_type": "display_data"
    }
   ],
   "source": [
    "rng = np.random.default_rng(1234)\n",
    "Honeycomb(3,3, lattice_spacing=4.5).apply_defect_density(0.3, rng=rng).remove_vacant_sites().show()"
   ]
  },
  {
   "cell_type": "markdown",
   "id": "a5ea3bc2",
   "metadata": {},
   "source": [
    "Here we have a honeycomb lattice with 3 unit cells in each of its principal directions and 30% of the qubits dropped out. \n",
    "\n",
    "The Bloqade code above hints at some subtle points of operating quantum hardware. When sending a command to Aquila asking for this register, Aquila generates lasers on all corresponding possible spots of the honeycomb lattice. But applying a defect density says that, when sorting qubits into place, some laser spots must be left empty. To \"free\" the lasers corresponding to the spots empty of qubits, we include the method `remove_vacant_sites()`, which ends up boosting the performance of the quantum computer, if a problem is to be submitted for real hardware."
   ]
  },
  {
   "cell_type": "markdown",
   "id": "32c0bab7",
   "metadata": {},
   "source": [
    "#### iii) Geometric hardware constraints\n",
    "\n",
    "When chosing positions for qubits in a register, we should be aware of the physical constraints imposed by real hardware. Whenever we feed a list of tuples into a `listOfLocations()`, we should remember that this command will go down a pipeline all the way until it reaches controls over laser beams that will position the atoms as desired. These controls, naturally, have finite precision. Furthermore, laser tweezers holding atoms cannot be brought too close to each other, as beams becomes indistinguishable to control cameras and atoms may collide. All of these are part of the physical constraints the physical hardware enforces on the users when design choices on their quantum registers.\n",
    "\n",
    "The diagram below illustrates, with 9 qubits, the key geometric constraints the user must be aware of.\n",
    "\n",
    "<img src=\"./assets/geometries.png\" width=\"600\" height=\"auto\" />\n",
    "\n",
    "In sum, these are:\n",
    "\n",
    "- The qubit register must lie in a 2D plane.\n",
    "- The register must lie in a \"user region\" of $75 \\mu m \\times 76 \\mu m$.\n",
    "- Qubits cannot be positioned closer than $4 \\mu m$  apart, radially.\n",
    "- Qubits can be slid continuously horizontally, but must be positioned along well-defined rows vertically spaced at least $4\\mu m$ apart.\n",
    "- The precision for positioning qubits in a given point in the user region is of $0.1 \\mu m$.\n",
    "\n",
    "These constraints come with various best practices. For instance, it is advisable to prioritize the vertical direction when designing elongated registers. Additionally, whenever feasible, consider producing well-spaced duplicates of your register within the user region to parallelize calculations."
   ]
  },
  {
   "cell_type": "markdown",
   "id": "0804eff9",
   "metadata": {},
   "source": [
    "* *Exercise*: depending on the orientation, a geometric configuration may satisfy geometric constraints more or less easily, impacting possible register sizes and performance. Given a hexagonal lattice, which orientation should be most performant between \"vertical\" and \"horizontal\"? How many rows of atoms would fit inside the user region in each case? ($a_{minv}=8\\mu m$ 9 rows, $a_{minh}=8/ \\sqrt{3} \\mu m$ 16 rows) [draw figure]"
   ]
  },
  {
   "cell_type": "markdown",
   "id": "85fb2fc7",
   "metadata": {},
   "source": [
    "### 3b. Quantum dynamics\n",
    "\n",
    "#### i) Physics of the Algorithm (Time evolution)\n",
    "\n",
    "Any computing algorithm refers to the transformation of information as function of time, starting from an initially controlled state and arriving at a desired final state that corresponds to the answer of a given problem.\n",
    "\n",
    "A quantum algorithm is no different. With this mindset, information is encoded in a quantum state $|\\Psi\\rangle$, whose time evolution is controlled by the laws of quantum mechanics via the Schrödinger equation\n",
    "\n",
    "\\begin{equation}\n",
    "i \\hbar \\frac{\\partial}{\\partial t} |\\Psi\\rangle = \\mathcal{H}(t) |\\Psi\\rangle\n",
    "\\end{equation}\n",
    "\n",
    "Here, $\\hbar$ is the reduced Planck's constant, $i$ is the imaginary number, and, most importantly, \n",
    "\n",
    "The most general form of the equation is shown below. The left side states the $\\mathcal{H}$ is the Hamiltonian operator that modifies the state $|\\Psi\\rangle$ as time passes. On a digital quantum computer, the Hamiltonian is controlled in a discrete way, with pulses in time that generate quantum logic operations in a qubit. At that point, one may forget the explicit Schrödinger equation and follow the evolution of the state step by step. For analog machines, in contrast, Schrödinger's equation is the favored picture, as programming is achieved by smoothly controlling $\\mathcal{H}$. \n",
    "\n",
    "Analog quantum computing programs tend to be heuristic. Algorithm development thus requires intimate understanding of a system's dynamic and, to achieve that, requires clear knowledge of the system Hamiltonian and how it can be manipulated."
   ]
  },
  {
   "cell_type": "markdown",
   "id": "c6a5c06e-9d8f-4a2c-82e6-eaa8dc67db70",
   "metadata": {},
   "source": [
    "#### ii) The Rydberg-interaction Hamiltonian\n",
    "\n",
    "The energetics and time evolution of our analog quantum processor is controlled by the following Hamiltonian\n",
    "\n",
    "$$\n",
    "\\frac{\\mathcal{H}(t)}{\\hbar} = \\sum_i \\frac{\\Omega(t)}{2} \\left( e^{i \\phi(t) } | g_i \\rangle  \\langle r_i | + e^{-i \\phi(t) } | r_i \\rangle  \\langle g_i | \\right) - \\sum_i \\Delta(t) \\hat{n}_i + \\sum_{i < j} V_{ij} \\hat{n}_i \\hat{n}_j.\n",
    "$$\n",
    "\n",
    "In this expression, $| g_i \\rangle$ or $| r_i \\rangle$ correspond to the two possible states of qubit $i$ - that is, our computational basis - and $\\hat{n}_i = | r_i \\rangle \\langle r_i |$ counts excitations to the Rydberg state. Each time-dependent term in the Hamiltonian is under the dynamic control of the user, and we call these time-varying controls *waveforms*. The last term $V_{ij}$, in contrast, can also be manipulated by the user but only geometrically.\n",
    "\n",
    "Lets look at each term in the Hamiltonian individually.\n",
    "\n",
    "The first term:\n",
    "\n",
    "\n",
    "$ \\sum_i \\frac{\\Omega(t)}{2} \\left( e^{i \\phi(t) } | g_i \\rangle  \\langle r_i | + e^{-i \\phi(t) } | r_i \\rangle  \\langle g_i | \\right)  $\n",
    "\n",
    "contains two time-dependent parameters: $\\Omega$, known as the \"Rabi amplitude\", and $\\phi$, which is a complex phase. As can be seen, this Hamiltonian term is off-diagonal in the computational basis, and is responsible for qubit flips. For isolated qubits, a drive with a finite constant $\\Omega$ would lead to Rabi oscillations, hence its name. This is also closely related with $X$ gates in gate-based quantum computing. The phase $\\phi$ enables changing the rotation axis in the Bloch sphere, thus enabling the exchange of $X$-like rotations to $Y$-like rotations.\n",
    "\n",
    "The next term:\n",
    "\n",
    "$\\sum_i \\Delta(t) \\hat{n}_i$\n",
    "\n",
    "is controled one waveform $\\Delta$, which we call the \"detuning\". Since, writing more explicitly,\n",
    "\n",
    "$\\hat{n}_i= 0|g_i \\rangle  \\langle g_i | + 1| r_i \\rangle  \\langle r_i |, $  \n",
    "\n",
    "this term is diagonal in the computational basis. Thus, higher or lower values of $\\Delta$ enable directly favoring or disfavoring the occupation of Rydberg states for a given qubit $i$. \n",
    "\n",
    "Finally, we can look at the last term in the Hamiltonian:\n",
    "\n",
    "$\\sum_{i < j} V_{ij} \\hat{n}_i \\hat{n}_j.$\n",
    "\n",
    "This is a very important term, as it controls the interactions between different qubits. Without it, there can be no entanglement. This is known as a 2-body-term, as it depends on qubits $i$ and $j$ pairwise. The energy scale reads\n",
    "\n",
    "$V_{ij}=\\frac{C_6}{d_{ij}^6},$\n",
    "\n",
    "where $C_6/2\\pi=862,690 MHz \\mu m^6$ is a constant and $d_{ij}$ is the Euclidean distance between qubits $i$ and $j$ on the plane.\n",
    "\n",
    "This interaction imparts a positive energy cost to the Hamiltonian, and thus a repulsive interaction between qubits. Since $V_{ij}$, decays with the distance between the qubits to the 6th power, qubits that are too close can contribute unbearably high-energies to the system if they happen to be both excited at once (i.e. when $\\hat{n}_i \\hat{n}_j = 1 \\times 1 = 1$). This is the source for entanglement in the quantum computing dynamics, and allows for conditional excitations (and thus is somewhat related to controlled logic quantum gates, like $CZ$ gates, in gate-based quantum computing).\n"
   ]
  },
  {
   "cell_type": "markdown",
   "id": "15e8cb2e",
   "metadata": {},
   "source": [
    "> #### Derivation of the atomic Hamiltonian in the presence of a laser [worth doing, but this is not enough]\n",
    ">\n",
    "> Consider an atom described by a Hamiltonian with two electronic energy levels $|a \\rangle$ and $|b \\rangle$. There are two terms in the Hamiltonian: \n",
    ">\n",
    ">The first is the coupling term from the diapole moment $d$ between states caused by the time-dependent electric field\n",
    "$E(t) = E_0 cos(\\omega_0 t + \\phi)$ of the laser operating.\n",
    ">\n",
    ">\n",
    ">Here $\\omega_0$ is the angular frequency, and the product of the dipole moment is typically denoted by $-E_0d = \\Omega$, the **Rabi frequency**.\n",
    ">\n",
    ">The second is the difference in the energies $\\omega_a$ and $\\omega_b$ of the states, typically measured as the ionization energy of the electron (in eV or MHz).\n",
    ">\n",
    ">Through a number of steps of derivation, the Hamiltonian becomes:\n",
    ">\n",
    "> $$\n",
    "> H = \\frac{\\Omega}{2}e^{i\\phi}|a\\rangle\\langle b| +\\frac{\\Omega}{2}e^{i\\phi}|b\\rangle\\langle a| + (\\omega_b - \\omega_a - \\omega_0)|b\\rangle\\langle b|\n",
    "> $$\n",
    ">\n",
    ">The **Rabi frequency $\\Omega$** is the charactistic frequency at which the atom is driven between states $|𝑎\\rangle$ and $|𝑏\\rangle$. Thevalue $\\omega_b − \\omega_a  − \\omega_0  = −\\Delta$, which represents how off-resonant the laser is from the atomic energy transition, is called the detuning $\\Delta$. The value $\\phi$, which is set by the time offset of the laser drive, is called the **phase $\\phi$** and can always be set to zero at the beginning of the quantum evolution by 𝑈(1) symmetry. While this derivation was done in a time-independent setting for only two states of one atom, it naturally extends to more states, atoms, and timedependent parameters $\\Omega$, $\\Delta$, $\\phi$ under reasonable assumptions on the laser modulation bandwidth."
   ]
  },
  {
   "cell_type": "markdown",
   "id": "81584bea",
   "metadata": {},
   "source": [
    "#### iii) Declaring waveforms\n",
    "\n",
    "To generate waveforms on Bloqade, the most basic form involves creating `piecewise_linear()` functions. While Bloqade can also generate smooth waveforms, piecewise-linear functions are what Aquila, our actual quantum computer, ingests. \n",
    "\n",
    "To declare a piecewise-linear waveform, we provide two lists: the first containing the durations of each linear segment, and another containing the values of the segments in their end points. The second list always contains one more entry than the first.\n",
    "\n",
    "Let's see an example,"
   ]
  },
  {
   "cell_type": "code",
   "execution_count": 5,
   "id": "847ce947",
   "metadata": {},
   "outputs": [
    {
     "data": {
      "text/html": [
       "\n",
       "  <div id=\"d4a64eca-8694-4207-ab96-215dcc07f76b\" data-root-id=\"p1047\" style=\"display: contents;\"></div>\n"
      ]
     },
     "metadata": {},
     "output_type": "display_data"
    },
    {
     "data": {
      "application/javascript": "(function(root) {\n  function embed_document(root) {\n  const docs_json = {\"c01c77c8-eb1e-4ebe-9332-09d0adac517f\":{\"version\":\"3.3.1\",\"title\":\"Bokeh Application\",\"roots\":[{\"type\":\"object\",\"name\":\"Figure\",\"id\":\"p1047\",\"attributes\":{\"aspect_ratio\":4.705882352941177,\"sizing_mode\":\"scale_both\",\"x_range\":{\"type\":\"object\",\"name\":\"DataRange1d\",\"id\":\"p1048\"},\"y_range\":{\"type\":\"object\",\"name\":\"DataRange1d\",\"id\":\"p1049\"},\"x_scale\":{\"type\":\"object\",\"name\":\"LinearScale\",\"id\":\"p1056\"},\"y_scale\":{\"type\":\"object\",\"name\":\"LinearScale\",\"id\":\"p1057\"},\"title\":{\"type\":\"object\",\"name\":\"Title\",\"id\":\"p1054\"},\"renderers\":[{\"type\":\"object\",\"name\":\"GlyphRenderer\",\"id\":\"p1081\",\"attributes\":{\"data_source\":{\"type\":\"object\",\"name\":\"ColumnDataSource\",\"id\":\"p1044\",\"attributes\":{\"selected\":{\"type\":\"object\",\"name\":\"Selection\",\"id\":\"p1045\",\"attributes\":{\"indices\":[],\"line_indices\":[]}},\"selection_policy\":{\"type\":\"object\",\"name\":\"UnionRenderers\",\"id\":\"p1046\"},\"data\":{\"type\":\"map\",\"entries\":[[\"wvfm_x\",{\"type\":\"ndarray\",\"array\":{\"type\":\"bytes\",\"data\":\"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\"},\"shape\":[1001],\"dtype\":\"float64\",\"order\":\"little\"}],[\"wvfm_y\",[0.0,0.15707963267948966,0.3141592653589793,0.47123889803846897,0.6283185307179586,0.7853981633974483,0.9424777960769379,1.0995574287564276,1.2566370614359172,1.4137166941154071,1.5707963267948966,1.7278759594743862,1.8849555921538759,2.042035224833366,2.199114857512855,2.356194490192345,2.5132741228718345,2.670353755551324,2.8274333882308142,2.9845130209103035,3.141592653589793,3.2986722862692828,3.4557519189487724,3.612831551628262,3.7699111843077517,3.9269908169872414,4.084070449666732,4.241150082346221,4.39822971502571,4.5553093477052,4.71238898038469,4.869468613064179,5.026548245743669,5.183627878423159,5.340707511102648,5.497787143782138,5.6548667764616285,5.811946409141117,5.969026041820607,6.126105674500097,6.283185307179586,6.440264939859076,6.5973445725385655,6.754424205218056,6.911503837897545,7.0685834705770345,7.225663103256524,7.382742735936014,7.5398223686155035,7.696902001294993,7.853981633974483,8.011061266653973,8.168140899333464,8.325220532012953,8.482300164692441,8.639379797371932,8.79645943005142,8.953539062730911,9.1106186954104,9.26769832808989,9.42477796076938,9.58185759344887,9.738937226128359,9.89601685880785,10.053096491487338,10.210176124166829,10.367255756846317,10.524335389525808,10.681415022205297,10.838494654884787,10.995574287564276,11.152653920243766,11.309733552923257,11.466813185602746,11.623892818282235,11.780972450961725,11.938052083641214,12.095131716320704,12.252211349000193,12.409290981679684,12.566370614359172,12.723450247038663,12.880529879718152,13.037609512397642,13.194689145077131,13.351768777756622,13.508848410436112,13.665928043115601,13.82300767579509,13.98008730847458,14.137166941154069,14.29424657383356,14.451326206513048,14.608405839192539,14.765485471872028,14.922565104551518,15.079644737231007,15.236724369910498,15.393804002589986,15.550883635269477,15.707963267948966,15.707963267948966,15.707963267948966,15.707963267948966,15.707963267948966,15.707963267948966,15.707963267948966,15.707963267948966,15.707963267948966,15.707963267948966,15.707963267948966,15.707963267948966,15.707963267948966,15.707963267948966,15.707963267948966,15.707963267948966,15.707963267948966,15.707963267948966,15.707963267948966,15.707963267948966,15.707963267948966,15.707963267948966,15.707963267948966,15.707963267948966,15.707963267948966,15.707963267948966,15.707963267948966,15.707963267948966,15.707963267948966,15.707963267948966,15.707963267948966,15.707963267948966,15.707963267948966,15.707963267948966,15.707963267948966,15.707963267948966,15.707963267948966,15.707963267948966,15.707963267948966,15.707963267948966,15.707963267948966,15.707963267948966,15.707963267948966,15.707963267948966,15.707963267948966,15.707963267948966,15.707963267948966,15.707963267948966,15.707963267948966,15.707963267948966,15.707963267948966,15.707963267948966,15.707963267948966,15.707963267948966,15.707963267948966,15.707963267948966,15.707963267948966,15.707963267948966,15.707963267948966,15.707963267948966,15.707963267948966,15.707963267948966,15.707963267948966,15.707963267948966,15.707963267948966,15.707963267948966,15.707963267948966,15.707963267948966,15.707963267948966,15.707963267948966,15.707963267948966,15.707963267948966,15.707963267948966,15.707963267948966,15.707963267948966,15.707963267948966,15.707963267948966,15.707963267948966,15.707963267948966,15.707963267948966,15.707963267948966,15.707963267948966,15.707963267948966,15.707963267948966,15.707963267948966,15.707963267948966,15.707963267948966,15.707963267948966,15.707963267948966,15.707963267948966,15.707963267948966,15.707963267948966,15.707963267948966,15.707963267948966,15.707963267948966,15.707963267948966,15.707963267948966,15.707963267948966,15.707963267948966,15.707963267948966,15.707963267948966,15.707963267948966,15.707963267948966,15.707963267948966,15.707963267948966,15.707963267948966,15.707963267948966,15.707963267948966,15.707963267948966,15.707963267948966,15.707963267948966,15.707963267948966,15.707963267948966,15.707963267948966,15.707963267948966,15.707963267948966,15.707963267948966,15.707963267948966,15.707963267948966,15.707963267948966,15.707963267948966,15.707963267948966,15.707963267948966,15.707963267948966,15.707963267948966,15.707963267948966,15.707963267948966,15.707963267948966,15.707963267948966,15.707963267948966,15.707963267948966,15.707963267948966,15.707963267948966,15.707963267948966,15.707963267948966,15.707963267948966,15.707963267948966,15.707963267948966,15.707963267948966,15.707963267948966,15.707963267948966,15.707963267948966,15.707963267948966,15.707963267948966,15.707963267948966,15.707963267948966,15.707963267948966,15.707963267948966,15.707963267948966,15.707963267948966,15.707963267948966,15.707963267948966,15.707963267948966,15.707963267948966,15.707963267948966,15.707963267948966,15.707963267948966,15.707963267948966,15.707963267948966,15.707963267948966,15.707963267948966,15.707963267948966,15.707963267948966,15.707963267948966,15.707963267948966,15.707963267948966,15.707963267948966,15.707963267948966,15.707963267948966,15.707963267948966,15.707963267948966,15.707963267948966,15.707963267948966,15.707963267948966,15.707963267948966,15.707963267948966,15.707963267948966,15.707963267948966,15.707963267948966,15.707963267948966,15.707963267948966,15.707963267948966,15.707963267948966,15.707963267948966,15.707963267948966,15.707963267948966,15.707963267948966,15.707963267948966,15.707963267948966,15.707963267948966,15.707963267948966,15.707963267948966,15.707963267948966,15.707963267948966,15.707963267948966,15.707963267948966,15.707963267948966,15.707963267948966,15.707963267948966,15.707963267948966,15.707963267948966,15.707963267948966,15.707963267948966,15.707963267948966,15.707963267948966,15.707963267948966,15.707963267948966,15.707963267948966,15.707963267948966,15.707963267948966,15.707963267948966,15.707963267948966,15.707963267948966,15.707963267948966,15.707963267948966,15.707963267948966,15.707963267948966,15.707963267948966,15.707963267948966,15.707963267948966,15.707963267948966,15.707963267948966,15.707963267948966,15.707963267948966,15.707963267948966,15.707963267948966,15.707963267948966,15.707963267948966,15.707963267948966,15.707963267948966,15.707963267948966,15.707963267948966,15.707963267948966,15.707963267948966,15.707963267948966,15.707963267948966,15.707963267948966,15.707963267948966,15.707963267948966,15.707963267948966,15.707963267948966,15.707963267948966,15.707963267948966,15.707963267948966,15.707963267948966,15.707963267948966,15.707963267948966,15.707963267948966,15.707963267948966,15.707963267948966,15.707963267948966,15.707963267948966,15.707963267948966,15.707963267948966,15.707963267948966,15.707963267948966,15.707963267948966,15.707963267948966,15.707963267948966,15.707963267948966,15.707963267948966,15.707963267948966,15.707963267948966,15.707963267948966,15.707963267948966,15.707963267948966,15.707963267948966,15.707963267948966,15.707963267948966,15.707963267948966,15.707963267948966,15.707963267948966,15.707963267948966,15.707963267948966,15.707963267948966,15.707963267948966,15.707963267948966,15.707963267948966,15.707963267948966,15.707963267948966,15.707963267948966,15.707963267948966,15.707963267948966,15.707963267948966,15.707963267948966,15.707963267948966,15.707963267948966,15.707963267948966,15.707963267948966,15.707963267948966,15.707963267948966,15.707963267948966,15.707963267948966,15.707963267948966,15.707963267948966,15.707963267948966,15.707963267948966,15.707963267948966,15.707963267948966,15.707963267948966,15.707963267948966,15.707963267948966,15.707963267948966,15.707963267948966,15.707963267948966,15.707963267948966,15.707963267948966,15.707963267948966,15.707963267948966,15.707963267948966,15.707963267948966,15.707963267948966,15.707963267948966,15.707963267948966,15.707963267948966,15.707963267948966,15.707963267948966,15.707963267948966,15.707963267948966,15.707963267948966,15.707963267948966,15.707963267948966,15.707963267948966,15.707963267948966,15.707963267948966,15.707963267948966,15.707963267948966,15.707963267948966,15.707963267948966,15.707963267948966,15.707963267948966,15.707963267948966,15.707963267948966,15.707963267948966,15.707963267948966,15.707963267948966,15.707963267948966,15.707963267948966,15.707963267948966,15.707963267948966,15.707963267948966,15.707963267948966,15.707963267948966,15.707963267948966,15.707963267948966,15.707963267948966,15.707963267948966,15.707963267948966,15.707963267948966,15.707963267948966,15.707963267948966,15.707963267948966,15.707963267948966,15.707963267948966,15.707963267948966,15.707963267948966,15.707963267948966,15.707963267948966,15.707963267948966,15.707963267948966,15.707963267948966,15.707963267948966,15.707963267948966,15.707963267948966,15.707963267948966,15.707963267948966,15.707963267948966,15.707963267948966,15.707963267948966,15.707963267948966,15.707963267948966,15.707963267948966,15.707963267948966,15.707963267948966,15.707963267948966,15.707963267948966,15.707963267948966,15.707963267948966,15.707963267948966,15.707963267948966,15.707963267948966,15.707963267948966,15.707963267948966,15.707963267948966,15.707963267948966,15.707963267948966,15.707963267948966,15.707963267948966,15.707963267948966,15.707963267948966,15.707963267948966,15.707963267948966,15.707963267948966,15.707963267948966,15.707963267948966,15.707963267948966,15.707963267948966,15.707963267948966,15.707963267948966,15.707963267948966,15.707963267948966,15.707963267948966,15.707963267948966,15.707963267948966,15.707963267948966,15.707963267948966,15.707963267948966,15.707963267948966,15.707963267948966,15.707963267948966,15.707963267948966,15.707963267948966,15.707963267948966,15.707963267948966,15.707963267948966,15.707963267948966,15.707963267948966,15.707963267948966,15.707963267948966,15.707963267948966,15.707963267948966,15.707963267948966,15.707963267948966,15.707963267948966,15.707963267948966,15.707963267948966,15.707963267948966,15.707963267948966,15.707963267948966,15.707963267948966,15.707963267948966,15.707963267948966,15.707963267948966,15.707963267948966,15.707963267948966,15.707963267948966,15.707963267948966,15.707963267948966,15.707963267948966,15.707963267948966,15.707963267948966,15.707963267948966,15.707963267948966,15.707963267948966,15.707963267948966,15.707963267948966,15.707963267948966,15.707963267948966,15.707963267948966,15.707963267948966,15.707963267948966,15.707963267948966,15.707963267948966,15.707963267948966,15.707963267948966,15.707963267948966,15.707963267948966,15.707963267948966,15.707963267948966,15.707963267948966,15.707963267948966,15.707963267948966,15.707963267948966,15.707963267948966,15.707963267948966,15.707963267948966,15.707963267948966,15.707963267948966,15.707963267948966,15.707963267948966,15.707963267948966,15.707963267948966,15.707963267948966,15.707963267948966,15.707963267948966,15.707963267948966,15.707963267948966,15.707963267948966,15.707963267948966,15.707963267948966,15.707963267948966,15.707963267948966,15.707963267948966,15.707963267948966,15.707963267948966,15.707963267948966,15.707963267948966,15.707963267948966,15.707963267948966,15.707963267948966,15.707963267948966,15.707963267948966,15.707963267948966,15.707963267948966,15.707963267948966,15.707963267948966,15.707963267948966,15.707963267948966,15.707963267948966,15.707963267948966,15.707963267948966,15.707963267948966,15.707963267948966,15.707963267948966,15.707963267948966,15.707963267948966,15.707963267948966,15.707963267948966,15.707963267948966,15.707963267948966,15.707963267948966,15.707963267948966,15.707963267948966,15.707963267948966,15.707963267948966,15.707963267948966,15.707963267948966,15.707963267948966,15.707963267948966,15.707963267948966,15.707963267948966,15.707963267948966,15.707963267948966,15.707963267948966,15.707963267948966,15.707963267948966,15.707963267948966,15.707963267948966,15.707963267948966,15.707963267948966,15.707963267948966,15.707963267948966,15.707963267948966,15.707963267948966,15.707963267948966,15.707963267948966,15.707963267948966,15.707963267948966,15.707963267948966,15.707963267948966,15.707963267948966,15.707963267948966,15.707963267948966,15.707963267948966,15.707963267948966,15.707963267948966,15.707963267948966,15.707963267948966,15.707963267948966,15.707963267948966,15.707963267948966,15.707963267948966,15.707963267948966,15.707963267948966,15.707963267948966,15.707963267948966,15.707963267948966,15.707963267948966,15.707963267948966,15.707963267948966,15.707963267948966,15.707963267948966,15.707963267948966,15.707963267948966,15.707963267948966,15.707963267948966,15.707963267948966,15.707963267948966,15.707963267948966,15.707963267948966,15.707963267948966,15.707963267948966,15.707963267948966,15.707963267948966,15.707963267948966,15.707963267948966,15.707963267948966,15.707963267948966,15.707963267948966,15.707963267948966,15.707963267948966,15.707963267948966,15.707963267948966,15.707963267948966,15.707963267948966,15.707963267948966,15.707963267948966,15.707963267948966,15.707963267948966,15.707963267948966,15.707963267948966,15.707963267948966,15.707963267948966,15.707963267948966,15.707963267948966,15.707963267948966,15.707963267948966,15.707963267948966,15.707963267948966,15.707963267948966,15.707963267948966,15.707963267948966,15.707963267948966,15.707963267948966,15.707963267948966,15.707963267948966,15.707963267948966,15.707963267948966,15.707963267948966,15.707963267948966,15.707963267948966,15.707963267948966,15.707963267948966,15.707963267948966,15.707963267948966,15.707963267948966,15.707963267948966,15.707963267948966,15.707963267948966,15.707963267948966,15.707963267948966,15.707963267948966,15.707963267948966,15.707963267948966,15.707963267948966,15.707963267948966,15.707963267948966,15.707963267948966,15.707963267948966,15.707963267948966,15.707963267948966,15.707963267948966,15.707963267948966,15.707963267948966,15.707963267948966,15.707963267948966,15.707963267948966,15.707963267948966,15.707963267948966,15.707963267948966,15.707963267948966,15.707963267948966,15.707963267948966,15.707963267948966,15.707963267948966,15.707963267948966,15.707963267948966,15.707963267948966,15.707963267948966,15.707963267948966,15.707963267948966,15.707963267948966,15.707963267948966,15.707963267948966,15.707963267948966,15.707963267948966,15.707963267948966,15.707963267948966,15.707963267948966,15.707963267948966,15.707963267948966,15.707963267948966,15.707963267948966,15.707963267948966,15.707963267948966,15.707963267948966,15.707963267948966,15.707963267948966,15.707963267948966,15.707963267948966,15.707963267948966,15.707963267948966,15.707963267948966,15.707963267948966,15.707963267948966,15.707963267948966,15.707963267948966,15.707963267948966,15.707963267948966,15.707963267948966,15.707963267948966,15.707963267948966,15.707963267948966,15.707963267948966,15.707963267948966,15.707963267948966,15.707963267948966,15.707963267948966,15.707963267948966,15.707963267948966,15.707963267948966,15.707963267948966,15.707963267948966,15.707963267948966,15.707963267948966,15.707963267948966,15.707963267948966,15.707963267948966,15.707963267948966,15.707963267948966,15.707963267948966,15.707963267948966,15.707963267948966,15.707963267948966,15.707963267948966,15.707963267948966,15.707963267948966,15.707963267948966,15.707963267948966,15.707963267948966,15.707963267948966,15.707963267948966,15.707963267948966,15.707963267948966,15.707963267948966,15.707963267948966,15.707963267948966,15.707963267948966,15.707963267948966,15.707963267948966,15.707963267948966,15.707963267948966,15.707963267948966,15.707963267948966,15.707963267948966,15.707963267948966,15.707963267948966,15.707963267948966,15.707963267948966,15.707963267948966,15.707963267948966,15.707963267948966,15.707963267948966,15.707963267948966,15.707963267948966,15.707963267948966,15.707963267948966,15.707963267948966,15.707963267948966,15.707963267948966,15.707963267948966,15.707963267948966,15.707963267948966,15.707963267948966,15.707963267948966,15.707963267948966,15.707963267948966,15.707963267948966,15.707963267948966,15.707963267948966,15.707963267948966,15.707963267948966,15.707963267948966,15.707963267948966,15.707963267948966,15.707963267948966,15.707963267948966,15.707963267948966,15.707963267948966,15.707963267948966,15.707963267948966,15.707963267948966,15.707963267948966,15.707963267948966,15.707963267948966,15.707963267948966,15.707963267948966,15.707963267948966,15.707963267948966,15.707963267948966,15.707963267948966,15.707963267948966,15.707963267948966,15.707963267948966,15.707963267948966,15.707963267948966,15.707963267948966,15.707963267948966,15.707963267948966,15.707963267948966,15.707963267948966,15.707963267948966,15.707963267948966,15.707963267948966,15.707963267948966,15.707963267948966,15.707963267948966,15.707963267948966,15.707963267948966,15.707963267948966,15.707963267948966,15.707963267948966,15.707963267948966,15.707963267948966,15.707963267948966,15.707963267948966,15.707963267948966,15.707963267948966,15.707963267948966,15.707963267948966,15.707963267948966,15.550883635269477,15.393804002589986,15.236724369910498,15.079644737231007,14.922565104551518,14.765485471872028,14.608405839192539,14.451326206513048,14.29424657383356,14.137166941154069,13.98008730847458,13.82300767579509,13.665928043115601,13.50884841043611,13.351768777756622,13.194689145077131,13.037609512397642,12.880529879718152,12.723450247038663,12.566370614359172,12.409290981679684,12.252211349000193,12.095131716320704,11.938052083641214,11.780972450961725,11.623892818282235,11.466813185602746,11.309733552923255,11.152653920243766,10.995574287564276,10.838494654884787,10.681415022205297,10.524335389525808,10.367255756846317,10.210176124166829,10.053096491487338,9.89601685880785,9.738937226128352,9.581857593448861,9.424777960769372,9.267698328089882,9.110618695410393,8.953539062730902,8.796459430051414,8.639379797371923,8.482300164692429,8.32522053201294,8.16814089933345,8.011061266653961,7.853981633974471,7.696902001294982,7.539822368615492,7.382742735936002,7.225663103256513,7.068583470577023,6.911503837897533,6.754424205218044,6.597344572538554,6.440264939859064,6.283185307179586,6.126105674500097,5.969026041820607,5.811946409141117,5.654866776461628,5.497787143782138,5.340707511102648,5.183627878423159,5.026548245743669,4.869468613064179,4.71238898038469,4.5553093477052,4.39822971502571,4.241150082346221,4.084070449666731,3.9269908169872414,3.7699111843077517,3.612831551628262,3.4557519189487724,3.2986722862692828,3.141592653589793,2.9845130209103035,2.827433388230814,2.670353755551324,2.5132741228718345,2.356194490192345,2.199114857512855,2.0420352248333655,1.8849555921538759,1.7278759594743862,1.5707963267948966,1.413716694115407,1.2566370614359172,1.0995574287564276,0.9424777960769379,0.7853981633974483,0.6283185307179586,0.47123889803846897,0.3141592653589793,0.15707963267948966,0.0]]]}}},\"view\":{\"type\":\"object\",\"name\":\"CDSView\",\"id\":\"p1082\",\"attributes\":{\"filter\":{\"type\":\"object\",\"name\":\"AllIndices\",\"id\":\"p1083\"}}},\"glyph\":{\"type\":\"object\",\"name\":\"Line\",\"id\":\"p1078\",\"attributes\":{\"x\":{\"type\":\"field\",\"field\":\"wvfm_x\"},\"y\":{\"type\":\"field\",\"field\":\"wvfm_y\"},\"line_color\":\"#1f77b4\",\"line_width\":2}},\"nonselection_glyph\":{\"type\":\"object\",\"name\":\"Line\",\"id\":\"p1079\",\"attributes\":{\"x\":{\"type\":\"field\",\"field\":\"wvfm_x\"},\"y\":{\"type\":\"field\",\"field\":\"wvfm_y\"},\"line_color\":\"#1f77b4\",\"line_alpha\":0.1,\"line_width\":2}},\"muted_glyph\":{\"type\":\"object\",\"name\":\"Line\",\"id\":\"p1080\",\"attributes\":{\"x\":{\"type\":\"field\",\"field\":\"wvfm_x\"},\"y\":{\"type\":\"field\",\"field\":\"wvfm_y\"},\"line_color\":\"#1f77b4\",\"line_alpha\":0.2,\"line_width\":2}}}}],\"toolbar\":{\"type\":\"object\",\"name\":\"Toolbar\",\"id\":\"p1055\",\"attributes\":{\"tools\":[{\"type\":\"object\",\"name\":\"PanTool\",\"id\":\"p1068\"},{\"type\":\"object\",\"name\":\"WheelZoomTool\",\"id\":\"p1069\",\"attributes\":{\"renderers\":\"auto\"}},{\"type\":\"object\",\"name\":\"BoxZoomTool\",\"id\":\"p1070\",\"attributes\":{\"overlay\":{\"type\":\"object\",\"name\":\"BoxAnnotation\",\"id\":\"p1071\",\"attributes\":{\"syncable\":false,\"level\":\"overlay\",\"visible\":false,\"left_units\":\"canvas\",\"right_units\":\"canvas\",\"top_units\":\"canvas\",\"bottom_units\":\"canvas\",\"line_color\":\"black\",\"line_alpha\":1.0,\"line_width\":2,\"line_dash\":[4,4],\"fill_color\":\"lightgrey\",\"fill_alpha\":0.5}}}},{\"type\":\"object\",\"name\":\"SaveTool\",\"id\":\"p1072\"},{\"type\":\"object\",\"name\":\"ResetTool\",\"id\":\"p1073\"},{\"type\":\"object\",\"name\":\"HelpTool\",\"id\":\"p1074\"},{\"type\":\"object\",\"name\":\"HoverTool\",\"id\":\"p1084\",\"attributes\":{\"renderers\":\"auto\",\"tooltips\":[[\"(x,y)\",\"(@wvfm_x, @wvfm_y)\"]],\"mode\":\"vline\"}},{\"type\":\"object\",\"name\":\"CrosshairTool\",\"id\":\"p1085\",\"attributes\":{\"dimensions\":\"height\"}}]}},\"left\":[{\"type\":\"object\",\"name\":\"LinearAxis\",\"id\":\"p1063\",\"attributes\":{\"ticker\":{\"type\":\"object\",\"name\":\"BasicTicker\",\"id\":\"p1064\",\"attributes\":{\"mantissas\":[1,2,5]}},\"formatter\":{\"type\":\"object\",\"name\":\"BasicTickFormatter\",\"id\":\"p1065\"},\"axis_label\":\"Waveform\",\"major_label_policy\":{\"type\":\"object\",\"name\":\"AllLabels\",\"id\":\"p1066\"}}}],\"below\":[{\"type\":\"object\",\"name\":\"LinearAxis\",\"id\":\"p1058\",\"attributes\":{\"ticker\":{\"type\":\"object\",\"name\":\"BasicTicker\",\"id\":\"p1059\",\"attributes\":{\"mantissas\":[1,2,5]}},\"formatter\":{\"type\":\"object\",\"name\":\"BasicTickFormatter\",\"id\":\"p1060\"},\"axis_label\":\"Time (us)\",\"major_label_policy\":{\"type\":\"object\",\"name\":\"AllLabels\",\"id\":\"p1061\"}}}],\"center\":[{\"type\":\"object\",\"name\":\"Grid\",\"id\":\"p1062\",\"attributes\":{\"axis\":{\"id\":\"p1058\"}}},{\"type\":\"object\",\"name\":\"Grid\",\"id\":\"p1067\",\"attributes\":{\"dimension\":1,\"axis\":{\"id\":\"p1063\"}}}]}}]}};\n  const render_items = [{\"docid\":\"c01c77c8-eb1e-4ebe-9332-09d0adac517f\",\"roots\":{\"p1047\":\"d4a64eca-8694-4207-ab96-215dcc07f76b\"},\"root_ids\":[\"p1047\"]}];\n  root.Bokeh.embed.embed_items_notebook(docs_json, render_items);\n  }\n  if (root.Bokeh !== undefined) {\n    embed_document(root);\n  } else {\n    let attempts = 0;\n    const timer = setInterval(function(root) {\n      if (root.Bokeh !== undefined) {\n        clearInterval(timer);\n        embed_document(root);\n      } else {\n        attempts++;\n        if (attempts > 100) {\n          clearInterval(timer);\n          console.log(\"Bokeh: ERROR: Unable to run BokehJS code because BokehJS library is missing\");\n        }\n      }\n    }, 10, root)\n  }\n})(window);",
      "application/vnd.bokehjs_exec.v0+json": ""
     },
     "metadata": {
      "application/vnd.bokehjs_exec.v0+json": {
       "id": "p1047"
      }
     },
     "output_type": "display_data"
    }
   ],
   "source": [
    "durations = [0.4,3.2,0.4]\n",
    "values_MHz = [0.0,2.5,2.5,0.0]\n",
    "values_radsec = [i * 2*np.pi for i in values_MHz]\n",
    "\n",
    "waveform1 = piecewise_linear(durations, values_radsec)\n",
    "\n",
    "waveform1.show()"
   ]
  },
  {
   "cell_type": "markdown",
   "id": "c6ab1a6c",
   "metadata": {},
   "source": [
    "An important fact that we should reiterate: all energetic parameters are *always* interpreted by Bloqade in units fo $rad/s$. However, numbers in $MHz$ units are usually simpler for user analysis. Thus, it is common practice to do as above, and create values in $MHz$ units, and then converting them to $rad/s$ by multiplying by adequate factors of $2\\pi$."
   ]
  },
  {
   "cell_type": "markdown",
   "id": "0a30158f",
   "metadata": {},
   "source": [
    "Another waveform generating function that is relevant to know is `piecewise_constant()`. The way of operation is quite similar as above, but the number of elements in the durations and values lists must match. For example:"
   ]
  },
  {
   "cell_type": "code",
   "execution_count": 17,
   "id": "b0469ef3",
   "metadata": {},
   "outputs": [
    {
     "data": {
      "text/html": [
       "\n",
       "  <div id=\"e145d6b0-5dc1-48ea-86dc-92d9317c24c6\" data-root-id=\"p1090\" style=\"display: contents;\"></div>\n"
      ]
     },
     "metadata": {},
     "output_type": "display_data"
    },
    {
     "data": {
      "application/javascript": "(function(root) {\n  function embed_document(root) {\n  const docs_json = {\"fa893a8c-639c-452d-a26e-63509618158a\":{\"version\":\"3.3.1\",\"title\":\"Bokeh Application\",\"roots\":[{\"type\":\"object\",\"name\":\"Figure\",\"id\":\"p1090\",\"attributes\":{\"aspect_ratio\":4.705882352941177,\"sizing_mode\":\"scale_both\",\"x_range\":{\"type\":\"object\",\"name\":\"DataRange1d\",\"id\":\"p1091\"},\"y_range\":{\"type\":\"object\",\"name\":\"DataRange1d\",\"id\":\"p1092\"},\"x_scale\":{\"type\":\"object\",\"name\":\"LinearScale\",\"id\":\"p1099\"},\"y_scale\":{\"type\":\"object\",\"name\":\"LinearScale\",\"id\":\"p1100\"},\"title\":{\"type\":\"object\",\"name\":\"Title\",\"id\":\"p1097\"},\"renderers\":[{\"type\":\"object\",\"name\":\"GlyphRenderer\",\"id\":\"p1124\",\"attributes\":{\"data_source\":{\"type\":\"object\",\"name\":\"ColumnDataSource\",\"id\":\"p1087\",\"attributes\":{\"selected\":{\"type\":\"object\",\"name\":\"Selection\",\"id\":\"p1088\",\"attributes\":{\"indices\":[],\"line_indices\":[]}},\"selection_policy\":{\"type\":\"object\",\"name\":\"UnionRenderers\",\"id\":\"p1089\"},\"data\":{\"type\":\"map\",\"entries\":[[\"wvfm_x\",{\"type\":\"ndarray\",\"array\":{\"type\":\"bytes\",\"data\":\"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\"},\"shape\":[1001],\"dtype\":\"float64\",\"order\":\"little\"}],[\"wvfm_y\",[0.0,0.0,0.0,0.0,0.0,0.0,0.0,0.0,0.0,0.0,0.0,0.0,0.0,0.0,0.0,0.0,0.0,0.0,0.0,0.0,0.0,0.0,0.0,0.0,0.0,0.0,0.0,0.0,0.0,0.0,0.0,0.0,0.0,0.0,0.0,0.0,0.0,0.0,0.0,0.0,0.0,0.0,0.0,0.0,0.0,0.0,0.0,0.0,0.0,0.0,0.0,0.0,0.0,0.0,0.0,0.0,0.0,0.0,0.0,0.0,0.0,0.0,0.0,0.0,0.0,0.0,0.0,0.0,0.0,0.0,0.0,0.0,0.0,0.0,0.0,0.0,0.0,0.0,0.0,0.0,0.0,0.0,0.0,0.0,0.0,0.0,0.0,0.0,0.0,0.0,0.0,0.0,0.0,0.0,0.0,0.0,0.0,0.0,0.0,0.0,0.0,0.0,0.0,0.0,0.0,0.0,0.0,0.0,0.0,0.0,0.0,0.0,0.0,0.0,0.0,0.0,0.0,0.0,0.0,0.0,0.0,0.0,0.0,0.0,0.0,0.0,0.0,0.0,0.0,0.0,0.0,0.0,0.0,0.0,0.0,0.0,0.0,0.0,0.0,0.0,0.0,0.0,0.0,0.0,0.0,0.0,0.0,0.0,0.0,0.0,0.0,0.0,0.0,0.0,0.0,0.0,0.0,0.0,0.0,0.0,0.0,0.0,0.0,0.0,0.0,0.0,0.0,0.0,0.0,0.0,0.0,0.0,0.0,0.0,0.0,0.0,0.0,0.0,0.0,0.0,0.0,0.0,0.0,0.0,0.0,0.0,0.0,0.0,0.0,0.0,0.0,0.0,0.0,0.0,0.0,0.0,0.0,0.0,0.0,0.0,0.0,0.0,0.0,0.0,0.0,0.0,0.0,0.0,0.0,0.0,0.0,0.0,0.0,0.0,0.0,0.0,0.0,0.0,0.0,0.0,0.0,0.0,0.0,0.0,0.0,0.0,0.0,0.0,0.0,0.0,0.0,0.0,0.0,0.0,0.0,0.0,0.0,0.0,0.0,0.0,0.0,0.0,0.0,0.0,0.0,0.0,0.0,0.0,0.0,0.0,0.0,0.0,0.0,0.0,0.0,0.0,0.0,0.0,0.0,0.0,0.0,0.0,0.0,0.0,0.0,0.0,0.0,0.0,0.0,0.0,0.0,0.0,0.0,0.0,0.0,0.0,0.0,0.0,0.0,0.0,0.0,0.0,0.0,0.0,0.0,0.0,0.0,0.0,0.0,0.0,0.0,0.0,0.0,0.0,0.0,0.0,0.0,0.0,0.0,0.0,0.0,0.0,0.0,0.0,0.0,0.0,0.0,0.0,0.0,0.0,0.0,0.0,0.0,0.0,0.0,0.0,0.0,0.0,0.0,0.0,0.0,0.0,0.0,0.0,0.0,0.0,0.0,0.0,0.0,0.0,0.0,0.0,0.0,0.0,0.0,0.0,0.0,0.0,0.0,0.0,0.0,0.0,0.0,0.0,0.0,0.0,0.0,0.0,0.0,0.0,0.0,0.0,0.0,0.0,0.0,0.0,0.0,0.0,0.0,0.0,0.0,0.0,0.0,0.0,0.0,0.0,0.0,0.0,0.0,0.0,0.0,0.0,0.0,0.0,0.0,0.0,0.0,0.0,0.0,0.0,0.0,0.0,0.0,0.0,0.0,0.0,0.0,0.0,0.0,0.0,0.0,0.0,0.0,0.0,0.0,0.0,0.0,0.0,0.0,0.0,0.0,0.0,0.0,0.0,0.0,0.0,0.0,0.0,0.0,0.0,0.0,0.0,0.0,0.0,0.0,0.0,0.0,0.0,0.0,0.0,0.0,0.0,0.0,0.0,0.0,0.0,0.0,0.0,0.0,0.0,0.0,0.0,0.0,0.0,0.0,0.0,0.0,0.0,0.0,0.0,0.0,0.0,0.0,0.0,0.0,0.0,0.0,0.0,0.0,0.0,0.0,0.0,0.0,0.0,0.0,0.0,0.0,0.0,0.0,0.0,0.0,0.0,0.0,0.0,0.0,0.0,0.0,0.0,0.0,0.0,0.0,0.0,0.0,0.0,0.0,0.0,0.0,0.0,0.0,0.0,0.0,0.0,0.0,0.0,0.0,0.0,0.0,0.0,0.0,0.0,0.0,0.0,0.0,0.0,0.0,0.0,0.0,0.0,0.0,0.0,0.0,3.141592653589793,3.141592653589793,3.141592653589793,3.141592653589793,3.141592653589793,3.141592653589793,3.141592653589793,3.141592653589793,3.141592653589793,3.141592653589793,3.141592653589793,3.141592653589793,3.141592653589793,3.141592653589793,3.141592653589793,3.141592653589793,3.141592653589793,3.141592653589793,3.141592653589793,3.141592653589793,3.141592653589793,3.141592653589793,3.141592653589793,3.141592653589793,3.141592653589793,3.141592653589793,3.141592653589793,3.141592653589793,3.141592653589793,3.141592653589793,3.141592653589793,3.141592653589793,3.141592653589793,3.141592653589793,3.141592653589793,3.141592653589793,3.141592653589793,3.141592653589793,3.141592653589793,3.141592653589793,3.141592653589793,3.141592653589793,3.141592653589793,3.141592653589793,3.141592653589793,3.141592653589793,3.141592653589793,3.141592653589793,3.141592653589793,3.141592653589793,3.141592653589793,3.141592653589793,3.141592653589793,3.141592653589793,3.141592653589793,3.141592653589793,3.141592653589793,3.141592653589793,3.141592653589793,3.141592653589793,3.141592653589793,3.141592653589793,3.141592653589793,3.141592653589793,3.141592653589793,3.141592653589793,3.141592653589793,3.141592653589793,3.141592653589793,3.141592653589793,3.141592653589793,3.141592653589793,3.141592653589793,3.141592653589793,3.141592653589793,3.141592653589793,3.141592653589793,3.141592653589793,3.141592653589793,3.141592653589793,3.141592653589793,3.141592653589793,3.141592653589793,3.141592653589793,3.141592653589793,3.141592653589793,3.141592653589793,3.141592653589793,3.141592653589793,3.141592653589793,3.141592653589793,3.141592653589793,3.141592653589793,3.141592653589793,3.141592653589793,3.141592653589793,3.141592653589793,3.141592653589793,3.141592653589793,3.141592653589793,3.141592653589793,3.141592653589793,3.141592653589793,3.141592653589793,3.141592653589793,3.141592653589793,3.141592653589793,3.141592653589793,3.141592653589793,3.141592653589793,3.141592653589793,3.141592653589793,3.141592653589793,3.141592653589793,3.141592653589793,3.141592653589793,3.141592653589793,3.141592653589793,3.141592653589793,3.141592653589793,3.141592653589793,3.141592653589793,3.141592653589793,3.141592653589793,3.141592653589793,3.141592653589793,3.141592653589793,3.141592653589793,3.141592653589793,3.141592653589793,3.141592653589793,3.141592653589793,3.141592653589793,3.141592653589793,3.141592653589793,3.141592653589793,3.141592653589793,3.141592653589793,3.141592653589793,3.141592653589793,3.141592653589793,3.141592653589793,3.141592653589793,3.141592653589793,3.141592653589793,3.141592653589793,3.141592653589793,3.141592653589793,3.141592653589793,3.141592653589793,3.141592653589793,3.141592653589793,3.141592653589793,3.141592653589793,3.141592653589793,3.141592653589793,3.141592653589793,3.141592653589793,3.141592653589793,3.141592653589793,3.141592653589793,3.141592653589793,3.141592653589793,3.141592653589793,3.141592653589793,3.141592653589793,3.141592653589793,3.141592653589793,3.141592653589793,3.141592653589793,3.141592653589793,3.141592653589793,3.141592653589793,3.141592653589793,3.141592653589793,3.141592653589793,3.141592653589793,3.141592653589793,3.141592653589793,3.141592653589793,3.141592653589793,3.141592653589793,3.141592653589793,3.141592653589793,3.141592653589793,3.141592653589793,3.141592653589793,3.141592653589793,3.141592653589793,3.141592653589793,3.141592653589793,3.141592653589793,3.141592653589793,3.141592653589793,3.141592653589793,3.141592653589793,3.141592653589793,3.141592653589793,3.141592653589793,3.141592653589793,3.141592653589793,3.141592653589793,3.141592653589793,3.141592653589793,3.141592653589793,3.141592653589793,3.141592653589793,3.141592653589793,3.141592653589793,3.141592653589793,3.141592653589793,3.141592653589793,3.141592653589793,3.141592653589793,3.141592653589793,3.141592653589793,3.141592653589793,3.141592653589793,3.141592653589793,3.141592653589793,3.141592653589793,3.141592653589793,3.141592653589793,3.141592653589793,3.141592653589793,3.141592653589793,3.141592653589793,3.141592653589793,3.141592653589793,3.141592653589793,3.141592653589793,3.141592653589793,3.141592653589793,3.141592653589793,3.141592653589793,3.141592653589793,3.141592653589793,3.141592653589793,3.141592653589793,3.141592653589793,3.141592653589793,3.141592653589793,3.141592653589793,3.141592653589793,3.141592653589793,3.141592653589793,3.141592653589793,3.141592653589793,3.141592653589793,3.141592653589793,3.141592653589793,3.141592653589793,3.141592653589793,3.141592653589793,3.141592653589793,3.141592653589793,3.141592653589793,3.141592653589793,3.141592653589793,3.141592653589793,3.141592653589793,3.141592653589793,3.141592653589793,3.141592653589793,3.141592653589793,3.141592653589793,3.141592653589793,3.141592653589793,3.141592653589793,3.141592653589793,3.141592653589793,3.141592653589793,3.141592653589793,3.141592653589793,3.141592653589793,3.141592653589793,3.141592653589793,3.141592653589793,3.141592653589793,3.141592653589793,3.141592653589793,3.141592653589793,3.141592653589793,3.141592653589793,3.141592653589793,3.141592653589793,3.141592653589793,3.141592653589793,3.141592653589793,3.141592653589793,3.141592653589793,3.141592653589793,3.141592653589793,3.141592653589793,3.141592653589793,3.141592653589793,3.141592653589793,3.141592653589793,3.141592653589793,3.141592653589793,3.141592653589793,3.141592653589793,3.141592653589793,3.141592653589793,3.141592653589793,3.141592653589793,3.141592653589793,3.141592653589793,3.141592653589793,3.141592653589793,3.141592653589793,3.141592653589793,3.141592653589793,3.141592653589793,3.141592653589793,3.141592653589793,3.141592653589793,3.141592653589793,3.141592653589793,3.141592653589793,3.141592653589793,3.141592653589793,3.141592653589793,3.141592653589793,3.141592653589793,3.141592653589793,3.141592653589793,3.141592653589793,3.141592653589793,3.141592653589793,3.141592653589793,3.141592653589793,3.141592653589793,3.141592653589793,3.141592653589793,3.141592653589793,3.141592653589793,3.141592653589793,3.141592653589793,3.141592653589793,3.141592653589793,3.141592653589793,3.141592653589793,3.141592653589793,3.141592653589793,3.141592653589793,3.141592653589793,3.141592653589793,3.141592653589793,3.141592653589793,3.141592653589793,3.141592653589793,3.141592653589793,3.141592653589793,3.141592653589793,3.141592653589793,3.141592653589793,3.141592653589793,3.141592653589793,3.141592653589793,3.141592653589793,3.141592653589793,3.141592653589793,3.141592653589793,3.141592653589793,3.141592653589793,3.141592653589793,3.141592653589793,3.141592653589793,3.141592653589793,3.141592653589793,3.141592653589793,3.141592653589793,3.141592653589793,3.141592653589793,3.141592653589793,3.141592653589793,3.141592653589793,3.141592653589793,3.141592653589793,3.141592653589793,3.141592653589793,3.141592653589793,3.141592653589793,3.141592653589793,3.141592653589793,3.141592653589793,3.141592653589793,3.141592653589793,3.141592653589793,3.141592653589793,3.141592653589793,3.141592653589793,3.141592653589793,3.141592653589793,3.141592653589793,3.141592653589793,3.141592653589793,3.141592653589793,3.141592653589793,3.141592653589793,3.141592653589793,3.141592653589793,3.141592653589793,3.141592653589793,3.141592653589793,3.141592653589793,3.141592653589793,3.141592653589793,3.141592653589793,3.141592653589793,3.141592653589793,3.141592653589793,3.141592653589793,3.141592653589793,3.141592653589793,3.141592653589793,3.141592653589793,3.141592653589793,3.141592653589793,3.141592653589793,3.141592653589793,3.141592653589793,3.141592653589793,3.141592653589793,3.141592653589793,3.141592653589793,3.141592653589793,3.141592653589793,3.141592653589793,3.141592653589793,3.141592653589793,3.141592653589793,3.141592653589793,3.141592653589793,3.141592653589793,3.141592653589793,3.141592653589793,3.141592653589793,3.141592653589793,3.141592653589793,3.141592653589793,3.141592653589793,3.141592653589793,3.141592653589793,3.141592653589793,3.141592653589793,3.141592653589793,3.141592653589793,3.141592653589793,3.141592653589793,3.141592653589793,3.141592653589793,3.141592653589793,3.141592653589793,3.141592653589793,3.141592653589793,3.141592653589793,3.141592653589793,3.141592653589793,3.141592653589793,3.141592653589793,3.141592653589793,3.141592653589793,3.141592653589793,3.141592653589793,3.141592653589793,3.141592653589793,3.141592653589793,3.141592653589793,3.141592653589793,3.141592653589793,3.141592653589793,3.141592653589793,3.141592653589793,3.141592653589793,3.141592653589793,3.141592653589793,3.141592653589793,3.141592653589793,3.141592653589793,3.141592653589793,3.141592653589793,3.141592653589793,3.141592653589793,3.141592653589793,3.141592653589793,3.141592653589793,3.141592653589793,3.141592653589793,3.141592653589793,3.141592653589793,3.141592653589793,3.141592653589793,3.141592653589793,3.141592653589793,3.141592653589793,3.141592653589793,3.141592653589793,3.141592653589793]]]}}},\"view\":{\"type\":\"object\",\"name\":\"CDSView\",\"id\":\"p1125\",\"attributes\":{\"filter\":{\"type\":\"object\",\"name\":\"AllIndices\",\"id\":\"p1126\"}}},\"glyph\":{\"type\":\"object\",\"name\":\"Line\",\"id\":\"p1121\",\"attributes\":{\"x\":{\"type\":\"field\",\"field\":\"wvfm_x\"},\"y\":{\"type\":\"field\",\"field\":\"wvfm_y\"},\"line_color\":\"#1f77b4\",\"line_width\":2}},\"nonselection_glyph\":{\"type\":\"object\",\"name\":\"Line\",\"id\":\"p1122\",\"attributes\":{\"x\":{\"type\":\"field\",\"field\":\"wvfm_x\"},\"y\":{\"type\":\"field\",\"field\":\"wvfm_y\"},\"line_color\":\"#1f77b4\",\"line_alpha\":0.1,\"line_width\":2}},\"muted_glyph\":{\"type\":\"object\",\"name\":\"Line\",\"id\":\"p1123\",\"attributes\":{\"x\":{\"type\":\"field\",\"field\":\"wvfm_x\"},\"y\":{\"type\":\"field\",\"field\":\"wvfm_y\"},\"line_color\":\"#1f77b4\",\"line_alpha\":0.2,\"line_width\":2}}}}],\"toolbar\":{\"type\":\"object\",\"name\":\"Toolbar\",\"id\":\"p1098\",\"attributes\":{\"tools\":[{\"type\":\"object\",\"name\":\"PanTool\",\"id\":\"p1111\"},{\"type\":\"object\",\"name\":\"WheelZoomTool\",\"id\":\"p1112\",\"attributes\":{\"renderers\":\"auto\"}},{\"type\":\"object\",\"name\":\"BoxZoomTool\",\"id\":\"p1113\",\"attributes\":{\"overlay\":{\"type\":\"object\",\"name\":\"BoxAnnotation\",\"id\":\"p1114\",\"attributes\":{\"syncable\":false,\"level\":\"overlay\",\"visible\":false,\"left_units\":\"canvas\",\"right_units\":\"canvas\",\"top_units\":\"canvas\",\"bottom_units\":\"canvas\",\"line_color\":\"black\",\"line_alpha\":1.0,\"line_width\":2,\"line_dash\":[4,4],\"fill_color\":\"lightgrey\",\"fill_alpha\":0.5}}}},{\"type\":\"object\",\"name\":\"SaveTool\",\"id\":\"p1115\"},{\"type\":\"object\",\"name\":\"ResetTool\",\"id\":\"p1116\"},{\"type\":\"object\",\"name\":\"HelpTool\",\"id\":\"p1117\"},{\"type\":\"object\",\"name\":\"HoverTool\",\"id\":\"p1127\",\"attributes\":{\"renderers\":\"auto\",\"tooltips\":[[\"(x,y)\",\"(@wvfm_x, @wvfm_y)\"]],\"mode\":\"vline\"}},{\"type\":\"object\",\"name\":\"CrosshairTool\",\"id\":\"p1128\",\"attributes\":{\"dimensions\":\"height\"}}]}},\"left\":[{\"type\":\"object\",\"name\":\"LinearAxis\",\"id\":\"p1106\",\"attributes\":{\"ticker\":{\"type\":\"object\",\"name\":\"BasicTicker\",\"id\":\"p1107\",\"attributes\":{\"mantissas\":[1,2,5]}},\"formatter\":{\"type\":\"object\",\"name\":\"BasicTickFormatter\",\"id\":\"p1108\"},\"axis_label\":\"Waveform\",\"major_label_policy\":{\"type\":\"object\",\"name\":\"AllLabels\",\"id\":\"p1109\"}}}],\"below\":[{\"type\":\"object\",\"name\":\"LinearAxis\",\"id\":\"p1101\",\"attributes\":{\"ticker\":{\"type\":\"object\",\"name\":\"BasicTicker\",\"id\":\"p1102\",\"attributes\":{\"mantissas\":[1,2,5]}},\"formatter\":{\"type\":\"object\",\"name\":\"BasicTickFormatter\",\"id\":\"p1103\"},\"axis_label\":\"Time (us)\",\"major_label_policy\":{\"type\":\"object\",\"name\":\"AllLabels\",\"id\":\"p1104\"}}}],\"center\":[{\"type\":\"object\",\"name\":\"Grid\",\"id\":\"p1105\",\"attributes\":{\"axis\":{\"id\":\"p1101\"}}},{\"type\":\"object\",\"name\":\"Grid\",\"id\":\"p1110\",\"attributes\":{\"dimension\":1,\"axis\":{\"id\":\"p1106\"}}}]}}]}};\n  const render_items = [{\"docid\":\"fa893a8c-639c-452d-a26e-63509618158a\",\"roots\":{\"p1090\":\"e145d6b0-5dc1-48ea-86dc-92d9317c24c6\"},\"root_ids\":[\"p1090\"]}];\n  root.Bokeh.embed.embed_items_notebook(docs_json, render_items);\n  }\n  if (root.Bokeh !== undefined) {\n    embed_document(root);\n  } else {\n    let attempts = 0;\n    const timer = setInterval(function(root) {\n      if (root.Bokeh !== undefined) {\n        clearInterval(timer);\n        embed_document(root);\n      } else {\n        attempts++;\n        if (attempts > 100) {\n          clearInterval(timer);\n          console.log(\"Bokeh: ERROR: Unable to run BokehJS code because BokehJS library is missing\");\n        }\n      }\n    }, 10, root)\n  }\n})(window);",
      "application/vnd.bokehjs_exec.v0+json": ""
     },
     "metadata": {
      "application/vnd.bokehjs_exec.v0+json": {
       "id": "p1090"
      }
     },
     "output_type": "display_data"
    }
   ],
   "source": [
    "durations = [2.0,2.0]\n",
    "values = [0.0,np.pi]\n",
    "\n",
    "\n",
    "waveform1 = piecewise_constant(durations, values)\n",
    "\n",
    "waveform1.show()"
   ]
  },
  {
   "cell_type": "markdown",
   "id": "dd23a908",
   "metadata": {},
   "source": [
    "#### iv) Waveform hardware constraints\n",
    "\n",
    "As with the geometric qubit placement choices, waveforms are also restricted by hardware capabilities. A global constraint on all time dependence: programs are limited to $4 \\mu s$ (notice that coherence times, as measured by Rabi oscillations decay rates, for Aquila are estimated at above $6 \\mu s$). Furthermore, the minimal time resolution for all waveform transformations is $0.05 \\mu s$.\n",
    "\n",
    "As for specific constraints, we have three distinct terms to take care of:\n",
    "\n",
    "* $\\Omega$ - The Rabi amplitude\n",
    "\n",
    "The following constraints must be respected when defining waveforms for Rabi amplitudes:\n",
    "1. the waveform must be defined in terms of piecewise-linear functions;\n",
    "2. the wave form must begin and end at $0$;\n",
    "3. the maximum value of $\\Omega$ is $2.5 MHz$;\n",
    "4. the maximum slew rate - speed at which we can ramp the waveform - is $40.0 MHz/\\mu s$;\n",
    "\n",
    "* $\\Delta$ - The detuning\n",
    "\n",
    "For the detuning $\\Delta$, the following constraints must be respected:\n",
    "1. the waveform must be defined in terms of piecewise-linear functions;\n",
    "2. $\\Delta$ must vary in the $-20 MHz$ to $+20 MHz$;\n",
    "3. the maximum slew rate for $\\Delta$ is $400.0 MHz/\\mu s$\n",
    "\n",
    "\n",
    "* $\\phi$ - The phase\n",
    "\n",
    "The phase $\\phi$ must respect:\n",
    "1. definition in terms of `piecewise_constant()` functions (in contrast with $\\Delta$ and $\\Omega$);\n",
    "2. values determined in radians;\n",
    "\n",
    "\n",
    "The plots below summarizes these points:\n",
    "\n",
    "<img src=\"./assets/waveforms_summary.png\" width=\"600\" height=\"auto\" />\n"
   ]
  },
  {
   "cell_type": "markdown",
   "id": "b6c40745-55b3-471f-8daa-859d9705be77",
   "metadata": {},
   "source": [
    "* *Exercise*: Estimate the maximum value one can achieve in $\\Omega$ in the shortest possible ramp allowed by hardware constraints"
   ]
  }
 ],
 "metadata": {
  "kernelspec": {
   "display_name": "Python 3 (ipykernel)",
   "language": "python",
   "name": "python3"
  },
  "language_info": {
   "codemirror_mode": {
    "name": "ipython",
    "version": 3
   },
   "file_extension": ".py",
   "mimetype": "text/x-python",
   "name": "python",
   "nbconvert_exporter": "python",
   "pygments_lexer": "ipython3",
   "version": "3.11.5"
  }
 },
 "nbformat": 4,
 "nbformat_minor": 5
}
